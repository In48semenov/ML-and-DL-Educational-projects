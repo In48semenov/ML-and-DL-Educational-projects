{
 "cells": [
  {
   "cell_type": "code",
   "execution_count": 35,
   "metadata": {},
   "outputs": [],
   "source": [
    "import pandas as pd\n",
    "import numpy as np\n",
    "import warnings\n",
    "warnings.filterwarnings('ignore')\n",
    "import matplotlib.pyplot as plt\n",
    "%matplotlib inline"
   ]
  },
  {
   "cell_type": "code",
   "execution_count": 11,
   "metadata": {},
   "outputs": [],
   "source": [
    "from sklearn.datasets import fetch_20newsgroups\n",
    "news = fetch_20newsgroups(subset='all')\n",
    "X = news.data\n",
    "Y = news.target"
   ]
  },
  {
   "cell_type": "code",
   "execution_count": 15,
   "metadata": {},
   "outputs": [
    {
     "name": "stdout",
     "output_type": "stream",
     "text": [
      "Количество новостей = 18846\n"
     ]
    }
   ],
   "source": [
    "print(\"Количество новостей = {}\".format(len(X)))"
   ]
  },
  {
   "cell_type": "code",
   "execution_count": 19,
   "metadata": {},
   "outputs": [
    {
     "name": "stdout",
     "output_type": "stream",
     "text": [
      "Количество меток новостей = 18846\n",
      "Количество классов: 20\n"
     ]
    }
   ],
   "source": [
    "print(\"Количество меток новостей = {}\".format(len(Y)))\n",
    "print(\"Количество классов: {}\".format(len(np.bincount(Y))))"
   ]
  },
  {
   "cell_type": "code",
   "execution_count": 20,
   "metadata": {
    "scrolled": false
   },
   "outputs": [
    {
     "name": "stdout",
     "output_type": "stream",
     "text": [
      "From: mblawson@midway.ecn.uoknor.edu (Matthew B Lawson)\n",
      "Subject: Which high-performance VLB video card?\n",
      "Summary: Seek recommendations for VLB video card\n",
      "Nntp-Posting-Host: midway.ecn.uoknor.edu\n",
      "Organization: Engineering Computer Network, University of Oklahoma, Norman, OK, USA\n",
      "Keywords: orchid, stealth, vlb\n",
      "Lines: 21\n",
      "\n",
      "  My brother is in the market for a high-performance video card that supports\n",
      "VESA local bus with 1-2MB RAM.  Does anyone have suggestions/ideas on:\n",
      "\n",
      "  - Diamond Stealth Pro Local Bus\n",
      "\n",
      "  - Orchid Farenheit 1280\n",
      "\n",
      "  - ATI Graphics Ultra Pro\n",
      "\n",
      "  - Any other high-performance VLB card\n",
      "\n",
      "\n",
      "Please post or email.  Thank you!\n",
      "\n",
      "  - Matt\n",
      "\n",
      "-- \n",
      "    |  Matthew B. Lawson <------------> (mblawson@essex.ecn.uoknor.edu)  |   \n",
      "  --+-- \"Now I, Nebuchadnezzar, praise and exalt and glorify the King  --+-- \n",
      "    |   of heaven, because everything he does is right and all his ways  |   \n",
      "    |   are just.\" - Nebuchadnezzar, king of Babylon, 562 B.C.           |   \n",
      "\n"
     ]
    }
   ],
   "source": [
    "print(X[1])"
   ]
  },
  {
   "cell_type": "code",
   "execution_count": 121,
   "metadata": {},
   "outputs": [
    {
     "data": {
      "text/plain": [
       "3"
      ]
     },
     "execution_count": 121,
     "metadata": {},
     "output_type": "execute_result"
    }
   ],
   "source": [
    "Y[1]"
   ]
  },
  {
   "cell_type": "markdown",
   "metadata": {},
   "source": [
    "# Отбираю 4 самые популярные новости"
   ]
  },
  {
   "cell_type": "code",
   "execution_count": 57,
   "metadata": {},
   "outputs": [
    {
     "data": {
      "text/plain": [
       "array([799, 973, 985, 982, 963, 988, 975, 990, 996, 994, 999, 991, 984,\n",
       "       990, 987, 997, 910, 940, 775, 628], dtype=int64)"
      ]
     },
     "execution_count": 57,
     "metadata": {},
     "output_type": "execute_result"
    }
   ],
   "source": [
    "np.bincount(Y)"
   ]
  },
  {
   "cell_type": "code",
   "execution_count": 40,
   "metadata": {},
   "outputs": [
    {
     "data": {
      "text/html": [
       "<div>\n",
       "<style scoped>\n",
       "    .dataframe tbody tr th:only-of-type {\n",
       "        vertical-align: middle;\n",
       "    }\n",
       "\n",
       "    .dataframe tbody tr th {\n",
       "        vertical-align: top;\n",
       "    }\n",
       "\n",
       "    .dataframe thead th {\n",
       "        text-align: right;\n",
       "    }\n",
       "</style>\n",
       "<table border=\"1\" class=\"dataframe\">\n",
       "  <thead>\n",
       "    <tr style=\"text-align: right;\">\n",
       "      <th></th>\n",
       "      <th>Y</th>\n",
       "      <th>X</th>\n",
       "    </tr>\n",
       "  </thead>\n",
       "  <tbody>\n",
       "    <tr>\n",
       "      <th>0</th>\n",
       "      <td>10</td>\n",
       "      <td>From: Mamatha Devineni Ratnam &lt;mr47+@andrew.cm...</td>\n",
       "    </tr>\n",
       "    <tr>\n",
       "      <th>1</th>\n",
       "      <td>3</td>\n",
       "      <td>From: mblawson@midway.ecn.uoknor.edu (Matthew ...</td>\n",
       "    </tr>\n",
       "    <tr>\n",
       "      <th>2</th>\n",
       "      <td>17</td>\n",
       "      <td>From: hilmi-er@dsv.su.se (Hilmi Eren)\\nSubject...</td>\n",
       "    </tr>\n",
       "    <tr>\n",
       "      <th>3</th>\n",
       "      <td>3</td>\n",
       "      <td>From: guyd@austin.ibm.com (Guy Dawson)\\nSubjec...</td>\n",
       "    </tr>\n",
       "    <tr>\n",
       "      <th>4</th>\n",
       "      <td>4</td>\n",
       "      <td>From: Alexander Samuel McDiarmid &lt;am2o+@andrew...</td>\n",
       "    </tr>\n",
       "    <tr>\n",
       "      <th>...</th>\n",
       "      <td>...</td>\n",
       "      <td>...</td>\n",
       "    </tr>\n",
       "    <tr>\n",
       "      <th>18841</th>\n",
       "      <td>13</td>\n",
       "      <td>From: jim.zisfein@factory.com (Jim Zisfein) \\n...</td>\n",
       "    </tr>\n",
       "    <tr>\n",
       "      <th>18842</th>\n",
       "      <td>12</td>\n",
       "      <td>From: rdell@cbnewsf.cb.att.com (richard.b.dell...</td>\n",
       "    </tr>\n",
       "    <tr>\n",
       "      <th>18843</th>\n",
       "      <td>3</td>\n",
       "      <td>From: westes@netcom.com (Will Estes)\\nSubject:...</td>\n",
       "    </tr>\n",
       "    <tr>\n",
       "      <th>18844</th>\n",
       "      <td>1</td>\n",
       "      <td>From: steve@hcrlgw (Steven Collins)\\nSubject: ...</td>\n",
       "    </tr>\n",
       "    <tr>\n",
       "      <th>18845</th>\n",
       "      <td>7</td>\n",
       "      <td>From: chriss@netcom.com (Chris Silvester)\\nSub...</td>\n",
       "    </tr>\n",
       "  </tbody>\n",
       "</table>\n",
       "<p>18846 rows × 2 columns</p>\n",
       "</div>"
      ],
      "text/plain": [
       "        Y                                                  X\n",
       "0      10  From: Mamatha Devineni Ratnam <mr47+@andrew.cm...\n",
       "1       3  From: mblawson@midway.ecn.uoknor.edu (Matthew ...\n",
       "2      17  From: hilmi-er@dsv.su.se (Hilmi Eren)\\nSubject...\n",
       "3       3  From: guyd@austin.ibm.com (Guy Dawson)\\nSubjec...\n",
       "4       4  From: Alexander Samuel McDiarmid <am2o+@andrew...\n",
       "...    ..                                                ...\n",
       "18841  13  From: jim.zisfein@factory.com (Jim Zisfein) \\n...\n",
       "18842  12  From: rdell@cbnewsf.cb.att.com (richard.b.dell...\n",
       "18843   3  From: westes@netcom.com (Will Estes)\\nSubject:...\n",
       "18844   1  From: steve@hcrlgw (Steven Collins)\\nSubject: ...\n",
       "18845   7  From: chriss@netcom.com (Chris Silvester)\\nSub...\n",
       "\n",
       "[18846 rows x 2 columns]"
      ]
     },
     "execution_count": 40,
     "metadata": {},
     "output_type": "execute_result"
    }
   ],
   "source": [
    "df = pd.DataFrame(Y, columns = ['Y'])\n",
    "df['X'] = X\n",
    "df"
   ]
  },
  {
   "cell_type": "code",
   "execution_count": 53,
   "metadata": {},
   "outputs": [
    {
     "data": {
      "text/plain": [
       "Int64Index([10, 15, 8, 9], dtype='int64')"
      ]
     },
     "execution_count": 53,
     "metadata": {},
     "output_type": "execute_result"
    }
   ],
   "source": [
    "sp = df['Y'].value_counts(sort = True)[:4]\n",
    "sp.index"
   ]
  },
  {
   "cell_type": "code",
   "execution_count": 56,
   "metadata": {},
   "outputs": [
    {
     "data": {
      "text/html": [
       "<div>\n",
       "<style scoped>\n",
       "    .dataframe tbody tr th:only-of-type {\n",
       "        vertical-align: middle;\n",
       "    }\n",
       "\n",
       "    .dataframe tbody tr th {\n",
       "        vertical-align: top;\n",
       "    }\n",
       "\n",
       "    .dataframe thead th {\n",
       "        text-align: right;\n",
       "    }\n",
       "</style>\n",
       "<table border=\"1\" class=\"dataframe\">\n",
       "  <thead>\n",
       "    <tr style=\"text-align: right;\">\n",
       "      <th></th>\n",
       "      <th>Y</th>\n",
       "      <th>X</th>\n",
       "    </tr>\n",
       "  </thead>\n",
       "  <tbody>\n",
       "    <tr>\n",
       "      <th>0</th>\n",
       "      <td>10</td>\n",
       "      <td>From: Mamatha Devineni Ratnam &lt;mr47+@andrew.cm...</td>\n",
       "    </tr>\n",
       "    <tr>\n",
       "      <th>7</th>\n",
       "      <td>10</td>\n",
       "      <td>From: dchhabra@stpl.ists.ca (Deepak Chhabra)\\n...</td>\n",
       "    </tr>\n",
       "    <tr>\n",
       "      <th>8</th>\n",
       "      <td>10</td>\n",
       "      <td>From: dchhabra@stpl.ists.ca (Deepak Chhabra)\\n...</td>\n",
       "    </tr>\n",
       "    <tr>\n",
       "      <th>19</th>\n",
       "      <td>8</td>\n",
       "      <td>From: mjs@sys.uea.ac.uk (Mike Sixsmith)\\nSubje...</td>\n",
       "    </tr>\n",
       "    <tr>\n",
       "      <th>23</th>\n",
       "      <td>8</td>\n",
       "      <td>From: jlevine@rd.hydro.on.ca (Jody Levine)\\nSu...</td>\n",
       "    </tr>\n",
       "    <tr>\n",
       "      <th>...</th>\n",
       "      <td>...</td>\n",
       "      <td>...</td>\n",
       "    </tr>\n",
       "    <tr>\n",
       "      <th>18828</th>\n",
       "      <td>10</td>\n",
       "      <td>From: LMARSHA@cms.cc.wayne.edu (Laurie Marshal...</td>\n",
       "    </tr>\n",
       "    <tr>\n",
       "      <th>18830</th>\n",
       "      <td>9</td>\n",
       "      <td>From: pkeenan@s.psych.uiuc.edu (Patricia Keena...</td>\n",
       "    </tr>\n",
       "    <tr>\n",
       "      <th>18832</th>\n",
       "      <td>15</td>\n",
       "      <td>From: aa888@freenet.carleton.ca (Mark Baker)\\n...</td>\n",
       "    </tr>\n",
       "    <tr>\n",
       "      <th>18837</th>\n",
       "      <td>10</td>\n",
       "      <td>Organization: Queen's University at Kingston\\n...</td>\n",
       "    </tr>\n",
       "    <tr>\n",
       "      <th>18839</th>\n",
       "      <td>15</td>\n",
       "      <td>From: noye@midway.uchicago.edu (vera shanti no...</td>\n",
       "    </tr>\n",
       "  </tbody>\n",
       "</table>\n",
       "<p>3986 rows × 2 columns</p>\n",
       "</div>"
      ],
      "text/plain": [
       "        Y                                                  X\n",
       "0      10  From: Mamatha Devineni Ratnam <mr47+@andrew.cm...\n",
       "7      10  From: dchhabra@stpl.ists.ca (Deepak Chhabra)\\n...\n",
       "8      10  From: dchhabra@stpl.ists.ca (Deepak Chhabra)\\n...\n",
       "19      8  From: mjs@sys.uea.ac.uk (Mike Sixsmith)\\nSubje...\n",
       "23      8  From: jlevine@rd.hydro.on.ca (Jody Levine)\\nSu...\n",
       "...    ..                                                ...\n",
       "18828  10  From: LMARSHA@cms.cc.wayne.edu (Laurie Marshal...\n",
       "18830   9  From: pkeenan@s.psych.uiuc.edu (Patricia Keena...\n",
       "18832  15  From: aa888@freenet.carleton.ca (Mark Baker)\\n...\n",
       "18837  10  Organization: Queen's University at Kingston\\n...\n",
       "18839  15  From: noye@midway.uchicago.edu (vera shanti no...\n",
       "\n",
       "[3986 rows x 2 columns]"
      ]
     },
     "execution_count": 56,
     "metadata": {},
     "output_type": "execute_result"
    }
   ],
   "source": [
    "df_4 = df[(df['Y'] == sp.index[0]) | (df['Y'] == sp.index[1]) | (df['Y'] == sp.index[2]) | (df['Y'] == sp.index[3])]\n",
    "df_4"
   ]
  },
  {
   "cell_type": "code",
   "execution_count": 69,
   "metadata": {},
   "outputs": [],
   "source": [
    "from sklearn.model_selection import train_test_split\n",
    "x_train, x_test, y_train, y_test = train_test_split(np.array(df['X']), df['Y'], test_size=0.25, random_state=17)"
   ]
  },
  {
   "cell_type": "code",
   "execution_count": 72,
   "metadata": {},
   "outputs": [],
   "source": [
    "from sklearn.feature_extraction.text import CountVectorizer"
   ]
  },
  {
   "cell_type": "code",
   "execution_count": 73,
   "metadata": {},
   "outputs": [],
   "source": [
    "cv = CountVectorizer()\n",
    "cv.fit(x_train)\n",
    "x_train = cv.transform(x_train)\n",
    "x_test = cv.transform(x_test)"
   ]
  },
  {
   "cell_type": "code",
   "execution_count": 74,
   "metadata": {},
   "outputs": [],
   "source": [
    "from sklearn import svm\n",
    "from sklearn.metrics import mean_squared_error, r2_score, roc_curve, roc_auc_score, accuracy_score, precision_score, recall_score"
   ]
  },
  {
   "cell_type": "code",
   "execution_count": 75,
   "metadata": {},
   "outputs": [],
   "source": [
    "model_svm = svm.SVC(kernel='linear', C=1.0, probability = True)\n",
    "model_svm.fit(x_train, y_train)\n",
    "predictions = model_svm.predict(x_test)"
   ]
  },
  {
   "cell_type": "code",
   "execution_count": 76,
   "metadata": {},
   "outputs": [
    {
     "data": {
      "text/plain": [
       "0.8438030560271647"
      ]
     },
     "execution_count": 76,
     "metadata": {},
     "output_type": "execute_result"
    }
   ],
   "source": [
    "accuracy_score(y_test, predictions)"
   ]
  },
  {
   "cell_type": "code",
   "execution_count": 77,
   "metadata": {
    "scrolled": true
   },
   "outputs": [
    {
     "data": {
      "text/plain": [
       "0.8438030560271647"
      ]
     },
     "execution_count": 77,
     "metadata": {},
     "output_type": "execute_result"
    }
   ],
   "source": [
    "precision_score(y_test, predictions, average='micro')"
   ]
  },
  {
   "cell_type": "code",
   "execution_count": 78,
   "metadata": {
    "scrolled": false
   },
   "outputs": [
    {
     "data": {
      "text/plain": [
       "0.8438030560271647"
      ]
     },
     "execution_count": 78,
     "metadata": {},
     "output_type": "execute_result"
    }
   ],
   "source": [
    "recall_score(y_test, predictions, average='micro')"
   ]
  },
  {
   "cell_type": "code",
   "execution_count": 79,
   "metadata": {
    "scrolled": false
   },
   "outputs": [
    {
     "name": "stdout",
     "output_type": "stream",
     "text": [
      "              precision    recall  f1-score   support\n",
      "\n",
      "           0       0.87      0.85      0.86       190\n",
      "           1       0.69      0.78      0.73       246\n",
      "           2       0.82      0.84      0.83       237\n",
      "           3       0.73      0.71      0.72       263\n",
      "           4       0.80      0.82      0.81       220\n",
      "           5       0.79      0.80      0.79       237\n",
      "           6       0.80      0.82      0.81       260\n",
      "           7       0.84      0.83      0.84       248\n",
      "           8       0.92      0.88      0.90       246\n",
      "           9       0.92      0.88      0.90       265\n",
      "          10       0.94      0.91      0.93       253\n",
      "          11       0.92      0.89      0.91       257\n",
      "          12       0.75      0.80      0.77       236\n",
      "          13       0.83      0.84      0.84       227\n",
      "          14       0.96      0.89      0.92       270\n",
      "          15       0.88      0.93      0.91       242\n",
      "          16       0.87      0.88      0.87       231\n",
      "          17       0.93      0.94      0.93       216\n",
      "          18       0.84      0.79      0.81       216\n",
      "          19       0.81      0.76      0.78       152\n",
      "\n",
      "    accuracy                           0.84      4712\n",
      "   macro avg       0.85      0.84      0.84      4712\n",
      "weighted avg       0.85      0.84      0.84      4712\n",
      "\n"
     ]
    }
   ],
   "source": [
    "from sklearn.metrics import classification_report\n",
    "print(classification_report(y_test, predictions))"
   ]
  },
  {
   "cell_type": "markdown",
   "metadata": {},
   "source": [
    "# Метод опорных векторов показал хорошие результаты при обучении. Данный вывод можно сделать исходя из применненых метрик"
   ]
  },
  {
   "cell_type": "markdown",
   "metadata": {},
   "source": [
    "# Логистическая регрессия"
   ]
  },
  {
   "cell_type": "code",
   "execution_count": 86,
   "metadata": {},
   "outputs": [
    {
     "data": {
      "text/plain": [
       "LogisticRegression(n_jobs=-1, random_state=7)"
      ]
     },
     "execution_count": 86,
     "metadata": {},
     "output_type": "execute_result"
    }
   ],
   "source": [
    "from sklearn.linear_model import LogisticRegression\n",
    "logit = LogisticRegression(solver='lbfgs', n_jobs=-1, random_state=7)\n",
    "logit.fit(x_train, y_train)"
   ]
  },
  {
   "cell_type": "code",
   "execution_count": 87,
   "metadata": {},
   "outputs": [
    {
     "data": {
      "text/plain": [
       "(0.999, 0.875)"
      ]
     },
     "execution_count": 87,
     "metadata": {},
     "output_type": "execute_result"
    }
   ],
   "source": [
    "round(logit.score(x_train, y_train), 3),round(logit.score(x_test, y_test), 3)"
   ]
  },
  {
   "cell_type": "code",
   "execution_count": 88,
   "metadata": {},
   "outputs": [
    {
     "data": {
      "text/plain": [
       "0.8754244482173175"
      ]
     },
     "execution_count": 88,
     "metadata": {},
     "output_type": "execute_result"
    }
   ],
   "source": [
    "predict_logist = logit.predict(x_test)\n",
    "accuracy_score(y_test, predict_logist)"
   ]
  },
  {
   "cell_type": "code",
   "execution_count": 89,
   "metadata": {},
   "outputs": [
    {
     "data": {
      "text/plain": [
       "0.8754244482173175"
      ]
     },
     "execution_count": 89,
     "metadata": {},
     "output_type": "execute_result"
    }
   ],
   "source": [
    "precision_score(y_test, predict_logist, average='micro')"
   ]
  },
  {
   "cell_type": "code",
   "execution_count": 90,
   "metadata": {},
   "outputs": [
    {
     "data": {
      "text/plain": [
       "0.8754244482173175"
      ]
     },
     "execution_count": 90,
     "metadata": {},
     "output_type": "execute_result"
    }
   ],
   "source": [
    "recall_score(y_test, predict_logist, average='micro')"
   ]
  },
  {
   "cell_type": "code",
   "execution_count": 91,
   "metadata": {},
   "outputs": [
    {
     "name": "stdout",
     "output_type": "stream",
     "text": [
      "              precision    recall  f1-score   support\n",
      "\n",
      "           0       0.87      0.86      0.87       190\n",
      "           1       0.76      0.81      0.78       246\n",
      "           2       0.84      0.83      0.84       237\n",
      "           3       0.79      0.73      0.76       263\n",
      "           4       0.84      0.86      0.85       220\n",
      "           5       0.80      0.84      0.82       237\n",
      "           6       0.85      0.86      0.86       260\n",
      "           7       0.87      0.89      0.88       248\n",
      "           8       0.93      0.91      0.92       246\n",
      "           9       0.92      0.91      0.92       265\n",
      "          10       0.97      0.93      0.95       253\n",
      "          11       0.95      0.92      0.93       257\n",
      "          12       0.80      0.86      0.83       236\n",
      "          13       0.90      0.93      0.92       227\n",
      "          14       0.95      0.93      0.94       270\n",
      "          15       0.87      0.96      0.91       242\n",
      "          16       0.92      0.90      0.91       231\n",
      "          17       0.94      0.94      0.94       216\n",
      "          18       0.88      0.80      0.84       216\n",
      "          19       0.83      0.79      0.81       152\n",
      "\n",
      "    accuracy                           0.88      4712\n",
      "   macro avg       0.88      0.87      0.87      4712\n",
      "weighted avg       0.88      0.88      0.88      4712\n",
      "\n"
     ]
    }
   ],
   "source": [
    "from sklearn.metrics import classification_report\n",
    "print(classification_report(y_test, predict_logist))"
   ]
  },
  {
   "cell_type": "markdown",
   "metadata": {},
   "source": [
    "# На мой взгляд, Логистичекая модель неожиданно превзошла метод опорных векторов. Качество рассмотренных метрик пусть и ненамного, но лучше на 0,03, чем у метода опорных векторов. Однако обе модели остаются применимыми. Далее рассмотрим для примера KNN и DT "
   ]
  },
  {
   "cell_type": "markdown",
   "metadata": {},
   "source": [
    "# KNN and DT"
   ]
  },
  {
   "cell_type": "code",
   "execution_count": 92,
   "metadata": {},
   "outputs": [],
   "source": [
    "from sklearn.model_selection import GridSearchCV\n",
    "from sklearn.tree import DecisionTreeClassifier\n",
    "from sklearn.neighbors import KNeighborsClassifier\n",
    "from sklearn.metrics import accuracy_score, mean_squared_error"
   ]
  },
  {
   "cell_type": "code",
   "execution_count": 95,
   "metadata": {},
   "outputs": [
    {
     "name": "stdout",
     "output_type": "stream",
     "text": [
      "Лучшее качество обучение = 0.4820288437924563\n",
      "Оптимальное количество соседей = {'n_neighbors': 3}\n",
      "Качество обучения на тренировочных данных R^2 = 0.7753643696052073\n",
      "RMSE = 5.497896649824931\n",
      "Wall time: 2min 37s\n"
     ]
    }
   ],
   "source": [
    "%%time\n",
    "model_knn = KNeighborsClassifier(n_neighbors=10) #Задаем количество соседий на угад\n",
    "knn_params = {'n_neighbors': list(range(3, 11))}\n",
    "model_knn_grid = GridSearchCV(model_knn, knn_params,\n",
    "                              cv = 5,\n",
    "                              n_jobs = -1, \n",
    "                              verbose = False)\n",
    "model_knn_grid.fit(x_train, y_train)\n",
    "knn_pred = model_knn_grid.predict(x_test)\n",
    "\n",
    "print(\"Лучшее качество обучение = {}\".format(model_knn_grid.best_score_))\n",
    "print(\"Оптимальное количество соседей = {}\".format(model_knn_grid.best_params_))\n",
    "print(\"Качество обучения на тренировочных данных R^2 = {}\".format(model_knn_grid.score(x_train, y_train)))\n",
    "print(\"RMSE = {}\".format(mean_squared_error(y_test, knn_pred, squared = False)))"
   ]
  },
  {
   "cell_type": "code",
   "execution_count": 98,
   "metadata": {},
   "outputs": [
    {
     "data": {
      "text/plain": [
       "0.4820288437924563"
      ]
     },
     "execution_count": 98,
     "metadata": {},
     "output_type": "execute_result"
    }
   ],
   "source": [
    "model_knn_grid.best_score_"
   ]
  },
  {
   "cell_type": "code",
   "execution_count": 103,
   "metadata": {},
   "outputs": [
    {
     "name": "stdout",
     "output_type": "stream",
     "text": [
      "Метрика достоверности предсказания = 0.5093378607809848\n"
     ]
    }
   ],
   "source": [
    "print(\"Метрика достоверности предсказания = {}\".format(accuracy_score(y_test, knn_pred)))"
   ]
  },
  {
   "cell_type": "code",
   "execution_count": 104,
   "metadata": {},
   "outputs": [
    {
     "name": "stdout",
     "output_type": "stream",
     "text": [
      "Fitting 5 folds for each of 14 candidates, totalling 70 fits\n"
     ]
    },
    {
     "name": "stderr",
     "output_type": "stream",
     "text": [
      "[Parallel(n_jobs=-1)]: Using backend LokyBackend with 4 concurrent workers.\n",
      "[Parallel(n_jobs=-1)]: Done  42 tasks      | elapsed:  1.0min\n",
      "[Parallel(n_jobs=-1)]: Done  70 out of  70 | elapsed:  2.3min finished\n"
     ]
    },
    {
     "name": "stdout",
     "output_type": "stream",
     "text": [
      "Лучшее качество обучение = 0.3744154224091769\n",
      "Оптимальное количество соседей = {'max_depth': 14}\n",
      "Качество обучения на тренировочных данных R^2 = 0.4184944106410075\n",
      "RMSE = 5.945404554283223\n",
      "Wall time: 2min 24s\n"
     ]
    }
   ],
   "source": [
    "%%time\n",
    "model_tree = DecisionTreeClassifier(max_depth=15, random_state=17) #Задаем количество соседий на угад\n",
    "tree_params = {'max_depth': np.arange(1, 15)}\n",
    "\n",
    "model_tree_grid = GridSearchCV(model_tree, tree_params,\n",
    "                              cv = 5,\n",
    "                              n_jobs = -1, \n",
    "                              verbose = True)\n",
    "\n",
    "model_tree_grid.fit(x_train, y_train)\n",
    "tree_pred = model_tree_grid.predict(x_test)\n",
    "\n",
    "print(\"Лучшее качество обучение = {}\".format(model_tree_grid.best_score_))\n",
    "print(\"Оптимальное количество соседей = {}\".format(model_tree_grid.best_params_))\n",
    "print(\"Качество обучения на тренировочных данных R^2 = {}\".format(model_tree_grid.score(x_train, y_train)))\n",
    "print(\"RMSE = {}\".format(mean_squared_error(y_test, tree_pred, squared = False)))"
   ]
  },
  {
   "cell_type": "code",
   "execution_count": 105,
   "metadata": {},
   "outputs": [
    {
     "name": "stdout",
     "output_type": "stream",
     "text": [
      "Метрика достоверности предсказания = 0.3790322580645161\n"
     ]
    }
   ],
   "source": [
    "print(\"Метрика достоверности предсказания = {}\".format(accuracy_score(y_test, tree_pred)))"
   ]
  },
  {
   "cell_type": "markdown",
   "metadata": {},
   "source": [
    "# Исходя из результатов метрики предсказания модели на основе k-ближайших соседий и деревьев решений можно сразу отбросить, так как данные модели не качественно предсказывают класс новостей"
   ]
  },
  {
   "cell_type": "markdown",
   "metadata": {},
   "source": [
    "# Кривые обучения"
   ]
  },
  {
   "cell_type": "markdown",
   "metadata": {},
   "source": [
    "# KNN"
   ]
  },
  {
   "cell_type": "code",
   "execution_count": 114,
   "metadata": {},
   "outputs": [],
   "source": [
    "from sklearn.model_selection import learning_curve\n",
    "newsgroups = fetch_20newsgroups(subset='all',\n",
    "remove=('headers', 'footers', 'quotes'))\n",
    "\n",
    "vectorizer = CountVectorizer()\n",
    "X = vectorizer.fit_transform(newsgroups.data)\n",
    "y = newsgroups.target\n",
    "\n",
    "train_sizes, train_scores, test_scores = learning_curve(KNeighborsClassifier(), X = X, y = y,\n",
    "                                                        scoring = \"accuracy\", n_jobs = 1)"
   ]
  },
  {
   "cell_type": "code",
   "execution_count": 115,
   "metadata": {},
   "outputs": [
    {
     "data": {
      "text/plain": [
       "array([[0.39084273, 0.36894492, 0.36894492, 0.36894492, 0.36894492],\n",
       "       [0.39783629, 0.42865891, 0.42110635, 0.42110635, 0.42110635],\n",
       "       [0.4412013 , 0.43444699, 0.43058738, 0.43106983, 0.43106983],\n",
       "       [0.4521955 , 0.45082599, 0.45502011, 0.45014123, 0.45082599],\n",
       "       [0.45516052, 0.45834439, 0.45363492, 0.45482887, 0.46245689]])"
      ]
     },
     "execution_count": 115,
     "metadata": {},
     "output_type": "execute_result"
    }
   ],
   "source": [
    "train_scores"
   ]
  },
  {
   "cell_type": "code",
   "execution_count": 116,
   "metadata": {},
   "outputs": [
    {
     "data": {
      "text/plain": [
       "array([[0.1137931 , 0.10772088, 0.12231361, 0.120987  , 0.10135314],\n",
       "       [0.14880637, 0.15229504, 0.16476519, 0.15707084, 0.14672327],\n",
       "       [0.17161804, 0.1767047 , 0.1862563 , 0.18015389, 0.16954099],\n",
       "       [0.19549072, 0.19129743, 0.20058371, 0.19766516, 0.18572566],\n",
       "       [0.20689655, 0.1992571 , 0.20960467, 0.20615548, 0.19315468]])"
      ]
     },
     "execution_count": 116,
     "metadata": {},
     "output_type": "execute_result"
    }
   ],
   "source": [
    "test_scores"
   ]
  },
  {
   "cell_type": "code",
   "execution_count": 117,
   "metadata": {},
   "outputs": [],
   "source": [
    "train_mean = np.mean(train_scores, axis = 1)\n",
    "train_std = np.std(train_scores, axis = 1)\n",
    "test_mean = np.mean(test_scores, axis = 1)\n",
    "test_std = np.std(test_scores, axis = 1)"
   ]
  },
  {
   "cell_type": "code",
   "execution_count": 119,
   "metadata": {},
   "outputs": [
    {
     "data": {
      "image/png": "[encoded data removed]",
      "text/plain": [
       "<Figure size 432x288 with 1 Axes>"
      ]
     },
     "metadata": {
      "needs_background": "light"
     },
     "output_type": "display_data"
    }
   ],
   "source": [
    "plt.plot(train_sizes, train_mean, label = 'Train_data')\n",
    "plt.plot(train_sizes, test_mean, label = 'Test_data')\n",
    "plt.title('Кривые обучения')\n",
    "plt.legend()\n",
    "plt.grid(True)"
   ]
  }
 ],
 "metadata": {
  "kernelspec": {
   "display_name": "Python 3",
   "language": "python",
   "name": "python3"
  },
  "language_info": {
   "codemirror_mode": {
    "name": "ipython",
    "version": 3
   },
   "file_extension": ".py",
   "mimetype": "text/x-python",
   "name": "python",
   "nbconvert_exporter": "python",
   "pygments_lexer": "ipython3",
   "version": "3.8.3"
  }
 },
 "nbformat": 4,
 "nbformat_minor": 4
}
