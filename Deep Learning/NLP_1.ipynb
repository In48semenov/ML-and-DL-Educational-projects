{
 "cells": [
  {
   "cell_type": "code",
   "execution_count": 2,
   "metadata": {
    "id": "XtFQP3RNll3c"
   },
   "outputs": [],
   "source": [
    "import re\n",
    "import nltk\n",
    "\n",
    "import torch\n",
    "from torch.utils.data import Dataset, DataLoader, random_split\n",
    "import torch.nn as nn\n",
    "import torch.optim as optim\n",
    "import torch.nn.functional as F\n",
    "\n",
    "import pandas as pd\n",
    "from sklearn.model_selection import train_test_split\n",
    "from sklearn.metrics import accuracy_score\n",
    "from nltk.tokenize import word_tokenize\n",
    "from sklearn.preprocessing import LabelEncoder\n",
    "\n",
    "import numpy as np\n",
    "\n",
    "from pytorchtools_st import EarlyStopping\n",
    "\n",
    "import matplotlib.pyplot as plt"
   ]
  },
  {
   "cell_type": "code",
   "execution_count": 3,
   "metadata": {
    "colab": {
     "base_uri": "https://localhost:8080/"
    },
    "id": "443CZCLp0_sE",
    "outputId": "0d0334ef-21e4-4764-e0a8-c00b30f58701"
   },
   "outputs": [
    {
     "name": "stdout",
     "output_type": "stream",
     "text": [
      "[nltk_data] Downloading package punkt to /root/nltk_data...\n",
      "[nltk_data]   Unzipping tokenizers/punkt.zip.\n"
     ]
    },
    {
     "data": {
      "text/plain": [
       "True"
      ]
     },
     "execution_count": 3,
     "metadata": {
      "tags": []
     },
     "output_type": "execute_result"
    }
   ],
   "source": [
    "nltk.download('punkt')"
   ]
  },
  {
   "cell_type": "code",
   "execution_count": 14,
   "metadata": {
    "id": "nHRy4jpYphEr"
   },
   "outputs": [],
   "source": [
    "from nltk.tokenize import word_tokenize, sent_tokenize\n",
    "from nltk.stem.snowball import SnowballStemmer"
   ]
  },
  {
   "cell_type": "code",
   "execution_count": 5,
   "metadata": {
    "id": "lMMzGhq0ikz1"
   },
   "outputs": [],
   "source": [
    "text = 'Select your preferences and run the install command. Stable represents the most currently tested and supported version of PyTorch. Note that LibTorch is only available for C++'"
   ]
  },
  {
   "cell_type": "code",
   "execution_count": 4,
   "metadata": {
    "id": "_ov571T-wO2S"
   },
   "outputs": [],
   "source": [
    "def preprocess_text(text):\n",
    "  text = text.lower()\n",
    "  text = re.sub(r\"[^a-zA-Z.,!?]\", \" \", text)\n",
    "  return text"
   ]
  },
  {
   "cell_type": "code",
   "execution_count": 7,
   "metadata": {
    "colab": {
     "base_uri": "https://localhost:8080/",
     "height": 35
    },
    "id": "1kwATAjGxKo7",
    "outputId": "91502f2c-1af6-4a81-bc72-fd53cda06a65"
   },
   "outputs": [
    {
     "data": {
      "application/vnd.google.colaboratory.intrinsic+json": {
       "type": "string"
      },
      "text/plain": [
       "'select your preferences and run the install command. stable represents the most currently tested and supported version of pytorch. note that libtorch is only available for c  '"
      ]
     },
     "execution_count": 7,
     "metadata": {
      "tags": []
     },
     "output_type": "execute_result"
    }
   ],
   "source": [
    "preprocess_text(text)"
   ]
  },
  {
   "cell_type": "code",
   "execution_count": 8,
   "metadata": {
    "colab": {
     "base_uri": "https://localhost:8080/"
    },
    "id": "sQjF8W4vxjwV",
    "outputId": "078a5bf1-5d9e-4673-d910-a20b185c7377"
   },
   "outputs": [
    {
     "data": {
      "text/plain": [
       "['Select',\n",
       " 'your',\n",
       " 'preferences',\n",
       " 'and',\n",
       " 'run',\n",
       " 'the',\n",
       " 'install',\n",
       " 'command',\n",
       " '.',\n",
       " 'Stable',\n",
       " 'represents',\n",
       " 'the',\n",
       " 'most',\n",
       " 'currently',\n",
       " 'tested',\n",
       " 'and',\n",
       " 'supported',\n",
       " 'version',\n",
       " 'of',\n",
       " 'PyTorch',\n",
       " '.',\n",
       " 'Note',\n",
       " 'that',\n",
       " 'LibTorch',\n",
       " 'is',\n",
       " 'only',\n",
       " 'available',\n",
       " 'for',\n",
       " 'C++']"
      ]
     },
     "execution_count": 8,
     "metadata": {
      "tags": []
     },
     "output_type": "execute_result"
    }
   ],
   "source": [
    "word_tokenize(text)"
   ]
  },
  {
   "cell_type": "code",
   "execution_count": 9,
   "metadata": {
    "colab": {
     "base_uri": "https://localhost:8080/"
    },
    "id": "F0GiS0_JxhaE",
    "outputId": "0b04956b-6948-43f0-c3be-be9c7b21e175"
   },
   "outputs": [
    {
     "data": {
      "text/plain": [
       "tensor([0., 1., 0., 1., 1., 0., 0., 1., 0., 1., 0., 0., 0., 0., 1., 0., 0., 0.,\n",
       "        0., 1., 0., 0., 1., 0., 0., 1.])"
      ]
     },
     "execution_count": 9,
     "metadata": {
      "tags": []
     },
     "output_type": "execute_result"
    }
   ],
   "source": [
    "text = preprocess_text(text)\n",
    "vocab = list(set(word_tokenize(text))) # Уникальные слова\n",
    "sent_t = torch.zeros(len(vocab)) \n",
    "sent = sent_tokenize(text)[0]\n",
    "\n",
    "for word in word_tokenize(sent):\n",
    "  sent_t[vocab.index(word)] = 1\n",
    "\n",
    "sent_t"
   ]
  },
  {
   "cell_type": "code",
   "execution_count": null,
   "metadata": {
    "id": "hX1xvXZoCW2h"
   },
   "outputs": [],
   "source": []
  },
  {
   "cell_type": "markdown",
   "metadata": {
    "id": "P2Nz_zcgw3N4"
   },
   "source": [
    "## Классификация фамилий по национальности\n",
    "\n",
    "Датасет: https://disk.yandex.ru/d/owHew8hzPc7X9Q?w=1"
   ]
  },
  {
   "cell_type": "code",
   "execution_count": 6,
   "metadata": {
    "colab": {
     "base_uri": "https://localhost:8080/"
    },
    "id": "YmLPvy7B11yg",
    "outputId": "640baad3-fa41-4a86-f038-72c3dab10f2c"
   },
   "outputs": [
    {
     "name": "stdout",
     "output_type": "stream",
     "text": [
      "Mounted at /content/drive\n"
     ]
    }
   ],
   "source": [
    "from google.colab import drive\n",
    "drive.mount('/content/drive')"
   ]
  },
  {
   "cell_type": "code",
   "execution_count": 106,
   "metadata": {
    "colab": {
     "base_uri": "https://localhost:8080/",
     "height": 221
    },
    "id": "S0m481Hb0r8l",
    "outputId": "d65c0b0e-8774-419c-979a-e988b332743c"
   },
   "outputs": [
    {
     "data": {
      "text/html": [
       "<div>\n",
       "<style scoped>\n",
       "    .dataframe tbody tr th:only-of-type {\n",
       "        vertical-align: middle;\n",
       "    }\n",
       "\n",
       "    .dataframe tbody tr th {\n",
       "        vertical-align: top;\n",
       "    }\n",
       "\n",
       "    .dataframe thead th {\n",
       "        text-align: right;\n",
       "    }\n",
       "</style>\n",
       "<table border=\"1\" class=\"dataframe\">\n",
       "  <thead>\n",
       "    <tr style=\"text-align: right;\">\n",
       "      <th></th>\n",
       "      <th>surname</th>\n",
       "      <th>nationality</th>\n",
       "    </tr>\n",
       "  </thead>\n",
       "  <tbody>\n",
       "    <tr>\n",
       "      <th>0</th>\n",
       "      <td>Woodford</td>\n",
       "      <td>English</td>\n",
       "    </tr>\n",
       "    <tr>\n",
       "      <th>1</th>\n",
       "      <td>Coté</td>\n",
       "      <td>French</td>\n",
       "    </tr>\n",
       "    <tr>\n",
       "      <th>2</th>\n",
       "      <td>Kore</td>\n",
       "      <td>English</td>\n",
       "    </tr>\n",
       "    <tr>\n",
       "      <th>3</th>\n",
       "      <td>Koury</td>\n",
       "      <td>Arabic</td>\n",
       "    </tr>\n",
       "    <tr>\n",
       "      <th>4</th>\n",
       "      <td>Lebzak</td>\n",
       "      <td>Russian</td>\n",
       "    </tr>\n",
       "  </tbody>\n",
       "</table>\n",
       "</div>"
      ],
      "text/plain": [
       "    surname nationality\n",
       "0  Woodford     English\n",
       "1      Coté      French\n",
       "2      Kore     English\n",
       "3     Koury      Arabic\n",
       "4    Lebzak     Russian"
      ]
     },
     "metadata": {
      "tags": []
     },
     "output_type": "display_data"
    },
    {
     "data": {
      "text/plain": [
       "((10980, 2), None)"
      ]
     },
     "execution_count": 106,
     "metadata": {
      "tags": []
     },
     "output_type": "execute_result"
    }
   ],
   "source": [
    "df = pd.read_csv('/content/drive/MyDrive/datasets/surnames.csv')\n",
    "df.shape, display(df.head())"
   ]
  },
  {
   "cell_type": "code",
   "execution_count": 107,
   "metadata": {
    "colab": {
     "base_uri": "https://localhost:8080/",
     "height": 204
    },
    "id": "iWsc2_yp2PzQ",
    "outputId": "b4d8206a-fd39-4280-b5fb-dba93eb0be3e"
   },
   "outputs": [
    {
     "data": {
      "text/html": [
       "<div>\n",
       "<style scoped>\n",
       "    .dataframe tbody tr th:only-of-type {\n",
       "        vertical-align: middle;\n",
       "    }\n",
       "\n",
       "    .dataframe tbody tr th {\n",
       "        vertical-align: top;\n",
       "    }\n",
       "\n",
       "    .dataframe thead th {\n",
       "        text-align: right;\n",
       "    }\n",
       "</style>\n",
       "<table border=\"1\" class=\"dataframe\">\n",
       "  <thead>\n",
       "    <tr style=\"text-align: right;\">\n",
       "      <th></th>\n",
       "      <th>surname</th>\n",
       "      <th>nationality</th>\n",
       "      <th>nationality_label</th>\n",
       "    </tr>\n",
       "  </thead>\n",
       "  <tbody>\n",
       "    <tr>\n",
       "      <th>0</th>\n",
       "      <td>Woodford</td>\n",
       "      <td>English</td>\n",
       "      <td>4</td>\n",
       "    </tr>\n",
       "    <tr>\n",
       "      <th>1</th>\n",
       "      <td>Coté</td>\n",
       "      <td>French</td>\n",
       "      <td>5</td>\n",
       "    </tr>\n",
       "    <tr>\n",
       "      <th>2</th>\n",
       "      <td>Kore</td>\n",
       "      <td>English</td>\n",
       "      <td>4</td>\n",
       "    </tr>\n",
       "    <tr>\n",
       "      <th>3</th>\n",
       "      <td>Koury</td>\n",
       "      <td>Arabic</td>\n",
       "      <td>0</td>\n",
       "    </tr>\n",
       "    <tr>\n",
       "      <th>4</th>\n",
       "      <td>Lebzak</td>\n",
       "      <td>Russian</td>\n",
       "      <td>14</td>\n",
       "    </tr>\n",
       "  </tbody>\n",
       "</table>\n",
       "</div>"
      ],
      "text/plain": [
       "    surname nationality  nationality_label\n",
       "0  Woodford     English                  4\n",
       "1      Coté      French                  5\n",
       "2      Kore     English                  4\n",
       "3     Koury      Arabic                  0\n",
       "4    Lebzak     Russian                 14"
      ]
     },
     "execution_count": 107,
     "metadata": {
      "tags": []
     },
     "output_type": "execute_result"
    }
   ],
   "source": [
    "enc = LabelEncoder()\n",
    "df['nationality_label'] = enc.fit_transform(df['nationality'])\n",
    "df.head()"
   ]
  },
  {
   "cell_type": "code",
   "execution_count": 108,
   "metadata": {
    "id": "XBbuHpYk2PgQ"
   },
   "outputs": [],
   "source": [
    "X_train, X_test, y_train, y_test = train_test_split(df['surname'], df['nationality_label'], stratify = np.array(df['nationality_label']), \n",
    "                                                    test_size = 0.1)"
   ]
  },
  {
   "cell_type": "code",
   "execution_count": 109,
   "metadata": {
    "id": "kUkSZkDqxNYS"
   },
   "outputs": [],
   "source": [
    "class Vocab:\n",
    "  def __init__(self, data):\n",
    "    tokens = set()\n",
    "    for surname in data:\n",
    "      tokens.update(surname)\n",
    "\n",
    "    self.idx_to_token = {idx: token for idx, token in enumerate(tokens)} # Индекс токен: буква\n",
    "    self.token_to_idx = {token: idx for idx, token in self.idx_to_token.items()} # обратный первому\n",
    "    self.vocab_len = len(self.idx_to_token)"
   ]
  },
  {
   "cell_type": "code",
   "execution_count": 110,
   "metadata": {
    "colab": {
     "base_uri": "https://localhost:8080/"
    },
    "id": "sMCRs6zd5AEC",
    "outputId": "bc97b172-313d-4b76-dc30-e4da6051bd85"
   },
   "outputs": [
    {
     "data": {
      "text/plain": [
       "84"
      ]
     },
     "execution_count": 110,
     "metadata": {
      "tags": []
     },
     "output_type": "execute_result"
    }
   ],
   "source": [
    "vocab = Vocab(df['surname'])\n",
    "vocab.vocab_len"
   ]
  },
  {
   "cell_type": "code",
   "execution_count": 111,
   "metadata": {
    "id": "WCaRK1QHxe0A"
   },
   "outputs": [],
   "source": [
    "class SurnamesDataset(Dataset):\n",
    "  def __init__(self, X, y, vocab: Vocab):\n",
    "    self.X = X\n",
    "    self.y = y\n",
    "    self.vocab = vocab\n",
    "\n",
    "  def vectorize(self, surname):\n",
    "    '''Генерирует представление отзыва review в виде bag of words (см. 1.2.1)'''\n",
    "    \n",
    "    surname_t = torch.zeros(self.vocab.vocab_len)\n",
    "    \n",
    "    for char in surname:\n",
    "      surname_t[self.vocab.token_to_idx[char]] = 1\n",
    "\n",
    "    return surname_t\n",
    "\n",
    "  def __len__(self):\n",
    "    return len(self.X)\n",
    "\n",
    "  def __getitem__(self, idx):\n",
    "    return self.vectorize(self.X[idx]), self.y[idx]"
   ]
  },
  {
   "cell_type": "code",
   "execution_count": 112,
   "metadata": {
    "colab": {
     "base_uri": "https://localhost:8080/"
    },
    "id": "08VJEC_18SRF",
    "outputId": "da06dbed-e2be-47a2-8184-bfe63719f42d"
   },
   "outputs": [
    {
     "data": {
      "text/plain": [
       "(tensor([0., 0., 0., 0., 0., 0., 0., 0., 0., 0., 0., 1., 0., 0., 0., 0., 0., 0.,\n",
       "         0., 0., 0., 0., 0., 1., 0., 0., 0., 0., 0., 0., 0., 0., 0., 0., 0., 0.,\n",
       "         0., 0., 0., 0., 0., 0., 0., 0., 0., 0., 0., 0., 0., 0., 0., 0., 0., 0.,\n",
       "         0., 0., 0., 0., 0., 0., 0., 0., 0., 0., 0., 0., 0., 1., 0., 0., 0., 0.,\n",
       "         0., 0., 0., 0., 0., 1., 0., 0., 0., 0., 0., 0.]), 4)"
      ]
     },
     "execution_count": 112,
     "metadata": {
      "tags": []
     },
     "output_type": "execute_result"
    }
   ],
   "source": [
    "dataset = SurnamesDataset(list(X_train), list(y_train), vocab)\n",
    "dataset[0]"
   ]
  },
  {
   "cell_type": "code",
   "execution_count": 178,
   "metadata": {
    "id": "kkbINqlO_b4J"
   },
   "outputs": [],
   "source": [
    "class ModelSurnameNat(nn.Module):\n",
    "  def __init__(self, input_size, hidden_size, n_classes):\n",
    "    super().__init__()\n",
    "    self.layer1 = nn.Sequential(nn.Linear(input_size, hidden_size),\n",
    "                                nn.ReLU(),\n",
    "                                nn.Dropout())\n",
    "    self.layer2 = nn.Sequential(nn.Linear(hidden_size, int(hidden_size/2)),\n",
    "                                nn.ReLU())\n",
    "    self.layer3 = nn.Sequential(nn.Linear(int(hidden_size/2), int(hidden_size/4)),\n",
    "                                nn.ReLU())\n",
    "    self.layer4 = nn.Linear(int(hidden_size/4), n_classes)\n",
    "\n",
    "  def forward(self, X):\n",
    "    out = self.layer1(X)\n",
    "    out = self.layer2(out)\n",
    "    out = self.layer3(out)\n",
    "    out = self.layer4(out)\n",
    "    return out"
   ]
  },
  {
   "cell_type": "code",
   "execution_count": 179,
   "metadata": {
    "colab": {
     "base_uri": "https://localhost:8080/"
    },
    "id": "IXJDt-U4_bd1",
    "outputId": "b9f683fd-2a59-4789-8277-c8e3cd6c60fb"
   },
   "outputs": [
    {
     "name": "stdout",
     "output_type": "stream",
     "text": [
      "Epoch: [2/500]: Loss_Train = 0.3365686535835266; Loss_Validation = 1.3462746143341064\n",
      "Epoch: [4/500]: Loss_Train = 0.29770296812057495; Loss_Validation = 1.1908118724822998\n",
      "Epoch: [6/500]: Loss_Train = 0.2803642153739929; Loss_Validation = 1.1214568614959717\n",
      "EarlyStopping counter: 1 out of 3\n",
      "Epoch: [8/500]: Loss_Train = 0.26904991269111633; Loss_Validation = 1.0761996507644653\n",
      "Epoch: [10/500]: Loss_Train = 0.26473185420036316; Loss_Validation = 1.0589274168014526\n",
      "EarlyStopping counter: 1 out of 3\n",
      "Epoch: [12/500]: Loss_Train = 0.26422327756881714; Loss_Validation = 1.0568931102752686\n",
      "EarlyStopping counter: 1 out of 3\n",
      "Epoch: [14/500]: Loss_Train = 0.26686587929725647; Loss_Validation = 1.0674635171890259\n",
      "EarlyStopping counter: 1 out of 3\n",
      "EarlyStopping counter: 2 out of 3\n",
      "Epoch: [16/500]: Loss_Train = 0.2539883553981781; Loss_Validation = 1.0159534215927124\n",
      "EarlyStopping counter: 1 out of 3\n",
      "Epoch: [18/500]: Loss_Train = 0.26190704107284546; Loss_Validation = 1.0476281642913818\n",
      "EarlyStopping counter: 2 out of 3\n",
      "EarlyStopping counter: 3 out of 3\n",
      "Early stopping on epoch: [19/500]\n"
     ]
    }
   ],
   "source": [
    "dataset_train = SurnamesDataset(list(X_train), list(y_train), vocab)\n",
    "\n",
    "train_size = int(np.floor(0.8 * len(dataset_train)))\n",
    "val_size = len(dataset_train) - train_size\n",
    "\n",
    "train_dataset, test_dataset = random_split(dataset_train, [train_size, val_size])\n",
    "\n",
    "train_data = DataLoader(train_dataset, batch_size = 32, shuffle = True)\n",
    "validation = DataLoader(test_dataset, batch_size = 32, shuffle = True)\n",
    "\n",
    "input_size = dataset_train[0][0].shape[0]\n",
    "hidden_size = 512\n",
    "n_classes = df['nationality_label'].nunique()\n",
    "\n",
    "model = ModelSurnameNat(input_size, hidden_size, n_classes)\n",
    "criteriation = nn.CrossEntropyLoss()\n",
    "optimizare = optim.Adam(model.parameters(), lr = 0.001)\n",
    "\n",
    "early_stop = EarlyStopping(patience = 3, verbose = False, delta = 0.0)\n",
    "\n",
    "n_epochs = 500\n",
    "\n",
    "history_loss = list()\n",
    "history_loss_val = list()\n",
    "history_epochs = list()\n",
    "\n",
    "for epoch in range(1, n_epochs + 1):\n",
    "  loss_train = 0\n",
    "  loss_val = 0\n",
    "\n",
    "  model.train()\n",
    "  for name, label in train_data:\n",
    "    out = model(name)\n",
    "\n",
    "    loss = criteriation(out, label)\n",
    "    loss_train += loss\n",
    "\n",
    "    loss.backward()\n",
    "    optimizare.step()\n",
    "    optimizare.zero_grad()\n",
    "\n",
    "  model.eval()\n",
    "  with torch.no_grad():\n",
    "    for X, y in validation:\n",
    "      out = model(X)\n",
    "      loss = criteriation(out, y)\n",
    "      loss_val += loss\n",
    "\n",
    "  history_loss.append(loss_val/len(train_data))\n",
    "  history_loss_val.append(loss_val/len(validation))\n",
    "  history_epochs.append(epoch)\n",
    "\n",
    "  if epoch % 2 == 0:\n",
    "    print(f'Epoch: [{epoch}/{n_epochs}]: Loss_Train = {history_loss[-1]}; Loss_Validation = {history_loss_val[-1]}')\n",
    "\n",
    "  early_stop(history_loss_val[-1], model)\n",
    "  \n",
    "  if early_stop.early_stop:\n",
    "      print(f\"Early stopping on epoch: [{epoch}/{n_epochs}]\")\n",
    "      break"
   ]
  },
  {
   "cell_type": "code",
   "execution_count": 180,
   "metadata": {
    "colab": {
     "base_uri": "https://localhost:8080/",
     "height": 497
    },
    "id": "1Cr_dl6RAn4a",
    "outputId": "a347b8fc-a0ef-4d1b-a699-d484092d1578"
   },
   "outputs": [
    {
     "data": {
      "image/png": "[encoded data removed]",
      "text/plain": [
       "<Figure size 720x576 with 1 Axes>"
      ]
     },
     "metadata": {
      "needs_background": "light",
      "tags": []
     },
     "output_type": "display_data"
    }
   ],
   "source": [
    "fig, ax = plt.subplots(figsize = (10, 8))\n",
    "plt.plot(history_epochs, history_loss, label = 'train_loss')\n",
    "plt.plot(history_epochs, history_loss_val, label = 'val_loss')\n",
    "plt.xlabel('Epoch')\n",
    "plt.ylabel('Loss')\n",
    "plt.legend()\n",
    "plt.grid();"
   ]
  },
  {
   "cell_type": "code",
   "execution_count": 181,
   "metadata": {
    "colab": {
     "base_uri": "https://localhost:8080/"
    },
    "id": "OnCR62HgAnhD",
    "outputId": "bb17a073-02dc-48a1-bff3-c3ef9b7d7341"
   },
   "outputs": [
    {
     "name": "stdout",
     "output_type": "stream",
     "text": [
      "Accuracy = 0.6775956284153005\n"
     ]
    }
   ],
   "source": [
    "dataset_test = SurnamesDataset(list(X_test), list(y_test), vocab)\n",
    "test = DataLoader(dataset_test, batch_size = len(dataset_test), shuffle = True)\n",
    "\n",
    "correct, total = 0, 0\n",
    "\n",
    "model.eval()\n",
    "with torch.no_grad():\n",
    "  for X_tst, y_tst in test:\n",
    "    out = model(X_tst)\n",
    "    _, predicted = torch.max(out, dim = 1)\n",
    "    total += y_tst.shape[0]\n",
    "    correct += int((predicted == y_tst).sum())\n",
    "\n",
    "print(f'Accuracy = {correct/total}')"
   ]
  },
  {
   "cell_type": "code",
   "execution_count": 224,
   "metadata": {
    "colab": {
     "base_uri": "https://localhost:8080/"
    },
    "id": "tz3PCEJNH8MC",
    "outputId": "a0b0c793-9002-4728-e2a5-b39dc4c9ddb7"
   },
   "outputs": [
    {
     "name": "stdout",
     "output_type": "stream",
     "text": [
      "Наиболее вероятные нациаональности для фамилии Semenov:\n",
      "3) Russian\n",
      "2) English\n",
      "1) Dutch\n",
      "Наиболее вероятные нациаональности для фамилии Zaraev:\n",
      "3) Italian\n",
      "2) Spanish\n",
      "1) Russian\n",
      "Наиболее вероятные нациаональности для фамилии Ragimov:\n",
      "3) Czech\n",
      "2) Italian\n",
      "1) Russian\n"
     ]
    }
   ],
   "source": [
    "X_classmates = ['Semenov', 'Zaraev', 'Ragimov']\n",
    "y_fictit = [0, 0, 0]\n",
    "\n",
    "classmats = SurnamesDataset(list(X_classmates), list(y_fictit), vocab)\n",
    "\n",
    "with torch.no_grad():\n",
    "  for idx, (x, y) in enumerate(classmats):\n",
    "    out = model(x)\n",
    "    _, ind = torch.sort(out)\n",
    "    print(f'Наиболее вероятные нациаональности для фамилии {X_classmates[idx]}:')\n",
    "    for id, v in enumerate(ind[-3:]):\n",
    "      ans = list(set(df[df['nationality_label'] == v.item()]['nationality']))[0]\n",
    "      print(f'{abs(id - 3)}) {ans}')"
   ]
  },
  {
   "cell_type": "code",
   "execution_count": 205,
   "metadata": {
    "colab": {
     "base_uri": "https://localhost:8080/"
    },
    "id": "nalR_FTwM-gp",
    "outputId": "4372c391-9882-4e35-9996-bef4aebe6c3d"
   },
   "outputs": [
    {
     "data": {
      "text/plain": [
       "14"
      ]
     },
     "execution_count": 205,
     "metadata": {
      "tags": []
     },
     "output_type": "execute_result"
    }
   ],
   "source": [
    "ind = list(ind[-3:])\n",
    "ind[0].item()"
   ]
  },
  {
   "cell_type": "code",
   "execution_count": 210,
   "metadata": {
    "colab": {
     "base_uri": "https://localhost:8080/",
     "height": 35
    },
    "id": "65iIX9yjNAvH",
    "outputId": "7f33c618-6c8b-4993-ff01-eac0b8a15e02"
   },
   "outputs": [
    {
     "data": {
      "application/vnd.google.colaboratory.intrinsic+json": {
       "type": "string"
      },
      "text/plain": [
       "'Russian'"
      ]
     },
     "execution_count": 210,
     "metadata": {
      "tags": []
     },
     "output_type": "execute_result"
    }
   ],
   "source": [
    "list(set(df[df['nationality_label'] == ind[0].item()]['nationality']))[0]"
   ]
  },
  {
   "cell_type": "markdown",
   "metadata": {
    "id": "PLmDB3fJtVox"
   },
   "source": [
    "## Классификация обзоров ресторанов\n",
    "\n",
    "Датасет: https://disk.yandex.ru/d/nY1o70JtAuYa8g"
   ]
  },
  {
   "cell_type": "code",
   "execution_count": 7,
   "metadata": {
    "colab": {
     "base_uri": "https://localhost:8080/"
    },
    "id": "yIYUb5npQ42Y",
    "outputId": "06b53ca4-afdb-46d8-9935-dfa2b19c14c7"
   },
   "outputs": [
    {
     "data": {
      "text/plain": [
       "(56000, 2)"
      ]
     },
     "execution_count": 7,
     "metadata": {
      "tags": []
     },
     "output_type": "execute_result"
    }
   ],
   "source": [
    "df = pd.read_csv('/content/drive/MyDrive/datasets/raw_train.csv', header = None)\n",
    "df.columns = ['Label', 'text']\n",
    "df1 = df[df['Label'] == 1].sample(int(df.shape[0]*0.1/2))\n",
    "df2 = df[df['Label'] == 2].sample(int(df.shape[0]*0.1/2))\n",
    "dt = pd.concat([df1, df2], axis = 0)\n",
    "dt.index = [i for i in range(len(dt))]\n",
    "dt.shape"
   ]
  },
  {
   "cell_type": "code",
   "execution_count": 8,
   "metadata": {
    "colab": {
     "base_uri": "https://localhost:8080/",
     "height": 204
    },
    "id": "WcHthb9GUUsA",
    "outputId": "632708ae-b610-4b1b-cb2b-9928138b8c74"
   },
   "outputs": [
    {
     "data": {
      "text/html": [
       "<div>\n",
       "<style scoped>\n",
       "    .dataframe tbody tr th:only-of-type {\n",
       "        vertical-align: middle;\n",
       "    }\n",
       "\n",
       "    .dataframe tbody tr th {\n",
       "        vertical-align: top;\n",
       "    }\n",
       "\n",
       "    .dataframe thead th {\n",
       "        text-align: right;\n",
       "    }\n",
       "</style>\n",
       "<table border=\"1\" class=\"dataframe\">\n",
       "  <thead>\n",
       "    <tr style=\"text-align: right;\">\n",
       "      <th></th>\n",
       "      <th>Label</th>\n",
       "      <th>text</th>\n",
       "    </tr>\n",
       "  </thead>\n",
       "  <tbody>\n",
       "    <tr>\n",
       "      <th>0</th>\n",
       "      <td>0</td>\n",
       "      <td>just had the rudest worker at the pharmacy. th...</td>\n",
       "    </tr>\n",
       "    <tr>\n",
       "      <th>1</th>\n",
       "      <td>0</td>\n",
       "      <td>i shouldn t have signed up for a gym membershi...</td>\n",
       "    </tr>\n",
       "    <tr>\n",
       "      <th>2</th>\n",
       "      <td>0</td>\n",
       "      <td>bar far the lowest rated home depot i have eve...</td>\n",
       "    </tr>\n",
       "    <tr>\n",
       "      <th>3</th>\n",
       "      <td>0</td>\n",
       "      <td>ick, ick, ick is all i really need to say. we ...</td>\n",
       "    </tr>\n",
       "    <tr>\n",
       "      <th>4</th>\n",
       "      <td>0</td>\n",
       "      <td>service from waitress lastnight was horrible! ...</td>\n",
       "    </tr>\n",
       "  </tbody>\n",
       "</table>\n",
       "</div>"
      ],
      "text/plain": [
       "   Label                                               text\n",
       "0      0  just had the rudest worker at the pharmacy. th...\n",
       "1      0  i shouldn t have signed up for a gym membershi...\n",
       "2      0  bar far the lowest rated home depot i have eve...\n",
       "3      0  ick, ick, ick is all i really need to say. we ...\n",
       "4      0  service from waitress lastnight was horrible! ..."
      ]
     },
     "execution_count": 8,
     "metadata": {
      "tags": []
     },
     "output_type": "execute_result"
    }
   ],
   "source": [
    "dt['text'] = dt['text'].apply(preprocess_text)\n",
    "dt.loc[dt['Label'] == 1, 'Label'] = 0\n",
    "dt.loc[dt['Label'] == 2, 'Label'] = 1\n",
    "dt.head()"
   ]
  },
  {
   "cell_type": "code",
   "execution_count": 9,
   "metadata": {
    "colab": {
     "base_uri": "https://localhost:8080/"
    },
    "id": "WzhVYqJMW5CU",
    "outputId": "f661a9f0-9203-45c7-e9f3-46fbe3785905"
   },
   "outputs": [
    {
     "data": {
      "text/plain": [
       "((44800,), (44800,))"
      ]
     },
     "execution_count": 9,
     "metadata": {
      "tags": []
     },
     "output_type": "execute_result"
    }
   ],
   "source": [
    "X_train, X_test, y_train, y_test = train_test_split(dt['text'], dt['Label'], test_size = 0.2)\n",
    "X_train.shape, y_train.shape"
   ]
  },
  {
   "cell_type": "code",
   "execution_count": 10,
   "metadata": {
    "colab": {
     "base_uri": "https://localhost:8080/"
    },
    "id": "PGSm0iJ4cPmC",
    "outputId": "a2003188-fa39-4485-e5a6-ffd73207dafa"
   },
   "outputs": [
    {
     "name": "stdout",
     "output_type": "stream",
     "text": [
      "[nltk_data] Downloading package wordnet to /root/nltk_data...\n",
      "[nltk_data]   Unzipping corpora/wordnet.zip.\n"
     ]
    },
    {
     "data": {
      "text/plain": [
       "True"
      ]
     },
     "execution_count": 10,
     "metadata": {
      "tags": []
     },
     "output_type": "execute_result"
    }
   ],
   "source": [
    "nltk.download('wordnet')"
   ]
  },
  {
   "cell_type": "code",
   "execution_count": 16,
   "metadata": {
    "id": "76UOyJzUaYHo"
   },
   "outputs": [],
   "source": [
    "from nltk.stem import WordNetLemmatizer\n",
    "lemat = WordNetLemmatizer()"
   ]
  },
  {
   "cell_type": "code",
   "execution_count": 17,
   "metadata": {
    "id": "_lCTSKZgu68K"
   },
   "outputs": [],
   "source": [
    "class Vocab:\n",
    "  def __init__(self, data):\n",
    "    tokens = []\n",
    "    for txt in data:\n",
    "      for sent in sent_tokenize(txt):\n",
    "        for word in word_tokenize(sent):\n",
    "          tokens.append(lemat.lemmatize(word,  pos = 'v'))\n",
    "    \n",
    "    tokens = set(tokens)\n",
    "    #print(tokens)\n",
    "    self.idx_to_token = {idx: token for idx, token in enumerate(tokens)}\n",
    "    self.token_to_idx = {token: idx for idx, token in self.idx_to_token.items()}\n",
    "    self.vocab_len = len(self.idx_to_token)"
   ]
  },
  {
   "cell_type": "code",
   "execution_count": 18,
   "metadata": {
    "colab": {
     "base_uri": "https://localhost:8080/"
    },
    "id": "zR-leXv8eCfr",
    "outputId": "a9dc0362-ac64-4f68-f215-1afaacc58474"
   },
   "outputs": [
    {
     "data": {
      "text/plain": [
       "66443"
      ]
     },
     "execution_count": 18,
     "metadata": {
      "tags": []
     },
     "output_type": "execute_result"
    }
   ],
   "source": [
    "vocab = Vocab(dt['text'])\n",
    "vocab.vocab_len"
   ]
  },
  {
   "cell_type": "code",
   "execution_count": 19,
   "metadata": {
    "id": "WXLmCDvcvRmb"
   },
   "outputs": [],
   "source": [
    "class ReviewDataset(Dataset):\n",
    "  def __init__(self, X, y, vocab: Vocab):\n",
    "    self.X = X\n",
    "    self.y = y\n",
    "    self.vocab = vocab\n",
    "\n",
    "  def vectorize(self, review):\n",
    "    '''Генерирует представление отзыва review в виде bag of words (см. 1.2.1)'''\n",
    "    words_ans = torch.zeros(self.vocab.vocab_len)\n",
    "\n",
    "    for sent in sent_tokenize(review):\n",
    "      for word in word_tokenize(sent):\n",
    "        words_ans[self.vocab.token_to_idx[lemat.lemmatize(word,  pos = 'v')]] += 1\n",
    "\n",
    "    return words_ans   \n",
    "\n",
    "  def __len__(self):\n",
    "    return len(self.X)\n",
    "\n",
    "  def __getitem__(self, idx):\n",
    "    return self.vectorize(self.X[idx]), self.y[idx]"
   ]
  },
  {
   "cell_type": "code",
   "execution_count": 20,
   "metadata": {
    "id": "uzZWTVFhiyvM"
   },
   "outputs": [],
   "source": [
    "class ModelReviewNat(nn.Module):\n",
    "  def __init__(self, input_size, hidden_size, n_classes):\n",
    "    super().__init__()\n",
    "    self.layer1 = nn.Sequential(nn.Linear(input_size, hidden_size),\n",
    "                                nn.ReLU(),\n",
    "                                nn.Dropout())\n",
    "    self.layer2 = nn.Sequential(nn.Linear(hidden_size, int(hidden_size)),\n",
    "                                nn.ReLU(),\n",
    "                                nn.Dropout())\n",
    "    self.layer3 = nn.Sequential(nn.Linear(int(hidden_size), int(hidden_size/2)),\n",
    "                                nn.ReLU(),\n",
    "                                nn.Dropout())\n",
    "    self.layer4 = nn.Sequential(nn.Linear(int(hidden_size/2), int(hidden_size/2)),\n",
    "                                nn.ReLU())\n",
    "    self.layer5 = nn.Linear(int(hidden_size/2), n_classes)\n",
    "\n",
    "  def forward(self, X):\n",
    "    out = self.layer1(X)\n",
    "    out = self.layer2(out)\n",
    "    out = self.layer3(out)\n",
    "    out = self.layer4(out)\n",
    "    return out"
   ]
  },
  {
   "cell_type": "code",
   "execution_count": 21,
   "metadata": {
    "colab": {
     "base_uri": "https://localhost:8080/"
    },
    "id": "6yfVd6Tei99f",
    "outputId": "ee5663e3-1947-40be-c6e6-268c7e6686c6"
   },
   "outputs": [
    {
     "name": "stdout",
     "output_type": "stream",
     "text": [
      "Epoch: [2/500]: Loss_Train = 0.0586184561252594; Loss_Validation = 0.2344738245010376\n",
      "EarlyStopping counter: 1 out of 3\n",
      "EarlyStopping counter: 2 out of 3\n",
      "Epoch: [4/500]: Loss_Train = 0.057844046503305435; Loss_Validation = 0.23137618601322174\n",
      "EarlyStopping counter: 3 out of 3\n",
      "Early stopping on epoch: [4/500]\n"
     ]
    }
   ],
   "source": [
    "dataset_train = ReviewDataset(list(X_train), list(y_train), vocab)\n",
    "\n",
    "train_size = int(np.floor(0.8 * len(dataset_train)))\n",
    "val_size = len(dataset_train) - train_size\n",
    "\n",
    "train_dataset, test_dataset = random_split(dataset_train, [train_size, val_size])\n",
    "\n",
    "train_data = DataLoader(train_dataset, batch_size = 32, shuffle = True)\n",
    "validation = DataLoader(test_dataset, batch_size = 32, shuffle = True)\n",
    "\n",
    "input_size = dataset_train[0][0].shape[0]\n",
    "hidden_size = 512\n",
    "n_classes = dt['Label'].nunique()\n",
    "\n",
    "device = torch.device('cuda' if torch.cuda.is_available() else 'cpu')\n",
    "\n",
    "model = ModelReviewNat(input_size, hidden_size, n_classes).to(device = device)\n",
    "criteriation = nn.CrossEntropyLoss()\n",
    "optimizare = optim.Adam(model.parameters(), lr = 0.001)\n",
    "\n",
    "early_stop = EarlyStopping(patience = 3, verbose = False, delta = 0.0)\n",
    "\n",
    "n_epochs = 500\n",
    "\n",
    "history_loss = list()\n",
    "history_loss_val = list()\n",
    "history_epochs = list()\n",
    "\n",
    "for epoch in range(1, n_epochs + 1):\n",
    "  loss_train = 0\n",
    "  loss_val = 0\n",
    "\n",
    "  model.train()\n",
    "  for name, label in train_data:\n",
    "    name, label = name.to(device = device), label.to(device = device)\n",
    "    out = model(name)\n",
    "\n",
    "    loss = criteriation(out, label)\n",
    "    loss_train += loss\n",
    "\n",
    "    loss.backward()\n",
    "    optimizare.step()\n",
    "    optimizare.zero_grad()\n",
    "\n",
    "  model.eval()\n",
    "  with torch.no_grad():\n",
    "    for X, y in validation:\n",
    "      X, y = X.to(device = device), y.to(device = device)\n",
    "      out = model(X)\n",
    "      loss = criteriation(out, y)\n",
    "      loss_val += loss\n",
    "\n",
    "  history_loss.append(loss_val/len(train_data))\n",
    "  history_loss_val.append(loss_val/len(validation))\n",
    "  history_epochs.append(epoch)\n",
    "\n",
    "  if epoch % 2 == 0:\n",
    "    print(f'Epoch: [{epoch}/{n_epochs}]: Loss_Train = {history_loss[-1]}; Loss_Validation = {history_loss_val[-1]}')\n",
    "\n",
    "  early_stop(history_loss_val[-1], model)\n",
    "  \n",
    "  if early_stop.early_stop:\n",
    "      print(f\"Early stopping on epoch: [{epoch}/{n_epochs}]\")\n",
    "      break"
   ]
  },
  {
   "cell_type": "code",
   "execution_count": 22,
   "metadata": {
    "colab": {
     "base_uri": "https://localhost:8080/",
     "height": 497
    },
    "id": "e-Ufs7Rdln2d",
    "outputId": "aecb78ed-73b3-405b-f437-24667d94c39e"
   },
   "outputs": [
    {
     "data": {
      "image/png": "[encoded data removed]",
      "text/plain": [
       "<Figure size 720x576 with 1 Axes>"
      ]
     },
     "metadata": {
      "needs_background": "light",
      "tags": []
     },
     "output_type": "display_data"
    }
   ],
   "source": [
    "fig, ax = plt.subplots(figsize = (10, 8))\n",
    "plt.plot(history_epochs, history_loss, label = 'train_loss')\n",
    "plt.plot(history_epochs, history_loss_val, label = 'val_loss')\n",
    "plt.xlabel('Epoch')\n",
    "plt.ylabel('Loss')\n",
    "plt.legend()\n",
    "plt.grid();"
   ]
  },
  {
   "cell_type": "code",
   "execution_count": 24,
   "metadata": {
    "colab": {
     "base_uri": "https://localhost:8080/"
    },
    "id": "MJ-qjeItj7vR",
    "outputId": "09b922e1-9933-4958-c162-d428f8db49b1"
   },
   "outputs": [
    {
     "name": "stdout",
     "output_type": "stream",
     "text": [
      "Accuracy = 0.9182142857142858\n"
     ]
    }
   ],
   "source": [
    "dataset_test = ReviewDataset(list(X_test), list(y_test), vocab)\n",
    "test = DataLoader(dataset_test, batch_size = len(dataset_test), shuffle = True)\n",
    "\n",
    "correct, total = 0, 0\n",
    "\n",
    "model.eval()\n",
    "with torch.no_grad():\n",
    "  for X_tst, y_tst in test:\n",
    "    X_tst, y_tst = X_tst.to(device = device), y_tst.to(device = device)\n",
    "\n",
    "    out = model(X_tst)\n",
    "    _, predicted = torch.max(out, dim = 1)\n",
    "    total += y_tst.shape[0]\n",
    "    correct += int((predicted == y_tst).sum())\n",
    "\n",
    "print(f'Accuracy = {correct/total}')"
   ]
  },
  {
   "cell_type": "code",
   "execution_count": 29,
   "metadata": {
    "colab": {
     "base_uri": "https://localhost:8080/",
     "height": 35
    },
    "id": "Q1dIhIQpm4_k",
    "outputId": "fe90ee43-4b94-4c5b-8c19-b1e6f47c4616"
   },
   "outputs": [
    {
     "data": {
      "application/vnd.google.colaboratory.intrinsic+json": {
       "type": "string"
      },
      "text/plain": [
       "'outstanding service noutstanding authentic food noutstanding overall.'"
      ]
     },
     "execution_count": 29,
     "metadata": {
      "tags": []
     },
     "output_type": "execute_result"
    }
   ],
   "source": [
    "dt[dt['Label'] == 1]['text'].iloc[0]"
   ]
  },
  {
   "cell_type": "code",
   "execution_count": 51,
   "metadata": {
    "colab": {
     "base_uri": "https://localhost:8080/"
    },
    "id": "ymCKqsrGwomL",
    "outputId": "b09a41af-2f1c-4602-cb7d-ad0ca66df8be"
   },
   "outputs": [
    {
     "name": "stdout",
     "output_type": "stream",
     "text": [
      "0\n",
      "1\n"
     ]
    }
   ],
   "source": [
    "negative = 'The food in the dining room is very awful. Afterwards I want to puke, as if the dogs were being fed'\n",
    "negative = preprocess_text(negative)\n",
    "positive = 'Everything was great. Nice movie, delicious food.'\n",
    "positive = preprocess_text(positive)\n",
    "\n",
    "X_classmates = [negative, positive]\n",
    "y_fictit = [0, 0]\n",
    "\n",
    "reviews = ReviewDataset(X_classmates, y_fictit, vocab)\n",
    "rev = DataLoader(reviews, batch_size = 1, shuffle = True)\n",
    "\n",
    "with torch.no_grad():\n",
    "  for x, y in rev:\n",
    "    x, y = x.to(device = device), x.to(device = device)\n",
    "    out = model(x)\n",
    "    _, predicted = torch.max(out, dim = 1)\n",
    "    \n",
    "    print(predicted.item())\n",
    "\n",
    "# 0 - негативный отзыв\n",
    "# 1 - позитивный отзыв"
   ]
  }
 ],
 "metadata": {
  "accelerator": "GPU",
  "colab": {
   "collapsed_sections": [],
   "name": "blank__05_NLP_1_intro.ipynb",
   "provenance": [],
   "toc_visible": true
  },
  "kernelspec": {
   "display_name": "Python 3",
   "language": "python",
   "name": "python3"
  },
  "language_info": {
   "codemirror_mode": {
    "name": "ipython",
    "version": 3
   },
   "file_extension": ".py",
   "mimetype": "text/x-python",
   "name": "python",
   "nbconvert_exporter": "python",
   "pygments_lexer": "ipython3",
   "version": "3.8.3"
  }
 },
 "nbformat": 4,
 "nbformat_minor": 1
}
