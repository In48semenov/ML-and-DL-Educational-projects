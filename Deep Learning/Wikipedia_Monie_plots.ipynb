{
  "nbformat": 4,
  "nbformat_minor": 0,
  "metadata": {
    "colab": {
      "name": "ДТЗ_Семенов_ПМ18_4.ipynb",
      "provenance": [],
      "collapsed_sections": [
        "BRTK4_V3zkn1",
        "rl2TovL1TGxP",
        "ccr6f5D9TN0w"
      ],
      "toc_visible": true
    },
    "kernelspec": {
      "display_name": "Python 3",
      "name": "python3"
    },
    "language_info": {
      "name": "python"
    }
  },
  "cells": [
    {
      "cell_type": "code",
      "metadata": {
        "id": "4AFVu3AsTUFd"
      },
      "source": [
        "import pandas as pd\n",
        "import numpy as np\n",
        "\n",
        "import re\n",
        "import nltk\n",
        "\n",
        "from nltk.stem import WordNetLemmatizer\n",
        "from nltk.corpus import stopwords\n",
        "from nltk.tokenize import word_tokenize, sent_tokenize\n",
        "\n",
        "import matplotlib.pyplot as plt\n",
        "import seaborn as sns\n",
        "\n",
        "from sklearn.preprocessing import LabelEncoder\n",
        "from sklearn.model_selection import train_test_split\n",
        "\n",
        "import torch\n",
        "import torch.nn as nn\n",
        "from torch.utils.data import DataLoader, Dataset, random_split\n",
        "import torch.optim as optim\n",
        "import torch.nn.functional as F\n",
        "\n",
        "from sklearn.metrics import accuracy_score, f1_score\n",
        "\n",
        "import numpy as np\n",
        "\n",
        "from pytorchtools_st import EarlyStopping\n",
        "import warnings\n",
        "warnings.filterwarnings('ignore')"
      ],
      "execution_count": 2,
      "outputs": []
    },
    {
      "cell_type": "code",
      "metadata": {
        "colab": {
          "base_uri": "https://localhost:8080/"
        },
        "id": "HPQyNORBGQ9f",
        "outputId": "7a84e3a5-bb21-4603-880e-00091edd845e"
      },
      "source": [
        "nltk.download('punkt')\n",
        "nltk.download('wordnet')"
      ],
      "execution_count": 3,
      "outputs": [
        {
          "output_type": "stream",
          "text": [
            "[nltk_data] Downloading package punkt to /root/nltk_data...\n",
            "[nltk_data]   Unzipping tokenizers/punkt.zip.\n",
            "[nltk_data] Downloading package wordnet to /root/nltk_data...\n",
            "[nltk_data]   Unzipping corpora/wordnet.zip.\n"
          ],
          "name": "stdout"
        },
        {
          "output_type": "execute_result",
          "data": {
            "text/plain": [
              "True"
            ]
          },
          "metadata": {
            "tags": []
          },
          "execution_count": 3
        }
      ]
    },
    {
      "cell_type": "code",
      "metadata": {
        "colab": {
          "base_uri": "https://localhost:8080/"
        },
        "id": "Ha5oMWxFffYA",
        "outputId": "733115d0-76a8-475a-ca54-1addc2bd5102"
      },
      "source": [
        "from google.colab import drive\n",
        "drive.mount('/content/drive')"
      ],
      "execution_count": 4,
      "outputs": [
        {
          "output_type": "stream",
          "text": [
            "Mounted at /content/drive\n"
          ],
          "name": "stdout"
        }
      ]
    },
    {
      "cell_type": "markdown",
      "metadata": {
        "id": "BRTK4_V3zkn1"
      },
      "source": [
        "# Работа с датасетом"
      ]
    },
    {
      "cell_type": "code",
      "metadata": {
        "colab": {
          "base_uri": "https://localhost:8080/",
          "height": 204
        },
        "id": "6C6ud3RiUHRy",
        "outputId": "43d05b8a-c70f-4ed9-8be5-c2ec42901ad4"
      },
      "source": [
        "df = pd.read_csv('/content/drive/MyDrive/datasets/wiki_movie_plots_deduped.csv')\n",
        "df.head()"
      ],
      "execution_count": 5,
      "outputs": [
        {
          "output_type": "execute_result",
          "data": {
            "text/html": [
              "<div>\n",
              "<style scoped>\n",
              "    .dataframe tbody tr th:only-of-type {\n",
              "        vertical-align: middle;\n",
              "    }\n",
              "\n",
              "    .dataframe tbody tr th {\n",
              "        vertical-align: top;\n",
              "    }\n",
              "\n",
              "    .dataframe thead th {\n",
              "        text-align: right;\n",
              "    }\n",
              "</style>\n",
              "<table border=\"1\" class=\"dataframe\">\n",
              "  <thead>\n",
              "    <tr style=\"text-align: right;\">\n",
              "      <th></th>\n",
              "      <th>Release Year</th>\n",
              "      <th>Title</th>\n",
              "      <th>Origin/Ethnicity</th>\n",
              "      <th>Director</th>\n",
              "      <th>Cast</th>\n",
              "      <th>Genre</th>\n",
              "      <th>Wiki Page</th>\n",
              "      <th>Plot</th>\n",
              "    </tr>\n",
              "  </thead>\n",
              "  <tbody>\n",
              "    <tr>\n",
              "      <th>0</th>\n",
              "      <td>1901</td>\n",
              "      <td>Kansas Saloon Smashers</td>\n",
              "      <td>American</td>\n",
              "      <td>Unknown</td>\n",
              "      <td>NaN</td>\n",
              "      <td>unknown</td>\n",
              "      <td>https://en.wikipedia.org/wiki/Kansas_Saloon_Sm...</td>\n",
              "      <td>A bartender is working at a saloon, serving dr...</td>\n",
              "    </tr>\n",
              "    <tr>\n",
              "      <th>1</th>\n",
              "      <td>1901</td>\n",
              "      <td>Love by the Light of the Moon</td>\n",
              "      <td>American</td>\n",
              "      <td>Unknown</td>\n",
              "      <td>NaN</td>\n",
              "      <td>unknown</td>\n",
              "      <td>https://en.wikipedia.org/wiki/Love_by_the_Ligh...</td>\n",
              "      <td>The moon, painted with a smiling face hangs ov...</td>\n",
              "    </tr>\n",
              "    <tr>\n",
              "      <th>2</th>\n",
              "      <td>1901</td>\n",
              "      <td>The Martyred Presidents</td>\n",
              "      <td>American</td>\n",
              "      <td>Unknown</td>\n",
              "      <td>NaN</td>\n",
              "      <td>unknown</td>\n",
              "      <td>https://en.wikipedia.org/wiki/The_Martyred_Pre...</td>\n",
              "      <td>The film, just over a minute long, is composed...</td>\n",
              "    </tr>\n",
              "    <tr>\n",
              "      <th>3</th>\n",
              "      <td>1901</td>\n",
              "      <td>Terrible Teddy, the Grizzly King</td>\n",
              "      <td>American</td>\n",
              "      <td>Unknown</td>\n",
              "      <td>NaN</td>\n",
              "      <td>unknown</td>\n",
              "      <td>https://en.wikipedia.org/wiki/Terrible_Teddy,_...</td>\n",
              "      <td>Lasting just 61 seconds and consisting of two ...</td>\n",
              "    </tr>\n",
              "    <tr>\n",
              "      <th>4</th>\n",
              "      <td>1902</td>\n",
              "      <td>Jack and the Beanstalk</td>\n",
              "      <td>American</td>\n",
              "      <td>George S. Fleming, Edwin S. Porter</td>\n",
              "      <td>NaN</td>\n",
              "      <td>unknown</td>\n",
              "      <td>https://en.wikipedia.org/wiki/Jack_and_the_Bea...</td>\n",
              "      <td>The earliest known adaptation of the classic f...</td>\n",
              "    </tr>\n",
              "  </tbody>\n",
              "</table>\n",
              "</div>"
            ],
            "text/plain": [
              "   Release Year  ...                                               Plot\n",
              "0          1901  ...  A bartender is working at a saloon, serving dr...\n",
              "1          1901  ...  The moon, painted with a smiling face hangs ov...\n",
              "2          1901  ...  The film, just over a minute long, is composed...\n",
              "3          1901  ...  Lasting just 61 seconds and consisting of two ...\n",
              "4          1902  ...  The earliest known adaptation of the classic f...\n",
              "\n",
              "[5 rows x 8 columns]"
            ]
          },
          "metadata": {
            "tags": []
          },
          "execution_count": 5
        }
      ]
    },
    {
      "cell_type": "code",
      "metadata": {
        "colab": {
          "base_uri": "https://localhost:8080/"
        },
        "id": "2QiRUOcZVr8p",
        "outputId": "1fdcfcc9-b5b6-4a55-d359-2963d1bc637c"
      },
      "source": [
        "df.shape"
      ],
      "execution_count": 6,
      "outputs": [
        {
          "output_type": "execute_result",
          "data": {
            "text/plain": [
              "(34886, 8)"
            ]
          },
          "metadata": {
            "tags": []
          },
          "execution_count": 6
        }
      ]
    },
    {
      "cell_type": "code",
      "metadata": {
        "id": "Jc0cHn4yUPUd"
      },
      "source": [
        "# предобработка текста\n",
        "for idx, rev in enumerate(df['Plot']):\n",
        "  rev = re.sub(r\"[^a-zA-Z.,!]\", \" \", rev)\n",
        "  df.loc[idx, 'Plot'] = rev.lower() \n",
        "\n",
        "print(df.shape)\n",
        "df.sample(5)"
      ],
      "execution_count": null,
      "outputs": []
    },
    {
      "cell_type": "code",
      "metadata": {
        "id": "EelxoovYW48U"
      },
      "source": [
        "# Скачиваем набор стоп-слов\n",
        "nltk.download('stopwords')\n",
        "nltk.download('wordnet')"
      ],
      "execution_count": null,
      "outputs": []
    },
    {
      "cell_type": "code",
      "metadata": {
        "id": "WzycffuPVHJ-"
      },
      "source": [
        "lemat = WordNetLemmatizer()\n",
        "\n",
        "stop_words = stopwords.words('english') # Загрузка стоп-слов\n",
        "# stop_words.append('  ')\n",
        "\n",
        "df['Plot_new'] = [' ' for rev in range(len(df))]\n",
        "\n",
        "for idx, txt in enumerate(df['Plot']):\n",
        "  tokens = []\n",
        "  for sent in sent_tokenize(txt): # лексемазация предложения\n",
        "    for word in word_tokenize(sent): # лексемазация слов\n",
        "      tokens.append(lemat.lemmatize(word,  pos = 'v'))\n",
        "\n",
        "  # Удаление stop-words in train dataset\n",
        "  rev_new = ' '.join([word for word in tokens if word not in stop_words])\n",
        "  df.loc[idx, 'Plot_new'] = rev_new\n",
        "\n",
        "df"
      ],
      "execution_count": null,
      "outputs": []
    },
    {
      "cell_type": "code",
      "metadata": {
        "id": "7z9ci_4yXkL0"
      },
      "source": [
        "df[['Plot', 'Plot_new']]"
      ],
      "execution_count": null,
      "outputs": []
    },
    {
      "cell_type": "code",
      "metadata": {
        "id": "6UhzmApvXlbt"
      },
      "source": [
        "df.describe()"
      ],
      "execution_count": null,
      "outputs": []
    },
    {
      "cell_type": "code",
      "metadata": {
        "id": "Qjxb-m7hXlYY"
      },
      "source": [
        "df.info()"
      ],
      "execution_count": null,
      "outputs": []
    },
    {
      "cell_type": "code",
      "metadata": {
        "id": "kQB8hs5YXlVp"
      },
      "source": [
        "df.isnull().sum()"
      ],
      "execution_count": null,
      "outputs": []
    },
    {
      "cell_type": "code",
      "metadata": {
        "id": "fNgku1lyXlTJ"
      },
      "source": [
        "for col in df.columns:\n",
        "   #if col not in ['Plot', 'Plot_new']:\n",
        "  print(f'Количество уникальных значениц для поля {col}: {df[col].nunique()}')\n",
        "  print(f'Количество элементов в столбце:')\n",
        "  print(df[col].value_counts())"
      ],
      "execution_count": null,
      "outputs": []
    },
    {
      "cell_type": "code",
      "metadata": {
        "id": "7hh6kqzdk1pT"
      },
      "source": [
        "Genre = df['Genre'].value_counts()\n",
        "for idx, val in enumerate(Genre):\n",
        "  print(f'{Genre.index[idx]}: {val}') "
      ],
      "execution_count": null,
      "outputs": []
    },
    {
      "cell_type": "code",
      "metadata": {
        "id": "0NfuMaoQlTg9"
      },
      "source": [
        "df[\"Genre\"].value_counts().reset_index(name=\"count\").query(\"count > 100\")#[\"index\"].tolist()"
      ],
      "execution_count": null,
      "outputs": []
    },
    {
      "cell_type": "code",
      "metadata": {
        "id": "mx6TvtO_ugm-"
      },
      "source": [
        "df[\"Genre\"].replace({\"crime drama\": \"crime\", \"sci-fi\": \"science fiction\", \"romantic comedy\": \"romance\", \"comedy, drama\": \"comedy\", \"musical comedy\": \"musical\",\n",
        "                     \"comedy-drama\": \"comedy\", \"anime\": \"animated\", \"romantic drama\": \"romance\", \"comedy drama\": \"comedy\"}, inplace=True)"
      ],
      "execution_count": null,
      "outputs": []
    },
    {
      "cell_type": "code",
      "metadata": {
        "id": "vZvn9BEOviRB"
      },
      "source": [
        "df[\"Genre\"].value_counts().reset_index(name=\"count\").query(\"count > 100\")"
      ],
      "execution_count": null,
      "outputs": []
    },
    {
      "cell_type": "code",
      "metadata": {
        "id": "Def5-yMjyndj"
      },
      "source": [
        "df[\"Genre\"].value_counts().reset_index(name=\"count\").query(\"count > 100\")[\"index\"].tolist()"
      ],
      "execution_count": null,
      "outputs": []
    },
    {
      "cell_type": "code",
      "metadata": {
        "id": "O2WdzVofvqL8"
      },
      "source": [
        "idxs = dict()\n",
        "for genre in df[\"Genre\"].value_counts().reset_index(name=\"count\").query(\"count > 100\")[\"index\"].tolist():\n",
        "  for sml_gen in df[\"Genre\"].value_counts().reset_index(name=\"count\").query(\"count <= 100\")[\"index\"].tolist():\n",
        "    if genre in sml_gen:\n",
        "      if sml_gen not in idxs.keys():\n",
        "        idxs[sml_gen] = genre\n",
        "idxs "
      ],
      "execution_count": null,
      "outputs": []
    },
    {
      "cell_type": "code",
      "metadata": {
        "id": "0AScSALOz9Bp"
      },
      "source": [
        "df[\"Genre\"].replace(idxs, inplace=True)\n",
        "df[\"Genre\"].value_counts().reset_index(name=\"count\").query(\"count > 100\")"
      ],
      "execution_count": null,
      "outputs": []
    },
    {
      "cell_type": "code",
      "metadata": {
        "id": "VUs8-lHt0Kye"
      },
      "source": [
        "df[\"Genre\"].value_counts().reset_index(name=\"count\")"
      ],
      "execution_count": null,
      "outputs": []
    },
    {
      "cell_type": "code",
      "metadata": {
        "id": "pAF6dseL0z_C"
      },
      "source": [
        "df[\"Genre\"].value_counts().reset_index(name=\"count\").query(\"count <= 100\")[\"index\"]"
      ],
      "execution_count": null,
      "outputs": []
    },
    {
      "cell_type": "code",
      "metadata": {
        "id": "8L9GE5GF5MkG"
      },
      "source": [
        "drop_indexs = list(df[df[\"Genre\"] == \"unknown\" ].index)\n",
        "for gen in df[\"Genre\"].value_counts().reset_index(name=\"count\").query(\"count <= 100\")[\"index\"]:\n",
        "  drop_indexs.extend(list(df[df[\"Genre\"] == gen].index))\n",
        "\n",
        "df.drop(drop_indexs, inplace=True)\n",
        "print(f\"Количество удаленных эелементов: {len(drop_indexs)}\")"
      ],
      "execution_count": null,
      "outputs": []
    },
    {
      "cell_type": "code",
      "metadata": {
        "id": "LadZgyfDXkrc"
      },
      "source": [
        "encoder = LabelEncoder()\n",
        "\n",
        "df['Genre_label'] = encoder.fit_transform(df['Genre'])\n",
        "df.head()"
      ],
      "execution_count": null,
      "outputs": []
    },
    {
      "cell_type": "code",
      "metadata": {
        "id": "KA_XmTEJ9wZY"
      },
      "source": [
        "df.index = [i for i in range(len(df))]\n",
        "df_work = df[['Genre', 'Genre_label', 'Plot', 'Plot_new']]\n",
        "df_work.to_csv('/content/drive/MyDrive/datasets/DTZ_concl_dataset.csv')\n",
        "display(df_work.head())\n",
        "df_work.shape"
      ],
      "execution_count": null,
      "outputs": []
    },
    {
      "cell_type": "code",
      "metadata": {
        "id": "8mfYp36MXlP6"
      },
      "source": [
        "def count_val(data, col):\n",
        "    if data[col].nunique() > 20:\n",
        "        fig, ax = plt.subplots(figsize=(20, 10))\n",
        "    sns.countplot(data = data, x = col)\n",
        "    plt.xticks(rotation=90)\n",
        "    plt.title(f'Количество данных в разрезе признака {col}')\n",
        "    plt.show()"
      ],
      "execution_count": null,
      "outputs": []
    },
    {
      "cell_type": "code",
      "metadata": {
        "id": "BBD4cCk-XlMo"
      },
      "source": [
        "count_val(df_work, 'Genre')"
      ],
      "execution_count": null,
      "outputs": []
    },
    {
      "cell_type": "code",
      "metadata": {
        "id": "Hd5tSYt9-xDR"
      },
      "source": [
        "df_work[\"Genre\"].value_counts().reset_index(name=\"count\").query(\"count > 100\")#[\"index\"]"
      ],
      "execution_count": null,
      "outputs": []
    },
    {
      "cell_type": "code",
      "metadata": {
        "id": "uz3n4gg164R4"
      },
      "source": [
        "for col in df_work.columns:\n",
        "   #if col not in ['Plot', 'Plot_new']:\n",
        "  print(f'Количество уникальных значениц для поля {col}: {df_work[col].nunique()}')\n",
        "  print(f'Количество элементов в столбце:')\n",
        "  print(df_work[col].value_counts())"
      ],
      "execution_count": null,
      "outputs": []
    },
    {
      "cell_type": "markdown",
      "metadata": {
        "id": "f2BA5PmFFiyZ"
      },
      "source": [
        "# Работа с Моделями"
      ]
    },
    {
      "cell_type": "code",
      "metadata": {
        "colab": {
          "base_uri": "https://localhost:8080/",
          "height": 221
        },
        "id": "AqDZFdF5BA-a",
        "outputId": "c00f5932-f0f0-4143-e065-9e6984a39f2b"
      },
      "source": [
        " = pd.read_csv('/content/drive/MyDrive/datasets/DTZ_concl_dataset.csv')\n",
        "display(df_work.head())\n",
        "df_work.shape"
      ],
      "execution_count": 7,
      "outputs": [
        {
          "output_type": "display_data",
          "data": {
            "text/html": [
              "<div>\n",
              "<style scoped>\n",
              "    .dataframe tbody tr th:only-of-type {\n",
              "        vertical-align: middle;\n",
              "    }\n",
              "\n",
              "    .dataframe tbody tr th {\n",
              "        vertical-align: top;\n",
              "    }\n",
              "\n",
              "    .dataframe thead th {\n",
              "        text-align: right;\n",
              "    }\n",
              "</style>\n",
              "<table border=\"1\" class=\"dataframe\">\n",
              "  <thead>\n",
              "    <tr style=\"text-align: right;\">\n",
              "      <th></th>\n",
              "      <th>Unnamed: 0</th>\n",
              "      <th>Genre</th>\n",
              "      <th>Genre_label</th>\n",
              "      <th>Plot</th>\n",
              "      <th>Plot_new</th>\n",
              "    </tr>\n",
              "  </thead>\n",
              "  <tbody>\n",
              "    <tr>\n",
              "      <th>0</th>\n",
              "      <td>0</td>\n",
              "      <td>western</td>\n",
              "      <td>19</td>\n",
              "      <td>the film opens with two bandits breaking into ...</td>\n",
              "      <td>film open two bandits break railroad telegraph...</td>\n",
              "    </tr>\n",
              "    <tr>\n",
              "      <th>1</th>\n",
              "      <td>1</td>\n",
              "      <td>comedy</td>\n",
              "      <td>5</td>\n",
              "      <td>the film is about a family who move to the sub...</td>\n",
              "      <td>film family move suburbs , hop quiet life . th...</td>\n",
              "    </tr>\n",
              "    <tr>\n",
              "      <th>2</th>\n",
              "      <td>2</td>\n",
              "      <td>action</td>\n",
              "      <td>0</td>\n",
              "      <td>the film features a train traveling through th...</td>\n",
              "      <td>film feature train travel rockies hold create ...</td>\n",
              "    </tr>\n",
              "    <tr>\n",
              "      <th>3</th>\n",
              "      <td>3</td>\n",
              "      <td>comedy</td>\n",
              "      <td>5</td>\n",
              "      <td>before heading out to a baseball game at a nea...</td>\n",
              "      <td>head baseball game nearby ballpark , sport fan...</td>\n",
              "    </tr>\n",
              "    <tr>\n",
              "      <th>4</th>\n",
              "      <td>4</td>\n",
              "      <td>comedy</td>\n",
              "      <td>5</td>\n",
              "      <td>the plot is that of a black woman going to the...</td>\n",
              "      <td>plot black woman go dentist toothache give lau...</td>\n",
              "    </tr>\n",
              "  </tbody>\n",
              "</table>\n",
              "</div>"
            ],
            "text/plain": [
              "   Unnamed: 0  ...                                           Plot_new\n",
              "0           0  ...  film open two bandits break railroad telegraph...\n",
              "1           1  ...  film family move suburbs , hop quiet life . th...\n",
              "2           2  ...  film feature train travel rockies hold create ...\n",
              "3           3  ...  head baseball game nearby ballpark , sport fan...\n",
              "4           4  ...  plot black woman go dentist toothache give lau...\n",
              "\n",
              "[5 rows x 5 columns]"
            ]
          },
          "metadata": {
            "tags": []
          }
        },
        {
          "output_type": "execute_result",
          "data": {
            "text/plain": [
              "(27394, 5)"
            ]
          },
          "metadata": {
            "tags": []
          },
          "execution_count": 7
        }
      ]
    },
    {
      "cell_type": "code",
      "metadata": {
        "colab": {
          "base_uri": "https://localhost:8080/"
        },
        "id": "9Xew-jz2PZ2c",
        "outputId": "204ef1e9-17f5-4f67-8a17-3b29161af81c"
      },
      "source": [
        "df_work['Genre'].value_counts()"
      ],
      "execution_count": 8,
      "outputs": [
        {
          "output_type": "execute_result",
          "data": {
            "text/plain": [
              "drama              8432\n",
              "comedy             6328\n",
              "romance            1787\n",
              "action             1672\n",
              "horror             1380\n",
              "thriller           1192\n",
              "crime              1157\n",
              "western             897\n",
              "musical             676\n",
              "science fiction     668\n",
              "adventure           609\n",
              "animated            493\n",
              "war                 389\n",
              "film noir           345\n",
              "mystery             318\n",
              "animation           293\n",
              "family              267\n",
              "fantasy             243\n",
              "biography           144\n",
              "suspense            104\n",
              "Name: Genre, dtype: int64"
            ]
          },
          "metadata": {
            "tags": []
          },
          "execution_count": 8
        }
      ]
    },
    {
      "cell_type": "code",
      "metadata": {
        "colab": {
          "base_uri": "https://localhost:8080/"
        },
        "id": "qqB1OMMkXkuX",
        "outputId": "ca0c0ff1-fc7d-472d-8dde-abee3a106979"
      },
      "source": [
        "X_train, X_test, y_train, y_test = train_test_split(df_work['Plot_new'], df_work['Genre_label'], test_size = 0.2, stratify = df_work['Genre_label'])\n",
        "X_train.shape, y_train.shape, X_test.shape, y_test.shape"
      ],
      "execution_count": 5,
      "outputs": [
        {
          "output_type": "execute_result",
          "data": {
            "text/plain": [
              "((21915,), (21915,), (5479,), (5479,))"
            ]
          },
          "metadata": {
            "tags": []
          },
          "execution_count": 5
        }
      ]
    },
    {
      "cell_type": "code",
      "metadata": {
        "id": "Xcaz0XTViTNG"
      },
      "source": [
        "class Vocab:\n",
        "  def __init__(self, data):\n",
        "    lemat = WordNetLemmatizer()\n",
        "    \n",
        "    tokens = [] # Все слова в словаре\n",
        "    for txt in data:\n",
        "      for sent in sent_tokenize(txt): # лексемазация предложения\n",
        "        for word in word_tokenize(sent): # лексемазация слов\n",
        "          tokens.append(lemat.lemmatize(word,  pos = 'v'))\n",
        "    \n",
        "    self.max_seq_len = max([len(word_tokenize(txt)) for txt in data]) # максимальная длина одного отзыва\n",
        "\n",
        "    tokens = set(tokens)\n",
        "\n",
        "    self.idx_to_token = {(idx + 2): token for idx, token in enumerate(tokens)}\n",
        "    self.idx_to_token[0] = '<PAD>'\n",
        "    self.idx_to_token[1] = '<UNK>'\n",
        "    self.UNK = 1\n",
        "    self.token_to_idx = {token: idx for idx, token in self.idx_to_token.items()} # токен слово\n",
        "    self.vocab_len = len(self.idx_to_token)"
      ],
      "execution_count": 6,
      "outputs": []
    },
    {
      "cell_type": "code",
      "metadata": {
        "colab": {
          "base_uri": "https://localhost:8080/"
        },
        "id": "M-_33aCOiUeH",
        "outputId": "b68d6e73-d688-43f7-bab3-8ac4fa796edf"
      },
      "source": [
        "vocab = Vocab(X_train)\n",
        "vocab.max_seq_len, vocab.vocab_len"
      ],
      "execution_count": 7,
      "outputs": [
        {
          "output_type": "execute_result",
          "data": {
            "text/plain": [
              "(3362, 93598)"
            ]
          },
          "metadata": {
            "tags": []
          },
          "execution_count": 7
        }
      ]
    },
    {
      "cell_type": "code",
      "metadata": {
        "colab": {
          "base_uri": "https://localhost:8080/"
        },
        "id": "7Eo0ZKxBiUbe",
        "outputId": "33c294c8-38d9-4b8c-f0c3-fc4baec74920"
      },
      "source": [
        "vocab.token_to_idx['<UNK>'], vocab.token_to_idx['<PAD>']"
      ],
      "execution_count": 8,
      "outputs": [
        {
          "output_type": "execute_result",
          "data": {
            "text/plain": [
              "(1, 0)"
            ]
          },
          "metadata": {
            "tags": []
          },
          "execution_count": 8
        }
      ]
    },
    {
      "cell_type": "code",
      "metadata": {
        "id": "7DeHAL4oiUY7"
      },
      "source": [
        "class ReviewMovieDataset(Dataset):\n",
        "  def __init__(self, X, y, vocab: Vocab):\n",
        "    self.X = X\n",
        "    self.y = y\n",
        "    self.vocab = vocab\n",
        "\n",
        "  def vectorize(self, review):\n",
        "\n",
        "    # ДОПОЛНИТЬ НУЛЯМИ CЗАДИ\n",
        "    review_t = torch.zeros(self.vocab.max_seq_len, dtype = int)\n",
        "    \n",
        "    for idx, word in enumerate(word_tokenize(review)):\n",
        "        if word in self.vocab.token_to_idx.keys():\n",
        "          review_t[idx] = self.vocab.token_to_idx[word]\n",
        "        else:\n",
        "          review_t[idx] = self.vocab.token_to_idx['<UNK>']\n",
        "    \n",
        "    return review_t\n",
        "\n",
        "  def __len__(self):\n",
        "    return len(self.X)\n",
        "\n",
        "  def __getitem__(self, idx):\n",
        "    return self.vectorize(self.X[idx]), self.y[idx]"
      ],
      "execution_count": 9,
      "outputs": []
    },
    {
      "cell_type": "code",
      "metadata": {
        "colab": {
          "base_uri": "https://localhost:8080/"
        },
        "id": "bvWylEjIiTyz",
        "outputId": "1df251f7-efe9-45eb-f0dd-e35b8a3bcf74"
      },
      "source": [
        "dataset_train = ReviewMovieDataset(list(X_train), list(y_train), vocab)\n",
        "dataset_train[0]"
      ],
      "execution_count": 10,
      "outputs": [
        {
          "output_type": "execute_result",
          "data": {
            "text/plain": [
              "(tensor([92615, 37439, 68427,  ...,     0,     0,     0]), 7)"
            ]
          },
          "metadata": {
            "tags": []
          },
          "execution_count": 10
        }
      ]
    },
    {
      "cell_type": "markdown",
      "metadata": {
        "id": "rl2TovL1TGxP"
      },
      "source": [
        "# Fully Connected"
      ]
    },
    {
      "cell_type": "code",
      "metadata": {
        "id": "OMT-Ff-1iTvy"
      },
      "source": [
        "class ModelSimple(nn.Module):\n",
        "  def __init__(self, input_size, hidden_size, n_classes):\n",
        "    super().__init__()\n",
        "    self.layer1 = nn.Sequential(nn.Linear(input_size, hidden_size),\n",
        "                                nn.BatchNorm1d(hidden_size),\n",
        "                                nn.ReLU())\n",
        "                                # nn.Dropout())\n",
        "    # self.layer2 = nn.Sequential(nn.Linear(hidden_size, hidden_size),\n",
        "    #                             nn.BatchNorm1d(hidden_size),\n",
        "    #                             nn.ReLU())\n",
        "    self.layer2 = nn.Sequential(nn.Linear(hidden_size, int(hidden_size/2)),\n",
        "                                nn.BatchNorm1d(int(hidden_size/2)),\n",
        "                                nn.ReLU())\n",
        "    self.layer3 = nn.Sequential(nn.Linear(int(hidden_size/2), int(hidden_size/2)),\n",
        "                                nn.BatchNorm1d(int(hidden_size/2)),\n",
        "                                nn.ReLU())\n",
        "    self.layer4 = nn.Sequential(nn.Linear(int(hidden_size/2), int(hidden_size/4)),\n",
        "                                nn.BatchNorm1d(int(hidden_size/4)),\n",
        "                                nn.ReLU())\n",
        "    self.layer5 = nn.Sequential(nn.Linear(int(hidden_size/4), int(hidden_size/8)),\n",
        "                                nn.BatchNorm1d(int(hidden_size/8)),\n",
        "                                nn.ReLU())\n",
        "    self.layer6 = nn.Linear(int(hidden_size/8), n_classes)\n",
        "\n",
        "  def forward(self, X):\n",
        "    out = self.layer1(X)\n",
        "    out = self.layer2(out)\n",
        "    out = self.layer3(out)\n",
        "    out = self.layer4(out)\n",
        "    out = self.layer5(out)\n",
        "    out = self.layer6(out)\n",
        "    return out"
      ],
      "execution_count": null,
      "outputs": []
    },
    {
      "cell_type": "code",
      "metadata": {
        "colab": {
          "base_uri": "https://localhost:8080/"
        },
        "id": "DFxOvzuKv8ZD",
        "outputId": "8caacce9-cf32-462d-f598-0a7bdc16f28c"
      },
      "source": [
        "df_work['Genre_label'].nunique(), y_train.nunique(), y_test.nunique() "
      ],
      "execution_count": null,
      "outputs": [
        {
          "output_type": "execute_result",
          "data": {
            "text/plain": [
              "(20, 20, 20)"
            ]
          },
          "metadata": {
            "tags": []
          },
          "execution_count": 14
        }
      ]
    },
    {
      "cell_type": "code",
      "metadata": {
        "colab": {
          "base_uri": "https://localhost:8080/"
        },
        "id": "2bmnVDmdSFEg",
        "outputId": "2929c025-66a2-41f8-b539-a33d967981d0"
      },
      "source": [
        "df_work['Genre_label'].value_counts()"
      ],
      "execution_count": null,
      "outputs": [
        {
          "output_type": "execute_result",
          "data": {
            "text/plain": [
              "7     8432\n",
              "5     6328\n",
              "14    1787\n",
              "0     1672\n",
              "11    1380\n",
              "17    1192\n",
              "6     1157\n",
              "19     897\n",
              "12     676\n",
              "15     668\n",
              "1      609\n",
              "2      493\n",
              "18     389\n",
              "10     345\n",
              "13     318\n",
              "3      293\n",
              "8      267\n",
              "9      243\n",
              "4      144\n",
              "16     104\n",
              "Name: Genre_label, dtype: int64"
            ]
          },
          "metadata": {
            "tags": []
          },
          "execution_count": 15
        }
      ]
    },
    {
      "cell_type": "code",
      "metadata": {
        "id": "4zeLjMoKiTtL",
        "colab": {
          "base_uri": "https://localhost:8080/"
        },
        "outputId": "3e244745-1e46-44c7-e621-355123cd6d16"
      },
      "source": [
        "%%time\n",
        "dataset_train = ReviewMovieDataset(list(X_train), list(y_train), vocab)\n",
        "\n",
        "train_size = int(np.floor(0.8 * len(dataset_train)))\n",
        "val_size = len(dataset_train) - train_size\n",
        "\n",
        "train_dataset, test_dataset = random_split(dataset_train, [train_size, val_size])\n",
        "\n",
        "train_data = DataLoader(train_dataset, batch_size = 32, shuffle = True)\n",
        "validation = DataLoader(test_dataset, batch_size = 32, shuffle = True)\n",
        "\n",
        "input_size = vocab.max_seq_len\n",
        "hidden_size = 512\n",
        "n_classes = df_work['Genre_label'].nunique()\n",
        "\n",
        "device = torch.device('cuda' if torch.cuda.is_available() else 'cpu')\n",
        "\n",
        "model_simple = ModelSimple(input_size, hidden_size, n_classes).to(device = device)\n",
        "criteriation = nn.CrossEntropyLoss()\n",
        "optimizare = optim.Adam(model_simple.parameters(), lr = 0.001)\n",
        "\n",
        "early_stop = EarlyStopping(patience = 3, verbose = False, delta = 0.0)\n",
        "\n",
        "n_epochs = 500\n",
        "\n",
        "history_loss = list()\n",
        "history_loss_val = list()\n",
        "history_epochs = list()\n",
        "\n",
        "for epoch in range(1, n_epochs + 1):\n",
        "  loss_train = 0\n",
        "  loss_val = 0\n",
        "\n",
        "  # model.train()\n",
        "  for X_batch, y_batch in train_data:\n",
        "    X_batch, y_batch = X_batch.to(device = device).float(), y_batch.to(device = device)\n",
        "                                                              \n",
        "    out = model_simple(X_batch)\n",
        "\n",
        "    loss = criteriation(out, y_batch)\n",
        "    loss_train += loss\n",
        "\n",
        "    loss.backward()\n",
        "    optimizare.step()\n",
        "    optimizare.zero_grad()\n",
        "\n",
        "  # model.eval()\n",
        "  with torch.no_grad():\n",
        "    for X_val, y_val in validation:\n",
        "      X_val, y_val = X_val.to(device = device).float(), y_val.to(device = device)\n",
        "      out = model_simple(X_val)\n",
        "      loss = criteriation(out, y_val)\n",
        "      loss_val += loss\n",
        "\n",
        "  history_loss.append(loss_train/len(train_data))\n",
        "  history_loss_val.append(loss_val/len(validation))\n",
        "  history_epochs.append(epoch)\n",
        "\n",
        "  if epoch % 2 == 0:\n",
        "    print(f'Epoch: [{epoch}/{n_epochs}]: Loss_Train = {history_loss[-1]}; Loss_Validation = {history_loss_val[-1]}')\n",
        "\n",
        "  early_stop(history_loss_val[-1], model_simple)\n",
        "  \n",
        "  if early_stop.early_stop:\n",
        "      print(f\"Early stopping on epoch: [{epoch}/{n_epochs}] with Loss_Train = {history_loss[-1]}; Loss_Validation = {history_loss_val[-1]}\")\n",
        "      break\n",
        "\n",
        "torch.save(model_simple, '/content/drive/MyDrive/models/DTZ_ModelSimple_NotEmb.pth')"
      ],
      "execution_count": null,
      "outputs": [
        {
          "output_type": "stream",
          "text": [
            "Epoch: [2/500]: Loss_Train = 2.24751877784729; Loss_Validation = 2.26870059967041\n",
            "EarlyStopping counter: 1 out of 3\n",
            "Epoch: [4/500]: Loss_Train = 2.2361536026000977; Loss_Validation = 2.2630257606506348\n",
            "EarlyStopping counter: 1 out of 3\n",
            "Epoch: [6/500]: Loss_Train = 2.2195956707000732; Loss_Validation = 2.287644624710083\n",
            "EarlyStopping counter: 2 out of 3\n",
            "EarlyStopping counter: 3 out of 3\n",
            "Early stopping on epoch: [7/500] with Loss_Train = 2.2130095958709717; Loss_Validation = 2.2908570766448975\n",
            "CPU times: user 6min 59s, sys: 1.52 s, total: 7min\n",
            "Wall time: 6min 59s\n"
          ],
          "name": "stdout"
        }
      ]
    },
    {
      "cell_type": "code",
      "metadata": {
        "id": "kp4OEQqDiTo0",
        "colab": {
          "base_uri": "https://localhost:8080/",
          "height": 497
        },
        "outputId": "ccf7d2db-3cb1-48f8-839f-9042682a4f06"
      },
      "source": [
        "fig, ax = plt.subplots(figsize = (10, 8))\n",
        "plt.plot(history_epochs, history_loss, label = 'train_loss')\n",
        "plt.plot(history_epochs, history_loss_val, label = 'val_loss')\n",
        "plt.xlabel('Epoch')\n",
        "plt.ylabel('Loss')\n",
        "plt.legend()\n",
        "plt.grid();"
      ],
      "execution_count": null,
      "outputs": [
        {
          "output_type": "display_data",
          "data": {
            "image/png": "[encoded data removed]",
            "text/plain": [
              "<Figure size 720x576 with 1 Axes>"
            ]
          },
          "metadata": {
            "tags": [],
            "needs_background": "light"
          }
        }
      ]
    },
    {
      "cell_type": "code",
      "metadata": {
        "id": "Iflpa6HkiTlt",
        "colab": {
          "base_uri": "https://localhost:8080/"
        },
        "outputId": "dc5477a3-8722-41ac-868c-6e8e69a39d1f"
      },
      "source": [
        "dataset_test = ReviewMovieDataset(list(X_test), list(y_test), vocab)\n",
        "test = DataLoader(dataset_test, batch_size = len(dataset_test), shuffle = True)\n",
        "\n",
        "correct, total = 0, 0\n",
        "\n",
        "model_simple.eval()\n",
        "with torch.no_grad():\n",
        "  for X_tst, y_tst in test:\n",
        "    X_tst, y_tst = X_tst.to(device = device).float(), y_tst.to(device = device)\n",
        "\n",
        "    out = model_simple(X_tst)\n",
        "    _, predicted = torch.max(out, dim = 1)\n",
        "    total += y_tst.shape[0]\n",
        "    correct += int((predicted == y_tst).sum())\n",
        "\n",
        "    f1 = f1_score(y_tst.to(device = 'cpu').numpy(), predicted.to(device = 'cpu').numpy(), average='weighted') # weighted, т.к. дисбаланс классов\n",
        "\n",
        "f1_model_simple = f1\n",
        "print(f'Accuracy = {correct/total}')\n",
        "print(f'F1 = {f1}')"
      ],
      "execution_count": null,
      "outputs": [
        {
          "output_type": "stream",
          "text": [
            "Accuracy = 0.30717284175944515\n",
            "F1 = 0.15979338145925087\n"
          ],
          "name": "stdout"
        }
      ]
    },
    {
      "cell_type": "markdown",
      "metadata": {
        "id": "ccr6f5D9TN0w"
      },
      "source": [
        "# Convalution"
      ]
    },
    {
      "cell_type": "code",
      "metadata": {
        "id": "enr-2ew_iTh-"
      },
      "source": [
        "class CNNReviewMovieNet(nn.Module):\n",
        "  def __init__(self, vocab_size, embedding_dim, n_classes, pretrained_embeddings = []):\n",
        "    super().__init__()\n",
        "\n",
        "    if len(pretrained_embeddings) > 0:\n",
        "      self.embeddings = nn.Embedding.from_pretrained(pretrained_embeddings)\n",
        "    else:\n",
        "      self.embeddings = nn.Embedding(vocab_size, embedding_dim)\n",
        "\n",
        "    self.cnn1 = nn.Sequential(nn.Conv1d(embedding_dim, 1024, kernel_size = 2),\n",
        "                                nn.BatchNorm1d(1024),\n",
        "                                nn.ReLU(),\n",
        "                                nn.MaxPool1d(2))\n",
        "    \n",
        "    self.cnn2 = nn.Sequential(nn.Conv1d(1024, 1024, 2),\n",
        "                                nn.BatchNorm1d(1024),\n",
        "                                nn.ReLU(),\n",
        "                                nn.MaxPool1d(2))\n",
        "\n",
        "    self.cnn3 = nn.Sequential(nn.Conv1d(1024, 512, 2),\n",
        "                                nn.BatchNorm1d(512),\n",
        "                                nn.ReLU(),\n",
        "                                nn.MaxPool1d(2))\n",
        "    \n",
        "    self.fc = nn.Sequential(nn.Flatten(),\n",
        "                            nn.Linear(512*419, 256), #839\n",
        "                            nn.BatchNorm1d(256),\n",
        "                            nn.ReLU(),\n",
        "                            nn.Linear(256, 128),\n",
        "                            nn.BatchNorm1d(128),\n",
        "                            nn.Linear(128, 64),\n",
        "                            nn.BatchNorm1d(64),\n",
        "                            nn.ReLU(),\n",
        "                            nn.Linear(64, 64),\n",
        "                            nn.BatchNorm1d(64),\n",
        "                            nn.ReLU(),\n",
        "                            nn.Linear(64, n_classes))\n",
        "    \n",
        "  def forward(self, input):\n",
        "    embed = self.embeddings(input).permute(0, 2, 1) \n",
        "    # print(embed.shape)\n",
        "    out = self.cnn1(embed)\n",
        "    out = self.cnn2(out)\n",
        "    out = self.cnn3(out)\n",
        "    # print(out.shape)\n",
        "    out = self.fc(out)\n",
        "    return out"
      ],
      "execution_count": null,
      "outputs": []
    },
    {
      "cell_type": "code",
      "metadata": {
        "colab": {
          "base_uri": "https://localhost:8080/"
        },
        "id": "9QmQh9AUTDjU",
        "outputId": "c169f1f1-ee91-472a-884d-7f051d1e1121"
      },
      "source": [
        "dataset_train = ReviewMovieDataset(list(X_train), list(y_train), vocab)\n",
        "\n",
        "train_size = int(np.floor(0.8 * len(dataset_train)))\n",
        "val_size = len(dataset_train) - train_size\n",
        "\n",
        "train_dataset, test_dataset = random_split(dataset_train, [train_size, val_size])\n",
        "\n",
        "train_data = DataLoader(train_dataset, batch_size = 32, shuffle = True)\n",
        "validation = DataLoader(test_dataset, batch_size = 32, shuffle = True)\n",
        "\n",
        "vocab_size = vocab.vocab_len\n",
        "#hidden_size = 512\n",
        "embedding_dim = 200\n",
        "n_classes = df_work['Genre_label'].nunique()\n",
        "\n",
        "device = torch.device('cuda' if torch.cuda.is_available() else 'cpu')\n",
        "\n",
        "model_CNN  = CNNReviewMovieNet(vocab_size = vocab_size, embedding_dim = embedding_dim, n_classes = n_classes).to(device = device)\n",
        "criteriation = nn.CrossEntropyLoss()\n",
        "optimazer = optim.Adam(model_CNN.parameters(), lr = 0.001, weight_decay = 5*10**(-4))\n",
        "\n",
        "early_stop = EarlyStopping(patience = 3, verbose = False, delta = 0.00001)\n",
        "\n",
        "loss_history = list()\n",
        "history_loss_val = list()\n",
        "epochs_history = list()\n",
        "\n",
        "n_epochs = 500\n",
        "\n",
        "for epoch in range(1, n_epochs + 1):\n",
        "  loss_batch = 0\n",
        "  loss_val = 0\n",
        "\n",
        "  for X_batch, y_batch in train_data:\n",
        "    X_batch, y_batch = X_batch.to(device = device), y_batch.to(device = device)\n",
        "    out = model_CNN(X_batch)\n",
        "\n",
        "    cur_loss = criteriation(out, y_batch)\n",
        "    loss_batch += cur_loss\n",
        "\n",
        "    cur_loss.backward()\n",
        "    optimazer.step()\n",
        "    optimazer.zero_grad()\n",
        "\n",
        "  loss_history.append(loss_batch/len(train_data))\n",
        "  epochs_history.append(epoch)\n",
        "\n",
        "  # model.eval()\n",
        "  with torch.no_grad():\n",
        "    for X_val, y_val in validation:\n",
        "      X_val, y_val = X_val.to(device = device), y_val.to(device = device)\n",
        "      out = model_CNN(X_val)\n",
        "\n",
        "      loss = criteriation(out, y_val)\n",
        "      loss_val += loss\n",
        "\n",
        "  history_loss_val.append(loss_val/len(validation))\n",
        "\n",
        "  if epoch % 2:\n",
        "    print(f'Epoch: [{epoch}/{n_epochs}]: Loss_Train = {loss_history[-1]}, Loss_Val = {history_loss_val[-1]}')\n",
        "\n",
        "  early_stop(history_loss_val[-1], model_CNN)\n",
        "\n",
        "  if early_stop.early_stop: #and accuracy_val[-1] >= 0.7:\n",
        "      print(f\"Early stopping on epoch: [{epoch}/{n_epochs}] with Loss_Train = {loss_history[-1]}, Loss_Val = {history_loss_val[-1]}\")\n",
        "      break\n",
        "\n",
        "torch.save(model_CNN, '/content/drive/MyDrive/models/DTZ_CNN_NotEmb.pth')"
      ],
      "execution_count": null,
      "outputs": [
        {
          "output_type": "stream",
          "text": [
            "Epoch: [1/500]: Loss_Train = 2.293614387512207, Loss_Val = 2.182041645050049\n",
            "Epoch: [3/500]: Loss_Train = 2.101457357406616, Loss_Val = 2.0538787841796875\n",
            "Epoch: [5/500]: Loss_Train = 2.008213520050049, Loss_Val = 1.9874039888381958\n",
            "Epoch: [7/500]: Loss_Train = 1.9218549728393555, Loss_Val = 1.9730830192565918\n",
            "EarlyStopping counter: 1 out of 3\n",
            "Epoch: [9/500]: Loss_Train = 1.737924337387085, Loss_Val = 1.8702833652496338\n",
            "Epoch: [11/500]: Loss_Train = 1.4777159690856934, Loss_Val = 1.924179196357727\n",
            "EarlyStopping counter: 1 out of 3\n",
            "EarlyStopping counter: 2 out of 3\n",
            "Epoch: [13/500]: Loss_Train = 1.2209513187408447, Loss_Val = 2.1251306533813477\n",
            "EarlyStopping counter: 3 out of 3\n",
            "Early stopping on epoch: [13/500] with Loss_Train = 1.2209513187408447, Loss_Val = 2.1251306533813477\n"
          ],
          "name": "stdout"
        }
      ]
    },
    {
      "cell_type": "code",
      "metadata": {
        "colab": {
          "base_uri": "https://localhost:8080/",
          "height": 350
        },
        "id": "vLKJXqZVTDgK",
        "outputId": "c2466a5a-0c3b-44ae-d4c8-7b70ba740754"
      },
      "source": [
        "fig, ax = plt.subplots(figsize = (10, 5))\n",
        "plt.plot(epochs_history, loss_history, label = 'Train')\n",
        "plt.plot(epochs_history, history_loss_val, label = 'Test')\n",
        "plt.legend()\n",
        "plt.title('Loss for each epochs')\n",
        "plt.xlabel('Epochs')\n",
        "plt.ylabel('Loss')\n",
        "plt.grid()"
      ],
      "execution_count": null,
      "outputs": [
        {
          "output_type": "display_data",
          "data": {
            "image/png": "[encoded data removed]",
            "text/plain": [
              "<Figure size 720x360 with 1 Axes>"
            ]
          },
          "metadata": {
            "tags": [],
            "needs_background": "light"
          }
        }
      ]
    },
    {
      "cell_type": "code",
      "metadata": {
        "colab": {
          "base_uri": "https://localhost:8080/"
        },
        "id": "t6H-EvlvTDcY",
        "outputId": "ac78a6df-1af7-4122-f8ab-28708644cdf5"
      },
      "source": [
        "dataset_train = ReviewMovieDataset(list(X_test), list(y_test), vocab)\n",
        "train_data = DataLoader(dataset_train, batch_size = 32, shuffle = True)\n",
        "\n",
        "correct, total = 0, 0\n",
        "f1 = list()\n",
        "\n",
        "model_CNN.eval()\n",
        "with torch.no_grad():\n",
        "  for X_batch, y_batch in train_data:\n",
        "    X_batch, y_batch = X_batch.to(device = device), y_batch.to(device = device)\n",
        "    pred = model_CNN(X_batch)\n",
        "\n",
        "    _, predicted = torch.max(pred, dim = 1)\n",
        "    total += y_batch.shape[0]\n",
        "    correct += int((predicted == y_batch).sum())\n",
        "\n",
        "    f1_cur = f1_score(y_batch.to(device = 'cpu').numpy(), predicted.to(device = 'cpu').numpy(), average='weighted') # weighted, т.к. дисбаланс классов\n",
        "    f1.append(f1_cur)\n",
        "\n",
        "f1_CNN = sum(f1)/len(f1)\n",
        "print(f'Accuracy = {correct/total}')\n",
        "print(f'F1 = {f1_CNN}')"
      ],
      "execution_count": null,
      "outputs": [
        {
          "output_type": "stream",
          "text": [
            "Accuracy = 0.38346413579120275\n",
            "F1 = 0.3466898478073664\n"
          ],
          "name": "stdout"
        }
      ]
    },
    {
      "cell_type": "code",
      "metadata": {
        "colab": {
          "base_uri": "https://localhost:8080/"
        },
        "id": "hWq6HhDGmwvk",
        "outputId": "63688752-b35c-47ec-fdf3-6ce627e242b3"
      },
      "source": [
        "torch.load('/content/drive/MyDrive/models/DTZ_CNN_NotEmb.pth', map_location = device)"
      ],
      "execution_count": null,
      "outputs": [
        {
          "output_type": "execute_result",
          "data": {
            "text/plain": [
              "CNNReviewMovieNet(\n",
              "  (embeddings): Embedding(94095, 200)\n",
              "  (cnn1): Sequential(\n",
              "    (0): Conv1d(200, 1024, kernel_size=(2,), stride=(1,))\n",
              "    (1): BatchNorm1d(1024, eps=1e-05, momentum=0.1, affine=True, track_running_stats=True)\n",
              "    (2): ReLU()\n",
              "    (3): MaxPool1d(kernel_size=2, stride=2, padding=0, dilation=1, ceil_mode=False)\n",
              "  )\n",
              "  (cnn2): Sequential(\n",
              "    (0): Conv1d(1024, 1024, kernel_size=(2,), stride=(1,))\n",
              "    (1): BatchNorm1d(1024, eps=1e-05, momentum=0.1, affine=True, track_running_stats=True)\n",
              "    (2): ReLU()\n",
              "    (3): MaxPool1d(kernel_size=2, stride=2, padding=0, dilation=1, ceil_mode=False)\n",
              "  )\n",
              "  (cnn3): Sequential(\n",
              "    (0): Conv1d(1024, 512, kernel_size=(2,), stride=(1,))\n",
              "    (1): BatchNorm1d(512, eps=1e-05, momentum=0.1, affine=True, track_running_stats=True)\n",
              "    (2): ReLU()\n",
              "    (3): MaxPool1d(kernel_size=2, stride=2, padding=0, dilation=1, ceil_mode=False)\n",
              "  )\n",
              "  (fc): Sequential(\n",
              "    (0): Flatten(start_dim=1, end_dim=-1)\n",
              "    (1): Linear(in_features=214528, out_features=256, bias=True)\n",
              "    (2): BatchNorm1d(256, eps=1e-05, momentum=0.1, affine=True, track_running_stats=True)\n",
              "    (3): ReLU()\n",
              "    (4): Linear(in_features=256, out_features=128, bias=True)\n",
              "    (5): BatchNorm1d(128, eps=1e-05, momentum=0.1, affine=True, track_running_stats=True)\n",
              "    (6): Linear(in_features=128, out_features=64, bias=True)\n",
              "    (7): BatchNorm1d(64, eps=1e-05, momentum=0.1, affine=True, track_running_stats=True)\n",
              "    (8): ReLU()\n",
              "    (9): Linear(in_features=64, out_features=64, bias=True)\n",
              "    (10): BatchNorm1d(64, eps=1e-05, momentum=0.1, affine=True, track_running_stats=True)\n",
              "    (11): ReLU()\n",
              "    (12): Linear(in_features=64, out_features=20, bias=True)\n",
              "  )\n",
              ")"
            ]
          },
          "metadata": {
            "tags": []
          },
          "execution_count": 40
        }
      ]
    },
    {
      "cell_type": "markdown",
      "metadata": {
        "id": "ifpPwNB9W_Ay"
      },
      "source": [
        "# Recurrent layer"
      ]
    },
    {
      "cell_type": "code",
      "metadata": {
        "id": "X7tGBetXTDZ5"
      },
      "source": [
        "class RNNReviewMovieNet(nn.Module):\n",
        "  def __init__(self, vocab_size, embedding_dim, hidden_size, n_classes, residual = 'RNN', pretrained_embeddings = []):\n",
        "    super().__init__()\n",
        "\n",
        "    if len(pretrained_embeddings) > 0:\n",
        "      self.embeddings = nn.Embedding.from_pretrained(pretrained_embeddings)\n",
        "    else:\n",
        "      self.embeddings = nn.Embedding(vocab_size, embedding_dim)\n",
        "    \n",
        "    self.residual = residual.lower()\n",
        "\n",
        "    if self.residual == 'rnn':\n",
        "      self.rl = nn.RNN(input_size = embedding_dim, \n",
        "                        hidden_size = hidden_size,\n",
        "                        num_layers = 2, \n",
        "                        nonlinearity = 'relu',\n",
        "                        batch_first = True)\n",
        "                        # dropout = 0.5)\n",
        "      \n",
        "    elif self.residual == 'lstm':\n",
        "      self.rl = nn.LSTM(input_size = embedding_dim, \n",
        "                        hidden_size = hidden_size,\n",
        "                        num_layers = 2,\n",
        "                        batch_first = True)  \n",
        "                        # dropout = 0.5)    \n",
        "\n",
        "    elif self.residual == 'gru':\n",
        "      self.rl = nn.GRU(input_size = embedding_dim, \n",
        "                        hidden_size = hidden_size,\n",
        "                        num_layers = 2, \n",
        "                        batch_first = True) \n",
        "                        # dropout = 0.5)\n",
        "\n",
        "    # self.fc = nn.Linear(hidden_size, n_classes)\n",
        "    self.fc = nn.Sequential(nn.Flatten(),\n",
        "                            nn.Linear(hidden_size, 512),\n",
        "                            nn.BatchNorm1d(512),\n",
        "                            nn.ReLU(),\n",
        "                            nn.Linear(512, 256),\n",
        "                            nn.BatchNorm1d(256),\n",
        "                            nn.ReLU(),\n",
        "                            nn.Linear(256, 128),\n",
        "                            nn.BatchNorm1d(128),\n",
        "                            nn.ReLU(),\n",
        "                            nn.Linear(128, 64),\n",
        "                            nn.BatchNorm1d(64),\n",
        "                            nn.ReLU(),\n",
        "                            nn.Linear(64, n_classes))\n",
        "    \n",
        "  def forward(self, input):\n",
        "    embed = self.embeddings(input)\n",
        "    # print(embed.shape)\n",
        "    if self.residual == 'lstm':\n",
        "      out, (hn, cn) = self.rl(embed)\n",
        "      out = hn[0]\n",
        "    else:\n",
        "      out, hidden = self.rl(embed)\n",
        "      out = hidden[0]\n",
        "    # print(out.shape)\n",
        "    out = self.fc(out)\n",
        "    return out"
      ],
      "execution_count": 11,
      "outputs": []
    },
    {
      "cell_type": "markdown",
      "metadata": {
        "id": "OulQvcUQi3KU"
      },
      "source": [
        "RNN"
      ]
    },
    {
      "cell_type": "code",
      "metadata": {
        "colab": {
          "base_uri": "https://localhost:8080/"
        },
        "id": "HH3S_VMjTDYT",
        "outputId": "6ad7c26f-aae0-4821-81dd-ebbc37aadcc7"
      },
      "source": [
        "%%time\n",
        "dataset_train = ReviewMovieDataset(list(X_train), list(y_train), vocab)\n",
        "\n",
        "train_size = int(np.floor(0.8 * len(dataset_train)))\n",
        "val_size = len(dataset_train) - train_size\n",
        "\n",
        "train_dataset, test_dataset = random_split(dataset_train, [train_size, val_size])\n",
        "\n",
        "train_data = DataLoader(train_dataset, batch_size = 64, shuffle = True)\n",
        "validation = DataLoader(test_dataset, batch_size = 64, shuffle = True)\n",
        "\n",
        "vocab_size = vocab.vocab_len\n",
        "hidden_size = 128\n",
        "embedding_dim = 100\n",
        "n_classes = y_train.nunique()\n",
        "\n",
        "device = torch.device('cuda' if torch.cuda.is_available() else 'cpu')\n",
        "\n",
        "model_rnn  = RNNReviewMovieNet(vocab_size = vocab_size, \n",
        "                              embedding_dim = embedding_dim,\n",
        "                              hidden_size = hidden_size,\n",
        "                              n_classes = n_classes,\n",
        "                              residual = 'rnn').to(device = device)\n",
        "\n",
        "criteriation = nn.CrossEntropyLoss()\n",
        "optimazer = optim.Adam(model_rnn.parameters(), lr = 0.001, weight_decay = 5*10**(-4))\n",
        "\n",
        "early_stop = EarlyStopping(patience = 3, verbose = False, delta = 0)\n",
        "\n",
        "loss_history = list()\n",
        "history_loss_val = list()\n",
        "epochs_history = list()\n",
        "f1_val = list()\n",
        "\n",
        "n_epochs = 500\n",
        "\n",
        "for epoch in range(1, n_epochs + 1):\n",
        "  loss_batch = 0\n",
        "  loss_val = 0\n",
        "\n",
        "  for X_batch, y_batch in train_data:\n",
        "    X_batch, y_batch = X_batch.to(device = device), y_batch.to(device = device)\n",
        "    out = model_rnn(X_batch)\n",
        "\n",
        "    cur_loss = criteriation(out, y_batch)\n",
        "    loss_batch += cur_loss\n",
        "\n",
        "    cur_loss.backward()\n",
        "    optimazer.step()\n",
        "    optimazer.zero_grad()\n",
        "\n",
        "  loss_history.append(loss_batch/len(train_data))\n",
        "  epochs_history.append(epoch)\n",
        "\n",
        "  f1 = list()\n",
        "  with torch.no_grad():\n",
        "    for X_val, y_val in validation:\n",
        "      X_val, y_val = X_val.to(device = device), y_val.to(device = device)\n",
        "      out = model_rnn(X_val)\n",
        "\n",
        "      _, predicted = torch.max(out, dim = 1)\n",
        "\n",
        "      loss = criteriation(out, y_val)\n",
        "      loss_val += loss\n",
        "\n",
        "      f1.append(f1_score(y_val.to(device = 'cpu').numpy(), predicted.to(device = 'cpu').numpy(), average='weighted'))\n",
        "\n",
        "  history_loss_val.append(loss_val/len(validation))\n",
        "  f1_val.append(sum(f1)/len(f1))\n",
        "\n",
        "  if epoch % 2:\n",
        "    print(f'Epoch: [{epoch}/{n_epochs}]: Loss_Train = {loss_history[-1]}, Loss_Val = {history_loss_val[-1]}, F1_Val = {f1_val[-1]}')\n",
        "\n",
        "  early_stop(history_loss_val[-1], model_rnn)\n",
        "\n",
        "  if early_stop.early_stop:\n",
        "      print(f\"Early stopping on epoch: [{epoch}/{n_epochs}] with Loss_Train = {loss_history[-1]}, Loss_Val = {history_loss_val[-1]}, F1_Val = {f1_val[-1]}\")\n",
        "      break\n",
        "\n",
        "torch.save(model_rnn, '/content/drive/MyDrive/models/RNN_ReviewMoves_NotEmb.pth')"
      ],
      "execution_count": null,
      "outputs": [
        {
          "output_type": "stream",
          "text": [
            "Epoch: [1/500]: Loss_Train = 2.526355028152466, Loss_Val = 2.3197808265686035, F1_Val = 0.14924183403551405\n",
            "Epoch: [3/500]: Loss_Train = 2.2797152996063232, Loss_Val = 2.2765676975250244, F1_Val = 0.15019553011972936\n",
            "EarlyStopping counter: 1 out of 3\n",
            "Epoch: [5/500]: Loss_Train = 2.278440475463867, Loss_Val = 2.2781529426574707, F1_Val = 0.14910998577015508\n",
            "EarlyStopping counter: 2 out of 3\n",
            "EarlyStopping counter: 3 out of 3\n",
            "Early stopping on epoch: [6/500] with Loss_Train = 2.275106191635132, Loss_Val = 2.280552864074707, F1_Val = 0.15019500181028575\n",
            "CPU times: user 10min 38s, sys: 5.78 s, total: 10min 44s\n",
            "Wall time: 10min 50s\n"
          ],
          "name": "stdout"
        }
      ]
    },
    {
      "cell_type": "code",
      "metadata": {
        "colab": {
          "base_uri": "https://localhost:8080/",
          "height": 350
        },
        "id": "VRSd9AMXTDUP",
        "outputId": "d55c7b62-ad7a-4bc9-ddcd-c2ae3c9303ff"
      },
      "source": [
        "fig, ax = plt.subplots(figsize = (10, 5))\n",
        "plt.plot(epochs_history, loss_history, label = 'Train')\n",
        "plt.plot(epochs_history, history_loss_val, label = 'Validation')\n",
        "plt.legend()\n",
        "plt.title('Loss for each epochs')\n",
        "plt.xlabel('Epochs')\n",
        "plt.ylabel('Loss')\n",
        "plt.grid()"
      ],
      "execution_count": null,
      "outputs": [
        {
          "output_type": "display_data",
          "data": {
            "image/png": "[encoded data removed]",
            "text/plain": [
              "<Figure size 720x360 with 1 Axes>"
            ]
          },
          "metadata": {
            "tags": [],
            "needs_background": "light"
          }
        }
      ]
    },
    {
      "cell_type": "code",
      "metadata": {
        "colab": {
          "base_uri": "https://localhost:8080/",
          "height": 350
        },
        "id": "rd47Yx34TDRX",
        "outputId": "a7f777cf-00ce-420e-91e9-9277fccf1a9c"
      },
      "source": [
        "fig, ax = plt.subplots(figsize = (10, 5))\n",
        "plt.plot(epochs_history, f1_val, label = 'Test')\n",
        "plt.legend()\n",
        "plt.title('Accuracy for each epochs')\n",
        "plt.xlabel('Epochs')\n",
        "plt.ylabel('Accuracy')\n",
        "plt.grid()"
      ],
      "execution_count": null,
      "outputs": [
        {
          "output_type": "display_data",
          "data": {
            "image/png": "[encoded data removed]",
            "text/plain": [
              "<Figure size 720x360 with 1 Axes>"
            ]
          },
          "metadata": {
            "tags": [],
            "needs_background": "light"
          }
        }
      ]
    },
    {
      "cell_type": "code",
      "metadata": {
        "colab": {
          "base_uri": "https://localhost:8080/"
        },
        "id": "JWtpLjLATDH6",
        "outputId": "57352e82-f22b-420d-f056-2bd350cc675f"
      },
      "source": [
        "dataset_train = ReviewMovieDataset(list(X_test), list(y_test), vocab)\n",
        "train_data = DataLoader(dataset_train, batch_size = 32, shuffle = True)\n",
        "\n",
        "correct, total = 0, 0\n",
        "f1 = list()\n",
        "\n",
        "# model_rnn.eval()\n",
        "with torch.no_grad():\n",
        "  for X_batch, y_batch in train_data:\n",
        "    X_batch, y_batch = X_batch.to(device = device), y_batch.to(device = device)\n",
        "    pred = model_rnn(X_batch)\n",
        "\n",
        "    _, predicted = torch.max(pred, dim = 1)\n",
        "    total += y_batch.shape[0]\n",
        "    correct += int((predicted == y_batch).sum())\n",
        "\n",
        "    f1.append(f1_score(y_batch.to(device = 'cpu').numpy(), predicted.to(device = 'cpu').numpy(), average='weighted')) # weighted, т.к. дисбаланс классов\n",
        "\n",
        "f1_model_rnn = sum(f1)/len(f1)\n",
        "print(f'Accuracy: {correct/total}')\n",
        "print(f'F1: {f1_model_rnn}')"
      ],
      "execution_count": null,
      "outputs": [
        {
          "output_type": "stream",
          "text": [
            "Accuracy: 0.3077203869319219\n",
            "F1: 0.15031567033060833\n"
          ],
          "name": "stdout"
        }
      ]
    },
    {
      "cell_type": "markdown",
      "metadata": {
        "id": "D5kvkbMvjCUR"
      },
      "source": [
        "LSTM"
      ]
    },
    {
      "cell_type": "code",
      "metadata": {
        "id": "3nKLFx2HiTZD",
        "colab": {
          "base_uri": "https://localhost:8080/"
        },
        "outputId": "124dbeaf-18f2-421a-9b31-1db8bcf231de"
      },
      "source": [
        "dataset_train = ReviewMovieDataset(list(X_train), list(y_train), vocab)\n",
        "\n",
        "train_size = int(np.floor(0.8 * len(dataset_train)))\n",
        "val_size = len(dataset_train) - train_size\n",
        "\n",
        "train_dataset, test_dataset = random_split(dataset_train, [train_size, val_size])\n",
        "\n",
        "train_data = DataLoader(train_dataset, batch_size = 64, shuffle = True)\n",
        "validation = DataLoader(test_dataset, batch_size = 64, shuffle = True)\n",
        "\n",
        "vocab_size = vocab.vocab_len\n",
        "hidden_size = 128\n",
        "embedding_dim = 100\n",
        "n_classes = y_train.nunique()\n",
        "\n",
        "device = torch.device('cuda' if torch.cuda.is_available() else 'cpu')\n",
        "\n",
        "model_lstm  = RNNReviewMovieNet(vocab_size = vocab_size, \n",
        "                                embedding_dim = embedding_dim,\n",
        "                                hidden_size = hidden_size,\n",
        "                                n_classes = n_classes,\n",
        "                                residual = 'lstm').to(device = device)\n",
        "criteriation = nn.CrossEntropyLoss()\n",
        "optimazer = optim.Adam(model_lstm.parameters(), lr = 0.001, weight_decay = 5*10**(-4))\n",
        "\n",
        "early_stop = EarlyStopping(patience = 3, verbose = False, delta = 0.00001)\n",
        "\n",
        "loss_history = list()\n",
        "history_loss_val = list()\n",
        "epochs_history = list()\n",
        "f1_val = list()\n",
        "\n",
        "n_epochs = 500\n",
        "\n",
        "for epoch in range(1, n_epochs + 1):\n",
        "  loss_batch = 0\n",
        "  loss_val = 0\n",
        "\n",
        "  for X_batch, y_batch in train_data:\n",
        "    X_batch, y_batch = X_batch.to(device = device), y_batch.to(device = device)\n",
        "    out = model_lstm(X_batch)\n",
        "\n",
        "    # print(f'out: {out.shape}') # batch_size * n_classes\n",
        "    # print(f'y_batch: {y_batch.shape}') # batch_size * 1\n",
        "\n",
        "    cur_loss = criteriation(out, y_batch)\n",
        "    loss_batch += cur_loss\n",
        "\n",
        "    cur_loss.backward()\n",
        "    optimazer.step()\n",
        "    optimazer.zero_grad()\n",
        "\n",
        "  loss_history.append(loss_batch/len(train_data))\n",
        "  epochs_history.append(epoch)\n",
        "\n",
        "  f1 = list()\n",
        "  with torch.no_grad():\n",
        "    for X_val, y_val in validation:\n",
        "      X_val, y_val = X_val.to(device = device), y_val.to(device = device)\n",
        "      out = model_lstm(X_val)\n",
        "\n",
        "      _, predicted = torch.max(out, dim = 1)\n",
        "\n",
        "      loss = criteriation(out, y_val)\n",
        "      loss_val += loss\n",
        "\n",
        "      f1.append(f1_score(y_val.to(device = 'cpu').numpy(), predicted.to(device = 'cpu').numpy(), average='weighted'))\n",
        "\n",
        "  history_loss_val.append(loss_val/len(validation))\n",
        "  f1_val.append(sum(f1)/len(f1))\n",
        "\n",
        "  if epoch % 2:\n",
        "    print(f'Epoch: [{epoch}/{n_epochs}]: Loss_Train = {loss_history[-1]}, Loss_Val = {history_loss_val[-1]}, F1_Val = {f1_val[-1]}')\n",
        "\n",
        "  early_stop(history_loss_val[-1], model_lstm)\n",
        "\n",
        "  if early_stop.early_stop: #and accuracy_val[-1] >= 0.7:\n",
        "      print(f\"Early stopping on epoch: [{epoch}/{n_epochs}] with Loss_Train = {loss_history[-1]}, Loss_Val = {history_loss_val[-1]}, F1_Val = {f1_val[-1]}\")\n",
        "      break\n",
        "\n",
        "torch.save(model_lstm, '/content/drive/MyDrive/models/LSTM_ReviewMoves_NotEmb.pth')"
      ],
      "execution_count": null,
      "outputs": [
        {
          "output_type": "stream",
          "text": [
            "Epoch: [1/500]: Loss_Train = 2.4814035892486572, Loss_Val = 2.3692665100097656, F1_Val = 0.14134558690861657\n",
            "Epoch: [3/500]: Loss_Train = 2.2959702014923096, Loss_Val = 2.243518114089966, F1_Val = 0.14399338450146376\n",
            "Epoch: [5/500]: Loss_Train = 2.2902870178222656, Loss_Val = 2.241265296936035, F1_Val = 0.1414163758635673\n",
            "EarlyStopping counter: 1 out of 3\n",
            "EarlyStopping counter: 2 out of 3\n",
            "Epoch: [7/500]: Loss_Train = 2.2868244647979736, Loss_Val = 2.2454371452331543, F1_Val = 0.14148161500362488\n",
            "EarlyStopping counter: 3 out of 3\n",
            "Early stopping on epoch: [7/500] with Loss_Train = 2.2868244647979736, Loss_Val = 2.2454371452331543, F1_Val = 0.14148161500362488\n"
          ],
          "name": "stdout"
        }
      ]
    },
    {
      "cell_type": "code",
      "metadata": {
        "colab": {
          "base_uri": "https://localhost:8080/",
          "height": 350
        },
        "id": "bSbhVgBjjlhC",
        "outputId": "ef983c87-ffd3-478c-8075-65c25242042d"
      },
      "source": [
        "fig, ax = plt.subplots(figsize = (10, 5))\n",
        "plt.plot(epochs_history, loss_history, label = 'Train')\n",
        "plt.plot(epochs_history, history_loss_val, label = 'Validation')\n",
        "plt.legend()\n",
        "plt.title('Loss for each epochs')\n",
        "plt.xlabel('Epochs')\n",
        "plt.ylabel('Loss')\n",
        "plt.grid()"
      ],
      "execution_count": null,
      "outputs": [
        {
          "output_type": "display_data",
          "data": {
            "image/png": "[encoded data removed]",
            "text/plain": [
              "<Figure size 720x360 with 1 Axes>"
            ]
          },
          "metadata": {
            "tags": [],
            "needs_background": "light"
          }
        }
      ]
    },
    {
      "cell_type": "code",
      "metadata": {
        "colab": {
          "base_uri": "https://localhost:8080/"
        },
        "id": "Sr0zwJdNjmMk",
        "outputId": "7aba5e95-b2d9-472c-8892-72ce7f019175"
      },
      "source": [
        "dataset_train = ReviewMovieDataset(list(X_test), list(y_test), vocab)\n",
        "train_data = DataLoader(dataset_train, batch_size = 32, shuffle = True)\n",
        "\n",
        "correct, total = 0, 0\n",
        "f1 = list()\n",
        "\n",
        "# model_lstm.eval()\n",
        "with torch.no_grad():\n",
        "  for X_batch, y_batch in train_data:\n",
        "    X_batch, y_batch = X_batch.to(device = device), y_batch.to(device = device)\n",
        "    pred = model_lstm(X_batch)\n",
        "\n",
        "    _, predicted = torch.max(pred, dim = 1)\n",
        "    total += y_batch.shape[0]\n",
        "    correct += int((predicted == y_batch).sum())\n",
        "\n",
        "    f1.append(f1_score(y_batch.to(device = 'cpu').numpy(), predicted.to(device = 'cpu').numpy(), average='weighted')) # weighted, т.к. дисбаланс классов\n",
        "\n",
        "f1_lstm = sum(f1)/len(f1)\n",
        "print(f'Accuracy: {correct/total}')\n",
        "print(f'F1: {f1_lstm}')"
      ],
      "execution_count": null,
      "outputs": [
        {
          "output_type": "stream",
          "text": [
            "Accuracy: 0.3077203869319219\n",
            "F1: 0.15100812296107735\n"
          ],
          "name": "stdout"
        }
      ]
    },
    {
      "cell_type": "markdown",
      "metadata": {
        "id": "IRBWP-rcjUX7"
      },
      "source": [
        "GRU"
      ]
    },
    {
      "cell_type": "code",
      "metadata": {
        "colab": {
          "base_uri": "https://localhost:8080/"
        },
        "id": "L_mTS5nOjHDd",
        "outputId": "f30527ed-f617-4064-8f4f-70fa0d741029"
      },
      "source": [
        "%%time\n",
        "dataset_train = ReviewMovieDataset(list(X_train), list(y_train), vocab)\n",
        "\n",
        "train_size = int(np.floor(0.8 * len(dataset_train)))\n",
        "val_size = len(dataset_train) - train_size\n",
        "\n",
        "train_dataset, test_dataset = random_split(dataset_train, [train_size, val_size])\n",
        "\n",
        "train_data = DataLoader(train_dataset, batch_size = 32, shuffle = True)\n",
        "validation = DataLoader(test_dataset, batch_size = 32, shuffle = True)\n",
        "\n",
        "vocab_size = vocab.vocab_len\n",
        "hidden_size = 128\n",
        "embedding_dim = 100\n",
        "n_classes = y_train.nunique()\n",
        "\n",
        "model_gru  = RNNReviewMovieNet(vocab_size = vocab_size, \n",
        "                           embedding_dim = embedding_dim,\n",
        "                           hidden_size = hidden_size,\n",
        "                           n_classes = n_classes,\n",
        "                           residual = 'gru').to(device = device)\n",
        "\n",
        "criteriation = nn.CrossEntropyLoss()\n",
        "optimazer = optim.Adam(model_gru.parameters(), lr = 0.001, weight_decay = 5*10**(-4))\n",
        "early_stop = EarlyStopping(patience = 3, verbose = False, delta = 0.00001)\n",
        "\n",
        "loss_history = list()\n",
        "history_loss_val = list()\n",
        "epochs_history = list()\n",
        "f1_val = list()\n",
        "\n",
        "n_epochs = 500\n",
        "\n",
        "for epoch in range(1, n_epochs + 1):\n",
        "  loss_batch = 0\n",
        "  loss_val = 0\n",
        "\n",
        "  for X_batch, y_batch in train_data:\n",
        "    X_batch, y_batch = X_batch.to(device = device), y_batch.to(device = device)\n",
        "    out = model_gru(X_batch)\n",
        "\n",
        "    cur_loss = criteriation(out, y_batch)\n",
        "    loss_batch += cur_loss\n",
        "\n",
        "    cur_loss.backward()\n",
        "    optimazer.step()\n",
        "    optimazer.zero_grad()\n",
        "\n",
        "  loss_history.append(loss_batch/len(train_data))\n",
        "  epochs_history.append(epoch)\n",
        "\n",
        "  f1 = list()\n",
        "  with torch.no_grad():\n",
        "    for X_val, y_val in validation:\n",
        "      X_val, y_val = X_val.to(device = device), y_val.to(device = device)\n",
        "      out = model_gru(X_val)\n",
        "\n",
        "      _, predicted = torch.max(out, dim = 1)\n",
        "\n",
        "      loss = criteriation(out, y_val)\n",
        "      loss_val += loss\n",
        "\n",
        "      f1.append(f1_score(y_val.to(device = 'cpu').numpy(), predicted.to(device = 'cpu').numpy(), average='weighted'))\n",
        "\n",
        "  history_loss_val.append(loss_val/len(validation))\n",
        "  f1_val.append(sum(f1)/len(f1))\n",
        "\n",
        "  if epoch % 2:\n",
        "    print(f'Epoch: [{epoch}/{n_epochs}]: Loss_Train = {loss_history[-1]}, Loss_Val = {history_loss_val[-1]}, F1_Val = {f1_val[-1]}')\n",
        "\n",
        "  early_stop(history_loss_val[-1], model_gru)\n",
        "\n",
        "  if early_stop.early_stop: #and accuracy_val[-1] >= 0.7:\n",
        "      print(f\"Early stopping on epoch: [{epoch}/{n_epochs}] with Loss_Train = {loss_history[-1]}, Loss_Val = {history_loss_val[-1]}, F1_Val = {f1_val[-1]}\")\n",
        "      break\n",
        "\n",
        "torch.save(model_gru, '/content/drive/MyDrive/models/GRU_embedding_ReviewMoves_NotEmb.pth')"
      ],
      "execution_count": null,
      "outputs": [
        {
          "output_type": "stream",
          "text": [
            "Epoch: [1/500]: Loss_Train = 2.346954345703125, Loss_Val = 2.2396655082702637, F1_Val = 0.1620755323518309\n",
            "Epoch: [3/500]: Loss_Train = 2.1962668895721436, Loss_Val = 2.0902252197265625, F1_Val = 0.1810046676064746\n",
            "Epoch: [5/500]: Loss_Train = 2.0540771484375, Loss_Val = 2.0503909587860107, F1_Val = 0.2063971129797815\n",
            "Epoch: [7/500]: Loss_Train = 1.9063005447387695, Loss_Val = 1.9025617837905884, F1_Val = 0.31390693325606894\n",
            "Epoch: [9/500]: Loss_Train = 1.580712080001831, Loss_Val = 1.8402348756790161, F1_Val = 0.3793149457108821\n",
            "EarlyStopping counter: 1 out of 3\n",
            "EarlyStopping counter: 2 out of 3\n",
            "Epoch: [11/500]: Loss_Train = 1.2574249505996704, Loss_Val = 1.953307032585144, F1_Val = 0.4042786595513742\n",
            "EarlyStopping counter: 3 out of 3\n",
            "Early stopping on epoch: [11/500] with Loss_Train = 1.2574249505996704, Loss_Val = 1.953307032585144, F1_Val = 0.4042786595513742\n",
            "CPU times: user 22min 7s, sys: 1min 36s, total: 23min 43s\n",
            "Wall time: 23min 43s\n"
          ],
          "name": "stdout"
        }
      ]
    },
    {
      "cell_type": "code",
      "metadata": {
        "colab": {
          "base_uri": "https://localhost:8080/",
          "height": 350
        },
        "id": "sYChd-JVjG5y",
        "outputId": "4fd5c68f-1d36-4bda-af47-7977eaf2b0ba"
      },
      "source": [
        "fig, ax = plt.subplots(figsize = (10, 5))\n",
        "plt.plot(epochs_history, loss_history, label = 'Train')\n",
        "plt.plot(epochs_history, history_loss_val, label = 'Validation')\n",
        "plt.legend()\n",
        "plt.title('Loss for each epochs')\n",
        "plt.xlabel('Epochs')\n",
        "plt.ylabel('Loss')\n",
        "plt.grid()"
      ],
      "execution_count": null,
      "outputs": [
        {
          "output_type": "display_data",
          "data": {
            "image/png": "[encoded data removed]",
            "text/plain": [
              "<Figure size 720x360 with 1 Axes>"
            ]
          },
          "metadata": {
            "tags": [],
            "needs_background": "light"
          }
        }
      ]
    },
    {
      "cell_type": "code",
      "metadata": {
        "colab": {
          "base_uri": "https://localhost:8080/"
        },
        "id": "8-dnya-KjGqQ",
        "outputId": "6f5f08ec-2d0a-426e-8b43-9b40460f559b"
      },
      "source": [
        "dataset_train = ReviewMovieDataset(list(X_test), list(y_test), vocab)\n",
        "train_data = DataLoader(dataset_train, batch_size = 32, shuffle = True)\n",
        "\n",
        "correct, total = 0, 0\n",
        "f1 = list()\n",
        "\n",
        "# model_gru.eval()\n",
        "with torch.no_grad():\n",
        "  for X_batch, y_batch in train_data:\n",
        "    X_batch, y_batch = X_batch.to(device = device), y_batch.to(device = device)\n",
        "    pred = model_gru(X_batch)\n",
        "\n",
        "    _, predicted = torch.max(pred, dim = 1)\n",
        "    total += y_batch.shape[0]\n",
        "    correct += int((predicted == y_batch).sum())\n",
        "\n",
        "    f1.append(f1_score(y_batch.to(device = 'cpu').numpy(), predicted.to(device = 'cpu').numpy(), average='weighted')) # weighted, т.к. дисбаланс классов\n",
        "\n",
        "f1_gru = sum(f1)/len(f1)\n",
        "print(f'Accuracy: {correct/total}')\n",
        "print(f'F1: {f1_gru}')"
      ],
      "execution_count": null,
      "outputs": [
        {
          "output_type": "stream",
          "text": [
            "Accuracy: 0.4088337287826246\n",
            "F1: 0.38285396377541453\n"
          ],
          "name": "stdout"
        }
      ]
    },
    {
      "cell_type": "markdown",
      "metadata": {
        "id": "4rv1twgQj28b"
      },
      "source": [
        "# With Embedding"
      ]
    },
    {
      "cell_type": "code",
      "metadata": {
        "id": "ibBws0kKj2XN"
      },
      "source": [
        "embedding_dim = 100\n",
        "pretrained_embeddings = torch.rand(vocab.vocab_len, embedding_dim) # Инициализируем эмбединг случаыйными весами\n",
        "\n",
        "with open('/content/drive/MyDrive/embeddings/glove.6B.100d.txt', 'r') as femb:\n",
        "  for line in femb:\n",
        "    token, *emb = line.split(' ')\n",
        "    emb = torch.tensor([float(e) for e in emb], dtype = torch.float32)\n",
        "    if token in vocab.token_to_idx.keys():\n",
        "      pretrained_embeddings[vocab.token_to_idx[token]] = emb"
      ],
      "execution_count": 12,
      "outputs": []
    },
    {
      "cell_type": "markdown",
      "metadata": {
        "id": "3yEEPNiLrUFS"
      },
      "source": [
        "Convolution"
      ]
    },
    {
      "cell_type": "code",
      "metadata": {
        "colab": {
          "base_uri": "https://localhost:8080/"
        },
        "id": "vo9FGr2dj2Rn",
        "outputId": "2946f9bb-1225-47e6-d4f0-c3c240b7c777"
      },
      "source": [
        "%%time\n",
        "dataset_train = ReviewMovieDataset(list(X_train), list(y_train), vocab)\n",
        "\n",
        "train_size = int(np.floor(0.8 * len(dataset_train)))\n",
        "val_size = len(dataset_train) - train_size\n",
        "\n",
        "train_dataset, test_dataset = random_split(dataset_train, [train_size, val_size])\n",
        "\n",
        "train_data = DataLoader(train_dataset, batch_size = 32, shuffle = True)\n",
        "validation = DataLoader(test_dataset, batch_size = 32, shuffle = True)\n",
        "\n",
        "vocab_size = vocab.vocab_len\n",
        "# hidden_size = 512\n",
        "# embedding_dim = 200\n",
        "n_classes = df_work['Genre_label'].nunique()\n",
        "\n",
        "device = torch.device('cuda' if torch.cuda.is_available() else 'cpu')\n",
        "\n",
        "model_cnn_emb  = CNNReviewMovieNet(vocab_size = vocab_size, \n",
        "                                  embedding_dim = embedding_dim, \n",
        "                                  n_classes = n_classes,\n",
        "                                  pretrained_embeddings = pretrained_embeddings.to(device = device)).to(device = device)\n",
        "\n",
        "criteriation = nn.CrossEntropyLoss()\n",
        "optimazer = optim.Adam(model_cnn_emb.parameters(), lr = 0.001, weight_decay = 5*10**(-4))\n",
        "\n",
        "early_stop = EarlyStopping(patience = 3, verbose = False, delta = 0.00001)\n",
        "\n",
        "loss_history = list()\n",
        "history_loss_val = list()\n",
        "f1_val = list()\n",
        "epochs_history = list()\n",
        "\n",
        "n_epochs = 500\n",
        "\n",
        "for epoch in range(1, n_epochs + 1):\n",
        "  loss_batch = 0\n",
        "  loss_val = 0\n",
        "\n",
        "  for X_batch, y_batch in train_data:\n",
        "    X_batch, y_batch = X_batch.to(device = device), y_batch.to(device = device)\n",
        "    out = model_cnn_emb(X_batch)\n",
        "\n",
        "    cur_loss = criteriation(out, y_batch)\n",
        "    loss_batch += cur_loss\n",
        "\n",
        "    cur_loss.backward()\n",
        "    optimazer.step()\n",
        "    optimazer.zero_grad()\n",
        "\n",
        "  loss_history.append(loss_batch/len(train_data))\n",
        "  epochs_history.append(epoch)\n",
        "\n",
        "  f1 = list()\n",
        "  with torch.no_grad():\n",
        "    for X_val, y_val in validation:\n",
        "      X_val, y_val = X_val.to(device = device), y_val.to(device = device)\n",
        "      out = model_cnn_emb(X_val)\n",
        "\n",
        "      _, predicted = torch.max(out, dim = 1)\n",
        "\n",
        "      loss = criteriation(out, y_val)\n",
        "      loss_val += loss\n",
        "\n",
        "      f1.append(f1_score(y_val.to(device = 'cpu').numpy(), predicted.to(device = 'cpu').numpy(), average='weighted'))\n",
        "\n",
        "  history_loss_val.append(loss_val/len(validation))\n",
        "  f1_val.append(sum(f1)/len(f1))\n",
        "\n",
        "  if epoch % 2:\n",
        "    print(f'Epoch: [{epoch}/{n_epochs}]: Loss_Train = {loss_history[-1]}, Loss_Val = {history_loss_val[-1]}, F1_Val = {f1_val[-1]}')\n",
        "\n",
        "  early_stop(history_loss_val[-1], model_cnn_emb)\n",
        "\n",
        "  if early_stop.early_stop: #and accuracy_val[-1] >= 0.7:\n",
        "      print(f\"Early stopping on epoch: [{epoch}/{n_epochs}] with Loss_Train = {loss_history[-1]}, Loss_Val = {history_loss_val[-1]}, F1_Val = {f1_val[-1]}\")\n",
        "      break\n",
        "\n",
        "torch.save(model_cnn_emb, '/content/drive/MyDrive/models/DTZ_CNN_WithEmb.pth')"
      ],
      "execution_count": null,
      "outputs": [
        {
          "output_type": "stream",
          "text": [
            "Epoch: [1/500]: Loss_Train = 2.2335550785064697, Loss_Val = 2.094512939453125, F1_Val = 0.23018243896181123\n",
            "Epoch: [3/500]: Loss_Train = 1.9346939325332642, Loss_Val = 1.9169667959213257, F1_Val = 0.27724766122125655\n",
            "Epoch: [5/500]: Loss_Train = 1.7960116863250732, Loss_Val = 1.8087983131408691, F1_Val = 0.31877744773310895\n",
            "Epoch: [7/500]: Loss_Train = 1.698760747909546, Loss_Val = 1.7479736804962158, F1_Val = 0.35070196625558203\n",
            "Epoch: [9/500]: Loss_Train = 1.5986469984054565, Loss_Val = 1.6736130714416504, F1_Val = 0.38067269346676086\n",
            "EarlyStopping counter: 1 out of 3\n",
            "Epoch: [11/500]: Loss_Train = 1.5370733737945557, Loss_Val = 1.673439383506775, F1_Val = 0.3835130343457558\n",
            "EarlyStopping counter: 1 out of 3\n",
            "Epoch: [13/500]: Loss_Train = 1.4789067506790161, Loss_Val = 1.7093148231506348, F1_Val = 0.3908817265355092\n",
            "EarlyStopping counter: 2 out of 3\n",
            "EarlyStopping counter: 3 out of 3\n",
            "Early stopping on epoch: [14/500] with Loss_Train = 1.4410475492477417, Loss_Val = 1.7165569067001343, F1_Val = 0.391471245437444\n",
            "CPU times: user 48min 16s, sys: 16.1 s, total: 48min 32s\n",
            "Wall time: 48min 38s\n"
          ],
          "name": "stdout"
        }
      ]
    },
    {
      "cell_type": "code",
      "metadata": {
        "colab": {
          "base_uri": "https://localhost:8080/"
        },
        "id": "jeIdO4mJrlAu",
        "outputId": "60b0a772-4184-4918-abdc-a590d98e26a9"
      },
      "source": [
        "dataset_train = ReviewMovieDataset(list(X_test), list(y_test), vocab)\n",
        "train_data = DataLoader(dataset_train, batch_size = 32, shuffle = True)\n",
        "\n",
        "correct, total = 0, 0\n",
        "f1 = list()\n",
        "\n",
        "# model_cnn_emb.eval()\n",
        "with torch.no_grad():\n",
        "  for X_batch, y_batch in train_data:\n",
        "    X_batch, y_batch = X_batch.to(device = device), y_batch.to(device = device)\n",
        "    pred = model_cnn_emb(X_batch)\n",
        "\n",
        "    _, predicted = torch.max(pred, dim = 1)\n",
        "    total += y_batch.shape[0]\n",
        "    correct += int((predicted == y_batch).sum())\n",
        "\n",
        "    f1.append(f1_score(y_batch.to(device = 'cpu').numpy(), predicted.to(device = 'cpu').numpy(), average='weighted')) # weighted, т.к. дисбаланс классов\n",
        "\n",
        "f1_CNN_emb = sum(f1)/len(f1)\n",
        "print(f'Accuracy: {correct/total}')\n",
        "print(f'F1: {f1_CNN_emb}')"
      ],
      "execution_count": null,
      "outputs": [
        {
          "output_type": "stream",
          "text": [
            "Accuracy: 0.42069720751962036\n",
            "F1: 0.3948141899339871\n"
          ],
          "name": "stdout"
        }
      ]
    },
    {
      "cell_type": "markdown",
      "metadata": {
        "id": "c8fo_0-iriDs"
      },
      "source": [
        "RNN"
      ]
    },
    {
      "cell_type": "code",
      "metadata": {
        "colab": {
          "base_uri": "https://localhost:8080/"
        },
        "id": "IXM2HJX7j2P7",
        "outputId": "b5de5843-4712-47d8-d475-45c67e291c94"
      },
      "source": [
        "%%time\n",
        "dataset_train = ReviewMovieDataset(list(X_train), list(y_train), vocab)\n",
        "\n",
        "train_size = int(np.floor(0.8 * len(dataset_train)))\n",
        "val_size = len(dataset_train) - train_size\n",
        "\n",
        "train_dataset, test_dataset = random_split(dataset_train, [train_size, val_size])\n",
        "\n",
        "train_data = DataLoader(train_dataset, batch_size = 64, shuffle = True)\n",
        "validation = DataLoader(test_dataset, batch_size = 64, shuffle = True)\n",
        "\n",
        "vocab_size = vocab.vocab_len\n",
        "hidden_size = 128\n",
        "# embedding_dim = 128\n",
        "n_classes = df_work['Genre_label'].nunique()\n",
        "\n",
        "device = torch.device('cuda' if torch.cuda.is_available() else 'cpu')\n",
        "\n",
        "model_rnn_emb  = RNNReviewMovieNet(vocab_size = vocab_size, \n",
        "                           embedding_dim = embedding_dim,\n",
        "                           hidden_size = hidden_size,\n",
        "                           n_classes = n_classes,\n",
        "                           residual = 'rnn',\n",
        "                           pretrained_embeddings = pretrained_embeddings).to(device = device)\n",
        "\n",
        "criteriation = nn.CrossEntropyLoss()\n",
        "optimazer = optim.Adam(model_rnn_emb.parameters(), lr = 0.001, weight_decay = 5*10**(-4))\n",
        "\n",
        "early_stop = EarlyStopping(patience = 3, verbose = False, delta = 0)\n",
        "\n",
        "loss_history = list()\n",
        "history_loss_val = list()\n",
        "epochs_history = list()\n",
        "f1_val = list()\n",
        "\n",
        "n_epochs = 500\n",
        "\n",
        "for epoch in range(1, n_epochs + 1):\n",
        "  loss_batch = 0\n",
        "  loss_val = 0\n",
        "\n",
        "  for X_batch, y_batch in train_data:\n",
        "    X_batch, y_batch = X_batch.to(device = device), y_batch.to(device = device)\n",
        "    out = model_rnn_emb(X_batch)\n",
        "\n",
        "    cur_loss = criteriation(out, y_batch)\n",
        "    loss_batch += cur_loss\n",
        "\n",
        "    cur_loss.backward()\n",
        "    optimazer.step()\n",
        "    optimazer.zero_grad()\n",
        "\n",
        "\n",
        "  loss_history.append(loss_batch/len(train_data))\n",
        "  epochs_history.append(epoch)\n",
        "\n",
        "  f1 = list()\n",
        "  with torch.no_grad():\n",
        "    for X_val, y_val in validation:\n",
        "      X_val, y_val = X_val.to(device = device), y_val.to(device = device)\n",
        "      out = model_rnn_emb(X_val)\n",
        "\n",
        "      _, predicted = torch.max(out, dim = 1)\n",
        "\n",
        "      loss = criteriation(out, y_val)\n",
        "      loss_val += loss\n",
        "      \n",
        "      f1.append(f1_score(y_val.to(device = 'cpu').numpy(), predicted.to(device = 'cpu').numpy(), average='weighted'))\n",
        "  \n",
        "  history_loss_val.append(loss_val/len(validation))\n",
        "  f1_val.append(sum(f1)/len(f1))\n",
        "\n",
        "  if epoch % 2:\n",
        "    print(f'Epoch: [{epoch}/{n_epochs}]: Loss_Train = {loss_history[-1]}, Loss_Val = {history_loss_val[-1]}, F1_Val = {f1_val[-1]}')\n",
        "\n",
        "  early_stop(history_loss_val[-1], model_rnn_emb)\n",
        "\n",
        "  if early_stop.early_stop:\n",
        "      print(f\"Early stopping on epoch: [{epoch}/{n_epochs}] with Loss_Train = {loss_history[-1]}, Loss_Val = {history_loss_val[-1]}, F1_Val = {f1_val[-1]}\")\n",
        "      break\n",
        "\n",
        "torch.save(model_rnn_emb, '/content/drive/MyDrive/models/RNN_ReviewMoves_Emb.pth')"
      ],
      "execution_count": 14,
      "outputs": [
        {
          "output_type": "stream",
          "text": [
            "Epoch: [1/500]: Loss_Train = 2.4872567653656006, Loss_Val = 2.5464019775390625, F1_Val = 0.14846245923160456\n",
            "Epoch: [3/500]: Loss_Train = 2.296778678894043, Loss_Val = 2.3140182495117188, F1_Val = 0.15147354002361266\n",
            "Epoch: [5/500]: Loss_Train = 2.277759313583374, Loss_Val = 2.2798712253570557, F1_Val = 0.14922467923930938\n",
            "EarlyStopping counter: 1 out of 3\n",
            "EarlyStopping counter: 2 out of 3\n",
            "Epoch: [7/500]: Loss_Train = 2.278136730194092, Loss_Val = 2.2860045433044434, F1_Val = 0.14924975397203538\n",
            "EarlyStopping counter: 3 out of 3\n",
            "Early stopping on epoch: [7/500] with Loss_Train = 2.278136730194092, Loss_Val = 2.2860045433044434, F1_Val = 0.14924975397203538\n",
            "CPU times: user 12min 53s, sys: 1min 36s, total: 14min 29s\n",
            "Wall time: 14min 28s\n"
          ],
          "name": "stdout"
        }
      ]
    },
    {
      "cell_type": "code",
      "metadata": {
        "colab": {
          "base_uri": "https://localhost:8080/"
        },
        "id": "6GS5Jj3dj2NS",
        "outputId": "cc55ec0b-9437-4ea9-dd74-2cddfb007a73"
      },
      "source": [
        "dataset_train = ReviewMovieDataset(list(X_test), list(y_test), vocab)\n",
        "train_data = DataLoader(dataset_train, batch_size = 32, shuffle = True)\n",
        "\n",
        "correct, total = 0, 0\n",
        "f1 = list()\n",
        "\n",
        "# model_rnn_emb.eval()\n",
        "with torch.no_grad():\n",
        "  for X_batch, y_batch in train_data:\n",
        "    X_batch, y_batch = X_batch.to(device = device), y_batch.to(device = device)\n",
        "    pred = model_rnn_emb(X_batch)\n",
        "\n",
        "    _, predicted = torch.max(pred, dim = 1)\n",
        "    total += y_batch.shape[0]\n",
        "    correct += int((predicted == y_batch).sum())\n",
        "\n",
        "    f1.append(f1_score(y_batch.to(device = 'cpu').numpy(), predicted.to(device = 'cpu').numpy(), average='weighted')) # weighted, т.к. дисбаланс классов\n",
        "\n",
        "f1_rnn_emb = sum(f1)/len(f1)\n",
        "print(f'Accuracy: {correct/total}')\n",
        "print(f'F1: {f1_rnn_emb}')"
      ],
      "execution_count": 15,
      "outputs": [
        {
          "output_type": "stream",
          "text": [
            "Accuracy: 0.3077203869319219\n",
            "F1: 0.15485916398803926\n"
          ],
          "name": "stdout"
        }
      ]
    },
    {
      "cell_type": "markdown",
      "metadata": {
        "id": "xKikh1YVrr_p"
      },
      "source": [
        "LSTM"
      ]
    },
    {
      "cell_type": "code",
      "metadata": {
        "colab": {
          "base_uri": "https://localhost:8080/"
        },
        "id": "tnae5GPhj2BW",
        "outputId": "69c30c9c-c651-4ea0-cc46-5945cdda61fa"
      },
      "source": [
        "%%time\n",
        "dataset_train = ReviewMovieDataset(list(X_train), list(y_train), vocab)\n",
        "\n",
        "train_size = int(np.floor(0.8 * len(dataset_train)))\n",
        "val_size = len(dataset_train) - train_size\n",
        "\n",
        "train_dataset, test_dataset = random_split(dataset_train, [train_size, val_size])\n",
        "\n",
        "train_data = DataLoader(train_dataset, batch_size = 64, shuffle = True)\n",
        "validation = DataLoader(test_dataset, batch_size = 64, shuffle = True)\n",
        "\n",
        "vocab_size = vocab.vocab_len\n",
        "hidden_size = 128\n",
        "# embedding_dim = 50\n",
        "n_classes = df_work['Genre_label'].nunique()\n",
        "\n",
        "device = torch.device('cuda' if torch.cuda.is_available() else 'cpu')\n",
        "\n",
        "model_lstm_emb  = RNNReviewMovieNet(vocab_size = vocab_size, \n",
        "                           embedding_dim = embedding_dim,\n",
        "                           hidden_size = hidden_size,\n",
        "                           n_classes = n_classes,\n",
        "                           residual = 'lstm',\n",
        "                           pretrained_embeddings = pretrained_embeddings).to(device = device)\n",
        "\n",
        "criteriation = nn.CrossEntropyLoss()\n",
        "optimazer = optim.Adam(model_lstm_emb.parameters(), lr = 0.001, weight_decay = 5*10**(-4))\n",
        "\n",
        "early_stop = EarlyStopping(patience = 4, verbose = False, delta = 0.0001)\n",
        "\n",
        "loss_history = list()\n",
        "history_loss_val = list()\n",
        "epochs_history = list()\n",
        "f1_val = list()\n",
        "\n",
        "n_epochs = 500\n",
        "\n",
        "for epoch in range(1, n_epochs + 1):\n",
        "  loss_batch = 0\n",
        "  loss_val = 0\n",
        "\n",
        "  for X_batch, y_batch in train_data:\n",
        "    X_batch, y_batch = X_batch.to(device = device), y_batch.to(device = device)\n",
        "    out = model_lstm_emb(X_batch)\n",
        "\n",
        "    cur_loss = criteriation(out, y_batch)\n",
        "    loss_batch += cur_loss\n",
        "\n",
        "    cur_loss.backward()\n",
        "    optimazer.step()\n",
        "    optimazer.zero_grad()\n",
        "\n",
        "  loss_history.append(loss_batch/len(train_data))\n",
        "  epochs_history.append(epoch)\n",
        "\n",
        "  f1 = list()\n",
        "  with torch.no_grad():\n",
        "    for X_val, y_val in validation:\n",
        "      X_val, y_val = X_val.to(device = device), y_val.to(device = device)\n",
        "      out = model_lstm_emb(X_val)\n",
        "\n",
        "      _, predicted = torch.max(out, dim = 1)\n",
        "\n",
        "      loss = criteriation(out, y_val)\n",
        "      loss_val += loss\n",
        "\n",
        "      f1.append(f1_score(y_val.to(device = 'cpu').numpy(), predicted.to(device = 'cpu').numpy(), average='weighted'))\n",
        "\n",
        "  history_loss_val.append(loss_val/len(validation))\n",
        "  f1_val.append(sum(f1)/len(f1))\n",
        "\n",
        "  if epoch % 2:\n",
        "    print(f'Epoch: [{epoch}/{n_epochs}]: Loss_Train = {loss_history[-1]}, Loss_Val = {history_loss_val[-1]}, F1_Val = {f1_val[-1]}')\n",
        "\n",
        "  early_stop(history_loss_val[-1], model_lstm_emb)\n",
        "\n",
        "  if early_stop.early_stop: #and accuracy_val[-1] >= 0.7:\n",
        "      print(f\"Early stopping on epoch: [{epoch}/{n_epochs}] with Loss_Train = {loss_history[-1]}, Loss_Val = {history_loss_val[-1]}, F1_Val = {f1_val[-1]}\")\n",
        "      break\n",
        "\n",
        "torch.save(model_lstm_emb, '/content/drive/MyDrive/models/LSTM_ReviewMoves_Emb.pth')"
      ],
      "execution_count": 16,
      "outputs": [
        {
          "output_type": "stream",
          "text": [
            "Epoch: [1/500]: Loss_Train = 2.4267663955688477, Loss_Val = 2.365468740463257, F1_Val = 0.1499658033154389\n",
            "Epoch: [3/500]: Loss_Train = 2.2920022010803223, Loss_Val = 2.2804877758026123, F1_Val = 0.15075165554959138\n",
            "Epoch: [5/500]: Loss_Train = 2.276071071624756, Loss_Val = 2.278791904449463, F1_Val = 0.15023382838136606\n",
            "EarlyStopping counter: 1 out of 4\n",
            "EarlyStopping counter: 2 out of 4\n",
            "Epoch: [7/500]: Loss_Train = 2.274728536605835, Loss_Val = 2.278928518295288, F1_Val = 0.14966730805611275\n",
            "EarlyStopping counter: 3 out of 4\n",
            "EarlyStopping counter: 4 out of 4\n",
            "Early stopping on epoch: [8/500] with Loss_Train = 2.2736237049102783, Loss_Val = 2.281054735183716, F1_Val = 0.15058074871112512\n",
            "CPU times: user 17min, sys: 4min 5s, total: 21min 6s\n",
            "Wall time: 21min 5s\n"
          ],
          "name": "stdout"
        }
      ]
    },
    {
      "cell_type": "code",
      "metadata": {
        "colab": {
          "base_uri": "https://localhost:8080/"
        },
        "id": "3Pvw-_Swj1yf",
        "outputId": "e496893a-922e-4611-bb1f-47cd62f1622a"
      },
      "source": [
        "dataset_train = ReviewMovieDataset(list(X_test), list(y_test), vocab)\n",
        "train_data = DataLoader(dataset_train, batch_size = 32, shuffle = True)\n",
        "\n",
        "correct, total = 0, 0\n",
        "f1 = list()\n",
        "\n",
        "# model_lstm_emb.eval()\n",
        "with torch.no_grad():\n",
        "  for X_batch, y_batch in train_data:\n",
        "    X_batch, y_batch = X_batch.to(device = device), y_batch.to(device = device)\n",
        "    pred = model_lstm_emb(X_batch)\n",
        "\n",
        "    _, predicted = torch.max(pred, dim = 1)\n",
        "    total += y_batch.shape[0]\n",
        "    correct += int((predicted == y_batch).sum())\n",
        "\n",
        "    f1.append(f1_score(y_batch.to(device = 'cpu').numpy(), predicted.to(device = 'cpu').numpy(), average='weighted')) # weighted, т.к. дисбаланс классов\n",
        "\n",
        "f1_lstm_emb = sum(f1)/len(f1) \n",
        "print(f'Accuracy: {correct/total}')\n",
        "print(f'F1: {f1_lstm_emb}')"
      ],
      "execution_count": 17,
      "outputs": [
        {
          "output_type": "stream",
          "text": [
            "Accuracy: 0.3077203869319219\n",
            "F1: 0.15191795209376022\n"
          ],
          "name": "stdout"
        }
      ]
    },
    {
      "cell_type": "markdown",
      "metadata": {
        "id": "1g_7zLawrt4t"
      },
      "source": [
        "GRU"
      ]
    },
    {
      "cell_type": "code",
      "metadata": {
        "colab": {
          "base_uri": "https://localhost:8080/"
        },
        "id": "4b185pFirugR",
        "outputId": "c17f3b58-3bba-40d7-de01-dc9352927b64"
      },
      "source": [
        "%%time\n",
        "dataset_train = ReviewMovieDataset(list(X_train), list(y_train), vocab)\n",
        "\n",
        "train_size = int(np.floor(0.8 * len(dataset_train)))\n",
        "val_size = len(dataset_train) - train_size\n",
        "\n",
        "train_dataset, test_dataset = random_split(dataset_train, [train_size, val_size])\n",
        "\n",
        "train_data = DataLoader(train_dataset, batch_size = 64, shuffle = True)\n",
        "validation = DataLoader(test_dataset, batch_size = 64, shuffle = True)\n",
        "\n",
        "vocab_size = vocab.vocab_len\n",
        "hidden_size = 128\n",
        "n_classes = df_work['Genre_label'].nunique()\n",
        "\n",
        "model_gru_emb  = RNNReviewMovieNet(vocab_size = vocab_size, \n",
        "                                  embedding_dim = embedding_dim,\n",
        "                                  hidden_size = hidden_size,\n",
        "                                  n_classes = n_classes,\n",
        "                                  residual = 'gru').to(device = device)\n",
        "\n",
        "criteriation = nn.CrossEntropyLoss()\n",
        "optimazer = optim.Adam(model_gru_emb.parameters(), lr = 0.001, weight_decay = 5*10**(-4))\n",
        "\n",
        "early_stop = EarlyStopping(patience = 3, verbose = False, delta = 0.0001)\n",
        "\n",
        "loss_history = list()\n",
        "history_loss_val = list()\n",
        "epochs_history = list()\n",
        "f1_val = list()\n",
        "\n",
        "n_epochs = 500\n",
        "\n",
        "for epoch in range(1, n_epochs + 1):\n",
        "  loss_batch = 0\n",
        "  loss_val = 0\n",
        "\n",
        "  for X_batch, y_batch in train_data:\n",
        "    X_batch, y_batch = X_batch.to(device = device), y_batch.to(device = device)\n",
        "    out = model_gru_emb(X_batch)\n",
        "\n",
        "    cur_loss = criteriation(out, y_batch)\n",
        "    loss_batch += cur_loss\n",
        "\n",
        "    cur_loss.backward()\n",
        "    optimazer.step()\n",
        "    optimazer.zero_grad()\n",
        "\n",
        "  loss_history.append(loss_batch/len(train_data))\n",
        "  epochs_history.append(epoch)\n",
        "\n",
        "  f1 = list()\n",
        "  with torch.no_grad():\n",
        "    for X_val, y_val in validation:\n",
        "      X_val, y_val = X_val.to(device = device), y_val.to(device = device)\n",
        "      out = model_gru_emb(X_val)\n",
        "\n",
        "      _, predicted = torch.max(out, dim = 1)\n",
        "\n",
        "      loss = criteriation(out, y_val)\n",
        "      loss_val += loss\n",
        "\n",
        "      f1.append(f1_score(y_val.to(device = 'cpu').numpy(), predicted.to(device = 'cpu').numpy(), average='weighted'))\n",
        "\n",
        "  history_loss_val.append(loss_val/len(validation))\n",
        "  f1_val.append(sum(f1)/len(f1))\n",
        "\n",
        "  if epoch % 2:\n",
        "    print(f'Epoch: [{epoch}/{n_epochs}]: Loss_Train = {loss_history[-1]}, Loss_Val = {history_loss_val[-1]}, F1_Val = {f1_val[-1]}')\n",
        "\n",
        "  early_stop(history_loss_val[-1], model_gru_emb)\n",
        "\n",
        "  if early_stop.early_stop: #and accuracy_val[-1] >= 0.7:\n",
        "      print(f\"Early stopping on epoch: [{epoch}/{n_epochs}] with Loss_Train = {loss_history[-1]}, Loss_Val = {history_loss_val[-1]}, F1_Val = {f1_val[-1]}\")\n",
        "      break\n",
        "\n",
        "torch.save(model_gru_emb, '/content/drive/MyDrive/models/GRU_embedding_ReviewMoves_Emb.pth')"
      ],
      "execution_count": 18,
      "outputs": [
        {
          "output_type": "stream",
          "text": [
            "Epoch: [1/500]: Loss_Train = 2.42561411857605, Loss_Val = 2.3096840381622314, F1_Val = 0.19111859359974617\n",
            "EarlyStopping counter: 1 out of 3\n",
            "Epoch: [3/500]: Loss_Train = 2.2863893508911133, Loss_Val = 2.283573627471924, F1_Val = 0.14799923550042546\n",
            "Epoch: [5/500]: Loss_Train = 2.2470717430114746, Loss_Val = 2.237508535385132, F1_Val = 0.15018880394032988\n",
            "Epoch: [7/500]: Loss_Train = 2.1040704250335693, Loss_Val = 2.085963487625122, F1_Val = 0.17304310761481442\n",
            "Epoch: [9/500]: Loss_Train = 1.957594633102417, Loss_Val = 2.0056025981903076, F1_Val = 0.2473589423814095\n",
            "Epoch: [11/500]: Loss_Train = 1.7007887363433838, Loss_Val = 1.8437879085540771, F1_Val = 0.3367652902896416\n",
            "EarlyStopping counter: 1 out of 3\n",
            "Epoch: [13/500]: Loss_Train = 1.435072898864746, Loss_Val = 1.9277054071426392, F1_Val = 0.36340546462379114\n",
            "EarlyStopping counter: 2 out of 3\n",
            "EarlyStopping counter: 3 out of 3\n",
            "Early stopping on epoch: [14/500] with Loss_Train = 1.3021774291992188, Loss_Val = 2.0029265880584717, F1_Val = 0.37182179658982534\n",
            "CPU times: user 33min 17s, sys: 6min 40s, total: 39min 58s\n",
            "Wall time: 39min 56s\n"
          ],
          "name": "stdout"
        }
      ]
    },
    {
      "cell_type": "code",
      "metadata": {
        "colab": {
          "base_uri": "https://localhost:8080/"
        },
        "id": "fuY07mk8rvEO",
        "outputId": "ed478729-5c03-4a0f-f7bd-012386231c98"
      },
      "source": [
        "dataset_train = ReviewMovieDataset(list(X_test), list(y_test), vocab)\n",
        "train_data = DataLoader(dataset_train, batch_size = 32, shuffle = True)\n",
        "\n",
        "correct, total = 0, 0\n",
        "f1 = list()\n",
        "\n",
        "# model_gru_emb.eval()\n",
        "with torch.no_grad():\n",
        "  for X_batch, y_batch in train_data:\n",
        "    X_batch, y_batch = X_batch.to(device = device), y_batch.to(device = device)\n",
        "    pred = model_gru_emb(X_batch)\n",
        "\n",
        "    _, predicted = torch.max(pred, dim = 1)\n",
        "    total += y_batch.shape[0]\n",
        "    correct += int((predicted == y_batch).sum())\n",
        "\n",
        "    f1.append(f1_score(y_batch.to(device = 'cpu').numpy(), predicted.to(device = 'cpu').numpy(), average='weighted')) # weighted, т.к. дисбаланс классов\n",
        "\n",
        "f1_gru_emb = sum(f1)/len(f1)\n",
        "print(f'Accuracy: {correct/total}')\n",
        "print(f'F1: {f1_gru_emb}')"
      ],
      "execution_count": 19,
      "outputs": [
        {
          "output_type": "stream",
          "text": [
            "Accuracy: 0.3807264099288191\n",
            "F1: 0.3556115310589077\n"
          ],
          "name": "stdout"
        }
      ]
    },
    {
      "cell_type": "markdown",
      "metadata": {
        "id": "OgTWCpyJzvIr"
      },
      "source": [
        "# Структура моделей"
      ]
    },
    {
      "cell_type": "code",
      "metadata": {
        "colab": {
          "base_uri": "https://localhost:8080/"
        },
        "id": "uhbxr7-f0TxY",
        "outputId": "5fb37a90-7d52-419d-fd4f-7474095f18d1"
      },
      "source": [
        "device"
      ],
      "execution_count": 25,
      "outputs": [
        {
          "output_type": "execute_result",
          "data": {
            "text/plain": [
              "device(type='cuda')"
            ]
          },
          "metadata": {
            "tags": []
          },
          "execution_count": 25
        }
      ]
    },
    {
      "cell_type": "code",
      "metadata": {
        "id": "9mKT-dUXmXVA",
        "colab": {
          "base_uri": "https://localhost:8080/"
        },
        "outputId": "24848ca6-f35a-4cbd-9fcd-2cc44da25f7b"
      },
      "source": [
        "torch.load('/content/drive/MyDrive/models/RNN_ReviewMoves_Emb.pth', map_location = device)"
      ],
      "execution_count": 37,
      "outputs": [
        {
          "output_type": "execute_result",
          "data": {
            "text/plain": [
              "RNNReviewMovieNet(\n",
              "  (embeddings): Embedding(93598, 100)\n",
              "  (rl): RNN(100, 128, num_layers=2, batch_first=True)\n",
              "  (fc): Sequential(\n",
              "    (0): Flatten(start_dim=1, end_dim=-1)\n",
              "    (1): Linear(in_features=128, out_features=512, bias=True)\n",
              "    (2): BatchNorm1d(512, eps=1e-05, momentum=0.1, affine=True, track_running_stats=True)\n",
              "    (3): ReLU()\n",
              "    (4): Linear(in_features=512, out_features=256, bias=True)\n",
              "    (5): BatchNorm1d(256, eps=1e-05, momentum=0.1, affine=True, track_running_stats=True)\n",
              "    (6): ReLU()\n",
              "    (7): Linear(in_features=256, out_features=128, bias=True)\n",
              "    (8): BatchNorm1d(128, eps=1e-05, momentum=0.1, affine=True, track_running_stats=True)\n",
              "    (9): ReLU()\n",
              "    (10): Linear(in_features=128, out_features=64, bias=True)\n",
              "    (11): BatchNorm1d(64, eps=1e-05, momentum=0.1, affine=True, track_running_stats=True)\n",
              "    (12): ReLU()\n",
              "    (13): Linear(in_features=64, out_features=20, bias=True)\n",
              "  )\n",
              ")"
            ]
          },
          "metadata": {
            "tags": []
          },
          "execution_count": 37
        }
      ]
    },
    {
      "cell_type": "code",
      "metadata": {
        "colab": {
          "base_uri": "https://localhost:8080/"
        },
        "id": "2PSYRZhH0DI8",
        "outputId": "62247e26-2dd7-4926-d7a6-d700e82a14d1"
      },
      "source": [
        "torch.load('/content/drive/MyDrive/models/LSTM_ReviewMoves_Emb.pth', map_location = device)"
      ],
      "execution_count": 35,
      "outputs": [
        {
          "output_type": "execute_result",
          "data": {
            "text/plain": [
              "RNNReviewMovieNet(\n",
              "  (embeddings): Embedding(93598, 100)\n",
              "  (rl): LSTM(100, 128, num_layers=2, batch_first=True)\n",
              "  (fc): Sequential(\n",
              "    (0): Flatten(start_dim=1, end_dim=-1)\n",
              "    (1): Linear(in_features=128, out_features=512, bias=True)\n",
              "    (2): BatchNorm1d(512, eps=1e-05, momentum=0.1, affine=True, track_running_stats=True)\n",
              "    (3): ReLU()\n",
              "    (4): Linear(in_features=512, out_features=256, bias=True)\n",
              "    (5): BatchNorm1d(256, eps=1e-05, momentum=0.1, affine=True, track_running_stats=True)\n",
              "    (6): ReLU()\n",
              "    (7): Linear(in_features=256, out_features=128, bias=True)\n",
              "    (8): BatchNorm1d(128, eps=1e-05, momentum=0.1, affine=True, track_running_stats=True)\n",
              "    (9): ReLU()\n",
              "    (10): Linear(in_features=128, out_features=64, bias=True)\n",
              "    (11): BatchNorm1d(64, eps=1e-05, momentum=0.1, affine=True, track_running_stats=True)\n",
              "    (12): ReLU()\n",
              "    (13): Linear(in_features=64, out_features=20, bias=True)\n",
              "  )\n",
              ")"
            ]
          },
          "metadata": {
            "tags": []
          },
          "execution_count": 35
        }
      ]
    },
    {
      "cell_type": "code",
      "metadata": {
        "colab": {
          "base_uri": "https://localhost:8080/"
        },
        "id": "EnJ7h6T01Z8b",
        "outputId": "6666b52f-fbc3-4e6d-d502-793744ccba87"
      },
      "source": [
        "torch.load('/content/drive/MyDrive/models/GRU_embedding_ReviewMoves_Emb.pth', map_location = device)"
      ],
      "execution_count": 36,
      "outputs": [
        {
          "output_type": "execute_result",
          "data": {
            "text/plain": [
              "RNNReviewMovieNet(\n",
              "  (embeddings): Embedding(93598, 100)\n",
              "  (rl): GRU(100, 128, num_layers=2, batch_first=True)\n",
              "  (fc): Sequential(\n",
              "    (0): Flatten(start_dim=1, end_dim=-1)\n",
              "    (1): Linear(in_features=128, out_features=512, bias=True)\n",
              "    (2): BatchNorm1d(512, eps=1e-05, momentum=0.1, affine=True, track_running_stats=True)\n",
              "    (3): ReLU()\n",
              "    (4): Linear(in_features=512, out_features=256, bias=True)\n",
              "    (5): BatchNorm1d(256, eps=1e-05, momentum=0.1, affine=True, track_running_stats=True)\n",
              "    (6): ReLU()\n",
              "    (7): Linear(in_features=256, out_features=128, bias=True)\n",
              "    (8): BatchNorm1d(128, eps=1e-05, momentum=0.1, affine=True, track_running_stats=True)\n",
              "    (9): ReLU()\n",
              "    (10): Linear(in_features=128, out_features=64, bias=True)\n",
              "    (11): BatchNorm1d(64, eps=1e-05, momentum=0.1, affine=True, track_running_stats=True)\n",
              "    (12): ReLU()\n",
              "    (13): Linear(in_features=64, out_features=20, bias=True)\n",
              "  )\n",
              ")"
            ]
          },
          "metadata": {
            "tags": []
          },
          "execution_count": 36
        }
      ]
    }
  ]
}