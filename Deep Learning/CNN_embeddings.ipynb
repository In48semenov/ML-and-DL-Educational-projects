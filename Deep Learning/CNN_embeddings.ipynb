{
  "nbformat": 4,
  "nbformat_minor": 0,
  "metadata": {
    "colab": {
      "name": "blank__06_CNN_embeddings_v2.ipynb",
      "provenance": [],
      "collapsed_sections": []
    },
    "kernelspec": {
      "name": "python3",
      "display_name": "Python 3"
    },
    "language_info": {
      "name": "python"
    },
    "accelerator": "GPU"
  },
  "cells": [
    {
      "cell_type": "code",
      "metadata": {
        "id": "XtFQP3RNll3c",
        "colab": {
          "base_uri": "https://localhost:8080/"
        },
        "outputId": "5b609858-a31a-458d-eb04-5fda7ecb211a"
      },
      "source": [
        "import re\n",
        "import nltk\n",
        "\n",
        "import torch\n",
        "from torch.utils.data import Dataset, DataLoader, random_split\n",
        "import torch.nn as nn\n",
        "import torch.optim as optim\n",
        "\n",
        "import pandas as pd\n",
        "from sklearn.model_selection import train_test_split\n",
        "from sklearn.metrics import accuracy_score\n",
        "from sklearn.metrics import f1_score\n",
        "from nltk.tokenize import word_tokenize\n",
        "from sklearn.preprocessing import LabelEncoder\n",
        "\n",
        "from pytorchtools_st import EarlyStopping\n",
        "\n",
        "import numpy as np\n",
        "import matplotlib.pyplot as plt\n",
        "\n",
        "nltk.download('punkt')"
      ],
      "execution_count": 33,
      "outputs": [
        {
          "output_type": "stream",
          "text": [
            "[nltk_data] Downloading package punkt to /root/nltk_data...\n",
            "[nltk_data]   Package punkt is already up-to-date!\n"
          ],
          "name": "stdout"
        },
        {
          "output_type": "execute_result",
          "data": {
            "text/plain": [
              "True"
            ]
          },
          "metadata": {
            "tags": []
          },
          "execution_count": 33
        }
      ]
    },
    {
      "cell_type": "code",
      "metadata": {
        "id": "wyieUMmDy638"
      },
      "source": [
        "from nltk.tokenize import word_tokenize, sent_tokenize\n",
        "from nltk.stem.snowball import SnowballStemmer"
      ],
      "execution_count": 2,
      "outputs": []
    },
    {
      "cell_type": "markdown",
      "metadata": {
        "id": "tx75RigN8xIJ"
      },
      "source": [
        "## 1. Представление и предобработка текстовых данных в виде последовательностей"
      ]
    },
    {
      "cell_type": "markdown",
      "metadata": {
        "id": "LScKIAey9dAM"
      },
      "source": [
        "1.1 Представьте первое предложение из строки `text` как последовательность из индексов слов, входящих в это предложение"
      ]
    },
    {
      "cell_type": "code",
      "metadata": {
        "id": "faeSeC-01cwy",
        "colab": {
          "base_uri": "https://localhost:8080/"
        },
        "outputId": "7748f714-1151-499f-e7e2-8244e9b3eb34"
      },
      "source": [
        "#пример\n",
        "tetx = 'я люблю машинное обучение'\n",
        "\n",
        "vocab = {'<PAD>':0, 'я': 2, 'люблю':10, 'машинное':15, 'обучение': 16}\n",
        "vocab_len = 17\n",
        "\n",
        "text_t1 = torch.LongTensor([vocab[word] for word in word_tokenize(tetx)])\n",
        "text_t1"
      ],
      "execution_count": 3,
      "outputs": [
        {
          "output_type": "execute_result",
          "data": {
            "text/plain": [
              "tensor([ 2, 10, 15, 16])"
            ]
          },
          "metadata": {
            "tags": []
          },
          "execution_count": 3
        }
      ]
    },
    {
      "cell_type": "code",
      "metadata": {
        "colab": {
          "base_uri": "https://localhost:8080/"
        },
        "id": "B_-ttzk618c2",
        "outputId": "8340d29a-e292-4bdd-f1dc-ae1a6343417d"
      },
      "source": [
        "text_t = torch.zeros(vocab_len)\n",
        "for word in word_tokenize(tetx):\n",
        "  text_t[vocab[word]] = 1\n",
        "text_t"
      ],
      "execution_count": 4,
      "outputs": [
        {
          "output_type": "execute_result",
          "data": {
            "text/plain": [
              "tensor([0., 0., 1., 0., 0., 0., 0., 0., 0., 0., 1., 0., 0., 0., 0., 1., 1.])"
            ]
          },
          "metadata": {
            "tags": []
          },
          "execution_count": 4
        }
      ]
    },
    {
      "cell_type": "code",
      "metadata": {
        "id": "phEw721T9SYW"
      },
      "source": [
        "text = 'Select your preferences and run the install command. Stable represents the most currently tested and supported version of PyTorch. Note that LibTorch is only available for C++'"
      ],
      "execution_count": 5,
      "outputs": []
    },
    {
      "cell_type": "code",
      "metadata": {
        "id": "GCFK6Jf1ysSh"
      },
      "source": [
        "def ind(text):\n",
        "  text = sent_tokenize(text)\n",
        "  vocab = list(set(word_tokenize(text[0])))\n",
        "\n",
        "  ind_w = {ind:w for ind, w in enumerate(vocab)}\n",
        "  w_ind = {w:ind for ind, w in ind_w.items()}\n",
        "\n",
        "  for ind, w in enumerate(word_tokenize(text[0])):\n",
        "    vocab[ind] = w_ind[w]\n",
        "  \n",
        "  return vocab"
      ],
      "execution_count": 6,
      "outputs": []
    },
    {
      "cell_type": "code",
      "metadata": {
        "colab": {
          "base_uri": "https://localhost:8080/"
        },
        "id": "CAXALY-_1Y3W",
        "outputId": "6ef5a988-a408-4a99-9ac5-6c310b23ae10"
      },
      "source": [
        "ind(text)"
      ],
      "execution_count": 7,
      "outputs": [
        {
          "output_type": "execute_result",
          "data": {
            "text/plain": [
              "[4, 2, 3, 6, 8, 7, 0, 1, 5]"
            ]
          },
          "metadata": {
            "tags": []
          },
          "execution_count": 7
        }
      ]
    },
    {
      "cell_type": "markdown",
      "metadata": {
        "id": "pSFQCPtD9x5J"
      },
      "source": [
        "1.2 Представьте первое предложение из строки `text` как последовательность векторов, соответствующих индексам слов. Для представления индекса в виде вектора используйте унитарное кодирование. В результате должен получиться двумерный тензор размера `количество слов в предложении` x `количество уникальных слов`"
      ]
    },
    {
      "cell_type": "code",
      "metadata": {
        "id": "RZS4XLV0-buf"
      },
      "source": [
        "text = 'Select your preferences and run the install command. Stable represents the most currently tested and supported version of PyTorch. Note that LibTorch is only available for C++'"
      ],
      "execution_count": 8,
      "outputs": []
    },
    {
      "cell_type": "code",
      "metadata": {
        "id": "MjxyQXci3JJx"
      },
      "source": [
        "def ind_vec(text):\n",
        "  sent = ind(text)\n",
        "  sent_word = len(list(set(word_tokenize(sent_tokenize(text)[0]))))\n",
        "  words = len(set(word_tokenize(text)))\n",
        "  \n",
        "  text_t = torch.zeros(sent_word, words)\n",
        "  \n",
        "  for idx, word in enumerate(word_tokenize(sent_tokenize(text)[0])):\n",
        "    text_t[idx, sent[idx]] = 1\n",
        "  \n",
        "  return text_t"
      ],
      "execution_count": 9,
      "outputs": []
    },
    {
      "cell_type": "code",
      "metadata": {
        "colab": {
          "base_uri": "https://localhost:8080/"
        },
        "id": "TTExLSJp3I89",
        "outputId": "b6230595-2fb4-4ee6-e7e0-daf67adea026"
      },
      "source": [
        "ind_vec(text)"
      ],
      "execution_count": 10,
      "outputs": [
        {
          "output_type": "execute_result",
          "data": {
            "text/plain": [
              "tensor([[0., 0., 0., 0., 1., 0., 0., 0., 0., 0., 0., 0., 0., 0., 0., 0., 0., 0.,\n",
              "         0., 0., 0., 0., 0., 0., 0., 0.],\n",
              "        [0., 0., 1., 0., 0., 0., 0., 0., 0., 0., 0., 0., 0., 0., 0., 0., 0., 0.,\n",
              "         0., 0., 0., 0., 0., 0., 0., 0.],\n",
              "        [0., 0., 0., 1., 0., 0., 0., 0., 0., 0., 0., 0., 0., 0., 0., 0., 0., 0.,\n",
              "         0., 0., 0., 0., 0., 0., 0., 0.],\n",
              "        [0., 0., 0., 0., 0., 0., 1., 0., 0., 0., 0., 0., 0., 0., 0., 0., 0., 0.,\n",
              "         0., 0., 0., 0., 0., 0., 0., 0.],\n",
              "        [0., 0., 0., 0., 0., 0., 0., 0., 1., 0., 0., 0., 0., 0., 0., 0., 0., 0.,\n",
              "         0., 0., 0., 0., 0., 0., 0., 0.],\n",
              "        [0., 0., 0., 0., 0., 0., 0., 1., 0., 0., 0., 0., 0., 0., 0., 0., 0., 0.,\n",
              "         0., 0., 0., 0., 0., 0., 0., 0.],\n",
              "        [1., 0., 0., 0., 0., 0., 0., 0., 0., 0., 0., 0., 0., 0., 0., 0., 0., 0.,\n",
              "         0., 0., 0., 0., 0., 0., 0., 0.],\n",
              "        [0., 1., 0., 0., 0., 0., 0., 0., 0., 0., 0., 0., 0., 0., 0., 0., 0., 0.,\n",
              "         0., 0., 0., 0., 0., 0., 0., 0.],\n",
              "        [0., 0., 0., 0., 0., 1., 0., 0., 0., 0., 0., 0., 0., 0., 0., 0., 0., 0.,\n",
              "         0., 0., 0., 0., 0., 0., 0., 0.]])"
            ]
          },
          "metadata": {
            "tags": []
          },
          "execution_count": 10
        }
      ]
    },
    {
      "cell_type": "markdown",
      "metadata": {
        "id": "9ZvQKHYA-mJN"
      },
      "source": [
        "1.3 Решите задачу 1.2, используя модуль `nn.Embedding`"
      ]
    },
    {
      "cell_type": "code",
      "metadata": {
        "colab": {
          "base_uri": "https://localhost:8080/"
        },
        "id": "y9p0OXU55MID",
        "outputId": "67240353-7a00-4d60-924d-dfc662cdcffd"
      },
      "source": [
        "\n",
        "emdedding_t = torch.eye(17)\n",
        "# embedding = nn.Embedding.from_pretrained(emdedding_t)\n",
        "embedding = nn.Embedding(17,10) # создал матрицу из случайных чисел (embedding.weight)\n",
        "embedding"
      ],
      "execution_count": 11,
      "outputs": [
        {
          "output_type": "execute_result",
          "data": {
            "text/plain": [
              "Embedding(17, 10)"
            ]
          },
          "metadata": {
            "tags": []
          },
          "execution_count": 11
        }
      ]
    },
    {
      "cell_type": "code",
      "metadata": {
        "colab": {
          "base_uri": "https://localhost:8080/"
        },
        "id": "iBwSkM0F7nyj",
        "outputId": "a0a41f4e-e0d9-4289-f1ad-2e56e2c92695"
      },
      "source": [
        "# text_t1\n",
        "ind(text)"
      ],
      "execution_count": 12,
      "outputs": [
        {
          "output_type": "execute_result",
          "data": {
            "text/plain": [
              "[4, 2, 3, 6, 8, 7, 0, 1, 5]"
            ]
          },
          "metadata": {
            "tags": []
          },
          "execution_count": 12
        }
      ]
    },
    {
      "cell_type": "code",
      "metadata": {
        "colab": {
          "base_uri": "https://localhost:8080/"
        },
        "id": "4rK27sOv7pGt",
        "outputId": "22028da9-cf1f-420e-822b-bd8b68314bf9"
      },
      "source": [
        "embedding.weight"
      ],
      "execution_count": 14,
      "outputs": [
        {
          "output_type": "execute_result",
          "data": {
            "text/plain": [
              "Parameter containing:\n",
              "tensor([[ 1.5841,  0.4055, -0.7865,  0.9186, -0.0377,  0.4549, -0.0531, -0.1719,\n",
              "         -1.1494,  0.8717],\n",
              "        [ 0.8794,  0.3161,  0.4280, -0.0086, -0.0357, -0.2986, -1.6177, -1.4309,\n",
              "         -1.0816, -0.6128],\n",
              "        [ 0.4258, -1.9673,  0.8109,  0.3399, -0.5509, -0.4204, -0.3552, -0.8378,\n",
              "          0.9857,  0.3993],\n",
              "        [-1.0957, -0.2146,  0.7628, -1.2138, -2.4808,  0.9057, -2.6160, -0.3573,\n",
              "          0.4349, -0.3523],\n",
              "        [ 0.7687,  0.0875, -0.8132,  0.9698,  0.8478, -0.2247, -0.5869, -0.4440,\n",
              "          0.6483,  1.1826],\n",
              "        [ 0.9141, -0.5766, -1.5335,  0.3251,  2.1604, -0.6324,  0.4438,  0.1461,\n",
              "          0.9784,  1.0646],\n",
              "        [ 1.1767,  0.7505,  1.0350,  0.4890,  0.1177,  0.1372,  0.7517, -0.0325,\n",
              "         -0.0888,  1.2873],\n",
              "        [ 0.6435, -0.6973, -0.7462,  1.3805, -0.5572,  2.0070,  0.2420,  1.4841,\n",
              "          0.3587,  1.6314],\n",
              "        [ 0.2142, -0.0926,  0.6626,  1.4864, -0.5247,  1.9829, -0.0734,  0.2026,\n",
              "         -0.0217, -0.9345],\n",
              "        [-0.0035,  1.2861, -0.6698,  0.7460,  0.7141, -1.5576, -0.3700, -0.7614,\n",
              "         -0.5084,  2.7687],\n",
              "        [-1.7677,  1.1322,  0.1226,  0.0252,  0.7108,  0.1277, -1.9424,  0.4370,\n",
              "         -0.0425, -1.7013],\n",
              "        [ 0.4420, -0.6019, -0.0464, -0.3439, -0.1360, -0.2256, -0.5393,  1.1319,\n",
              "          0.3373,  0.3764],\n",
              "        [-1.3003, -0.4748,  0.3642, -0.4239,  0.7587, -2.0742, -1.6795, -0.7408,\n",
              "          2.1249,  0.7651],\n",
              "        [ 0.4988, -0.6277, -0.6914,  0.9298,  1.0221,  1.5215, -0.5285, -0.0238,\n",
              "          0.3983,  0.4237],\n",
              "        [ 0.8844,  1.8488,  0.0060, -0.6598,  1.5825, -0.0900,  1.4609,  0.5338,\n",
              "          0.4331,  1.2862],\n",
              "        [-0.4922, -0.6584,  0.1375, -0.8950, -0.8411, -0.0471, -0.6989, -0.5352,\n",
              "         -2.0660, -1.8266],\n",
              "        [ 0.5258, -1.0596,  1.5272,  0.4966, -2.0100, -0.5772,  0.1824,  0.6501,\n",
              "         -0.5535,  0.0370]], requires_grad=True)"
            ]
          },
          "metadata": {
            "tags": []
          },
          "execution_count": 14
        }
      ]
    },
    {
      "cell_type": "code",
      "metadata": {
        "colab": {
          "base_uri": "https://localhost:8080/"
        },
        "id": "hDXboDvm7X1E",
        "outputId": "f925d2a0-6062-4522-f06a-6e02332b8ae0"
      },
      "source": [
        "# embedding(text_t1)\n",
        "embedding(torch.LongTensor(ind(text)))"
      ],
      "execution_count": 15,
      "outputs": [
        {
          "output_type": "execute_result",
          "data": {
            "text/plain": [
              "tensor([[ 0.7687,  0.0875, -0.8132,  0.9698,  0.8478, -0.2247, -0.5869, -0.4440,\n",
              "          0.6483,  1.1826],\n",
              "        [ 0.4258, -1.9673,  0.8109,  0.3399, -0.5509, -0.4204, -0.3552, -0.8378,\n",
              "          0.9857,  0.3993],\n",
              "        [-1.0957, -0.2146,  0.7628, -1.2138, -2.4808,  0.9057, -2.6160, -0.3573,\n",
              "          0.4349, -0.3523],\n",
              "        [ 1.1767,  0.7505,  1.0350,  0.4890,  0.1177,  0.1372,  0.7517, -0.0325,\n",
              "         -0.0888,  1.2873],\n",
              "        [ 0.2142, -0.0926,  0.6626,  1.4864, -0.5247,  1.9829, -0.0734,  0.2026,\n",
              "         -0.0217, -0.9345],\n",
              "        [ 0.6435, -0.6973, -0.7462,  1.3805, -0.5572,  2.0070,  0.2420,  1.4841,\n",
              "          0.3587,  1.6314],\n",
              "        [ 1.5841,  0.4055, -0.7865,  0.9186, -0.0377,  0.4549, -0.0531, -0.1719,\n",
              "         -1.1494,  0.8717],\n",
              "        [ 0.8794,  0.3161,  0.4280, -0.0086, -0.0357, -0.2986, -1.6177, -1.4309,\n",
              "         -1.0816, -0.6128],\n",
              "        [ 0.9141, -0.5766, -1.5335,  0.3251,  2.1604, -0.6324,  0.4438,  0.1461,\n",
              "          0.9784,  1.0646]], grad_fn=<EmbeddingBackward>)"
            ]
          },
          "metadata": {
            "tags": []
          },
          "execution_count": 15
        }
      ]
    },
    {
      "cell_type": "code",
      "metadata": {
        "colab": {
          "base_uri": "https://localhost:8080/"
        },
        "id": "a918daMr9NAB",
        "outputId": "30b9d115-994e-404c-a336-a6a777292cce"
      },
      "source": [
        "from google.colab import drive\n",
        "drive.mount('/content/drive')"
      ],
      "execution_count": 4,
      "outputs": [
        {
          "output_type": "stream",
          "text": [
            "Mounted at /content/drive\n"
          ],
          "name": "stdout"
        }
      ]
    },
    {
      "cell_type": "markdown",
      "metadata": {
        "id": "TXjM7qEUNFY_"
      },
      "source": [
        "## 2. Классификация фамилий по национальности (ConvNet)\n",
        "\n",
        "Датасет: https://disk.yandex.ru/d/owHew8hzPc7X9Q?w=1\n",
        "\n",
        "2.1 Считать файл `surnames/surnames.csv`. \n",
        "\n",
        "2.2 Закодировать национальности числами, начиная с 0.\n",
        "\n",
        "2.3 Разбить датасет на обучающую и тестовую выборку\n",
        "\n",
        "2.4 Реализовать класс `Vocab` (токен = __символ__)\n",
        "  * добавьте в словарь специальный токен `<PAD>` с индексом 0\n",
        "  * при создании словаря сохраните длину самой длинной последовательности из набора данных в виде атрибута `max_seq_len`\n",
        "\n",
        "2.5 Реализовать класс `SurnamesDataset`\n",
        "  * метод `__getitem__` возвращает пару: <последовательность индексов токенов (см. 1.1 ), номер класса> \n",
        "  * длина каждой такой последовательности должна быть одинаковой и равной `vocab.max_seq_len`. Чтобы добиться этого, дополните последовательность справа индексом токена `<PAD>` до нужной длины\n",
        "\n",
        "2.6. Обучить классификатор.\n",
        "  \n",
        "  * Для преобразования последовательности индексов в последовательность векторов используйте `nn.Embedding`. Рассмотрите два варианта: \n",
        "    - когда токен представляется в виде унитарного вектора и модуль `nn.Embedding` не обучается\n",
        "    - когда токен представляется в виде вектора небольшой размерности (меньше, чем размер словаря) и модуль `nn.Embedding` обучается\n",
        "\n",
        "  * Используйте одномерные свертки и пулинг (`nn.Conv1d`, `nn.MaxPool1d`)\n",
        "    - обратите внимание, что `nn.Conv1d` ожидает на вход трехмерный тензор размерности `(batch, embedding_dim, seq_len)`\n",
        "\n",
        "2.7 Измерить точность на тестовой выборке. Проверить работоспособность модели: прогнать несколько фамилий студентов группы через модели и проверить результат. Для каждой фамилии выводить 3 наиболее вероятных предсказания."
      ]
    },
    {
      "cell_type": "code",
      "metadata": {
        "colab": {
          "base_uri": "https://localhost:8080/",
          "height": 194
        },
        "id": "YjE0v78n9SJs",
        "outputId": "1f963eb3-409a-4b9d-91ab-21b4a89887de"
      },
      "source": [
        "df = pd.read_csv('/content/drive/MyDrive/datasets/surnames.csv')\n",
        "df.head()"
      ],
      "execution_count": 17,
      "outputs": [
        {
          "output_type": "execute_result",
          "data": {
            "text/html": [
              "<div>\n",
              "<style scoped>\n",
              "    .dataframe tbody tr th:only-of-type {\n",
              "        vertical-align: middle;\n",
              "    }\n",
              "\n",
              "    .dataframe tbody tr th {\n",
              "        vertical-align: top;\n",
              "    }\n",
              "\n",
              "    .dataframe thead th {\n",
              "        text-align: right;\n",
              "    }\n",
              "</style>\n",
              "<table border=\"1\" class=\"dataframe\">\n",
              "  <thead>\n",
              "    <tr style=\"text-align: right;\">\n",
              "      <th></th>\n",
              "      <th>surname</th>\n",
              "      <th>nationality</th>\n",
              "    </tr>\n",
              "  </thead>\n",
              "  <tbody>\n",
              "    <tr>\n",
              "      <th>0</th>\n",
              "      <td>Woodford</td>\n",
              "      <td>English</td>\n",
              "    </tr>\n",
              "    <tr>\n",
              "      <th>1</th>\n",
              "      <td>Coté</td>\n",
              "      <td>French</td>\n",
              "    </tr>\n",
              "    <tr>\n",
              "      <th>2</th>\n",
              "      <td>Kore</td>\n",
              "      <td>English</td>\n",
              "    </tr>\n",
              "    <tr>\n",
              "      <th>3</th>\n",
              "      <td>Koury</td>\n",
              "      <td>Arabic</td>\n",
              "    </tr>\n",
              "    <tr>\n",
              "      <th>4</th>\n",
              "      <td>Lebzak</td>\n",
              "      <td>Russian</td>\n",
              "    </tr>\n",
              "  </tbody>\n",
              "</table>\n",
              "</div>"
            ],
            "text/plain": [
              "    surname nationality\n",
              "0  Woodford     English\n",
              "1      Coté      French\n",
              "2      Kore     English\n",
              "3     Koury      Arabic\n",
              "4    Lebzak     Russian"
            ]
          },
          "metadata": {
            "tags": []
          },
          "execution_count": 17
        }
      ]
    },
    {
      "cell_type": "code",
      "metadata": {
        "colab": {
          "base_uri": "https://localhost:8080/",
          "height": 194
        },
        "id": "ZCuBAKYE9fGq",
        "outputId": "9fc35aba-0f60-4af9-d8c9-9e682eb436ae"
      },
      "source": [
        "label_enc = LabelEncoder()\n",
        "df['label_nationality'] = label_enc.fit_transform(df['nationality'])\n",
        "df.head()"
      ],
      "execution_count": 18,
      "outputs": [
        {
          "output_type": "execute_result",
          "data": {
            "text/html": [
              "<div>\n",
              "<style scoped>\n",
              "    .dataframe tbody tr th:only-of-type {\n",
              "        vertical-align: middle;\n",
              "    }\n",
              "\n",
              "    .dataframe tbody tr th {\n",
              "        vertical-align: top;\n",
              "    }\n",
              "\n",
              "    .dataframe thead th {\n",
              "        text-align: right;\n",
              "    }\n",
              "</style>\n",
              "<table border=\"1\" class=\"dataframe\">\n",
              "  <thead>\n",
              "    <tr style=\"text-align: right;\">\n",
              "      <th></th>\n",
              "      <th>surname</th>\n",
              "      <th>nationality</th>\n",
              "      <th>label_nationality</th>\n",
              "    </tr>\n",
              "  </thead>\n",
              "  <tbody>\n",
              "    <tr>\n",
              "      <th>0</th>\n",
              "      <td>Woodford</td>\n",
              "      <td>English</td>\n",
              "      <td>4</td>\n",
              "    </tr>\n",
              "    <tr>\n",
              "      <th>1</th>\n",
              "      <td>Coté</td>\n",
              "      <td>French</td>\n",
              "      <td>5</td>\n",
              "    </tr>\n",
              "    <tr>\n",
              "      <th>2</th>\n",
              "      <td>Kore</td>\n",
              "      <td>English</td>\n",
              "      <td>4</td>\n",
              "    </tr>\n",
              "    <tr>\n",
              "      <th>3</th>\n",
              "      <td>Koury</td>\n",
              "      <td>Arabic</td>\n",
              "      <td>0</td>\n",
              "    </tr>\n",
              "    <tr>\n",
              "      <th>4</th>\n",
              "      <td>Lebzak</td>\n",
              "      <td>Russian</td>\n",
              "      <td>14</td>\n",
              "    </tr>\n",
              "  </tbody>\n",
              "</table>\n",
              "</div>"
            ],
            "text/plain": [
              "    surname nationality  label_nationality\n",
              "0  Woodford     English                  4\n",
              "1      Coté      French                  5\n",
              "2      Kore     English                  4\n",
              "3     Koury      Arabic                  0\n",
              "4    Lebzak     Russian                 14"
            ]
          },
          "metadata": {
            "tags": []
          },
          "execution_count": 18
        }
      ]
    },
    {
      "cell_type": "code",
      "metadata": {
        "id": "See8sBpf9xde"
      },
      "source": [
        "X_train, X_test, y_train, y_test = train_test_split(df['surname'], df['label_nationality'], test_size = 0.2)"
      ],
      "execution_count": 19,
      "outputs": []
    },
    {
      "cell_type": "code",
      "metadata": {
        "id": "ZGfJX2NP1sw4"
      },
      "source": [
        "class Vocab:\n",
        "  def __init__(self, data):\n",
        "    tokens = set()\n",
        "    for surname in data:\n",
        "      tokens.update(surname)\n",
        "\n",
        "    self.max_seq_len = max([len(val) for val in data])\n",
        "    \n",
        "    self.idx_to_token = {(idx+1): token for idx, token in enumerate(tokens)} # Индекс токен: буква\n",
        "    self.idx_to_token[0] = '<PAD>'\n",
        "    self.token_to_idx = {token: idx for idx, token in self.idx_to_token.items()} # обратный первому\n",
        "    self.vocab_len = len(self.idx_to_token)"
      ],
      "execution_count": 20,
      "outputs": []
    },
    {
      "cell_type": "code",
      "metadata": {
        "colab": {
          "base_uri": "https://localhost:8080/"
        },
        "id": "c0Gj4eTZ_noU",
        "outputId": "30da20ff-311f-47a4-d73f-ee34d2b7aa99"
      },
      "source": [
        "vocab = Vocab(df['surname'])\n",
        "vocab.max_seq_len, vocab.vocab_len"
      ],
      "execution_count": 21,
      "outputs": [
        {
          "output_type": "execute_result",
          "data": {
            "text/plain": [
              "(17, 85)"
            ]
          },
          "metadata": {
            "tags": []
          },
          "execution_count": 21
        }
      ]
    },
    {
      "cell_type": "code",
      "metadata": {
        "id": "GHjCRqQg1sw5"
      },
      "source": [
        "class SurnamesDataset(Dataset):\n",
        "  def __init__(self, X, y, vocab: Vocab):\n",
        "    self.X = X\n",
        "    self.y = y\n",
        "    self.vocab = vocab\n",
        "\n",
        "  def vectorize(self, surname):\n",
        "    '''Генерирует представление отзыва review в виде bag of words (см. 1.2.1)'''\n",
        "    # ДОПОЛНИТЬ НУЛЯМИ ВЗАДИ\n",
        "    surname_t = torch.zeros(self.vocab.max_seq_len, dtype = int)\n",
        "    \n",
        "    for idx, char in enumerate(surname):\n",
        "      surname_t[idx] = self.vocab.token_to_idx[char]\n",
        "    \n",
        "    return surname_t\n",
        "\n",
        "  def __len__(self):\n",
        "    return len(self.X)\n",
        "\n",
        "  def __getitem__(self, idx):\n",
        "    return self.vectorize(self.X[idx]), self.y[idx]"
      ],
      "execution_count": 22,
      "outputs": []
    },
    {
      "cell_type": "code",
      "metadata": {
        "colab": {
          "base_uri": "https://localhost:8080/"
        },
        "id": "JXka6UlAmEMS",
        "outputId": "9b27284e-24a9-4862-914c-d1a2fae3ac44"
      },
      "source": [
        "dataset = SurnamesDataset(list(X_train), list(y_train), vocab)\n",
        "dataset[0]"
      ],
      "execution_count": 23,
      "outputs": [
        {
          "output_type": "execute_result",
          "data": {
            "text/plain": [
              "(tensor([81, 60, 60,  5, 25,  5, 68, 25, 58, 23, 68, 23,  0,  0,  0,  0,  0]),\n",
              " 9)"
            ]
          },
          "metadata": {
            "tags": []
          },
          "execution_count": 23
        }
      ]
    },
    {
      "cell_type": "code",
      "metadata": {
        "colab": {
          "base_uri": "https://localhost:8080/",
          "height": 76
        },
        "id": "IxRaHbDGmhwS",
        "outputId": "90e7ad5c-f0ed-40f6-af0d-6342ba54d4b7"
      },
      "source": [
        "df[df['surname'] == 'Abbatantuono']"
      ],
      "execution_count": 28,
      "outputs": [
        {
          "output_type": "execute_result",
          "data": {
            "text/html": [
              "<div>\n",
              "<style scoped>\n",
              "    .dataframe tbody tr th:only-of-type {\n",
              "        vertical-align: middle;\n",
              "    }\n",
              "\n",
              "    .dataframe tbody tr th {\n",
              "        vertical-align: top;\n",
              "    }\n",
              "\n",
              "    .dataframe thead th {\n",
              "        text-align: right;\n",
              "    }\n",
              "</style>\n",
              "<table border=\"1\" class=\"dataframe\">\n",
              "  <thead>\n",
              "    <tr style=\"text-align: right;\">\n",
              "      <th></th>\n",
              "      <th>surname</th>\n",
              "      <th>nationality</th>\n",
              "      <th>label_nationality</th>\n",
              "    </tr>\n",
              "  </thead>\n",
              "  <tbody>\n",
              "    <tr>\n",
              "      <th>3317</th>\n",
              "      <td>Abbatantuono</td>\n",
              "      <td>Italian</td>\n",
              "      <td>9</td>\n",
              "    </tr>\n",
              "  </tbody>\n",
              "</table>\n",
              "</div>"
            ],
            "text/plain": [
              "           surname nationality  label_nationality\n",
              "3317  Abbatantuono     Italian                  9"
            ]
          },
          "metadata": {
            "tags": []
          },
          "execution_count": 28
        }
      ]
    },
    {
      "cell_type": "code",
      "metadata": {
        "colab": {
          "base_uri": "https://localhost:8080/"
        },
        "id": "qhvKkTXamjrV",
        "outputId": "07b418c6-440e-4cd2-f70e-e673b5a7379c"
      },
      "source": [
        "for idx in dataset[0][0]:\n",
        "  print(vocab.idx_to_token[idx.item()]) "
      ],
      "execution_count": 29,
      "outputs": [
        {
          "output_type": "stream",
          "text": [
            "A\n",
            "b\n",
            "b\n",
            "a\n",
            "t\n",
            "a\n",
            "n\n",
            "t\n",
            "u\n",
            "o\n",
            "n\n",
            "o\n",
            "<PAD>\n",
            "<PAD>\n",
            "<PAD>\n",
            "<PAD>\n",
            "<PAD>\n"
          ],
          "name": "stdout"
        }
      ]
    },
    {
      "cell_type": "code",
      "metadata": {
        "id": "cpcgd56oTSd-"
      },
      "source": [
        "class CNNSurnameNet(nn.Module):\n",
        "  def __init__(self, vocab_size, embedding_dim, n_classes):\n",
        "    super().__init__()\n",
        "\n",
        "    self.embeddings = nn.Embedding(vocab_size, embedding_dim)\n",
        "\n",
        "    self.layer1 = nn.Sequential(nn.Conv1d(embedding_dim, 128, kernel_size = 2),\n",
        "                                nn.ReLU(),\n",
        "                                nn.MaxPool1d(2))\n",
        "    \n",
        "    self.layer2 = nn.Sequential(nn.Conv1d(128, 64, 2),\n",
        "                                nn.ReLU(),\n",
        "                                nn.MaxPool1d(2))\n",
        "    \n",
        "    self.fc = nn.Sequential(nn.Flatten(),\n",
        "                            nn.Linear(64*3, 64), # было 64*4\n",
        "                            nn.ReLU(),\n",
        "                            nn.Linear(64, n_classes))\n",
        "    \n",
        "  def forward(self, input):\n",
        "    embed = self.embeddings(input).permute(0, 2, 1) \n",
        "    out = self.layer1(embed)\n",
        "    out = self.layer2(out)\n",
        "    out = self.fc(out)\n",
        "    return out"
      ],
      "execution_count": 72,
      "outputs": []
    },
    {
      "cell_type": "code",
      "metadata": {
        "colab": {
          "base_uri": "https://localhost:8080/"
        },
        "id": "b3B4u7t94Wr4",
        "outputId": "fa0334ec-6409-4871-8be2-a2dd9e015b04"
      },
      "source": [
        "y_train.nunique(), y_test.nunique()"
      ],
      "execution_count": 32,
      "outputs": [
        {
          "output_type": "execute_result",
          "data": {
            "text/plain": [
              "(18, 18)"
            ]
          },
          "metadata": {
            "tags": []
          },
          "execution_count": 32
        }
      ]
    },
    {
      "cell_type": "code",
      "metadata": {
        "id": "qZAnTNmuMLyn",
        "colab": {
          "base_uri": "https://localhost:8080/"
        },
        "outputId": "62a09e05-53f4-457a-b223-eac78f764af1"
      },
      "source": [
        "dataset_train = SurnamesDataset(list(X_train), list(y_train), vocab)\n",
        "train_data = DataLoader(dataset_train, batch_size = 32, shuffle = True)\n",
        "\n",
        "vocab_size = vocab.vocab_len\n",
        "#hidden_size = 512\n",
        "embedding_dim = 16\n",
        "n_classes = y_train.nunique()\n",
        "\n",
        "model  = CNNSurnameNet(vocab_size = vocab_size, embedding_dim = embedding_dim, n_classes = n_classes)\n",
        "criteriation = nn.CrossEntropyLoss()\n",
        "optimazer = optim.Adam(model.parameters(), lr = 0.001, weight_decay = 5*10**(-4))\n",
        "\n",
        "early_stop = EarlyStopping(patience = 3, verbose = False, delta = 0.001)\n",
        "\n",
        "loss_history = list()\n",
        "epochs_history = list()\n",
        "\n",
        "n_epochs = 500\n",
        "\n",
        "for epoch in range(1, n_epochs + 1):\n",
        "  loss_batch = 0\n",
        "\n",
        "  for X_batch, y_batch in train_data:\n",
        "    out = model(X_batch)\n",
        "\n",
        "    cur_loss = criteriation(out, y_batch)\n",
        "    loss_batch += cur_loss\n",
        "\n",
        "    cur_loss.backward()\n",
        "    optimazer.step()\n",
        "    optimazer.zero_grad()\n",
        "\n",
        "  loss_history.append(loss_batch/len(train_data))\n",
        "  epochs_history.append(epoch)\n",
        "\n",
        "  if epoch % 2:\n",
        "    print(f'Epoch: [{epoch}/{n_epochs}]: Loss_Train = {loss_history[-1]}')\n",
        "\n",
        "  early_stop(loss_history[-1], model)\n",
        "\n",
        "  if early_stop.early_stop:\n",
        "      print(f\"Early stopping on epoch: [{epoch}/{n_epochs}] with Loss_Train = {loss_history[-1]}\")\n",
        "      break\n",
        "\n",
        "torch.save(model, '/content/drive/MyDrive/models/CNN_embedding_Surname_(b_6_t_2).pth')"
      ],
      "execution_count": 76,
      "outputs": [
        {
          "output_type": "stream",
          "text": [
            "Epoch: [1/500]: Loss_Train = 1.8589836359024048\n",
            "Epoch: [3/500]: Loss_Train = 1.1068143844604492\n",
            "Epoch: [5/500]: Loss_Train = 0.9335907697677612\n",
            "Epoch: [7/500]: Loss_Train = 0.8267406225204468\n",
            "Epoch: [9/500]: Loss_Train = 0.7408093810081482\n",
            "Epoch: [11/500]: Loss_Train = 0.6771645545959473\n",
            "Epoch: [13/500]: Loss_Train = 0.6279529929161072\n",
            "Epoch: [15/500]: Loss_Train = 0.5701956748962402\n",
            "Epoch: [17/500]: Loss_Train = 0.5368896722793579\n",
            "Epoch: [19/500]: Loss_Train = 0.4913105368614197\n",
            "Epoch: [21/500]: Loss_Train = 0.4568398594856262\n",
            "Epoch: [23/500]: Loss_Train = 0.42949536442756653\n",
            "Epoch: [25/500]: Loss_Train = 0.3988833427429199\n",
            "Epoch: [27/500]: Loss_Train = 0.37224236130714417\n",
            "Epoch: [29/500]: Loss_Train = 0.3494010865688324\n",
            "Epoch: [31/500]: Loss_Train = 0.3239106833934784\n",
            "Epoch: [33/500]: Loss_Train = 0.3039623498916626\n",
            "Epoch: [35/500]: Loss_Train = 0.29491788148880005\n",
            "Epoch: [37/500]: Loss_Train = 0.27469897270202637\n",
            "Epoch: [39/500]: Loss_Train = 0.2690242826938629\n",
            "EarlyStopping counter: 1 out of 3\n",
            "EarlyStopping counter: 2 out of 3\n",
            "Epoch: [41/500]: Loss_Train = 0.24721820652484894\n",
            "EarlyStopping counter: 1 out of 3\n",
            "Epoch: [43/500]: Loss_Train = 0.23134438693523407\n",
            "EarlyStopping counter: 1 out of 3\n",
            "Epoch: [45/500]: Loss_Train = 0.22791394591331482\n",
            "EarlyStopping counter: 1 out of 3\n",
            "Epoch: [47/500]: Loss_Train = 0.2244892120361328\n",
            "Epoch: [49/500]: Loss_Train = 0.20501479506492615\n",
            "EarlyStopping counter: 1 out of 3\n",
            "Epoch: [51/500]: Loss_Train = 0.20976106822490692\n",
            "EarlyStopping counter: 2 out of 3\n",
            "Epoch: [53/500]: Loss_Train = 0.19487681984901428\n",
            "EarlyStopping counter: 1 out of 3\n",
            "EarlyStopping counter: 2 out of 3\n",
            "Epoch: [55/500]: Loss_Train = 0.1949748396873474\n",
            "EarlyStopping counter: 3 out of 3\n",
            "Early stopping on epoch: [55/500] with Loss_Train = 0.1949748396873474\n"
          ],
          "name": "stdout"
        }
      ]
    },
    {
      "cell_type": "code",
      "metadata": {
        "colab": {
          "base_uri": "https://localhost:8080/",
          "height": 350
        },
        "id": "A06gwalkzY1S",
        "outputId": "6ffb2694-94a1-48df-d82d-597c625fab72"
      },
      "source": [
        "fig, ax = plt.subplots(figsize = (10, 5))\n",
        "plt.plot(epochs_history, loss_history)\n",
        "plt.title('Loss for each epochs')\n",
        "plt.xlabel('Epochs')\n",
        "plt.ylabel('Loss')\n",
        "plt.grid()"
      ],
      "execution_count": 79,
      "outputs": [
        {
          "output_type": "display_data",
          "data": {
            "image/png": "[encoded data removed]",
            "text/plain": [
              "<Figure size 720x360 with 1 Axes>"
            ]
          },
          "metadata": {
            "tags": [],
            "needs_background": "light"
          }
        }
      ]
    },
    {
      "cell_type": "code",
      "metadata": {
        "colab": {
          "base_uri": "https://localhost:8080/"
        },
        "id": "lt4cVfKU6Woq",
        "outputId": "36732471-dea8-4266-9d70-861662a64342"
      },
      "source": [
        "dataset_train = SurnamesDataset(list(X_test), list(y_test), vocab)\n",
        "train_data = DataLoader(dataset_train, batch_size = len(dataset_train), shuffle = True)\n",
        "\n",
        "correct, total = 0, 0\n",
        "with torch.no_grad():\n",
        "  for X_batch, y_batch in train_data:\n",
        "    pred = model(X_batch)\n",
        "\n",
        "    _, predicted = torch.max(pred, dim = 1)\n",
        "    total += y_batch.shape[0]\n",
        "    correct += int((predicted == y_batch).sum())\n",
        "\n",
        "    f1 = f1_score(y_batch.numpy(), predicted.numpy(), average='weighted') # weighted, т.к. дисбаланс классов\n",
        "\n",
        "print(f'Accuracy: {correct/total}')\n",
        "\n",
        "print(f'F1: {f1}')"
      ],
      "execution_count": 80,
      "outputs": [
        {
          "output_type": "stream",
          "text": [
            "Accuracy: 0.7226775956284153\n",
            "F1: 0.7139303581258039\n"
          ],
          "name": "stdout"
        }
      ]
    },
    {
      "cell_type": "code",
      "metadata": {
        "colab": {
          "base_uri": "https://localhost:8080/"
        },
        "id": "0l0LNQXZzZ7Z",
        "outputId": "084eabdd-c4ac-4239-c475-34e356952949"
      },
      "source": [
        "X_classmates = ['Semenov', 'Zaraev', 'Ragimov']\n",
        "y_fictit = [0, 0, 0]\n",
        "\n",
        "classmats = SurnamesDataset(X_classmates, y_fictit, vocab)\n",
        "train_data = DataLoader(classmats, batch_size = 1, shuffle = True)\n",
        "\n",
        "with torch.no_grad():\n",
        "  for idx, (x, y) in enumerate(train_data):\n",
        "    out = model(x)\n",
        "    _, ind = torch.sort(out)\n",
        "    ind = ind[0]\n",
        "    print(f'Наиболее вероятные нациаональности для фамилии {X_classmates[idx]}:')\n",
        "    for id, v in enumerate(ind[-3:]):\n",
        "      ans = list(set(df[df['label_nationality'] == v.item()]['nationality']))[0]\n",
        "      print(f'{abs(id - 3)}) {ans}')"
      ],
      "execution_count": 95,
      "outputs": [
        {
          "output_type": "stream",
          "text": [
            "Наиболее вероятные нациаональности для фамилии Semenov:\n",
            "3) German\n",
            "2) Irish\n",
            "1) Russian\n",
            "Наиболее вероятные нациаональности для фамилии Zaraev:\n",
            "3) Irish\n",
            "2) Japanese\n",
            "1) Russian\n",
            "Наиболее вероятные нациаональности для фамилии Ragimov:\n",
            "3) Irish\n",
            "2) Czech\n",
            "1) Russian\n"
          ],
          "name": "stdout"
        }
      ]
    },
    {
      "cell_type": "markdown",
      "metadata": {
        "id": "uo-hf5CQ0iWv"
      },
      "source": [
        "## 3. Классификация обзоров на фильмы (ConvNet)\n",
        "\n",
        "Датасет: https://disk.yandex.ru/d/tdinpb0nN_Dsrg\n",
        "\n",
        "2.1 Создайте набор данных на основе файлов polarity/positive_reviews.csv (положительные отзывы) и polarity/negative_reviews.csv (отрицательные отзывы). Разбейте на обучающую и тестовую выборку.\n",
        "  * токен = __слово__\n",
        "  * данные для обучения в датасете представляются в виде последовательности индексов токенов\n",
        "  * словарь создается на основе _только_ обучающей выборки. Для корректной обработки ситуаций, когда в тестовой выборке встретится токен, который не хранится в словаре, добавьте в словарь специальный токен `<UNK>`\n",
        "  * добавьте предобработку текста\n",
        "\n",
        "2.2. Обучите классификатор.\n",
        "  \n",
        "  * Для преобразования последовательности индексов в последовательность векторов используйте `nn.Embedding` \n",
        "    - подберите адекватную размерность вектора эмбеддинга: \n",
        "    - модуль `nn.Embedding` обучается\n",
        "\n",
        "  * Используйте одномерные свертки и пулинг (`nn.Conv1d`, `nn.MaxPool1d`)\n",
        "    - обратите внимание, что `nn.Conv1d` ожидает на вход трехмерный тензор размерности `(batch, embedding_dim, seq_len)`\n",
        "\n",
        "\n",
        "2.7 Измерить точность на тестовой выборке. Проверить работоспособность модели: придумать небольшой отзыв, прогнать его через модель и вывести номер предсказанного класса (сделать это для явно позитивного и явно негативного отзыва)\n",
        "* Целевое значение accuracy на валидации - 70+%"
      ]
    },
    {
      "cell_type": "code",
      "metadata": {
        "colab": {
          "base_uri": "https://localhost:8080/",
          "height": 394
        },
        "id": "Sn37NxKvE41d",
        "outputId": "73b045ba-fa1b-421f-86cb-98391fe807bc"
      },
      "source": [
        "def read_text(path):\n",
        "  with open(path, 'r') as pos:\n",
        "    posit = list()\n",
        "    for line in pos:\n",
        "      posit.append(line.rstrip())\n",
        "    return posit\n",
        "\n",
        "pos_file = read_text('/content/drive/MyDrive/datasets/polarity/positive_reviews.txt')\n",
        "df_pos = pd.DataFrame({'review': pos_file, 'label': [0 for i in range(len(pos_file))]})\n",
        "print(f'count positive reviews: {df_pos.shape[0]}')\n",
        "\n",
        "neg_file = read_text('/content/drive/MyDrive/datasets/polarity/negative_reviews.txt')\n",
        "df_neg = pd.DataFrame({'review': neg_file, 'label': [1 for i in range(len(neg_file))]})\n",
        "\n",
        "print(f'count negative reviews: {df_neg.shape[0]}')\n",
        "\n",
        "df = pd.concat([df_pos, df_neg], ignore_index=True)\n",
        "\n",
        "display(df.sample(10)), df.shape"
      ],
      "execution_count": 6,
      "outputs": [
        {
          "output_type": "stream",
          "text": [
            "count positive reviews: 5331\n",
            "count negative reviews: 5331\n"
          ],
          "name": "stdout"
        },
        {
          "output_type": "display_data",
          "data": {
            "text/html": [
              "<div>\n",
              "<style scoped>\n",
              "    .dataframe tbody tr th:only-of-type {\n",
              "        vertical-align: middle;\n",
              "    }\n",
              "\n",
              "    .dataframe tbody tr th {\n",
              "        vertical-align: top;\n",
              "    }\n",
              "\n",
              "    .dataframe thead th {\n",
              "        text-align: right;\n",
              "    }\n",
              "</style>\n",
              "<table border=\"1\" class=\"dataframe\">\n",
              "  <thead>\n",
              "    <tr style=\"text-align: right;\">\n",
              "      <th></th>\n",
              "      <th>review</th>\n",
              "      <th>label</th>\n",
              "    </tr>\n",
              "  </thead>\n",
              "  <tbody>\n",
              "    <tr>\n",
              "      <th>8901</th>\n",
              "      <td>meant for star wars fans . it is there to give...</td>\n",
              "      <td>1</td>\n",
              "    </tr>\n",
              "    <tr>\n",
              "      <th>5683</th>\n",
              "      <td>boisterous , heartfelt comedy .</td>\n",
              "      <td>1</td>\n",
              "    </tr>\n",
              "    <tr>\n",
              "      <th>297</th>\n",
              "      <td>this follow-up seems so similar to the 1953 di...</td>\n",
              "      <td>0</td>\n",
              "    </tr>\n",
              "    <tr>\n",
              "      <th>9992</th>\n",
              "      <td>to some eyes this will seem like a recycling o...</td>\n",
              "      <td>1</td>\n",
              "    </tr>\n",
              "    <tr>\n",
              "      <th>7231</th>\n",
              "      <td>it's a satisfying summer blockbuster and worth...</td>\n",
              "      <td>1</td>\n",
              "    </tr>\n",
              "    <tr>\n",
              "      <th>613</th>\n",
              "      <td>offers no new insight on the matter , nor do i...</td>\n",
              "      <td>0</td>\n",
              "    </tr>\n",
              "    <tr>\n",
              "      <th>9390</th>\n",
              "      <td>more than anything else , kissing jessica stei...</td>\n",
              "      <td>1</td>\n",
              "    </tr>\n",
              "    <tr>\n",
              "      <th>64</th>\n",
              "      <td>mattei's underdeveloped effort here is nothing...</td>\n",
              "      <td>0</td>\n",
              "    </tr>\n",
              "    <tr>\n",
              "      <th>8501</th>\n",
              "      <td>this is not chabrol's best , but even his less...</td>\n",
              "      <td>1</td>\n",
              "    </tr>\n",
              "    <tr>\n",
              "      <th>5823</th>\n",
              "      <td>as shaky as the plot is , kaufman's script is ...</td>\n",
              "      <td>1</td>\n",
              "    </tr>\n",
              "  </tbody>\n",
              "</table>\n",
              "</div>"
            ],
            "text/plain": [
              "                                                 review  label\n",
              "8901  meant for star wars fans . it is there to give...      1\n",
              "5683                    boisterous , heartfelt comedy .      1\n",
              "297   this follow-up seems so similar to the 1953 di...      0\n",
              "9992  to some eyes this will seem like a recycling o...      1\n",
              "7231  it's a satisfying summer blockbuster and worth...      1\n",
              "613   offers no new insight on the matter , nor do i...      0\n",
              "9390  more than anything else , kissing jessica stei...      1\n",
              "64    mattei's underdeveloped effort here is nothing...      0\n",
              "8501  this is not chabrol's best , but even his less...      1\n",
              "5823  as shaky as the plot is , kaufman's script is ...      1"
            ]
          },
          "metadata": {
            "tags": []
          }
        },
        {
          "output_type": "execute_result",
          "data": {
            "text/plain": [
              "(None, (10662, 2))"
            ]
          },
          "metadata": {
            "tags": []
          },
          "execution_count": 6
        }
      ]
    },
    {
      "cell_type": "code",
      "metadata": {
        "colab": {
          "base_uri": "https://localhost:8080/",
          "height": 247
        },
        "id": "P0JXOkzX9XvF",
        "outputId": "deb9ebc4-65e8-4d66-f1fd-54ccfad22f63"
      },
      "source": [
        "# предобработка текста\n",
        "for idx, rev in enumerate(df['review']):\n",
        "  rev = re.sub(r\"[^a-zA-Z.,!?[]]\", \" \", rev)\n",
        "  rev = re.sub(r\"[[]]\", \"\", rev)\n",
        "  df.loc[idx, 'review'] = rev.lower() \n",
        "\n",
        "print(df.shape)\n",
        "df.sample(5)"
      ],
      "execution_count": 7,
      "outputs": [
        {
          "output_type": "stream",
          "text": [
            "/usr/local/lib/python3.7/dist-packages/ipykernel_launcher.py:4: FutureWarning: Possible nested set at position 1\n",
            "  after removing the cwd from sys.path.\n"
          ],
          "name": "stderr"
        },
        {
          "output_type": "stream",
          "text": [
            "(10662, 2)\n"
          ],
          "name": "stdout"
        },
        {
          "output_type": "execute_result",
          "data": {
            "text/html": [
              "<div>\n",
              "<style scoped>\n",
              "    .dataframe tbody tr th:only-of-type {\n",
              "        vertical-align: middle;\n",
              "    }\n",
              "\n",
              "    .dataframe tbody tr th {\n",
              "        vertical-align: top;\n",
              "    }\n",
              "\n",
              "    .dataframe thead th {\n",
              "        text-align: right;\n",
              "    }\n",
              "</style>\n",
              "<table border=\"1\" class=\"dataframe\">\n",
              "  <thead>\n",
              "    <tr style=\"text-align: right;\">\n",
              "      <th></th>\n",
              "      <th>review</th>\n",
              "      <th>label</th>\n",
              "    </tr>\n",
              "  </thead>\n",
              "  <tbody>\n",
              "    <tr>\n",
              "      <th>9937</th>\n",
              "      <td>it's never laugh-out-loud funny , but it is fr...</td>\n",
              "      <td>1</td>\n",
              "    </tr>\n",
              "    <tr>\n",
              "      <th>856</th>\n",
              "      <td>snow dogs finds its humour in a black man gett...</td>\n",
              "      <td>0</td>\n",
              "    </tr>\n",
              "    <tr>\n",
              "      <th>4738</th>\n",
              "      <td>. . . really horrible drek .</td>\n",
              "      <td>0</td>\n",
              "    </tr>\n",
              "    <tr>\n",
              "      <th>42</th>\n",
              "      <td>the effort is sincere and the results are hone...</td>\n",
              "      <td>0</td>\n",
              "    </tr>\n",
              "    <tr>\n",
              "      <th>3177</th>\n",
              "      <td>the film's thoroughly recycled plot and tireso...</td>\n",
              "      <td>0</td>\n",
              "    </tr>\n",
              "  </tbody>\n",
              "</table>\n",
              "</div>"
            ],
            "text/plain": [
              "                                                 review  label\n",
              "9937  it's never laugh-out-loud funny , but it is fr...      1\n",
              "856   snow dogs finds its humour in a black man gett...      0\n",
              "4738                       . . . really horrible drek .      0\n",
              "42    the effort is sincere and the results are hone...      0\n",
              "3177  the film's thoroughly recycled plot and tireso...      0"
            ]
          },
          "metadata": {
            "tags": []
          },
          "execution_count": 7
        }
      ]
    },
    {
      "cell_type": "code",
      "metadata": {
        "id": "Dy7dNmoM7tWr"
      },
      "source": [
        "X_train, X_test, y_train, y_test = train_test_split(df['review'], df['label'], test_size = 0.1, stratify = df['label'])"
      ],
      "execution_count": 21,
      "outputs": []
    },
    {
      "cell_type": "code",
      "metadata": {
        "colab": {
          "base_uri": "https://localhost:8080/"
        },
        "id": "v4GRT8dP8EUi",
        "outputId": "25127820-ce57-4e5b-8307-e519aa95c56c"
      },
      "source": [
        "len(y_train[y_train == 0])/len(y_train), len(y_test[y_test == 0])/len(y_test)"
      ],
      "execution_count": 22,
      "outputs": [
        {
          "output_type": "execute_result",
          "data": {
            "text/plain": [
              "(0.49994788952579466, 0.5004686035613871)"
            ]
          },
          "metadata": {
            "tags": []
          },
          "execution_count": 22
        }
      ]
    },
    {
      "cell_type": "code",
      "metadata": {
        "colab": {
          "base_uri": "https://localhost:8080/"
        },
        "id": "WgSWWH5xAMDB",
        "outputId": "667244ea-8576-4c83-a962-95378b122d08"
      },
      "source": [
        "# Скачиваем набор стоп-слов\n",
        "nltk.download('stopwords')\n",
        "nltk.download('wordnet')"
      ],
      "execution_count": 23,
      "outputs": [
        {
          "output_type": "stream",
          "text": [
            "[nltk_data] Downloading package stopwords to /root/nltk_data...\n",
            "[nltk_data]   Package stopwords is already up-to-date!\n",
            "[nltk_data] Downloading package wordnet to /root/nltk_data...\n",
            "[nltk_data]   Package wordnet is already up-to-date!\n"
          ],
          "name": "stdout"
        },
        {
          "output_type": "execute_result",
          "data": {
            "text/plain": [
              "True"
            ]
          },
          "metadata": {
            "tags": []
          },
          "execution_count": 23
        }
      ]
    },
    {
      "cell_type": "code",
      "metadata": {
        "id": "3KFc6f-xfgn4"
      },
      "source": [
        "from nltk.stem import WordNetLemmatizer\n",
        "from nltk.corpus import stopwords\n",
        "lemat = WordNetLemmatizer()"
      ],
      "execution_count": 24,
      "outputs": []
    },
    {
      "cell_type": "code",
      "metadata": {
        "id": "mT_gKG2p8ojs"
      },
      "source": [
        "class Vocab:\n",
        "  def __init__(self, data):\n",
        "    tokens = [] # Все слова в словаре\n",
        "    for txt in data:\n",
        "      for sent in sent_tokenize(txt): # лексемазация предложения\n",
        "        for word in word_tokenize(sent): # лексемазация слов\n",
        "          tokens.append(lemat.lemmatize(word,  pos = 'v'))\n",
        "    \n",
        "    self.max_seq_len = max([len(word_tokenize(txt)) for txt in data]) # максимальная длина одного отзыва\n",
        "\n",
        "    tokens = set(tokens)\n",
        "\n",
        "    # Удаление stop-words in tarin dataset\n",
        "    stop_words = stopwords.words('english') # Загрузка стоп-слов\n",
        "    tokens = [word for word in tokens if word not in stop_words]\n",
        "\n",
        "    self.idx_to_token = {(idx + 1): token for idx, token in enumerate(tokens)}\n",
        "    self.idx_to_token[0] = '<UNK>'\n",
        "    self.token_to_idx = {token: idx for idx, token in self.idx_to_token.items()} # токен слово\n",
        "    self.vocab_len = len(self.idx_to_token)"
      ],
      "execution_count": 25,
      "outputs": []
    },
    {
      "cell_type": "code",
      "metadata": {
        "colab": {
          "base_uri": "https://localhost:8080/"
        },
        "id": "Fp5Q84wEQND3",
        "outputId": "4c4a5186-8662-4434-cbc0-4d5838aade7e"
      },
      "source": [
        "vocab = Vocab(X_train)\n",
        "vocab.max_seq_len, vocab.vocab_len"
      ],
      "execution_count": 26,
      "outputs": [
        {
          "output_type": "execute_result",
          "data": {
            "text/plain": [
              "(62, 16265)"
            ]
          },
          "metadata": {
            "tags": []
          },
          "execution_count": 26
        }
      ]
    },
    {
      "cell_type": "code",
      "metadata": {
        "id": "JJgfcN5NQNm2"
      },
      "source": [
        "class ReviewMovieDataset(Dataset):\n",
        "  def __init__(self, X, y, vocab: Vocab):\n",
        "    self.X = X\n",
        "    self.y = y\n",
        "    self.vocab = vocab\n",
        "\n",
        "  def vectorize(self, review):\n",
        "    '''Генерирует представление отзыва review в виде bag of words (см. 1.2.1)'''\n",
        "    # ДОПОЛНИТЬ НУЛЯМИ ВЗАДИ\n",
        "    review_t = torch.zeros(self.vocab.max_seq_len, dtype = int)\n",
        "    \n",
        "    for idx, word in enumerate(word_tokenize(review)):\n",
        "        if word in self.vocab.token_to_idx.keys():\n",
        "          review_t[idx] = self.vocab.token_to_idx[word]\n",
        "        else:\n",
        "          review_t[idx] = self.vocab.token_to_idx['<UNK>']\n",
        "    \n",
        "    return review_t\n",
        "\n",
        "  def __len__(self):\n",
        "    return len(self.X)\n",
        "\n",
        "  def __getitem__(self, idx):\n",
        "    return self.vectorize(self.X[idx]), self.y[idx]"
      ],
      "execution_count": 27,
      "outputs": []
    },
    {
      "cell_type": "code",
      "metadata": {
        "colab": {
          "base_uri": "https://localhost:8080/"
        },
        "id": "ra8490QHQNqF",
        "outputId": "a693184c-fbb4-4b80-cfca-078d87c8e7b5"
      },
      "source": [
        "dataset_train = ReviewMovieDataset(list(X_train), list(y_train), vocab)\n",
        "dataset_train[0]"
      ],
      "execution_count": 28,
      "outputs": [
        {
          "output_type": "execute_result",
          "data": {
            "text/plain": [
              "(tensor([ 9517,  9781,  9384, 14324, 13274,     0,     0,  3873,    73,  9517,\n",
              "          9781, 12571,     0,     0,     0, 14476,  5827,  1162,  9189, 15904,\n",
              "             0,  9189, 13998,  8678,     0, 13429, 15448,     0,   171, 14058,\n",
              "             0,     0, 11184,     0, 15877,  6334,  2243, 14476,     0,     0,\n",
              "             0,     0,     0,     0,     0,     0,     0,     0,     0,     0,\n",
              "             0,     0,     0,     0,     0,     0,     0,     0,     0,     0,\n",
              "             0,     0]), 0)"
            ]
          },
          "metadata": {
            "tags": []
          },
          "execution_count": 28
        }
      ]
    },
    {
      "cell_type": "code",
      "metadata": {
        "id": "egNdS3nQQNtH"
      },
      "source": [
        "class CNNReviewMovieNet(nn.Module):\n",
        "  def __init__(self, vocab_size, embedding_dim, n_classes):\n",
        "    super().__init__()\n",
        "\n",
        "    self.embeddings = nn.Embedding(vocab_size, embedding_dim)\n",
        "\n",
        "    self.layer1 = nn.Sequential(nn.Conv1d(embedding_dim, 128, kernel_size = 2),\n",
        "                                nn.BatchNorm1d(128),\n",
        "                                nn.ReLU(),\n",
        "                                nn.MaxPool1d(2))\n",
        "    \n",
        "    # self.layer2 = nn.Sequential(nn.Conv1d(128, 128, 2),\n",
        "    #                             nn.BatchNorm1d(128),\n",
        "    #                             nn.ReLU(),\n",
        "    #                             nn.MaxPool1d(2))\n",
        "\n",
        "    # self.layer3 = nn.Sequential(nn.Conv1d(128, 64, 2),\n",
        "    #                             nn.BatchNorm1d(64),\n",
        "    #                             nn.ReLU(),\n",
        "    #                             nn.MaxPool1d(2))\n",
        "    \n",
        "    self.fc = nn.Sequential(nn.Flatten(),\n",
        "                            nn.Linear(128*30, 256),\n",
        "                            nn.BatchNorm1d(256),\n",
        "                            nn.ReLU(),\n",
        "                            nn.Linear(256, 128),\n",
        "                            nn.BatchNorm1d(128),\n",
        "                            nn.Linear(128, 64),\n",
        "                            nn.BatchNorm1d(64),\n",
        "                            nn.ReLU(),\n",
        "                            nn.Linear(64, 64),\n",
        "                            nn.BatchNorm1d(64),\n",
        "                            nn.ReLU(),\n",
        "                            nn.Linear(64, n_classes))\n",
        "    \n",
        "  def forward(self, input):\n",
        "    embed = self.embeddings(input).permute(0, 2, 1) \n",
        "    out = self.layer1(embed)\n",
        "    # out = self.layer2(out)\n",
        "    # out = self.layer3(out)\n",
        "    # print(out.shape)\n",
        "    out = self.fc(out)\n",
        "    return out"
      ],
      "execution_count": 72,
      "outputs": []
    },
    {
      "cell_type": "code",
      "metadata": {
        "colab": {
          "base_uri": "https://localhost:8080/"
        },
        "id": "m6mOb6BXh_O7",
        "outputId": "a291832c-6ae2-49e6-ce39-3639880c8bb2"
      },
      "source": [
        "dataset_train = ReviewMovieDataset(list(X_train), list(y_train), vocab)\n",
        "\n",
        "train_size = int(np.floor(0.8 * len(dataset_train)))\n",
        "val_size = len(dataset_train) - train_size\n",
        "\n",
        "train_dataset, test_dataset = random_split(dataset_train, [train_size, val_size])\n",
        "\n",
        "train_data = DataLoader(train_dataset, batch_size = 32, shuffle = True)\n",
        "validation = DataLoader(test_dataset, batch_size = 32, shuffle = True)\n",
        "\n",
        "vocab_size = vocab.vocab_len\n",
        "#hidden_size = 512\n",
        "embedding_dim = 200\n",
        "n_classes = y_train.nunique()\n",
        "\n",
        "device = torch.device('cuda' if torch.cuda.is_available() else 'cpu')\n",
        "\n",
        "model  = CNNReviewMovieNet(vocab_size = vocab_size, embedding_dim = embedding_dim, n_classes = n_classes).to(device = device)\n",
        "criteriation = nn.CrossEntropyLoss()\n",
        "optimazer = optim.Adam(model.parameters(), lr = 0.001, weight_decay = 5*10**(-4))\n",
        "\n",
        "early_stop = EarlyStopping(patience = 4, verbose = False, delta = 0)\n",
        "\n",
        "loss_history = list()\n",
        "history_loss_val = list()\n",
        "epochs_history = list()\n",
        "accuracy_val = list()\n",
        "\n",
        "n_epochs = 500\n",
        "\n",
        "for epoch in range(1, n_epochs + 1):\n",
        "  loss_batch = 0\n",
        "  loss_val = 0\n",
        "\n",
        "  for X_batch, y_batch in train_data:\n",
        "    X_batch, y_batch = X_batch.to(device = device), y_batch.to(device = device)\n",
        "    out = model(X_batch)\n",
        "\n",
        "    cur_loss = criteriation(out, y_batch)\n",
        "    loss_batch += cur_loss\n",
        "\n",
        "    cur_loss.backward()\n",
        "    optimazer.step()\n",
        "    optimazer.zero_grad()\n",
        "\n",
        "  loss_history.append(loss_batch/len(train_data))\n",
        "  epochs_history.append(epoch)\n",
        "\n",
        "  correct_val, total_val = 0, 0\n",
        "  model.eval()\n",
        "  with torch.no_grad():\n",
        "    for X_val, y_val in validation:\n",
        "      X_val, y_val = X_val.to(device = device), y_val.to(device = device)\n",
        "      out = model(X_val)\n",
        "\n",
        "      _, predicted = torch.max(out, dim = 1)\n",
        "\n",
        "      total += y_val.shape[0]\n",
        "      correct += int((predicted == y_val).sum())\n",
        "\n",
        "      loss = criteriation(out, y_val)\n",
        "      loss_val += loss\n",
        "\n",
        "  history_loss_val.append(loss_val/len(train_data))\n",
        "  accuracy_val.append(correct/total)\n",
        "\n",
        "  if epoch % 2:\n",
        "    print(f'Epoch: [{epoch}/{n_epochs}]: Loss_Train = {loss_history[-1]}, Loss_Val = {history_loss_val[-1]}, Accuracy_Val = {accuracy_val[-1]}')\n",
        "\n",
        "  early_stop(accuracy_val[-1], model)\n",
        "\n",
        "  if early_stop.early_stop: #and accuracy_val[-1] >= 0.7:\n",
        "      print(f\"Early stopping on epoch: [{epoch}/{n_epochs}] with Loss_Train = {loss_history[-1]}, Loss_Val = {history_loss_val[-1]}, Accuracy_Val = {accuracy_val[-1]}\")\n",
        "      break\n",
        "\n",
        "torch.save(model, '/content/drive/MyDrive/models/CNN_embedding_ReviewMoves_(b_6_t_3).pth')"
      ],
      "execution_count": 82,
      "outputs": [
        {
          "output_type": "stream",
          "text": [
            "Epoch: [1/500]: Loss_Train = 0.700509250164032, Loss_Val = 0.1736937314271927, Accuracy_Val = 0.5539182853315472\n",
            "Epoch: [3/500]: Loss_Train = 0.6855605244636536, Loss_Val = 0.17191492021083832, Accuracy_Val = 0.5422039859320047\n",
            "EarlyStopping counter: 1 out of 4\n",
            "Epoch: [5/500]: Loss_Train = 0.6281858086585999, Loss_Val = 0.16306155920028687, Accuracy_Val = 0.5588069780528981\n",
            "EarlyStopping counter: 2 out of 4\n",
            "EarlyStopping counter: 3 out of 4\n",
            "Epoch: [7/500]: Loss_Train = 0.4127388000488281, Loss_Val = 0.17338353395462036, Accuracy_Val = 0.5788965517241379\n",
            "EarlyStopping counter: 4 out of 4\n",
            "Early stopping on epoch: [7/500] with Loss_Train = 0.4127388000488281, Loss_Val = 0.17338353395462036, Accuracy_Val = 0.5788965517241379\n"
          ],
          "name": "stdout"
        }
      ]
    },
    {
      "cell_type": "code",
      "metadata": {
        "colab": {
          "base_uri": "https://localhost:8080/",
          "height": 350
        },
        "id": "xA0MiNNOh_UG",
        "outputId": "7faea432-f38f-4fab-ccde-11f7759a59bb"
      },
      "source": [
        "fig, ax = plt.subplots(figsize = (10, 5))\n",
        "plt.plot(epochs_history, loss_history, label = 'Train')\n",
        "plt.plot(epochs_history, history_loss_val, label = 'Test')\n",
        "plt.legend()\n",
        "plt.title('Loss for each epochs')\n",
        "plt.xlabel('Epochs')\n",
        "plt.ylabel('Loss')\n",
        "plt.grid()"
      ],
      "execution_count": 83,
      "outputs": [
        {
          "output_type": "display_data",
          "data": {
            "image/png": "[encoded data removed]",
            "text/plain": [
              "<Figure size 720x360 with 1 Axes>"
            ]
          },
          "metadata": {
            "tags": [],
            "needs_background": "light"
          }
        }
      ]
    },
    {
      "cell_type": "code",
      "metadata": {
        "colab": {
          "base_uri": "https://localhost:8080/",
          "height": 350
        },
        "id": "59nON-8gu8GZ",
        "outputId": "f96173c9-79b6-4b14-cfc5-0574357635b2"
      },
      "source": [
        "fig, ax = plt.subplots(figsize = (10, 5))\n",
        "plt.plot(epochs_history, accuracy_val, label = 'Test')\n",
        "plt.legend()\n",
        "plt.title('Accuracy for each epochs')\n",
        "plt.xlabel('Epochs')\n",
        "plt.ylabel('Accuracy')\n",
        "plt.grid()"
      ],
      "execution_count": 84,
      "outputs": [
        {
          "output_type": "display_data",
          "data": {
            "image/png": "[encoded data removed]",
            "text/plain": [
              "<Figure size 720x360 with 1 Axes>"
            ]
          },
          "metadata": {
            "tags": [],
            "needs_background": "light"
          }
        }
      ]
    },
    {
      "cell_type": "code",
      "metadata": {
        "colab": {
          "base_uri": "https://localhost:8080/"
        },
        "id": "jNp4U4B8h_W1",
        "outputId": "519be051-affe-42d0-8c53-da548ce4f65e"
      },
      "source": [
        "dataset_train = ReviewMovieDataset(list(X_test), list(y_test), vocab)\n",
        "train_data = DataLoader(dataset_train, batch_size = len(dataset_train), shuffle = True)\n",
        "\n",
        "correct, total = 0, 0\n",
        "with torch.no_grad():\n",
        "  for X_batch, y_batch in train_data:\n",
        "    X_batch, y_batch = X_batch.to(device = device), y_batch.to(device = device)\n",
        "    pred = model(X_batch)\n",
        "\n",
        "    _, predicted = torch.max(pred, dim = 1)\n",
        "    total += y_batch.shape[0]\n",
        "    correct += int((predicted == y_batch).sum())\n",
        "\n",
        "    # f1 = f1_score(y_batch.numpy(), predicted.numpy(), average='weighted') # weighted, т.к. дисбаланс классов\n",
        "\n",
        "print(f'Accuracy: {correct/total}')\n",
        "\n",
        "# print(f'F1: {f1}')"
      ],
      "execution_count": 85,
      "outputs": [
        {
          "output_type": "stream",
          "text": [
            "Accuracy: 0.6672914714151827\n"
          ],
          "name": "stdout"
        }
      ]
    },
    {
      "cell_type": "code",
      "metadata": {
        "colab": {
          "base_uri": "https://localhost:8080/"
        },
        "id": "A9W2mNzdh_gx",
        "outputId": "e7b2c803-9638-4a44-d134-f3b164caeac9"
      },
      "source": [
        "negative = 'The acting is bad because the idea of ​​the film is terrible.'\n",
        "# negative = preprocess_text(negative)\n",
        "positive = 'The director made a masterpiece.'\n",
        "# positive = preprocess_text(positive)\n",
        "\n",
        "X_classmates = [negative, positive]\n",
        "y_fictit = [0, 0]\n",
        "\n",
        "reviews = ReviewMovieDataset(X_classmates, y_fictit, vocab)\n",
        "rev = DataLoader(reviews, batch_size = 1, shuffle = True)\n",
        "\n",
        "with torch.no_grad():\n",
        "  for x, y in rev:\n",
        "    x, y = x.to(device = device), x.to(device = device)\n",
        "    out = model(x)\n",
        "    _, predicted = torch.max(out, dim = 1)\n",
        "    \n",
        "    print(predicted.item())\n",
        "\n",
        "# 0 - позитивный отзыв\n",
        "# 1 - негативный отзыв"
      ],
      "execution_count": 90,
      "outputs": [
        {
          "output_type": "stream",
          "text": [
            "0\n",
            "0\n"
          ],
          "name": "stdout"
        }
      ]
    }
  ]
}