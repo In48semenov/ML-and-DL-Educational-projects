{
  "nbformat": 4,
  "nbformat_minor": 0,
  "metadata": {
    "colab": {
      "name": "blank__07_rnn_1_v1.ipynb",
      "provenance": [],
      "collapsed_sections": [],
      "toc_visible": true
    },
    "kernelspec": {
      "name": "python3",
      "display_name": "Python 3"
    },
    "language_info": {
      "name": "python"
    },
    "accelerator": "GPU"
  },
  "cells": [
    {
      "cell_type": "code",
      "metadata": {
        "colab": {
          "base_uri": "https://localhost:8080/"
        },
        "id": "zKMq7dp2W15Y",
        "outputId": "67354220-7429-42a7-bdf6-69c9440c5f2e"
      },
      "source": [
        "import re\n",
        "import nltk\n",
        "\n",
        "import torch\n",
        "from torch.utils.data import Dataset, DataLoader, random_split\n",
        "import torch.nn as nn\n",
        "import torch.optim as optim\n",
        "\n",
        "import pandas as pd\n",
        "from sklearn.model_selection import train_test_split\n",
        "from sklearn.metrics import accuracy_score, f1_score\n",
        "from nltk.tokenize import word_tokenize\n",
        "from sklearn.preprocessing import LabelEncoder\n",
        "\n",
        "from pytorchtools_st import EarlyStopping\n",
        "\n",
        "import numpy as np\n",
        "import matplotlib.pyplot as plt\n",
        "\n",
        "nltk.download('punkt')"
      ],
      "execution_count": 142,
      "outputs": [
        {
          "output_type": "stream",
          "text": [
            "[nltk_data] Downloading package punkt to /root/nltk_data...\n",
            "[nltk_data]   Package punkt is already up-to-date!\n"
          ],
          "name": "stdout"
        },
        {
          "output_type": "execute_result",
          "data": {
            "text/plain": [
              "True"
            ]
          },
          "metadata": {
            "tags": []
          },
          "execution_count": 142
        }
      ]
    },
    {
      "cell_type": "code",
      "metadata": {
        "id": "I52H8NReFLoj"
      },
      "source": [
        "from nltk.tokenize import word_tokenize, sent_tokenize\n",
        "from nltk.stem.snowball import SnowballStemmer"
      ],
      "execution_count": 71,
      "outputs": []
    },
    {
      "cell_type": "code",
      "metadata": {
        "colab": {
          "base_uri": "https://localhost:8080/"
        },
        "id": "hBkqaK5bawXN",
        "outputId": "5ed647aa-8780-4c22-8d1f-34ed72df8f72"
      },
      "source": [
        "from google.colab import drive\n",
        "drive.mount('/content/drive/')"
      ],
      "execution_count": 3,
      "outputs": [
        {
          "output_type": "stream",
          "text": [
            "Mounted at /content/drive/\n"
          ],
          "name": "stdout"
        }
      ]
    },
    {
      "cell_type": "markdown",
      "metadata": {
        "id": "Jm-QilGISxkt"
      },
      "source": [
        "## 1. Классификация фамилий (RNN)\n",
        "\n",
        "Датасет: https://disk.yandex.ru/d/frNchuaBQVLxyA?w=1"
      ]
    },
    {
      "cell_type": "markdown",
      "metadata": {
        "id": "YdPr92i6k-If"
      },
      "source": [
        "1.1 Используя класс `nn.RNNCell` (абстракцию для отдельного временного шага RNN), реализуйте простейшую рекуррентную сеть Элмана в виде класса `RNN`. Используя созданный класс `RNN`, решите задачу классификации фамилий. \n"
      ]
    },
    {
      "cell_type": "code",
      "metadata": {
        "id": "ir6UUkl6l4tp"
      },
      "source": [
        "class RNN(nn.Module):\n",
        "  def __init__(self, input_size, hidden_size):\n",
        "    pass\n",
        "\n",
        "  def forward(self, x, h=None):\n",
        "    '''\n",
        "    x.shape = (batch_size, seq_len, feature_size) - тензор входных данных\n",
        "    h.shape = (batch_size, hidden_size) - тензор со скрытым состоянием RNN\n",
        "    '''\n",
        "    # инициализация тензора скрытых состояний\n",
        "    # h = ...\n",
        "\n",
        "    # проход по каждому элементу последовательностей s в батче и обновление скрытого состояния\n",
        "    # h = RNNCell(s_t, h)\n",
        "\n",
        "    # вернуть тензор всех наблюдавшихся скрытых состояний размера (batch_size, seq_len, hidden_size) и тензор скрытых состояний в последний момент времени"
      ],
      "execution_count": null,
      "outputs": []
    },
    {
      "cell_type": "markdown",
      "metadata": {
        "id": "a2MIErKTo9aO"
      },
      "source": [
        "1.2 Замените модуль `RNN` из 1.1 на модули `nn.RNN`, `nn.LSTM` и `nn.GRU` (не забудьте указать аргумент `batch_first=True`). Сравните результаты работы."
      ]
    },
    {
      "cell_type": "code",
      "metadata": {
        "colab": {
          "base_uri": "https://localhost:8080/"
        },
        "id": "amaWMdi528u1",
        "outputId": "ca8694e3-58f1-4f16-e8ec-19797784c537"
      },
      "source": [
        "text = [...]\n",
        "batch_size = 5 # кол-во предложений в тексте\n",
        "# разбиваем каждое предложение на слова и заменяем слова на их индексы\n",
        "# выравниваем длины всех предложений \n",
        "vocab_size, max_seq_len = 100, 10\n",
        "X = torch.randint(0, vocab_size, size = (batch_size, max_seq_len))\n",
        "X"
      ],
      "execution_count": 4,
      "outputs": [
        {
          "output_type": "execute_result",
          "data": {
            "text/plain": [
              "tensor([[ 5, 56, 26, 54, 23, 55, 98, 84, 71,  0],\n",
              "        [17, 48, 54, 20, 36,  9, 28, 79, 80, 52],\n",
              "        [60, 74, 16, 84, 87, 69, 42, 51, 46, 76],\n",
              "        [78, 11, 15, 63, 36, 57, 17, 10, 63, 97],\n",
              "        [91, 92,  9, 22, 34, 83, 96, 26, 81, 82]])"
            ]
          },
          "metadata": {
            "tags": []
          },
          "execution_count": 4
        }
      ]
    },
    {
      "cell_type": "code",
      "metadata": {
        "colab": {
          "base_uri": "https://localhost:8080/"
        },
        "id": "TP1WmQHI3BAq",
        "outputId": "885abf2f-7691-44b3-d900-f42ee46e52da"
      },
      "source": [
        "embedding_dim = 32\n",
        "embedding = nn.Embedding(vocab_size, embedding_dim, padding_idx = 0) # padding_idx - индекс заглушки\n",
        "X_embed = embedding(X)\n",
        "X_embed.shape"
      ],
      "execution_count": 5,
      "outputs": [
        {
          "output_type": "execute_result",
          "data": {
            "text/plain": [
              "torch.Size([5, 10, 32])"
            ]
          },
          "metadata": {
            "tags": []
          },
          "execution_count": 5
        }
      ]
    },
    {
      "cell_type": "code",
      "metadata": {
        "id": "2FnlUODi3BDO"
      },
      "source": [
        "hidden_size = 50\n",
        "rnn = nn.RNN(input_size = embedding_dim, hidden_size = hidden_size, batch_first = True)\n",
        "out, hidden = rnn(X_embed) # hidden скрытое состояние rnn"
      ],
      "execution_count": 6,
      "outputs": []
    },
    {
      "cell_type": "code",
      "metadata": {
        "colab": {
          "base_uri": "https://localhost:8080/"
        },
        "id": "lwLBeFbJ3BGK",
        "outputId": "7b57dbf3-e6ad-49ef-9031-b1c9b26533ed"
      },
      "source": [
        "out.shape, hidden.shape "
      ],
      "execution_count": 7,
      "outputs": [
        {
          "output_type": "execute_result",
          "data": {
            "text/plain": [
              "(torch.Size([5, 10, 50]), torch.Size([1, 5, 50]))"
            ]
          },
          "metadata": {
            "tags": []
          },
          "execution_count": 7
        }
      ]
    },
    {
      "cell_type": "code",
      "metadata": {
        "colab": {
          "base_uri": "https://localhost:8080/"
        },
        "id": "acqdUa603BIl",
        "outputId": "5936d639-2276-4558-9b9f-fc83222490be"
      },
      "source": [
        "out[0, -1, :] # out состоит из последовательного состояния моделей"
      ],
      "execution_count": 12,
      "outputs": [
        {
          "output_type": "execute_result",
          "data": {
            "text/plain": [
              "tensor([-0.3676,  0.2307,  0.0875,  0.4472,  0.0499,  0.2783, -0.0512,  0.1262,\n",
              "        -0.1888, -0.1862, -0.4088,  0.4164, -0.3664, -0.1786,  0.1322,  0.2051,\n",
              "         0.0358,  0.1660, -0.0310, -0.4318, -0.1267,  0.2529,  0.0251,  0.1898,\n",
              "        -0.1474, -0.2167, -0.2638,  0.3574, -0.2139, -0.0804, -0.6871, -0.2189,\n",
              "         0.2469, -0.1944, -0.5440, -0.0072, -0.1631,  0.1308,  0.2934,  0.0707,\n",
              "        -0.4162,  0.0688,  0.0574, -0.1216, -0.0467, -0.2810, -0.0500,  0.2184,\n",
              "        -0.2158,  0.0792], grad_fn=<SliceBackward>)"
            ]
          },
          "metadata": {
            "tags": []
          },
          "execution_count": 12
        }
      ]
    },
    {
      "cell_type": "code",
      "metadata": {
        "colab": {
          "base_uri": "https://localhost:8080/"
        },
        "id": "oRJL9GTq6J7n",
        "outputId": "2ae4fab2-7ded-4535-f1b3-e9d59f36415a"
      },
      "source": [
        "hidden[0, 0, :] # скрытое состояние модели на первом примере из батча, когда она закончила его обрабатывать"
      ],
      "execution_count": 15,
      "outputs": [
        {
          "output_type": "execute_result",
          "data": {
            "text/plain": [
              "tensor([-0.3676,  0.2307,  0.0875,  0.4472,  0.0499,  0.2783, -0.0512,  0.1262,\n",
              "        -0.1888, -0.1862, -0.4088,  0.4164, -0.3664, -0.1786,  0.1322,  0.2051,\n",
              "         0.0358,  0.1660, -0.0310, -0.4318, -0.1267,  0.2529,  0.0251,  0.1898,\n",
              "        -0.1474, -0.2167, -0.2638,  0.3574, -0.2139, -0.0804, -0.6871, -0.2189,\n",
              "         0.2469, -0.1944, -0.5440, -0.0072, -0.1631,  0.1308,  0.2934,  0.0707,\n",
              "        -0.4162,  0.0688,  0.0574, -0.1216, -0.0467, -0.2810, -0.0500,  0.2184,\n",
              "        -0.2158,  0.0792], grad_fn=<SliceBackward>)"
            ]
          },
          "metadata": {
            "tags": []
          },
          "execution_count": 15
        }
      ]
    },
    {
      "cell_type": "code",
      "metadata": {
        "colab": {
          "base_uri": "https://localhost:8080/"
        },
        "id": "blpvmoJp6KL3",
        "outputId": "4694d43d-26c0-4016-b7d0-5be5bdf5603f"
      },
      "source": [
        "out = hidden[0] # Последнее скрытое состояние\n",
        "out.shape\n",
        "# Дальше fully connected layers"
      ],
      "execution_count": 16,
      "outputs": [
        {
          "output_type": "execute_result",
          "data": {
            "text/plain": [
              "torch.Size([5, 50])"
            ]
          },
          "metadata": {
            "tags": []
          },
          "execution_count": 16
        }
      ]
    },
    {
      "cell_type": "markdown",
      "metadata": {
        "id": "CzS5244J8JYG"
      },
      "source": [
        "Реализуем фамилили"
      ]
    },
    {
      "cell_type": "code",
      "metadata": {
        "colab": {
          "base_uri": "https://localhost:8080/",
          "height": 194
        },
        "id": "VowXPXm46blU",
        "outputId": "f7770c3e-9ec9-409f-e194-0bdf334f6746"
      },
      "source": [
        "df = pd.read_csv('/content/drive/MyDrive/datasets/surnames.csv')\n",
        "df.head()"
      ],
      "execution_count": 17,
      "outputs": [
        {
          "output_type": "execute_result",
          "data": {
            "text/html": [
              "<div>\n",
              "<style scoped>\n",
              "    .dataframe tbody tr th:only-of-type {\n",
              "        vertical-align: middle;\n",
              "    }\n",
              "\n",
              "    .dataframe tbody tr th {\n",
              "        vertical-align: top;\n",
              "    }\n",
              "\n",
              "    .dataframe thead th {\n",
              "        text-align: right;\n",
              "    }\n",
              "</style>\n",
              "<table border=\"1\" class=\"dataframe\">\n",
              "  <thead>\n",
              "    <tr style=\"text-align: right;\">\n",
              "      <th></th>\n",
              "      <th>surname</th>\n",
              "      <th>nationality</th>\n",
              "    </tr>\n",
              "  </thead>\n",
              "  <tbody>\n",
              "    <tr>\n",
              "      <th>0</th>\n",
              "      <td>Woodford</td>\n",
              "      <td>English</td>\n",
              "    </tr>\n",
              "    <tr>\n",
              "      <th>1</th>\n",
              "      <td>Coté</td>\n",
              "      <td>French</td>\n",
              "    </tr>\n",
              "    <tr>\n",
              "      <th>2</th>\n",
              "      <td>Kore</td>\n",
              "      <td>English</td>\n",
              "    </tr>\n",
              "    <tr>\n",
              "      <th>3</th>\n",
              "      <td>Koury</td>\n",
              "      <td>Arabic</td>\n",
              "    </tr>\n",
              "    <tr>\n",
              "      <th>4</th>\n",
              "      <td>Lebzak</td>\n",
              "      <td>Russian</td>\n",
              "    </tr>\n",
              "  </tbody>\n",
              "</table>\n",
              "</div>"
            ],
            "text/plain": [
              "    surname nationality\n",
              "0  Woodford     English\n",
              "1      Coté      French\n",
              "2      Kore     English\n",
              "3     Koury      Arabic\n",
              "4    Lebzak     Russian"
            ]
          },
          "metadata": {
            "tags": []
          },
          "execution_count": 17
        }
      ]
    },
    {
      "cell_type": "code",
      "metadata": {
        "colab": {
          "base_uri": "https://localhost:8080/",
          "height": 194
        },
        "id": "uvhlpRUn8Ig5",
        "outputId": "daddc2c8-f66c-4c07-cb43-d636412227db"
      },
      "source": [
        "label_enc = LabelEncoder()\n",
        "df['label_nationality'] = label_enc.fit_transform(df['nationality'])\n",
        "df.head()"
      ],
      "execution_count": 18,
      "outputs": [
        {
          "output_type": "execute_result",
          "data": {
            "text/html": [
              "<div>\n",
              "<style scoped>\n",
              "    .dataframe tbody tr th:only-of-type {\n",
              "        vertical-align: middle;\n",
              "    }\n",
              "\n",
              "    .dataframe tbody tr th {\n",
              "        vertical-align: top;\n",
              "    }\n",
              "\n",
              "    .dataframe thead th {\n",
              "        text-align: right;\n",
              "    }\n",
              "</style>\n",
              "<table border=\"1\" class=\"dataframe\">\n",
              "  <thead>\n",
              "    <tr style=\"text-align: right;\">\n",
              "      <th></th>\n",
              "      <th>surname</th>\n",
              "      <th>nationality</th>\n",
              "      <th>label_nationality</th>\n",
              "    </tr>\n",
              "  </thead>\n",
              "  <tbody>\n",
              "    <tr>\n",
              "      <th>0</th>\n",
              "      <td>Woodford</td>\n",
              "      <td>English</td>\n",
              "      <td>4</td>\n",
              "    </tr>\n",
              "    <tr>\n",
              "      <th>1</th>\n",
              "      <td>Coté</td>\n",
              "      <td>French</td>\n",
              "      <td>5</td>\n",
              "    </tr>\n",
              "    <tr>\n",
              "      <th>2</th>\n",
              "      <td>Kore</td>\n",
              "      <td>English</td>\n",
              "      <td>4</td>\n",
              "    </tr>\n",
              "    <tr>\n",
              "      <th>3</th>\n",
              "      <td>Koury</td>\n",
              "      <td>Arabic</td>\n",
              "      <td>0</td>\n",
              "    </tr>\n",
              "    <tr>\n",
              "      <th>4</th>\n",
              "      <td>Lebzak</td>\n",
              "      <td>Russian</td>\n",
              "      <td>14</td>\n",
              "    </tr>\n",
              "  </tbody>\n",
              "</table>\n",
              "</div>"
            ],
            "text/plain": [
              "    surname nationality  label_nationality\n",
              "0  Woodford     English                  4\n",
              "1      Coté      French                  5\n",
              "2      Kore     English                  4\n",
              "3     Koury      Arabic                  0\n",
              "4    Lebzak     Russian                 14"
            ]
          },
          "metadata": {
            "tags": []
          },
          "execution_count": 18
        }
      ]
    },
    {
      "cell_type": "code",
      "metadata": {
        "id": "s5VQC57t64l1"
      },
      "source": [
        "X_train, X_test, y_train, y_test = train_test_split(df['surname'], df['label_nationality'], test_size = 0.2)"
      ],
      "execution_count": 19,
      "outputs": []
    },
    {
      "cell_type": "code",
      "metadata": {
        "id": "2owVspsl64vd"
      },
      "source": [
        "class Vocab:\n",
        "  def __init__(self, data):\n",
        "    tokens = set()\n",
        "    for surname in data:\n",
        "      tokens.update(surname)\n",
        "\n",
        "    self.max_seq_len = max([len(val) for val in data])\n",
        "    \n",
        "    self.idx_to_token = {(idx+1): token for idx, token in enumerate(tokens)} # Индекс токен: буква\n",
        "    self.idx_to_token[0] = '<PAD>'\n",
        "    self.token_to_idx = {token: idx for idx, token in self.idx_to_token.items()} # обратный первому\n",
        "    self.vocab_len = len(self.idx_to_token)"
      ],
      "execution_count": 20,
      "outputs": []
    },
    {
      "cell_type": "code",
      "metadata": {
        "colab": {
          "base_uri": "https://localhost:8080/"
        },
        "id": "RKT9URVG648O",
        "outputId": "45bd44dd-b8bb-4c3a-a100-7d7b091bf065"
      },
      "source": [
        "vocab = Vocab(df['surname'])\n",
        "vocab.max_seq_len, vocab.vocab_len"
      ],
      "execution_count": 21,
      "outputs": [
        {
          "output_type": "execute_result",
          "data": {
            "text/plain": [
              "(17, 85)"
            ]
          },
          "metadata": {
            "tags": []
          },
          "execution_count": 21
        }
      ]
    },
    {
      "cell_type": "code",
      "metadata": {
        "id": "K_kiBJol8mHG"
      },
      "source": [
        "class SurnamesDataset(Dataset):\n",
        "  def __init__(self, X, y, vocab: Vocab):\n",
        "    self.X = X\n",
        "    self.y = y\n",
        "    self.vocab = vocab\n",
        "\n",
        "  def vectorize(self, surname):\n",
        "    '''Генерирует представление отзыва review в виде bag of words (см. 1.2.1)'''\n",
        "    # ДОПОЛНИТЬ НУЛЯМИ ВЗАДИ\n",
        "    surname_t = torch.zeros(self.vocab.max_seq_len, dtype = int)\n",
        "    \n",
        "    for idx, char in enumerate(surname):\n",
        "      surname_t[idx] = self.vocab.token_to_idx[char]\n",
        "    \n",
        "    return surname_t\n",
        "\n",
        "  def __len__(self):\n",
        "    return len(self.X)\n",
        "\n",
        "  def __getitem__(self, idx):\n",
        "    return self.vectorize(self.X[idx]), self.y[idx]"
      ],
      "execution_count": 22,
      "outputs": []
    },
    {
      "cell_type": "code",
      "metadata": {
        "id": "TNMe5Esz8mJ0"
      },
      "source": [
        "class RNNSurnameNet(nn.Module):\n",
        "  def __init__(self, vocab_size, embedding_dim, hidden_size, n_classes):\n",
        "    super().__init__()\n",
        "\n",
        "    self.embeddings = nn.Embedding(vocab_size, embedding_dim)\n",
        "\n",
        "    self.rnn = nn.RNN(input_size = embedding_dim, \n",
        "                       hidden_size = hidden_size,\n",
        "                       num_layers = 2, \n",
        "                       nonlinearity = 'tanh',\n",
        "                       batch_first = True)\n",
        "    \n",
        "    self.fc = nn.Sequential(nn.Flatten(),\n",
        "                            nn.Linear(64, 64), # было 64*4\n",
        "                            nn.ReLU(),\n",
        "                            nn.Linear(64, n_classes))\n",
        "    \n",
        "  def forward(self, input):\n",
        "    embed = self.embeddings(input)\n",
        "    out, hidden = self.rnn(embed)\n",
        "    out = hidden[0]\n",
        "    # print(out.shape)\n",
        "    out = self.fc(out)\n",
        "    return out"
      ],
      "execution_count": 52,
      "outputs": []
    },
    {
      "cell_type": "code",
      "metadata": {
        "colab": {
          "base_uri": "https://localhost:8080/"
        },
        "id": "hzbAlV_Z8mMm",
        "outputId": "45412477-e037-483c-8692-abcc1eaf5d9f"
      },
      "source": [
        "dataset_train = SurnamesDataset(list(X_train), list(y_train), vocab)\n",
        "train_data = DataLoader(dataset_train, batch_size = 32, shuffle = True)\n",
        "\n",
        "vocab_size = vocab.vocab_len\n",
        "hidden_size = 64\n",
        "embedding_dim = 16\n",
        "n_classes = y_train.nunique()\n",
        "\n",
        "device = torch.device('cuda' if torch.cuda.is_available() else 'cpu')\n",
        "\n",
        "model  = RNNSurnameNet(vocab_size = vocab_size, \n",
        "                       embedding_dim = embedding_dim, \n",
        "                       hidden_size = hidden_size,\n",
        "                       n_classes = n_classes).to(device = device)\n",
        "                       \n",
        "criteriation = nn.CrossEntropyLoss()\n",
        "optimazer = optim.Adam(model.parameters(), lr = 0.001, weight_decay = 5*10**(-4))\n",
        "\n",
        "early_stop = EarlyStopping(patience = 3, verbose = False, delta = 0.001)\n",
        "\n",
        "loss_history = list()\n",
        "epochs_history = list()\n",
        "\n",
        "n_epochs = 500\n",
        "\n",
        "for epoch in range(1, n_epochs + 1):\n",
        "  loss_batch = 0\n",
        "\n",
        "  for X_batch, y_batch in train_data:\n",
        "    X_batch, y_batch = X_batch.to(device = device), y_batch.to(device = device)\n",
        "    out = model(X_batch)\n",
        "\n",
        "    cur_loss = criteriation(out, y_batch)\n",
        "    loss_batch += cur_loss\n",
        "\n",
        "    cur_loss.backward()\n",
        "    optimazer.step()\n",
        "    optimazer.zero_grad()\n",
        "\n",
        "  loss_history.append(loss_batch/len(train_data))\n",
        "  epochs_history.append(epoch)\n",
        "\n",
        "  if epoch % 2:\n",
        "    print(f'Epoch: [{epoch}/{n_epochs}]: Loss_Train = {loss_history[-1]}')\n",
        "\n",
        "  early_stop(loss_history[-1], model)\n",
        "\n",
        "  if early_stop.early_stop:\n",
        "      print(f\"Early stopping on epoch: [{epoch}/{n_epochs}] with Loss_Train = {loss_history[-1]}\")\n",
        "      break\n",
        "\n",
        "torch.save(model, '/content/drive/MyDrive/models/RNN_embedding_Surname_(b_6_t_2).pth')"
      ],
      "execution_count": 53,
      "outputs": [
        {
          "output_type": "stream",
          "text": [
            "Epoch: [1/500]: Loss_Train = 2.243314743041992\n",
            "Epoch: [3/500]: Loss_Train = 1.9492017030715942\n",
            "Epoch: [5/500]: Loss_Train = 1.8427411317825317\n",
            "Epoch: [7/500]: Loss_Train = 1.733414888381958\n",
            "Epoch: [9/500]: Loss_Train = 1.6668390035629272\n",
            "Epoch: [11/500]: Loss_Train = 1.5982948541641235\n",
            "Epoch: [13/500]: Loss_Train = 1.5042191743850708\n",
            "Epoch: [15/500]: Loss_Train = 1.4291319847106934\n",
            "Epoch: [17/500]: Loss_Train = 1.3721483945846558\n",
            "Epoch: [19/500]: Loss_Train = 1.3273353576660156\n",
            "Epoch: [21/500]: Loss_Train = 1.2691913843154907\n",
            "Epoch: [23/500]: Loss_Train = 1.2348103523254395\n",
            "Epoch: [25/500]: Loss_Train = 1.2109423875808716\n",
            "EarlyStopping counter: 1 out of 3\n",
            "Epoch: [27/500]: Loss_Train = 1.1564205884933472\n",
            "Epoch: [29/500]: Loss_Train = 1.134515404701233\n",
            "EarlyStopping counter: 1 out of 3\n",
            "Epoch: [31/500]: Loss_Train = 1.1086958646774292\n",
            "Epoch: [33/500]: Loss_Train = 1.0777677297592163\n",
            "EarlyStopping counter: 1 out of 3\n",
            "EarlyStopping counter: 2 out of 3\n",
            "Epoch: [35/500]: Loss_Train = 1.0588510036468506\n",
            "Epoch: [37/500]: Loss_Train = 1.035578727722168\n",
            "Epoch: [39/500]: Loss_Train = 1.0085277557373047\n",
            "EarlyStopping counter: 1 out of 3\n",
            "Epoch: [41/500]: Loss_Train = 1.0142085552215576\n",
            "EarlyStopping counter: 2 out of 3\n",
            "Epoch: [43/500]: Loss_Train = 0.9984757900238037\n",
            "Epoch: [45/500]: Loss_Train = 0.9694930911064148\n",
            "Epoch: [47/500]: Loss_Train = 0.9616706967353821\n",
            "EarlyStopping counter: 1 out of 3\n",
            "EarlyStopping counter: 2 out of 3\n",
            "Epoch: [49/500]: Loss_Train = 0.959438145160675\n",
            "Epoch: [51/500]: Loss_Train = 0.9377391338348389\n",
            "Epoch: [53/500]: Loss_Train = 0.931831419467926\n",
            "EarlyStopping counter: 1 out of 3\n",
            "EarlyStopping counter: 2 out of 3\n",
            "Epoch: [55/500]: Loss_Train = 0.9055541157722473\n",
            "EarlyStopping counter: 1 out of 3\n",
            "Epoch: [57/500]: Loss_Train = 0.9027530550956726\n",
            "EarlyStopping counter: 1 out of 3\n",
            "Epoch: [59/500]: Loss_Train = 0.889042854309082\n",
            "EarlyStopping counter: 1 out of 3\n",
            "Epoch: [61/500]: Loss_Train = 0.8898540139198303\n",
            "EarlyStopping counter: 2 out of 3\n",
            "EarlyStopping counter: 3 out of 3\n",
            "Early stopping on epoch: [62/500] with Loss_Train = 0.8982812166213989\n"
          ],
          "name": "stdout"
        }
      ]
    },
    {
      "cell_type": "code",
      "metadata": {
        "colab": {
          "base_uri": "https://localhost:8080/",
          "height": 350
        },
        "id": "FSHROPV08mO9",
        "outputId": "8a569754-4d39-41b4-ad43-69144da2cdc0"
      },
      "source": [
        "fig, ax = plt.subplots(figsize = (10, 5))\n",
        "plt.plot(epochs_history, loss_history)\n",
        "plt.title('Loss for each epochs')\n",
        "plt.xlabel('Epochs')\n",
        "plt.ylabel('Loss')\n",
        "plt.grid()"
      ],
      "execution_count": 54,
      "outputs": [
        {
          "output_type": "display_data",
          "data": {
            "image/png": "[encoded data removed]",
            "text/plain": [
              "<Figure size 720x360 with 1 Axes>"
            ]
          },
          "metadata": {
            "tags": [],
            "needs_background": "light"
          }
        }
      ]
    },
    {
      "cell_type": "code",
      "metadata": {
        "id": "162Qr2Gp8mST",
        "colab": {
          "base_uri": "https://localhost:8080/"
        },
        "outputId": "c009952d-abe7-41a3-e331-8f400f351d3b"
      },
      "source": [
        "dataset_train = SurnamesDataset(list(X_test), list(y_test), vocab)\n",
        "train_data = DataLoader(dataset_train, batch_size = len(dataset_train), shuffle = True)\n",
        "\n",
        "correct, total = 0, 0\n",
        "with torch.no_grad():\n",
        "  for X_batch, y_batch in train_data:\n",
        "    X_batch = X_batch.to(device = device)#, y_batch.to(device = device)\n",
        "    pred = model(X_batch)\n",
        "\n",
        "    _, predicted = torch.max(pred, dim = 1)\n",
        "    predicted = predicted.to(device = 'cpu')\n",
        "    total += y_batch.shape[0]\n",
        "    correct += int((predicted == y_batch).sum())\n",
        "\n",
        "    f1 = f1_score(y_batch.numpy(), predicted.numpy(), average='weighted') # weighted, т.к. дисбаланс классов\n",
        "\n",
        "print(f'Accuracy: {correct/total}')\n",
        "\n",
        "print(f'F1: {f1}')"
      ],
      "execution_count": 57,
      "outputs": [
        {
          "output_type": "stream",
          "text": [
            "Accuracy: 0.6912568306010929\n",
            "F1: 0.6455585343772303\n"
          ],
          "name": "stdout"
        }
      ]
    },
    {
      "cell_type": "code",
      "metadata": {
        "id": "kvpYEWBX8meY",
        "colab": {
          "base_uri": "https://localhost:8080/"
        },
        "outputId": "b96c40b0-7c5b-4d1c-d1d2-691434a4473d"
      },
      "source": [
        "X_classmates = ['Semenov', 'Zaraev', 'Ragimov']\n",
        "y_fictit = [0, 0, 0]\n",
        "\n",
        "classmats = SurnamesDataset(X_classmates, y_fictit, vocab)\n",
        "train_data = DataLoader(classmats, batch_size = 1, shuffle = True)\n",
        "\n",
        "with torch.no_grad():\n",
        "  for idx, (x, y) in enumerate(train_data):\n",
        "    x = x.to(device = device)\n",
        "    out = model(x)\n",
        "    _, ind = torch.sort(out)\n",
        "    ind = ind[0]\n",
        "    ind = ind.to(device = 'cpu')\n",
        "    print(f'Наиболее вероятные нациаональности для фамилии {X_classmates[idx]}:')\n",
        "    for id, v in enumerate(ind[-3:]):\n",
        "      ans = list(set(df[df['label_nationality'] == v.item()]['nationality']))[0]\n",
        "      print(f'{abs(id - 3)}) {ans}')"
      ],
      "execution_count": 58,
      "outputs": [
        {
          "output_type": "stream",
          "text": [
            "Наиболее вероятные нациаональности для фамилии Semenov:\n",
            "3) Polish\n",
            "2) Czech\n",
            "1) Russian\n",
            "Наиболее вероятные нациаональности для фамилии Zaraev:\n",
            "3) Chinese\n",
            "2) Czech\n",
            "1) Russian\n",
            "Наиболее вероятные нациаональности для фамилии Ragimov:\n",
            "3) Chinese\n",
            "2) Czech\n",
            "1) Russian\n"
          ],
          "name": "stdout"
        }
      ]
    },
    {
      "cell_type": "markdown",
      "metadata": {
        "id": "_6YBam_3t-fO"
      },
      "source": [
        "1.3 Загрузите предобученные эмбеддинги (https://disk.yandex.ru/d/BHuT2tEXr_yBOQ?w=1) в модуль `nn.Embedding` и обучите модели из 1.2."
      ]
    },
    {
      "cell_type": "code",
      "metadata": {
        "id": "DTwNDIrYBteM"
      },
      "source": [
        "# Слова в файле идет не в том порядке и некоторых слов может не быть (тогда инциализируем случайными весами отсутствующее слово)"
      ],
      "execution_count": null,
      "outputs": []
    },
    {
      "cell_type": "code",
      "metadata": {
        "colab": {
          "base_uri": "https://localhost:8080/"
        },
        "id": "E0IXqPTx_rb5",
        "outputId": "b4c5de58-ab0a-45f0-983f-49d33b59c26e"
      },
      "source": [
        "with open('/content/drive/MyDrive/embeddings/globe_100_rows.txt', 'r', encoding = 'utf8') as femb:\n",
        "  for line in femb:\n",
        "    print(line)\n",
        "    word, *emb = line.split(' ')\n",
        "    break"
      ],
      "execution_count": 61,
      "outputs": [
        {
          "output_type": "stream",
          "text": [
            "the 0.418 0.24968 -0.41242 0.1217 0.34527 -0.044457 -0.49688 -0.17862 -0.00066023 -0.6566 0.27843 -0.14767 -0.55677 0.14658 -0.0095095 0.011658 0.10204 -0.12792 -0.8443 -0.12181 -0.016801 -0.33279 -0.1552 -0.23131 -0.19181 -1.8823 -0.76746 0.099051 -0.42125 -0.19526 4.0071 -0.18594 -0.52287 -0.31681 0.00059213 0.0074449 0.17778 -0.15897 0.012041 -0.054223 -0.29871 -0.15749 -0.34758 -0.045637 -0.44251 0.18785 0.0027849 -0.18411 -0.11514 -0.78581\n",
            "\n"
          ],
          "name": "stdout"
        }
      ]
    },
    {
      "cell_type": "code",
      "metadata": {
        "colab": {
          "base_uri": "https://localhost:8080/"
        },
        "id": "CLMigmcTD6Ec",
        "outputId": "81e2a1f5-4ce5-4e62-f8f2-bd1411a0baef"
      },
      "source": [
        "vocab.token_to_idx.keys()"
      ],
      "execution_count": 62,
      "outputs": [
        {
          "output_type": "execute_result",
          "data": {
            "text/plain": [
              "dict_keys(['è', 'ż', 'ö', 'ó', 'ù', 'ç', 'b', 'J', 't', 'e', 'T', 'ä', 'N', 'h', 'M', 'ã', 'E', 'í', 'a', 'õ', 'V', 'ú', 'ń', 'o', 'Y', 'q', 'É', 'C', 'á', 'Z', 'j', 'p', 'Ś', 'é', 'I', 'Q', 'O', \"'\", 'ñ', 'f', 'n', 'A', 'w', 'U', 'ê', 'i', 'D', ':', 'L', 'ą', 'ł', 'z', 'y', 'd', 'R', 'ì', 'G', 'X', 'W', 'u', '/', '1', 'ò', 'ß', 'r', 'Á', 'm', 'H', 'Ż', 'c', 'x', 'à', 'K', 's', 'v', 'k', 'l', 'S', 'B', 'P', 'F', 'ü', '-', 'g', '<PAD>'])"
            ]
          },
          "metadata": {
            "tags": []
          },
          "execution_count": 62
        }
      ]
    },
    {
      "cell_type": "markdown",
      "metadata": {
        "id": "f7kf990U9Do-"
      },
      "source": [
        "## 2. Классификация обзоров на фильмы (RNN)\n",
        "\n",
        "Датасет: https://disk.yandex.ru/d/tdinpb0nN_Dsrg\n",
        "\n",
        "2.1 Создайте набор данных на основе файлов polarity/positive_reviews.csv (положительные отзывы) и polarity/negative_reviews.csv (отрицательные отзывы). Разбейте на обучающую и тестовую выборку.\n",
        "  * токен = __слово__\n",
        "  * данные для обучения в датасете представляются в виде последовательности индексов токенов\n",
        "  * словарь создается на основе _только_ обучающей выборки. Для корректной обработки ситуаций, когда в тестовой выборке встретится токен, который не хранится в словаре, добавьте в словарь специальный токен `<UNK>`\n",
        "  * добавьте предобработку текста\n",
        "\n",
        "2.2. Обучите классификатор.\n",
        "  \n",
        "  * Для преобразования последовательности индексов в последовательность векторов используйте `nn.Embedding` \n",
        "    - подберите адекватную размерность вектора эмбеддинга: \n",
        "    - модуль `nn.Embedding` обучается\n",
        "\n",
        "  * Используйте рекуррентные слои (`nn.RNN`, `nn.LSTM`, `nn.GRU`)\n",
        "\n",
        "\n",
        "2.3 Измерить точность на тестовой выборке. Проверить работоспособность модели: придумать небольшой отзыв, прогнать его через модель и вывести номер предсказанного класса (сделать это для явно позитивного и явно негативного отзыва)\n",
        "* Целевое значение accuracy на валидации - 70+%"
      ]
    },
    {
      "cell_type": "code",
      "metadata": {
        "colab": {
          "base_uri": "https://localhost:8080/",
          "height": 410
        },
        "id": "q_KkJ2eLEKSO",
        "outputId": "47525e1d-db96-47a0-833e-166b5c73042c"
      },
      "source": [
        "def read_text(path):\n",
        "  with open(path, 'r', encoding = 'utf-8') as pos:\n",
        "    posit = list()\n",
        "    for line in pos:\n",
        "      posit.append(line.rstrip())\n",
        "    return posit\n",
        "\n",
        "pos_file = read_text('/content/drive/MyDrive/datasets/polarity/positive_reviews.txt')\n",
        "df_pos = pd.DataFrame({'review': pos_file, 'label': [0 for i in range(len(pos_file))]})\n",
        "print(f'count positive reviews: {df_pos.shape[0]}')\n",
        "\n",
        "neg_file = read_text('/content/drive/MyDrive/datasets/polarity/negative_reviews.txt')\n",
        "df_neg = pd.DataFrame({'review': neg_file, 'label': [1 for i in range(len(neg_file))]})\n",
        "\n",
        "print(f'count negative reviews: {df_neg.shape[0]}')\n",
        "\n",
        "df = pd.concat([df_pos, df_neg], ignore_index=True)\n",
        "\n",
        "display(df.sample(10)), df.shape"
      ],
      "execution_count": 120,
      "outputs": [
        {
          "output_type": "stream",
          "text": [
            "count positive reviews: 5331\n",
            "count negative reviews: 5331\n"
          ],
          "name": "stdout"
        },
        {
          "output_type": "display_data",
          "data": {
            "text/html": [
              "<div>\n",
              "<style scoped>\n",
              "    .dataframe tbody tr th:only-of-type {\n",
              "        vertical-align: middle;\n",
              "    }\n",
              "\n",
              "    .dataframe tbody tr th {\n",
              "        vertical-align: top;\n",
              "    }\n",
              "\n",
              "    .dataframe thead th {\n",
              "        text-align: right;\n",
              "    }\n",
              "</style>\n",
              "<table border=\"1\" class=\"dataframe\">\n",
              "  <thead>\n",
              "    <tr style=\"text-align: right;\">\n",
              "      <th></th>\n",
              "      <th>review</th>\n",
              "      <th>label</th>\n",
              "    </tr>\n",
              "  </thead>\n",
              "  <tbody>\n",
              "    <tr>\n",
              "      <th>332</th>\n",
              "      <td>it is messy , uncouth , incomprehensible , vic...</td>\n",
              "      <td>0</td>\n",
              "    </tr>\n",
              "    <tr>\n",
              "      <th>8020</th>\n",
              "      <td>while tattoo borrows heavily from both seven a...</td>\n",
              "      <td>1</td>\n",
              "    </tr>\n",
              "    <tr>\n",
              "      <th>10518</th>\n",
              "      <td>jones has tackled a meaty subject and drawn en...</td>\n",
              "      <td>1</td>\n",
              "    </tr>\n",
              "    <tr>\n",
              "      <th>520</th>\n",
              "      <td>in the name of an allegedly inspiring and easi...</td>\n",
              "      <td>0</td>\n",
              "    </tr>\n",
              "    <tr>\n",
              "      <th>5513</th>\n",
              "      <td>a very funny movie .</td>\n",
              "      <td>1</td>\n",
              "    </tr>\n",
              "    <tr>\n",
              "      <th>8484</th>\n",
              "      <td>intimate and panoramic .</td>\n",
              "      <td>1</td>\n",
              "    </tr>\n",
              "    <tr>\n",
              "      <th>6313</th>\n",
              "      <td>without resorting to hyperbole , i can state t...</td>\n",
              "      <td>1</td>\n",
              "    </tr>\n",
              "    <tr>\n",
              "      <th>460</th>\n",
              "      <td>the movie attempts to mine laughs from a genre...</td>\n",
              "      <td>0</td>\n",
              "    </tr>\n",
              "    <tr>\n",
              "      <th>7083</th>\n",
              "      <td>a slick , engrossing melodrama .</td>\n",
              "      <td>1</td>\n",
              "    </tr>\n",
              "    <tr>\n",
              "      <th>4321</th>\n",
              "      <td>not good enough to pass for a litmus test of t...</td>\n",
              "      <td>0</td>\n",
              "    </tr>\n",
              "  </tbody>\n",
              "</table>\n",
              "</div>"
            ],
            "text/plain": [
              "                                                  review  label\n",
              "332    it is messy , uncouth , incomprehensible , vic...      0\n",
              "8020   while tattoo borrows heavily from both seven a...      1\n",
              "10518  jones has tackled a meaty subject and drawn en...      1\n",
              "520    in the name of an allegedly inspiring and easi...      0\n",
              "5513                                a very funny movie .      1\n",
              "8484                            intimate and panoramic .      1\n",
              "6313   without resorting to hyperbole , i can state t...      1\n",
              "460    the movie attempts to mine laughs from a genre...      0\n",
              "7083                    a slick , engrossing melodrama .      1\n",
              "4321   not good enough to pass for a litmus test of t...      0"
            ]
          },
          "metadata": {
            "tags": []
          }
        },
        {
          "output_type": "execute_result",
          "data": {
            "text/plain": [
              "(None, (10662, 2))"
            ]
          },
          "metadata": {
            "tags": []
          },
          "execution_count": 120
        }
      ]
    },
    {
      "cell_type": "code",
      "metadata": {
        "colab": {
          "base_uri": "https://localhost:8080/",
          "height": 221
        },
        "id": "KH-f5CPmES0Q",
        "outputId": "c66c62eb-ddbd-4df2-a136-fd93653d035c"
      },
      "source": [
        "# предобработка текста\n",
        "for idx, rev in enumerate(df['review']):\n",
        "  rev = re.sub(r\"[^a-zA-Z.,!]\", \" \", rev)\n",
        "  # rev = re.sub(r\"[[]]\", \"\", rev)\n",
        "  df.loc[idx, 'review'] = rev.lower() \n",
        "\n",
        "print(df.shape)\n",
        "df.sample(5)"
      ],
      "execution_count": 124,
      "outputs": [
        {
          "output_type": "stream",
          "text": [
            "(10662, 2)\n"
          ],
          "name": "stdout"
        },
        {
          "output_type": "execute_result",
          "data": {
            "text/html": [
              "<div>\n",
              "<style scoped>\n",
              "    .dataframe tbody tr th:only-of-type {\n",
              "        vertical-align: middle;\n",
              "    }\n",
              "\n",
              "    .dataframe tbody tr th {\n",
              "        vertical-align: top;\n",
              "    }\n",
              "\n",
              "    .dataframe thead th {\n",
              "        text-align: right;\n",
              "    }\n",
              "</style>\n",
              "<table border=\"1\" class=\"dataframe\">\n",
              "  <thead>\n",
              "    <tr style=\"text-align: right;\">\n",
              "      <th></th>\n",
              "      <th>review</th>\n",
              "      <th>label</th>\n",
              "    </tr>\n",
              "  </thead>\n",
              "  <tbody>\n",
              "    <tr>\n",
              "      <th>1783</th>\n",
              "      <td>there seems to be no clear path as to where th...</td>\n",
              "      <td>0</td>\n",
              "    </tr>\n",
              "    <tr>\n",
              "      <th>4951</th>\n",
              "      <td>theological matters aside , the movie is so cl...</td>\n",
              "      <td>0</td>\n",
              "    </tr>\n",
              "    <tr>\n",
              "      <th>4065</th>\n",
              "      <td>god is great , the movie s not .</td>\n",
              "      <td>0</td>\n",
              "    </tr>\n",
              "    <tr>\n",
              "      <th>3423</th>\n",
              "      <td>one of the most highly praised disappointments...</td>\n",
              "      <td>0</td>\n",
              "    </tr>\n",
              "    <tr>\n",
              "      <th>10593</th>\n",
              "      <td>the story itself it mostly told through on cam...</td>\n",
              "      <td>1</td>\n",
              "    </tr>\n",
              "  </tbody>\n",
              "</table>\n",
              "</div>"
            ],
            "text/plain": [
              "                                                  review  label\n",
              "1783   there seems to be no clear path as to where th...      0\n",
              "4951   theological matters aside , the movie is so cl...      0\n",
              "4065                    god is great , the movie s not .      0\n",
              "3423   one of the most highly praised disappointments...      0\n",
              "10593  the story itself it mostly told through on cam...      1"
            ]
          },
          "metadata": {
            "tags": []
          },
          "execution_count": 124
        }
      ]
    },
    {
      "cell_type": "code",
      "metadata": {
        "id": "h9EbwKgwEkpu"
      },
      "source": [
        "from nltk.stem import WordNetLemmatizer\n",
        "from nltk.corpus import stopwords\n",
        "lemat = WordNetLemmatizer()"
      ],
      "execution_count": 132,
      "outputs": []
    },
    {
      "cell_type": "code",
      "metadata": {
        "colab": {
          "base_uri": "https://localhost:8080/"
        },
        "id": "xxQybjVoEjEB",
        "outputId": "e9b3120b-2cfa-4f51-d5eb-a2ae24b1d2ec"
      },
      "source": [
        "# Скачиваем набор стоп-слов\n",
        "nltk.download('stopwords')\n",
        "nltk.download('wordnet')"
      ],
      "execution_count": 129,
      "outputs": [
        {
          "output_type": "stream",
          "text": [
            "[nltk_data] Downloading package stopwords to /root/nltk_data...\n",
            "[nltk_data]   Package stopwords is already up-to-date!\n",
            "[nltk_data] Downloading package wordnet to /root/nltk_data...\n",
            "[nltk_data]   Package wordnet is already up-to-date!\n"
          ],
          "name": "stdout"
        },
        {
          "output_type": "execute_result",
          "data": {
            "text/plain": [
              "True"
            ]
          },
          "metadata": {
            "tags": []
          },
          "execution_count": 129
        }
      ]
    },
    {
      "cell_type": "code",
      "metadata": {
        "colab": {
          "base_uri": "https://localhost:8080/",
          "height": 419
        },
        "id": "NZbps5_JIuHL",
        "outputId": "7f69b161-7c85-4c9b-f200-6ec33b0cdc26"
      },
      "source": [
        "stop_words = stopwords.words('english') # Загрузка стоп-слов\n",
        "\n",
        "df['review_new'] = [' ' for rev in range(len(df))]\n",
        "\n",
        "for idx, txt in enumerate(df['review']):\n",
        "  tokens = []\n",
        "  for sent in sent_tokenize(txt): # лексемазация предложения\n",
        "    for word in word_tokenize(sent): # лексемазация слов\n",
        "      tokens.append(lemat.lemmatize(word,  pos = 'v'))\n",
        "\n",
        "  # Удаление stop-words in tarin dataset\n",
        "  rev_new = ' '.join([word for word in tokens if word not in stop_words])\n",
        "  df.loc[idx, 'review_new'] = rev_new\n",
        "\n",
        "df"
      ],
      "execution_count": 126,
      "outputs": [
        {
          "output_type": "execute_result",
          "data": {
            "text/html": [
              "<div>\n",
              "<style scoped>\n",
              "    .dataframe tbody tr th:only-of-type {\n",
              "        vertical-align: middle;\n",
              "    }\n",
              "\n",
              "    .dataframe tbody tr th {\n",
              "        vertical-align: top;\n",
              "    }\n",
              "\n",
              "    .dataframe thead th {\n",
              "        text-align: right;\n",
              "    }\n",
              "</style>\n",
              "<table border=\"1\" class=\"dataframe\">\n",
              "  <thead>\n",
              "    <tr style=\"text-align: right;\">\n",
              "      <th></th>\n",
              "      <th>review</th>\n",
              "      <th>label</th>\n",
              "      <th>review_new</th>\n",
              "    </tr>\n",
              "  </thead>\n",
              "  <tbody>\n",
              "    <tr>\n",
              "      <th>0</th>\n",
              "      <td>simplistic , silly and tedious .</td>\n",
              "      <td>0</td>\n",
              "      <td>simplistic , silly tedious .</td>\n",
              "    </tr>\n",
              "    <tr>\n",
              "      <th>1</th>\n",
              "      <td>it s so laddish and juvenile , only teenage bo...</td>\n",
              "      <td>0</td>\n",
              "      <td>laddish juvenile , teenage boys could possibly...</td>\n",
              "    </tr>\n",
              "    <tr>\n",
              "      <th>2</th>\n",
              "      <td>exploitative and largely devoid of the depth o...</td>\n",
              "      <td>0</td>\n",
              "      <td>exploitative largely devoid depth sophisticati...</td>\n",
              "    </tr>\n",
              "    <tr>\n",
              "      <th>3</th>\n",
              "      <td>garbus  discards the potential for pathologic...</td>\n",
              "      <td>0</td>\n",
              "      <td>garbus discard potential pathological study , ...</td>\n",
              "    </tr>\n",
              "    <tr>\n",
              "      <th>4</th>\n",
              "      <td>a visually flashy but narratively opaque and e...</td>\n",
              "      <td>0</td>\n",
              "      <td>visually flashy narratively opaque emotionally...</td>\n",
              "    </tr>\n",
              "    <tr>\n",
              "      <th>...</th>\n",
              "      <td>...</td>\n",
              "      <td>...</td>\n",
              "      <td>...</td>\n",
              "    </tr>\n",
              "    <tr>\n",
              "      <th>10657</th>\n",
              "      <td>both exuberantly romantic and serenely melanch...</td>\n",
              "      <td>1</td>\n",
              "      <td>exuberantly romantic serenely melancholy , tim...</td>\n",
              "    </tr>\n",
              "    <tr>\n",
              "      <th>10658</th>\n",
              "      <td>mazel tov to a film about a family s joyous li...</td>\n",
              "      <td>1</td>\n",
              "      <td>mazel tov film family joyous life act yiddish ...</td>\n",
              "    </tr>\n",
              "    <tr>\n",
              "      <th>10659</th>\n",
              "      <td>standing in the shadows of motown is the best ...</td>\n",
              "      <td>1</td>\n",
              "      <td>stand shadow motown best kind documentary , on...</td>\n",
              "    </tr>\n",
              "    <tr>\n",
              "      <th>10660</th>\n",
              "      <td>it s nice to see piscopo again after all these...</td>\n",
              "      <td>1</td>\n",
              "      <td>nice see piscopo years , chaykin headly pricel...</td>\n",
              "    </tr>\n",
              "    <tr>\n",
              "      <th>10661</th>\n",
              "      <td>provides a porthole into that noble , tremblin...</td>\n",
              "      <td>1</td>\n",
              "      <td>provide porthole noble , tremble incoherence d...</td>\n",
              "    </tr>\n",
              "  </tbody>\n",
              "</table>\n",
              "<p>10662 rows × 3 columns</p>\n",
              "</div>"
            ],
            "text/plain": [
              "                                                  review  ...                                         review_new\n",
              "0                       simplistic , silly and tedious .  ...                       simplistic , silly tedious .\n",
              "1      it s so laddish and juvenile , only teenage bo...  ...  laddish juvenile , teenage boys could possibly...\n",
              "2      exploitative and largely devoid of the depth o...  ...  exploitative largely devoid depth sophisticati...\n",
              "3       garbus  discards the potential for pathologic...  ...  garbus discard potential pathological study , ...\n",
              "4      a visually flashy but narratively opaque and e...  ...  visually flashy narratively opaque emotionally...\n",
              "...                                                  ...  ...                                                ...\n",
              "10657  both exuberantly romantic and serenely melanch...  ...  exuberantly romantic serenely melancholy , tim...\n",
              "10658  mazel tov to a film about a family s joyous li...  ...  mazel tov film family joyous life act yiddish ...\n",
              "10659  standing in the shadows of motown is the best ...  ...  stand shadow motown best kind documentary , on...\n",
              "10660  it s nice to see piscopo again after all these...  ...  nice see piscopo years , chaykin headly pricel...\n",
              "10661  provides a porthole into that noble , tremblin...  ...  provide porthole noble , tremble incoherence d...\n",
              "\n",
              "[10662 rows x 3 columns]"
            ]
          },
          "metadata": {
            "tags": []
          },
          "execution_count": 126
        }
      ]
    },
    {
      "cell_type": "code",
      "metadata": {
        "id": "Ab9T2peUEWUR"
      },
      "source": [
        "X_train, X_test, y_train, y_test = train_test_split(df['review_new'], df['label'], test_size = 0.1, stratify = df['label'])"
      ],
      "execution_count": 130,
      "outputs": []
    },
    {
      "cell_type": "code",
      "metadata": {
        "colab": {
          "base_uri": "https://localhost:8080/"
        },
        "id": "Xk9oNktzEhKe",
        "outputId": "5c4f9633-ffaf-4108-fc2a-3ed5961cd5f3"
      },
      "source": [
        "len(y_train[y_train == 0])/len(y_train), len(y_test[y_test == 0])/len(y_test)"
      ],
      "execution_count": 131,
      "outputs": [
        {
          "output_type": "execute_result",
          "data": {
            "text/plain": [
              "(0.5000521104742053, 0.49953139643861294)"
            ]
          },
          "metadata": {
            "tags": []
          },
          "execution_count": 131
        }
      ]
    },
    {
      "cell_type": "code",
      "metadata": {
        "id": "9mFHOaanEmUz"
      },
      "source": [
        "class Vocab:\n",
        "  def __init__(self, data):\n",
        "    tokens = [] # Все слова в словаре\n",
        "    for txt in data:\n",
        "      for sent in sent_tokenize(txt): # лексемазация предложения\n",
        "        for word in word_tokenize(sent): # лексемазация слов\n",
        "          tokens.append(lemat.lemmatize(word,  pos = 'v'))\n",
        "    \n",
        "    self.max_seq_len = max([len(word_tokenize(txt)) for txt in data]) # максимальная длина одного отзыва\n",
        "\n",
        "    tokens = set(tokens)\n",
        "\n",
        "    self.idx_to_token = {(idx + 1): token for idx, token in enumerate(tokens)}\n",
        "    self.idx_to_token[0] = '<PAD>'\n",
        "    self.idx_to_token[len(tokens) + 1] = '<UNK>'\n",
        "    self.UNK = len(tokens) + 1\n",
        "    self.token_to_idx = {token: idx for idx, token in self.idx_to_token.items()} # токен слово\n",
        "    self.vocab_len = len(self.idx_to_token)"
      ],
      "execution_count": 133,
      "outputs": []
    },
    {
      "cell_type": "code",
      "metadata": {
        "colab": {
          "base_uri": "https://localhost:8080/"
        },
        "id": "eWK2iEELFBwp",
        "outputId": "eca1fb2f-10a4-44ef-df8a-e5d03c9013a8"
      },
      "source": [
        "vocab = Vocab(X_train)\n",
        "vocab.max_seq_len, vocab.vocab_len"
      ],
      "execution_count": 134,
      "outputs": [
        {
          "output_type": "execute_result",
          "data": {
            "text/plain": [
              "(41, 14099)"
            ]
          },
          "metadata": {
            "tags": []
          },
          "execution_count": 134
        }
      ]
    },
    {
      "cell_type": "code",
      "metadata": {
        "colab": {
          "base_uri": "https://localhost:8080/"
        },
        "id": "d7ZXXw9jHKEP",
        "outputId": "16cdcef1-1fd9-4d06-da5f-b2a6ec32afe8"
      },
      "source": [
        "vocab.token_to_idx['<UNK>']"
      ],
      "execution_count": 135,
      "outputs": [
        {
          "output_type": "execute_result",
          "data": {
            "text/plain": [
              "14098"
            ]
          },
          "metadata": {
            "tags": []
          },
          "execution_count": 135
        }
      ]
    },
    {
      "cell_type": "code",
      "metadata": {
        "id": "xejV28XcFFwe"
      },
      "source": [
        "class ReviewMovieDataset(Dataset):\n",
        "  def __init__(self, X, y, vocab: Vocab):\n",
        "    self.X = X\n",
        "    self.y = y\n",
        "    self.vocab = vocab\n",
        "\n",
        "  def vectorize(self, review):\n",
        "    '''Генерирует представление отзыва review в виде bag of words (см. 1.2.1)'''\n",
        "    # ДОПОЛНИТЬ НУЛЯМИ ВЗАДИ\n",
        "    review_t = torch.zeros(self.vocab.max_seq_len, dtype = int)\n",
        "    \n",
        "    for idx, word in enumerate(word_tokenize(review)):\n",
        "        if word in self.vocab.token_to_idx.keys():\n",
        "          review_t[idx] = self.vocab.token_to_idx[word]\n",
        "        else:\n",
        "          review_t[idx] = self.vocab.token_to_idx['<UNK>']\n",
        "    \n",
        "    return review_t\n",
        "\n",
        "  def __len__(self):\n",
        "    return len(self.X)\n",
        "\n",
        "  def __getitem__(self, idx):\n",
        "    return self.vectorize(self.X[idx]), self.y[idx]"
      ],
      "execution_count": 136,
      "outputs": []
    },
    {
      "cell_type": "code",
      "metadata": {
        "colab": {
          "base_uri": "https://localhost:8080/"
        },
        "id": "giGfYFWeGyeK",
        "outputId": "99dcc600-fc1a-4f68-a078-35fc5e3681a8"
      },
      "source": [
        "dataset_train = ReviewMovieDataset(list(X_train), list(y_train), vocab)\n",
        "dataset_train[0]"
      ],
      "execution_count": 137,
      "outputs": [
        {
          "output_type": "execute_result",
          "data": {
            "text/plain": [
              "(tensor([ 6517,  4092,  7312,  9062,  7312,  7312,  6075,  2588,  8182,  3762,\n",
              "          8421, 10924,     0,     0,     0,     0,     0,     0,     0,     0,\n",
              "             0,     0,     0,     0,     0,     0,     0,     0,     0,     0,\n",
              "             0,     0,     0,     0,     0,     0,     0,     0,     0,     0,\n",
              "             0]), 1)"
            ]
          },
          "metadata": {
            "tags": []
          },
          "execution_count": 137
        }
      ]
    },
    {
      "cell_type": "code",
      "metadata": {
        "id": "in5n-ITEHI1y"
      },
      "source": [
        "class CNNReviewMovieNet(nn.Module):\n",
        "  def __init__(self, vocab_size, embedding_dim, hidden_size, n_classes, residual = 'RNN'):\n",
        "    super().__init__()\n",
        "\n",
        "    self.embeddings = nn.Embedding(vocab_size, embedding_dim)\n",
        "    \n",
        "    self.residual = residual.lower()\n",
        "\n",
        "    if self.residual == 'rnn':\n",
        "      self.rl = nn.RNN(input_size = embedding_dim, \n",
        "                        hidden_size = hidden_size,\n",
        "                        num_layers = 1, \n",
        "                        nonlinearity = 'relu',\n",
        "                        batch_first = True)\n",
        "                        # dropout = 0.5)\n",
        "      \n",
        "    elif self.residual == 'lstm':\n",
        "      self.rl = nn.LSTM(input_size = embedding_dim, \n",
        "                        hidden_size = hidden_size,\n",
        "                        batch_first = True)  \n",
        "                        # dropout = 0.5)    \n",
        "\n",
        "    elif self.residual == 'gru':\n",
        "      self.rl = nn.LSTM(input_size = embedding_dim, \n",
        "                        hidden_size = hidden_size,\n",
        "                        batch_first = True) \n",
        "                        # dropout = 0.5)\n",
        "\n",
        "    self.fc = nn.Linear(hidden_size, n_classes)\n",
        "    # self.fc = nn.Sequential(nn.Flatten(),\n",
        "    #                         nn.Linear(hidden_size, 32), # Для RNN первый аргумент является hidden_size\n",
        "    #                         nn.BatchNorm1d(32),\n",
        "    #                         nn.ReLU(),\n",
        "    #                         # nn.Linear(256, 128),\n",
        "    #                         # nn.BatchNorm1d(128),\n",
        "    #                         # nn.ReLU(),\n",
        "    #                         # nn.Linear(128, 64),\n",
        "    #                         # nn.BatchNorm1d(64),\n",
        "    #                         # nn.ReLU(),\n",
        "    #                         # nn.Linear(128, 64),\n",
        "    #                         # nn.BatchNorm1d(64),\n",
        "    #                         # nn.ReLU(),\n",
        "    #                         nn.Linear(32, n_classes))\n",
        "    \n",
        "  def forward(self, input):\n",
        "    embed = self.embeddings(input)\n",
        "    print(embed.shape)\n",
        "    out, hidden = self.rl(embed)\n",
        "    out = hidden[0]\n",
        "    print(out.shape)\n",
        "    out = self.fc(out)\n",
        "    return out"
      ],
      "execution_count": 282,
      "outputs": []
    },
    {
      "cell_type": "code",
      "metadata": {
        "colab": {
          "base_uri": "https://localhost:8080/"
        },
        "id": "C-_scyZpHIzE",
        "outputId": "8716742b-5dce-4df8-94e6-8393f53f12bf"
      },
      "source": [
        "dataset_train = ReviewMovieDataset(list(X_train), list(y_train), vocab)\n",
        "\n",
        "train_size = int(np.floor(0.8 * len(dataset_train)))\n",
        "val_size = len(dataset_train) - train_size\n",
        "\n",
        "train_dataset, test_dataset = random_split(dataset_train, [train_size, val_size])\n",
        "\n",
        "train_data = DataLoader(train_dataset, batch_size = 32, shuffle = True)\n",
        "validation = DataLoader(test_dataset, batch_size = 32, shuffle = True)\n",
        "\n",
        "vocab_size = vocab.vocab_len\n",
        "hidden_size = 64\n",
        "embedding_dim = 128\n",
        "n_classes = y_train.nunique()\n",
        "\n",
        "device = torch.device('cuda' if torch.cuda.is_available() else 'cpu')\n",
        "\n",
        "model  = CNNReviewMovieNet(vocab_size = vocab_size, \n",
        "                           embedding_dim = embedding_dim,\n",
        "                           hidden_size = hidden_size,\n",
        "                           n_classes = n_classes,\n",
        "                           residual = 'rnn').to(device = device)\n",
        "\n",
        "criteriation = nn.CrossEntropyLoss()\n",
        "optimazer = optim.Adam(model.parameters(), lr = 0.001, weight_decay = 5*10**(-4))\n",
        "\n",
        "early_stop = EarlyStopping(patience = 4, verbose = False, delta = 0.0001)\n",
        "\n",
        "loss_history = list()\n",
        "history_loss_val = list()\n",
        "epochs_history = list()\n",
        "accuracy_val = list()\n",
        "\n",
        "n_epochs = 500\n",
        "\n",
        "for epoch in range(1, n_epochs + 1):\n",
        "  loss_batch = 0\n",
        "  loss_val = 0\n",
        "\n",
        "  for X_batch, y_batch in train_data:\n",
        "    X_batch, y_batch = X_batch.to(device = device), y_batch.to(device = device)\n",
        "    out = model(X_batch)\n",
        "\n",
        "    cur_loss = criteriation(out, y_batch)\n",
        "    loss_batch += cur_loss\n",
        "\n",
        "    cur_loss.backward()\n",
        "    optimazer.step()\n",
        "    optimazer.zero_grad()\n",
        "\n",
        "  loss_history.append(loss_batch/len(train_data))\n",
        "  epochs_history.append(epoch)\n",
        "\n",
        "  correct_val, total_val = 0, 0\n",
        "\n",
        "  with torch.no_grad():\n",
        "    for X_val, y_val in validation:\n",
        "      X_val, y_val = X_val.to(device = device), y_val.to(device = device)\n",
        "      out = model(X_val)\n",
        "\n",
        "      _, predicted = torch.max(out, dim = 1)\n",
        "\n",
        "      total += y_val.shape[0]\n",
        "      correct += int((predicted == y_val).sum())\n",
        "\n",
        "      loss = criteriation(out, y_val)\n",
        "      loss_val += loss\n",
        "\n",
        "  history_loss_val.append(loss_val/len(train_data))\n",
        "  accuracy_val.append(correct/total)\n",
        "\n",
        "  if epoch % 2:\n",
        "    print(f'Epoch: [{epoch}/{n_epochs}]: Loss_Train = {loss_history[-1]}, Loss_Val = {history_loss_val[-1]}, Accuracy_Val = {accuracy_val[-1]}')\n",
        "\n",
        "  early_stop(accuracy_val[-1], model)\n",
        "\n",
        "  if early_stop.early_stop: #and accuracy_val[-1] >= 0.7:\n",
        "      print(f\"Early stopping on epoch: [{epoch}/{n_epochs}] with Loss_Train = {loss_history[-1]}, Loss_Val = {history_loss_val[-1]}, Accuracy_Val = {accuracy_val[-1]}\")\n",
        "      break\n",
        "\n",
        "torch.save(model, '/content/drive/MyDrive/models/RNN_embedding_ReviewMoves_(b_7_t_2).pth')"
      ],
      "execution_count": 232,
      "outputs": [
        {
          "output_type": "stream",
          "text": [
            "Epoch: [1/500]: Loss_Train = 0.6996273398399353, Loss_Val = 0.1731424480676651, Accuracy_Val = 0.4947537419093851\n",
            "EarlyStopping counter: 1 out of 4\n",
            "Epoch: [3/500]: Loss_Train = 0.6955304741859436, Loss_Val = 0.17309729754924774, Accuracy_Val = 0.4948292654380076\n",
            "EarlyStopping counter: 2 out of 4\n",
            "EarlyStopping counter: 3 out of 4\n",
            "Epoch: [5/500]: Loss_Train = 0.6954693794250488, Loss_Val = 0.17336159944534302, Accuracy_Val = 0.49493261455525606\n",
            "EarlyStopping counter: 4 out of 4\n",
            "Early stopping on epoch: [5/500] with Loss_Train = 0.6954693794250488, Loss_Val = 0.17336159944534302, Accuracy_Val = 0.49493261455525606\n"
          ],
          "name": "stdout"
        }
      ]
    },
    {
      "cell_type": "code",
      "metadata": {
        "colab": {
          "base_uri": "https://localhost:8080/",
          "height": 350
        },
        "id": "zwVTOrVaHIvK",
        "outputId": "073fdfaa-cbe1-490d-f0d2-f549e5cf6da8"
      },
      "source": [
        "fig, ax = plt.subplots(figsize = (10, 5))\n",
        "plt.plot(epochs_history, loss_history, label = 'Train')\n",
        "plt.plot(epochs_history, history_loss_val, label = 'Test')\n",
        "plt.legend()\n",
        "plt.title('Loss for each epochs')\n",
        "plt.xlabel('Epochs')\n",
        "plt.ylabel('Loss')\n",
        "plt.grid()"
      ],
      "execution_count": 233,
      "outputs": [
        {
          "output_type": "display_data",
          "data": {
            "image/png": "[encoded data removed]",
            "text/plain": [
              "<Figure size 720x360 with 1 Axes>"
            ]
          },
          "metadata": {
            "tags": [],
            "needs_background": "light"
          }
        }
      ]
    },
    {
      "cell_type": "code",
      "metadata": {
        "colab": {
          "base_uri": "https://localhost:8080/",
          "height": 350
        },
        "id": "sR7cdIdEHIrM",
        "outputId": "97cb0bc0-9af4-47be-b537-7508df4a561f"
      },
      "source": [
        "fig, ax = plt.subplots(figsize = (10, 5))\n",
        "plt.plot(epochs_history, accuracy_val, label = 'Test')\n",
        "plt.legend()\n",
        "plt.title('Accuracy for each epochs')\n",
        "plt.xlabel('Epochs')\n",
        "plt.ylabel('Accuracy')\n",
        "plt.grid()"
      ],
      "execution_count": 234,
      "outputs": [
        {
          "output_type": "display_data",
          "data": {
            "image/png": "[encoded data removed]",
            "text/plain": [
              "<Figure size 720x360 with 1 Axes>"
            ]
          },
          "metadata": {
            "tags": [],
            "needs_background": "light"
          }
        }
      ]
    },
    {
      "cell_type": "code",
      "metadata": {
        "colab": {
          "base_uri": "https://localhost:8080/"
        },
        "id": "6udZT5d7HIgn",
        "outputId": "1eb4be75-5e44-4fc4-9369-afa2a0171376"
      },
      "source": [
        "dataset_train = ReviewMovieDataset(list(X_test), list(y_test), vocab)\n",
        "train_data = DataLoader(dataset_train, batch_size = len(dataset_train), shuffle = True)\n",
        "\n",
        "correct, total = 0, 0\n",
        "with torch.no_grad():\n",
        "  for X_batch, y_batch in train_data:\n",
        "    X_batch, y_batch = X_batch.to(device = device), y_batch.to(device = device)\n",
        "    pred = model(X_batch)\n",
        "\n",
        "    _, predicted = torch.max(pred, dim = 1)\n",
        "    total += y_batch.shape[0]\n",
        "    correct += int((predicted == y_batch).sum())\n",
        "\n",
        "    # f1 = f1_score(y_batch.numpy(), predicted.numpy(), average='weighted') # weighted, т.к. дисбаланс классов\n",
        "\n",
        "print(f'Accuracy: {correct/total}')\n",
        "\n",
        "# print(f'F1: {f1}')"
      ],
      "execution_count": 235,
      "outputs": [
        {
          "output_type": "stream",
          "text": [
            "Accuracy: 0.514526710402999\n"
          ],
          "name": "stdout"
        }
      ]
    },
    {
      "cell_type": "code",
      "metadata": {
        "colab": {
          "base_uri": "https://localhost:8080/"
        },
        "id": "NbeL-dkyHIPZ",
        "outputId": "483cdb0f-0061-4334-806d-ba3cc5ae9244"
      },
      "source": [
        "negative = 'The acting is bad because the idea of ​​the film is terrible.'\n",
        "# negative = preprocess_text(negative)\n",
        "positive = 'The director made a masterpiece.'\n",
        "# positive = preprocess_text(positive)\n",
        "\n",
        "X_classmates = [negative, positive]\n",
        "y_fictit = [0, 0]\n",
        "\n",
        "reviews = ReviewMovieDataset(X_classmates, y_fictit, vocab)\n",
        "rev = DataLoader(reviews, batch_size = 1, shuffle = True)\n",
        "\n",
        "model.eval()\n",
        "with torch.no_grad():\n",
        "  for x, y in rev:\n",
        "    x = x.to(device = device)\n",
        "\n",
        "    out = model(x)\n",
        "    _, predicted = torch.max(out, dim = 1)\n",
        "    \n",
        "    print(predicted.item())\n",
        "\n",
        "# 0 - позитивный отзыв\n",
        "# 1 - негативный отзыв"
      ],
      "execution_count": 238,
      "outputs": [
        {
          "output_type": "stream",
          "text": [
            "0\n",
            "0\n"
          ],
          "name": "stdout"
        }
      ]
    },
    {
      "cell_type": "code",
      "metadata": {
        "colab": {
          "base_uri": "https://localhost:8080/",
          "height": 408
        },
        "id": "qsexwy_XZsYQ",
        "outputId": "ceb09a76-fa06-4539-c2c9-e52aa96332b1"
      },
      "source": [
        "dataset_train = ReviewMovieDataset(list(X_train), list(y_train), vocab)\n",
        "\n",
        "train_size = int(np.floor(0.8 * len(dataset_train)))\n",
        "val_size = len(dataset_train) - train_size\n",
        "\n",
        "train_dataset, test_dataset = random_split(dataset_train, [train_size, val_size])\n",
        "\n",
        "train_data = DataLoader(train_dataset, batch_size = 32, shuffle = True)\n",
        "validation = DataLoader(test_dataset, batch_size = 32, shuffle = True)\n",
        "\n",
        "vocab_size = vocab.vocab_len\n",
        "hidden_size = 64\n",
        "embedding_dim = 128\n",
        "n_classes = y_train.nunique()\n",
        "\n",
        "model_lstm  = CNNReviewMovieNet(vocab_size = vocab_size, \n",
        "                           embedding_dim = embedding_dim,\n",
        "                           hidden_size = hidden_size,\n",
        "                           n_classes = n_classes,\n",
        "                           residual = 'lstm').to(device = device)\n",
        "\n",
        "early_stop = EarlyStopping(patience = 4, verbose = False, delta = 0.0001)\n",
        "\n",
        "loss_history = list()\n",
        "history_loss_val = list()\n",
        "epochs_history = list()\n",
        "accuracy_val = list()\n",
        "\n",
        "n_epochs = 500\n",
        "\n",
        "for epoch in range(1, n_epochs + 1):\n",
        "  loss_batch = 0\n",
        "  loss_val = 0\n",
        "\n",
        "  for X_batch, y_batch in train_data:\n",
        "    X_batch, y_batch = X_batch.to(device = device), y_batch.to(device = device)\n",
        "    out = model_lstm(X_batch)\n",
        "\n",
        "    cur_loss = criteriation(out, y_batch)\n",
        "    loss_batch += cur_loss\n",
        "\n",
        "    cur_loss.backward()\n",
        "    optimazer.step()\n",
        "    optimazer.zero_grad()\n",
        "\n",
        "  loss_history.append(loss_batch/len(train_data))\n",
        "  epochs_history.append(epoch)\n",
        "\n",
        "  correct_val, total_val = 0, 0\n",
        "\n",
        "  with torch.no_grad():\n",
        "    for X_val, y_val in validation:\n",
        "      X_val, y_val = X_val.to(device = device), y_val.to(device = device)\n",
        "      out = model_lstm(X_val)\n",
        "\n",
        "      _, predicted = torch.max(out, dim = 1)\n",
        "\n",
        "      total += y_val.shape[0]\n",
        "      correct += int((predicted == y_val).sum())\n",
        "\n",
        "      loss = criteriation(out, y_val)\n",
        "      loss_val += loss\n",
        "\n",
        "  history_loss_val.append(loss_val/len(train_data))\n",
        "  accuracy_val.append(correct/total)\n",
        "\n",
        "  if epoch % 2:\n",
        "    print(f'Epoch: [{epoch}/{n_epochs}]: Loss_Train = {loss_history[-1]}, Loss_Val = {history_loss_val[-1]}, Accuracy_Val = {accuracy_val[-1]}')\n",
        "\n",
        "  early_stop(accuracy_val[-1], model)\n",
        "\n",
        "  if early_stop.early_stop: #and accuracy_val[-1] >= 0.7:\n",
        "      print(f\"Early stopping on epoch: [{epoch}/{n_epochs}] with Loss_Train = {loss_history[-1]}, Loss_Val = {history_loss_val[-1]}, Accuracy_Val = {accuracy_val[-1]}\")\n",
        "      break\n",
        "\n",
        "torch.save(model, '/content/drive/MyDrive/models/RNN_embedding_ReviewMoves_(b_7_t_2).pth')"
      ],
      "execution_count": 281,
      "outputs": [
        {
          "output_type": "stream",
          "text": [
            "torch.Size([32, 41, 128])\n",
            "torch.Size([1, 32, 64])\n"
          ],
          "name": "stdout"
        },
        {
          "output_type": "error",
          "ename": "ValueError",
          "evalue": "ignored",
          "traceback": [
            "\u001b[0;31m---------------------------------------------------------------------------\u001b[0m",
            "\u001b[0;31mValueError\u001b[0m                                Traceback (most recent call last)",
            "\u001b[0;32m<ipython-input-281-1989c1f92719>\u001b[0m in \u001b[0;36m<module>\u001b[0;34m()\u001b[0m\n\u001b[1;32m     37\u001b[0m     \u001b[0mout\u001b[0m \u001b[0;34m=\u001b[0m \u001b[0mmodel_lstm\u001b[0m\u001b[0;34m(\u001b[0m\u001b[0mX_batch\u001b[0m\u001b[0;34m)\u001b[0m\u001b[0;34m\u001b[0m\u001b[0;34m\u001b[0m\u001b[0m\n\u001b[1;32m     38\u001b[0m \u001b[0;34m\u001b[0m\u001b[0m\n\u001b[0;32m---> 39\u001b[0;31m     \u001b[0mcur_loss\u001b[0m \u001b[0;34m=\u001b[0m \u001b[0mcriteriation\u001b[0m\u001b[0;34m(\u001b[0m\u001b[0mout\u001b[0m\u001b[0;34m,\u001b[0m \u001b[0my_batch\u001b[0m\u001b[0;34m)\u001b[0m\u001b[0;34m\u001b[0m\u001b[0;34m\u001b[0m\u001b[0m\n\u001b[0m\u001b[1;32m     40\u001b[0m     \u001b[0mloss_batch\u001b[0m \u001b[0;34m+=\u001b[0m \u001b[0mcur_loss\u001b[0m\u001b[0;34m\u001b[0m\u001b[0;34m\u001b[0m\u001b[0m\n\u001b[1;32m     41\u001b[0m \u001b[0;34m\u001b[0m\u001b[0m\n",
            "\u001b[0;32m/usr/local/lib/python3.7/dist-packages/torch/nn/modules/module.py\u001b[0m in \u001b[0;36m_call_impl\u001b[0;34m(self, *input, **kwargs)\u001b[0m\n\u001b[1;32m    887\u001b[0m             \u001b[0mresult\u001b[0m \u001b[0;34m=\u001b[0m \u001b[0mself\u001b[0m\u001b[0;34m.\u001b[0m\u001b[0m_slow_forward\u001b[0m\u001b[0;34m(\u001b[0m\u001b[0;34m*\u001b[0m\u001b[0minput\u001b[0m\u001b[0;34m,\u001b[0m \u001b[0;34m**\u001b[0m\u001b[0mkwargs\u001b[0m\u001b[0;34m)\u001b[0m\u001b[0;34m\u001b[0m\u001b[0;34m\u001b[0m\u001b[0m\n\u001b[1;32m    888\u001b[0m         \u001b[0;32melse\u001b[0m\u001b[0;34m:\u001b[0m\u001b[0;34m\u001b[0m\u001b[0;34m\u001b[0m\u001b[0m\n\u001b[0;32m--> 889\u001b[0;31m             \u001b[0mresult\u001b[0m \u001b[0;34m=\u001b[0m \u001b[0mself\u001b[0m\u001b[0;34m.\u001b[0m\u001b[0mforward\u001b[0m\u001b[0;34m(\u001b[0m\u001b[0;34m*\u001b[0m\u001b[0minput\u001b[0m\u001b[0;34m,\u001b[0m \u001b[0;34m**\u001b[0m\u001b[0mkwargs\u001b[0m\u001b[0;34m)\u001b[0m\u001b[0;34m\u001b[0m\u001b[0;34m\u001b[0m\u001b[0m\n\u001b[0m\u001b[1;32m    890\u001b[0m         for hook in itertools.chain(\n\u001b[1;32m    891\u001b[0m                 \u001b[0m_global_forward_hooks\u001b[0m\u001b[0;34m.\u001b[0m\u001b[0mvalues\u001b[0m\u001b[0;34m(\u001b[0m\u001b[0;34m)\u001b[0m\u001b[0;34m,\u001b[0m\u001b[0;34m\u001b[0m\u001b[0;34m\u001b[0m\u001b[0m\n",
            "\u001b[0;32m/usr/local/lib/python3.7/dist-packages/torch/nn/modules/loss.py\u001b[0m in \u001b[0;36mforward\u001b[0;34m(self, input, target)\u001b[0m\n\u001b[1;32m   1046\u001b[0m         \u001b[0;32massert\u001b[0m \u001b[0mself\u001b[0m\u001b[0;34m.\u001b[0m\u001b[0mweight\u001b[0m \u001b[0;32mis\u001b[0m \u001b[0;32mNone\u001b[0m \u001b[0;32mor\u001b[0m \u001b[0misinstance\u001b[0m\u001b[0;34m(\u001b[0m\u001b[0mself\u001b[0m\u001b[0;34m.\u001b[0m\u001b[0mweight\u001b[0m\u001b[0;34m,\u001b[0m \u001b[0mTensor\u001b[0m\u001b[0;34m)\u001b[0m\u001b[0;34m\u001b[0m\u001b[0;34m\u001b[0m\u001b[0m\n\u001b[1;32m   1047\u001b[0m         return F.cross_entropy(input, target, weight=self.weight,\n\u001b[0;32m-> 1048\u001b[0;31m                                ignore_index=self.ignore_index, reduction=self.reduction)\n\u001b[0m\u001b[1;32m   1049\u001b[0m \u001b[0;34m\u001b[0m\u001b[0m\n\u001b[1;32m   1050\u001b[0m \u001b[0;34m\u001b[0m\u001b[0m\n",
            "\u001b[0;32m/usr/local/lib/python3.7/dist-packages/torch/nn/functional.py\u001b[0m in \u001b[0;36mcross_entropy\u001b[0;34m(input, target, weight, size_average, ignore_index, reduce, reduction)\u001b[0m\n\u001b[1;32m   2691\u001b[0m     \u001b[0;32mif\u001b[0m \u001b[0msize_average\u001b[0m \u001b[0;32mis\u001b[0m \u001b[0;32mnot\u001b[0m \u001b[0;32mNone\u001b[0m \u001b[0;32mor\u001b[0m \u001b[0mreduce\u001b[0m \u001b[0;32mis\u001b[0m \u001b[0;32mnot\u001b[0m \u001b[0;32mNone\u001b[0m\u001b[0;34m:\u001b[0m\u001b[0;34m\u001b[0m\u001b[0;34m\u001b[0m\u001b[0m\n\u001b[1;32m   2692\u001b[0m         \u001b[0mreduction\u001b[0m \u001b[0;34m=\u001b[0m \u001b[0m_Reduction\u001b[0m\u001b[0;34m.\u001b[0m\u001b[0mlegacy_get_string\u001b[0m\u001b[0;34m(\u001b[0m\u001b[0msize_average\u001b[0m\u001b[0;34m,\u001b[0m \u001b[0mreduce\u001b[0m\u001b[0;34m)\u001b[0m\u001b[0;34m\u001b[0m\u001b[0;34m\u001b[0m\u001b[0m\n\u001b[0;32m-> 2693\u001b[0;31m     \u001b[0;32mreturn\u001b[0m \u001b[0mnll_loss\u001b[0m\u001b[0;34m(\u001b[0m\u001b[0mlog_softmax\u001b[0m\u001b[0;34m(\u001b[0m\u001b[0minput\u001b[0m\u001b[0;34m,\u001b[0m \u001b[0;36m1\u001b[0m\u001b[0;34m)\u001b[0m\u001b[0;34m,\u001b[0m \u001b[0mtarget\u001b[0m\u001b[0;34m,\u001b[0m \u001b[0mweight\u001b[0m\u001b[0;34m,\u001b[0m \u001b[0;32mNone\u001b[0m\u001b[0;34m,\u001b[0m \u001b[0mignore_index\u001b[0m\u001b[0;34m,\u001b[0m \u001b[0;32mNone\u001b[0m\u001b[0;34m,\u001b[0m \u001b[0mreduction\u001b[0m\u001b[0;34m)\u001b[0m\u001b[0;34m\u001b[0m\u001b[0;34m\u001b[0m\u001b[0m\n\u001b[0m\u001b[1;32m   2694\u001b[0m \u001b[0;34m\u001b[0m\u001b[0m\n\u001b[1;32m   2695\u001b[0m \u001b[0;34m\u001b[0m\u001b[0m\n",
            "\u001b[0;32m/usr/local/lib/python3.7/dist-packages/torch/nn/functional.py\u001b[0m in \u001b[0;36mnll_loss\u001b[0;34m(input, target, weight, size_average, ignore_index, reduce, reduction)\u001b[0m\n\u001b[1;32m   2383\u001b[0m     \u001b[0;32mif\u001b[0m \u001b[0minput\u001b[0m\u001b[0;34m.\u001b[0m\u001b[0msize\u001b[0m\u001b[0;34m(\u001b[0m\u001b[0;36m0\u001b[0m\u001b[0;34m)\u001b[0m \u001b[0;34m!=\u001b[0m \u001b[0mtarget\u001b[0m\u001b[0;34m.\u001b[0m\u001b[0msize\u001b[0m\u001b[0;34m(\u001b[0m\u001b[0;36m0\u001b[0m\u001b[0;34m)\u001b[0m\u001b[0;34m:\u001b[0m\u001b[0;34m\u001b[0m\u001b[0;34m\u001b[0m\u001b[0m\n\u001b[1;32m   2384\u001b[0m         raise ValueError(\n\u001b[0;32m-> 2385\u001b[0;31m             \u001b[0;34m\"Expected input batch_size ({}) to match target batch_size ({}).\"\u001b[0m\u001b[0;34m.\u001b[0m\u001b[0mformat\u001b[0m\u001b[0;34m(\u001b[0m\u001b[0minput\u001b[0m\u001b[0;34m.\u001b[0m\u001b[0msize\u001b[0m\u001b[0;34m(\u001b[0m\u001b[0;36m0\u001b[0m\u001b[0;34m)\u001b[0m\u001b[0;34m,\u001b[0m \u001b[0mtarget\u001b[0m\u001b[0;34m.\u001b[0m\u001b[0msize\u001b[0m\u001b[0;34m(\u001b[0m\u001b[0;36m0\u001b[0m\u001b[0;34m)\u001b[0m\u001b[0;34m)\u001b[0m\u001b[0;34m\u001b[0m\u001b[0;34m\u001b[0m\u001b[0m\n\u001b[0m\u001b[1;32m   2386\u001b[0m         )\n\u001b[1;32m   2387\u001b[0m     \u001b[0;32mif\u001b[0m \u001b[0mdim\u001b[0m \u001b[0;34m==\u001b[0m \u001b[0;36m2\u001b[0m\u001b[0;34m:\u001b[0m\u001b[0;34m\u001b[0m\u001b[0;34m\u001b[0m\u001b[0m\n",
            "\u001b[0;31mValueError\u001b[0m: Expected input batch_size (1) to match target batch_size (32)."
          ]
        }
      ]
    },
    {
      "cell_type": "code",
      "metadata": {
        "colab": {
          "base_uri": "https://localhost:8080/",
          "height": 408
        },
        "id": "dOLR8GZ-aDEG",
        "outputId": "c22e36aa-3c50-4133-94f4-b9f4fe00acf2"
      },
      "source": [
        "dataset_train = ReviewMovieDataset(list(X_train), list(y_train), vocab)\n",
        "\n",
        "train_size = int(np.floor(0.8 * len(dataset_train)))\n",
        "val_size = len(dataset_train) - train_size\n",
        "\n",
        "train_dataset, test_dataset = random_split(dataset_train, [train_size, val_size])\n",
        "\n",
        "train_data = DataLoader(train_dataset, batch_size = 32, shuffle = True)\n",
        "validation = DataLoader(test_dataset, batch_size = 32, shuffle = True)\n",
        "\n",
        "vocab_size = vocab.vocab_len\n",
        "hidden_size = 64\n",
        "embedding_dim = 128\n",
        "n_classes = y_train.nunique()\n",
        "\n",
        "model_lstm  = CNNReviewMovieNet(vocab_size = vocab_size, \n",
        "                           embedding_dim = embedding_dim,\n",
        "                           hidden_size = hidden_size,\n",
        "                           n_classes = n_classes,\n",
        "                           residual = 'gru').to(device = device)\n",
        "\n",
        "early_stop = EarlyStopping(patience = 4, verbose = False, delta = 0.0001)\n",
        "\n",
        "loss_history = list()\n",
        "history_loss_val = list()\n",
        "epochs_history = list()\n",
        "accuracy_val = list()\n",
        "\n",
        "n_epochs = 500\n",
        "\n",
        "for epoch in range(1, n_epochs + 1):\n",
        "  loss_batch = 0\n",
        "  loss_val = 0\n",
        "\n",
        "  for X_batch, y_batch in train_data:\n",
        "    X_batch, y_batch = X_batch.to(device = device), y_batch.to(device = device)\n",
        "    out = model_lstm(X_batch)\n",
        "\n",
        "    cur_loss = criteriation(out, y_batch)\n",
        "    loss_batch += cur_loss\n",
        "\n",
        "    cur_loss.backward()\n",
        "    optimazer.step()\n",
        "    optimazer.zero_grad()\n",
        "\n",
        "  loss_history.append(loss_batch/len(train_data))\n",
        "  epochs_history.append(epoch)\n",
        "\n",
        "  correct_val, total_val = 0, 0\n",
        "\n",
        "  with torch.no_grad():\n",
        "    for X_val, y_val in validation:\n",
        "      X_val, y_val = X_val.to(device = device), y_val.to(device = device)\n",
        "      out = model_lstm(X_val)\n",
        "\n",
        "      _, predicted = torch.max(out, dim = 1)\n",
        "\n",
        "      total += y_val.shape[0]\n",
        "      correct += int((predicted == y_val).sum())\n",
        "\n",
        "      loss = criteriation(out, y_val)\n",
        "      loss_val += loss\n",
        "\n",
        "  history_loss_val.append(loss_val/len(train_data))\n",
        "  accuracy_val.append(correct/total)\n",
        "\n",
        "  if epoch % 2:\n",
        "    print(f'Epoch: [{epoch}/{n_epochs}]: Loss_Train = {loss_history[-1]}, Loss_Val = {history_loss_val[-1]}, Accuracy_Val = {accuracy_val[-1]}')\n",
        "\n",
        "  early_stop(accuracy_val[-1], model)\n",
        "\n",
        "  if early_stop.early_stop: #and accuracy_val[-1] >= 0.7:\n",
        "      print(f\"Early stopping on epoch: [{epoch}/{n_epochs}] with Loss_Train = {loss_history[-1]}, Loss_Val = {history_loss_val[-1]}, Accuracy_Val = {accuracy_val[-1]}\")\n",
        "      break\n",
        "\n",
        "torch.save(model, '/content/drive/MyDrive/models/RNN_embedding_ReviewMoves_(b_7_t_2).pth')"
      ],
      "execution_count": 283,
      "outputs": [
        {
          "output_type": "stream",
          "text": [
            "torch.Size([32, 41, 128])\n",
            "torch.Size([1, 32, 64])\n"
          ],
          "name": "stdout"
        },
        {
          "output_type": "error",
          "ename": "ValueError",
          "evalue": "ignored",
          "traceback": [
            "\u001b[0;31m---------------------------------------------------------------------------\u001b[0m",
            "\u001b[0;31mValueError\u001b[0m                                Traceback (most recent call last)",
            "\u001b[0;32m<ipython-input-283-aea4682e922f>\u001b[0m in \u001b[0;36m<module>\u001b[0;34m()\u001b[0m\n\u001b[1;32m     37\u001b[0m     \u001b[0mout\u001b[0m \u001b[0;34m=\u001b[0m \u001b[0mmodel_lstm\u001b[0m\u001b[0;34m(\u001b[0m\u001b[0mX_batch\u001b[0m\u001b[0;34m)\u001b[0m\u001b[0;34m\u001b[0m\u001b[0;34m\u001b[0m\u001b[0m\n\u001b[1;32m     38\u001b[0m \u001b[0;34m\u001b[0m\u001b[0m\n\u001b[0;32m---> 39\u001b[0;31m     \u001b[0mcur_loss\u001b[0m \u001b[0;34m=\u001b[0m \u001b[0mcriteriation\u001b[0m\u001b[0;34m(\u001b[0m\u001b[0mout\u001b[0m\u001b[0;34m,\u001b[0m \u001b[0my_batch\u001b[0m\u001b[0;34m)\u001b[0m\u001b[0;34m\u001b[0m\u001b[0;34m\u001b[0m\u001b[0m\n\u001b[0m\u001b[1;32m     40\u001b[0m     \u001b[0mloss_batch\u001b[0m \u001b[0;34m+=\u001b[0m \u001b[0mcur_loss\u001b[0m\u001b[0;34m\u001b[0m\u001b[0;34m\u001b[0m\u001b[0m\n\u001b[1;32m     41\u001b[0m \u001b[0;34m\u001b[0m\u001b[0m\n",
            "\u001b[0;32m/usr/local/lib/python3.7/dist-packages/torch/nn/modules/module.py\u001b[0m in \u001b[0;36m_call_impl\u001b[0;34m(self, *input, **kwargs)\u001b[0m\n\u001b[1;32m    887\u001b[0m             \u001b[0mresult\u001b[0m \u001b[0;34m=\u001b[0m \u001b[0mself\u001b[0m\u001b[0;34m.\u001b[0m\u001b[0m_slow_forward\u001b[0m\u001b[0;34m(\u001b[0m\u001b[0;34m*\u001b[0m\u001b[0minput\u001b[0m\u001b[0;34m,\u001b[0m \u001b[0;34m**\u001b[0m\u001b[0mkwargs\u001b[0m\u001b[0;34m)\u001b[0m\u001b[0;34m\u001b[0m\u001b[0;34m\u001b[0m\u001b[0m\n\u001b[1;32m    888\u001b[0m         \u001b[0;32melse\u001b[0m\u001b[0;34m:\u001b[0m\u001b[0;34m\u001b[0m\u001b[0;34m\u001b[0m\u001b[0m\n\u001b[0;32m--> 889\u001b[0;31m             \u001b[0mresult\u001b[0m \u001b[0;34m=\u001b[0m \u001b[0mself\u001b[0m\u001b[0;34m.\u001b[0m\u001b[0mforward\u001b[0m\u001b[0;34m(\u001b[0m\u001b[0;34m*\u001b[0m\u001b[0minput\u001b[0m\u001b[0;34m,\u001b[0m \u001b[0;34m**\u001b[0m\u001b[0mkwargs\u001b[0m\u001b[0;34m)\u001b[0m\u001b[0;34m\u001b[0m\u001b[0;34m\u001b[0m\u001b[0m\n\u001b[0m\u001b[1;32m    890\u001b[0m         for hook in itertools.chain(\n\u001b[1;32m    891\u001b[0m                 \u001b[0m_global_forward_hooks\u001b[0m\u001b[0;34m.\u001b[0m\u001b[0mvalues\u001b[0m\u001b[0;34m(\u001b[0m\u001b[0;34m)\u001b[0m\u001b[0;34m,\u001b[0m\u001b[0;34m\u001b[0m\u001b[0;34m\u001b[0m\u001b[0m\n",
            "\u001b[0;32m/usr/local/lib/python3.7/dist-packages/torch/nn/modules/loss.py\u001b[0m in \u001b[0;36mforward\u001b[0;34m(self, input, target)\u001b[0m\n\u001b[1;32m   1046\u001b[0m         \u001b[0;32massert\u001b[0m \u001b[0mself\u001b[0m\u001b[0;34m.\u001b[0m\u001b[0mweight\u001b[0m \u001b[0;32mis\u001b[0m \u001b[0;32mNone\u001b[0m \u001b[0;32mor\u001b[0m \u001b[0misinstance\u001b[0m\u001b[0;34m(\u001b[0m\u001b[0mself\u001b[0m\u001b[0;34m.\u001b[0m\u001b[0mweight\u001b[0m\u001b[0;34m,\u001b[0m \u001b[0mTensor\u001b[0m\u001b[0;34m)\u001b[0m\u001b[0;34m\u001b[0m\u001b[0;34m\u001b[0m\u001b[0m\n\u001b[1;32m   1047\u001b[0m         return F.cross_entropy(input, target, weight=self.weight,\n\u001b[0;32m-> 1048\u001b[0;31m                                ignore_index=self.ignore_index, reduction=self.reduction)\n\u001b[0m\u001b[1;32m   1049\u001b[0m \u001b[0;34m\u001b[0m\u001b[0m\n\u001b[1;32m   1050\u001b[0m \u001b[0;34m\u001b[0m\u001b[0m\n",
            "\u001b[0;32m/usr/local/lib/python3.7/dist-packages/torch/nn/functional.py\u001b[0m in \u001b[0;36mcross_entropy\u001b[0;34m(input, target, weight, size_average, ignore_index, reduce, reduction)\u001b[0m\n\u001b[1;32m   2691\u001b[0m     \u001b[0;32mif\u001b[0m \u001b[0msize_average\u001b[0m \u001b[0;32mis\u001b[0m \u001b[0;32mnot\u001b[0m \u001b[0;32mNone\u001b[0m \u001b[0;32mor\u001b[0m \u001b[0mreduce\u001b[0m \u001b[0;32mis\u001b[0m \u001b[0;32mnot\u001b[0m \u001b[0;32mNone\u001b[0m\u001b[0;34m:\u001b[0m\u001b[0;34m\u001b[0m\u001b[0;34m\u001b[0m\u001b[0m\n\u001b[1;32m   2692\u001b[0m         \u001b[0mreduction\u001b[0m \u001b[0;34m=\u001b[0m \u001b[0m_Reduction\u001b[0m\u001b[0;34m.\u001b[0m\u001b[0mlegacy_get_string\u001b[0m\u001b[0;34m(\u001b[0m\u001b[0msize_average\u001b[0m\u001b[0;34m,\u001b[0m \u001b[0mreduce\u001b[0m\u001b[0;34m)\u001b[0m\u001b[0;34m\u001b[0m\u001b[0;34m\u001b[0m\u001b[0m\n\u001b[0;32m-> 2693\u001b[0;31m     \u001b[0;32mreturn\u001b[0m \u001b[0mnll_loss\u001b[0m\u001b[0;34m(\u001b[0m\u001b[0mlog_softmax\u001b[0m\u001b[0;34m(\u001b[0m\u001b[0minput\u001b[0m\u001b[0;34m,\u001b[0m \u001b[0;36m1\u001b[0m\u001b[0;34m)\u001b[0m\u001b[0;34m,\u001b[0m \u001b[0mtarget\u001b[0m\u001b[0;34m,\u001b[0m \u001b[0mweight\u001b[0m\u001b[0;34m,\u001b[0m \u001b[0;32mNone\u001b[0m\u001b[0;34m,\u001b[0m \u001b[0mignore_index\u001b[0m\u001b[0;34m,\u001b[0m \u001b[0;32mNone\u001b[0m\u001b[0;34m,\u001b[0m \u001b[0mreduction\u001b[0m\u001b[0;34m)\u001b[0m\u001b[0;34m\u001b[0m\u001b[0;34m\u001b[0m\u001b[0m\n\u001b[0m\u001b[1;32m   2694\u001b[0m \u001b[0;34m\u001b[0m\u001b[0m\n\u001b[1;32m   2695\u001b[0m \u001b[0;34m\u001b[0m\u001b[0m\n",
            "\u001b[0;32m/usr/local/lib/python3.7/dist-packages/torch/nn/functional.py\u001b[0m in \u001b[0;36mnll_loss\u001b[0;34m(input, target, weight, size_average, ignore_index, reduce, reduction)\u001b[0m\n\u001b[1;32m   2383\u001b[0m     \u001b[0;32mif\u001b[0m \u001b[0minput\u001b[0m\u001b[0;34m.\u001b[0m\u001b[0msize\u001b[0m\u001b[0;34m(\u001b[0m\u001b[0;36m0\u001b[0m\u001b[0;34m)\u001b[0m \u001b[0;34m!=\u001b[0m \u001b[0mtarget\u001b[0m\u001b[0;34m.\u001b[0m\u001b[0msize\u001b[0m\u001b[0;34m(\u001b[0m\u001b[0;36m0\u001b[0m\u001b[0;34m)\u001b[0m\u001b[0;34m:\u001b[0m\u001b[0;34m\u001b[0m\u001b[0;34m\u001b[0m\u001b[0m\n\u001b[1;32m   2384\u001b[0m         raise ValueError(\n\u001b[0;32m-> 2385\u001b[0;31m             \u001b[0;34m\"Expected input batch_size ({}) to match target batch_size ({}).\"\u001b[0m\u001b[0;34m.\u001b[0m\u001b[0mformat\u001b[0m\u001b[0;34m(\u001b[0m\u001b[0minput\u001b[0m\u001b[0;34m.\u001b[0m\u001b[0msize\u001b[0m\u001b[0;34m(\u001b[0m\u001b[0;36m0\u001b[0m\u001b[0;34m)\u001b[0m\u001b[0;34m,\u001b[0m \u001b[0mtarget\u001b[0m\u001b[0;34m.\u001b[0m\u001b[0msize\u001b[0m\u001b[0;34m(\u001b[0m\u001b[0;36m0\u001b[0m\u001b[0;34m)\u001b[0m\u001b[0;34m)\u001b[0m\u001b[0;34m\u001b[0m\u001b[0;34m\u001b[0m\u001b[0m\n\u001b[0m\u001b[1;32m   2386\u001b[0m         )\n\u001b[1;32m   2387\u001b[0m     \u001b[0;32mif\u001b[0m \u001b[0mdim\u001b[0m \u001b[0;34m==\u001b[0m \u001b[0;36m2\u001b[0m\u001b[0;34m:\u001b[0m\u001b[0;34m\u001b[0m\u001b[0;34m\u001b[0m\u001b[0m\n",
            "\u001b[0;31mValueError\u001b[0m: Expected input batch_size (1) to match target batch_size (32)."
          ]
        }
      ]
    },
    {
      "cell_type": "code",
      "metadata": {
        "id": "LOflcjmFget3"
      },
      "source": [
        ""
      ],
      "execution_count": null,
      "outputs": []
    }
  ]
}