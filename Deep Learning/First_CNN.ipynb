{
 "cells": [
  {
   "cell_type": "code",
   "execution_count": null,
   "metadata": {
    "id": "u49LZV9dKFWi"
   },
   "outputs": [],
   "source": [
    "import matplotlib.pyplot as plt\n",
    "from torchvision import datasets, transforms\n",
    "import torchvision\n",
    "import torch\n",
    "import torch.nn as nn\n",
    "import torch.optim as optim\n",
    "from torch.utils.data import DataLoader, random_split\n",
    "import torch.nn.functional as F"
   ]
  },
  {
   "cell_type": "code",
   "execution_count": null,
   "metadata": {
    "colab": {
     "base_uri": "https://localhost:8080/",
     "height": 437,
     "referenced_widgets": [
      "fa86e357225246beb69645f4a8f01141",
      "e2fd930803da47e5a345a0cf0f73e6ab",
      "965d1e94bfe14a7d943a5d5a4a87b7a6",
      "c80803ef1f1d4af5bc4bcf58a991d068",
      "5e223bb8a1df48309f3cac2c6d4e309f",
      "5c5dddeec13241aca7d96a1b4dcbdc61",
      "07cfe2b882214ab89549b4c676603cfd",
      "72604a0f59b44c638dd3384e76019750",
      "9c015d7a9aa9433d856ff35349bbee48",
      "c8e4947ad173445c8ab220c9be489920",
      "c90d7a0deffe460fa7134d3cbdc3e34b",
      "3a2af555a0d8447b8123586785a240ed",
      "b1abd2f1b3da4adcb8b0e2b10070182d",
      "8c190bd29c2b443f8889d786ce76ce61",
      "33e9f3402a3f465a9132dfdc36449854",
      "b4d449b819304d17993ed699c0bc7dcd",
      "c3709034ecf04581bb29ad52cd3b13e5",
      "948e1f7e579b4478825015b36160111e",
      "0085d4fc61db46b49f7ad717e1c1d6ac",
      "dafbc76a291e4003ac720c436fb5e5cb",
      "6c69b6468e854e69a2a710db4246efc0",
      "4868631d179a4e5a8e47a476ff9bc97d",
      "dd53757633b14d95971179dc749d4c73",
      "61360fc4a76e4592958e2bfe81287ef5",
      "c38fb64b0c2f4200bfe1021585fe7d51",
      "027b7df7e5e3457788e9c7711430fc8f",
      "fb22dd7449c1464cbbc751243b576aed",
      "93c2c04169dc49dda743c62bf11cda28",
      "43066da7cff7468ea38cd96de375ffc8",
      "b1baba89d1a34fada31f5ea17e6bdae9",
      "552556655f20429887f6e864bbbc8e93",
      "084ab5a71f0046b9b15abba88edf2a5a"
     ]
    },
    "id": "GE4Obub6mCac",
    "outputId": "0804d6a9-1466-4fe4-a95a-7b8757f11dd3"
   },
   "outputs": [
    {
     "name": "stdout",
     "output_type": "stream",
     "text": [
      "Downloading http://fashion-mnist.s3-website.eu-central-1.amazonaws.com/train-images-idx3-ubyte.gz to ./data/fmnist/FashionMNIST/raw/train-images-idx3-ubyte.gz\n"
     ]
    },
    {
     "data": {
      "application/vnd.jupyter.widget-view+json": {
       "model_id": "fa86e357225246beb69645f4a8f01141",
       "version_major": 2,
       "version_minor": 0
      },
      "text/plain": [
       "HBox(children=(FloatProgress(value=0.0, max=26421880.0), HTML(value='')))"
      ]
     },
     "metadata": {
      "tags": []
     },
     "output_type": "display_data"
    },
    {
     "name": "stdout",
     "output_type": "stream",
     "text": [
      "\n",
      "Extracting ./data/fmnist/FashionMNIST/raw/train-images-idx3-ubyte.gz to ./data/fmnist/FashionMNIST/raw\n",
      "Downloading http://fashion-mnist.s3-website.eu-central-1.amazonaws.com/train-labels-idx1-ubyte.gz to ./data/fmnist/FashionMNIST/raw/train-labels-idx1-ubyte.gz\n"
     ]
    },
    {
     "data": {
      "application/vnd.jupyter.widget-view+json": {
       "model_id": "9c015d7a9aa9433d856ff35349bbee48",
       "version_major": 2,
       "version_minor": 0
      },
      "text/plain": [
       "HBox(children=(FloatProgress(value=0.0, max=29515.0), HTML(value='')))"
      ]
     },
     "metadata": {
      "tags": []
     },
     "output_type": "display_data"
    },
    {
     "name": "stdout",
     "output_type": "stream",
     "text": [
      "\n",
      "Extracting ./data/fmnist/FashionMNIST/raw/train-labels-idx1-ubyte.gz to ./data/fmnist/FashionMNIST/raw\n",
      "Downloading http://fashion-mnist.s3-website.eu-central-1.amazonaws.com/t10k-images-idx3-ubyte.gz to ./data/fmnist/FashionMNIST/raw/t10k-images-idx3-ubyte.gz\n"
     ]
    },
    {
     "data": {
      "application/vnd.jupyter.widget-view+json": {
       "model_id": "c3709034ecf04581bb29ad52cd3b13e5",
       "version_major": 2,
       "version_minor": 0
      },
      "text/plain": [
       "HBox(children=(FloatProgress(value=0.0, max=4422102.0), HTML(value='')))"
      ]
     },
     "metadata": {
      "tags": []
     },
     "output_type": "display_data"
    },
    {
     "name": "stdout",
     "output_type": "stream",
     "text": [
      "\n",
      "Extracting ./data/fmnist/FashionMNIST/raw/t10k-images-idx3-ubyte.gz to ./data/fmnist/FashionMNIST/raw\n",
      "Downloading http://fashion-mnist.s3-website.eu-central-1.amazonaws.com/t10k-labels-idx1-ubyte.gz to ./data/fmnist/FashionMNIST/raw/t10k-labels-idx1-ubyte.gz\n"
     ]
    },
    {
     "data": {
      "application/vnd.jupyter.widget-view+json": {
       "model_id": "c38fb64b0c2f4200bfe1021585fe7d51",
       "version_major": 2,
       "version_minor": 0
      },
      "text/plain": [
       "HBox(children=(FloatProgress(value=0.0, max=5148.0), HTML(value='')))"
      ]
     },
     "metadata": {
      "tags": []
     },
     "output_type": "display_data"
    },
    {
     "name": "stdout",
     "output_type": "stream",
     "text": [
      "\n",
      "Extracting ./data/fmnist/FashionMNIST/raw/t10k-labels-idx1-ubyte.gz to ./data/fmnist/FashionMNIST/raw\n",
      "Processing...\n",
      "Done!\n"
     ]
    },
    {
     "name": "stderr",
     "output_type": "stream",
     "text": [
      "/usr/local/lib/python3.7/dist-packages/torchvision/datasets/mnist.py:479: UserWarning: The given NumPy array is not writeable, and PyTorch does not support non-writeable tensors. This means you can write to the underlying (supposedly non-writeable) NumPy array using the tensor. You may want to copy the array to protect its data or make it writeable before converting it to a tensor. This type of warning will be suppressed for the rest of this program. (Triggered internally at  /pytorch/torch/csrc/utils/tensor_numpy.cpp:143.)\n",
      "  return torch.from_numpy(parsed.astype(m[2], copy=False)).view(*s)\n"
     ]
    }
   ],
   "source": [
    "fmnist = datasets.FashionMNIST('./data/fmnist/', train = True, download = True, \n",
    "                              transform = transforms.ToTensor())\n",
    "val_fmist = datasets.FashionMNIST('./data/fmnist/', train = False, download = True,\n",
    "                                  transform = transforms.ToTensor())"
   ]
  },
  {
   "cell_type": "code",
   "execution_count": null,
   "metadata": {
    "colab": {
     "base_uri": "https://localhost:8080/"
    },
    "id": "aOjGDKIum1t8",
    "outputId": "77a16cb7-e566-4a8e-d2a0-c0ff54f4c9a9"
   },
   "outputs": [
    {
     "data": {
      "text/plain": [
       "torch.Size([1, 28, 28])"
      ]
     },
     "execution_count": 6,
     "metadata": {
      "tags": []
     },
     "output_type": "execute_result"
    }
   ],
   "source": [
    "fmnist[0][0].shape\n",
    "# 1 изображение, 28 ширина, 28 высота "
   ]
  },
  {
   "cell_type": "code",
   "execution_count": null,
   "metadata": {
    "colab": {
     "base_uri": "https://localhost:8080/"
    },
    "id": "TTdyYi5Um1Xc",
    "outputId": "717581f4-c4ca-4026-cbeb-296e904f33c3"
   },
   "outputs": [
    {
     "data": {
      "text/plain": [
       "tensor([0.0000, 0.0000, 0.0000, 0.0000, 0.0000, 0.0000, 0.0000, 0.0000, 0.0000,\n",
       "        0.0000, 0.0000, 0.0000, 0.0000, 0.0000, 0.0000, 0.0000, 0.0000, 0.0000,\n",
       "        0.0000, 0.0000, 0.0000, 0.0000, 0.0000, 0.0000, 0.0000, 0.0000, 0.0000,\n",
       "        0.0000, 0.0000, 0.0000, 0.0000, 0.0000, 0.0000, 0.0000, 0.0000, 0.0000,\n",
       "        0.0000, 0.0000, 0.0000, 0.0000, 0.0000, 0.0000, 0.0000, 0.0000, 0.0000,\n",
       "        0.0000, 0.0000, 0.0000, 0.0000, 0.0000, 0.0000, 0.0000, 0.0000, 0.0000,\n",
       "        0.0000, 0.0000, 0.0000, 0.0000, 0.0000, 0.0000, 0.0000, 0.0000, 0.0000,\n",
       "        0.0000, 0.0000, 0.0000, 0.0000, 0.0000, 0.0000, 0.0000, 0.0000, 0.0000,\n",
       "        0.0000, 0.0000, 0.0000, 0.0000, 0.0000, 0.0000, 0.0000, 0.0000, 0.0000,\n",
       "        0.0000, 0.0000, 0.0000, 0.0000, 0.0000, 0.0000, 0.0000, 0.0000, 0.0000,\n",
       "        0.0000, 0.0000, 0.0000, 0.0000, 0.0000, 0.0000, 0.0039, 0.0000, 0.0000,\n",
       "        0.0510, 0.2863, 0.0000, 0.0000, 0.0039, 0.0157, 0.0000, 0.0000, 0.0000,\n",
       "        0.0000, 0.0039, 0.0039, 0.0000, 0.0000, 0.0000, 0.0000, 0.0000, 0.0000,\n",
       "        0.0000, 0.0000, 0.0000, 0.0000, 0.0000, 0.0000, 0.0000, 0.0118, 0.0000,\n",
       "        0.1412, 0.5333, 0.4980, 0.2431, 0.2118, 0.0000, 0.0000, 0.0000, 0.0039,\n",
       "        0.0118, 0.0157, 0.0000, 0.0000, 0.0118, 0.0000, 0.0000, 0.0000, 0.0000,\n",
       "        0.0000, 0.0000, 0.0000, 0.0000, 0.0000, 0.0000, 0.0000, 0.0000, 0.0235,\n",
       "        0.0000, 0.4000, 0.8000, 0.6902, 0.5255, 0.5647, 0.4824, 0.0902, 0.0000,\n",
       "        0.0000, 0.0000, 0.0000, 0.0471, 0.0392, 0.0000, 0.0000, 0.0000, 0.0000,\n",
       "        0.0000, 0.0000, 0.0000, 0.0000, 0.0000, 0.0000, 0.0000, 0.0000, 0.0000,\n",
       "        0.0000, 0.0000, 0.6078, 0.9255, 0.8118, 0.6980, 0.4196, 0.6118, 0.6314,\n",
       "        0.4275, 0.2510, 0.0902, 0.3020, 0.5098, 0.2824, 0.0588, 0.0000, 0.0000,\n",
       "        0.0000, 0.0000, 0.0000, 0.0000, 0.0000, 0.0000, 0.0000, 0.0000, 0.0000,\n",
       "        0.0039, 0.0000, 0.2706, 0.8118, 0.8745, 0.8549, 0.8471, 0.8471, 0.6392,\n",
       "        0.4980, 0.4745, 0.4784, 0.5725, 0.5529, 0.3451, 0.6745, 0.2588, 0.0000,\n",
       "        0.0000, 0.0000, 0.0000, 0.0000, 0.0000, 0.0000, 0.0000, 0.0000, 0.0039,\n",
       "        0.0039, 0.0039, 0.0000, 0.7843, 0.9098, 0.9098, 0.9137, 0.8980, 0.8745,\n",
       "        0.8745, 0.8431, 0.8353, 0.6431, 0.4980, 0.4824, 0.7686, 0.8980, 0.0000,\n",
       "        0.0000, 0.0000, 0.0000, 0.0000, 0.0000, 0.0000, 0.0000, 0.0000, 0.0000,\n",
       "        0.0000, 0.0000, 0.0000, 0.0000, 0.7176, 0.8824, 0.8471, 0.8745, 0.8941,\n",
       "        0.9216, 0.8902, 0.8784, 0.8706, 0.8784, 0.8667, 0.8745, 0.9608, 0.6784,\n",
       "        0.0000, 0.0000, 0.0000, 0.0000, 0.0000, 0.0000, 0.0000, 0.0000, 0.0000,\n",
       "        0.0000, 0.0000, 0.0000, 0.0000, 0.0000, 0.7569, 0.8941, 0.8549, 0.8353,\n",
       "        0.7765, 0.7059, 0.8314, 0.8235, 0.8275, 0.8353, 0.8745, 0.8627, 0.9529,\n",
       "        0.7922, 0.0000, 0.0000, 0.0000, 0.0000, 0.0000, 0.0000, 0.0000, 0.0000,\n",
       "        0.0000, 0.0000, 0.0039, 0.0118, 0.0000, 0.0471, 0.8588, 0.8627, 0.8314,\n",
       "        0.8549, 0.7529, 0.6627, 0.8902, 0.8157, 0.8549, 0.8784, 0.8314, 0.8863,\n",
       "        0.7725, 0.8196, 0.2039, 0.0000, 0.0000, 0.0000, 0.0000, 0.0000, 0.0000,\n",
       "        0.0000, 0.0000, 0.0000, 0.0000, 0.0235, 0.0000, 0.3882, 0.9569, 0.8706,\n",
       "        0.8627, 0.8549, 0.7961, 0.7765, 0.8667, 0.8431, 0.8353, 0.8706, 0.8627,\n",
       "        0.9608, 0.4667, 0.6549, 0.2196, 0.0000, 0.0000, 0.0000, 0.0000, 0.0000,\n",
       "        0.0000, 0.0000, 0.0000, 0.0000, 0.0157, 0.0000, 0.0000, 0.2157, 0.9255,\n",
       "        0.8941, 0.9020, 0.8941, 0.9412, 0.9098, 0.8353, 0.8549, 0.8745, 0.9176,\n",
       "        0.8510, 0.8510, 0.8196, 0.3608, 0.0000, 0.0000, 0.0000, 0.0039, 0.0157,\n",
       "        0.0235, 0.0275, 0.0078, 0.0000, 0.0000, 0.0000, 0.0000, 0.0000, 0.9294,\n",
       "        0.8863, 0.8510, 0.8745, 0.8706, 0.8588, 0.8706, 0.8667, 0.8471, 0.8745,\n",
       "        0.8980, 0.8431, 0.8549, 1.0000, 0.3020, 0.0000, 0.0000, 0.0118, 0.0000,\n",
       "        0.0000, 0.0000, 0.0000, 0.0000, 0.0000, 0.0000, 0.2431, 0.5686, 0.8000,\n",
       "        0.8941, 0.8118, 0.8353, 0.8667, 0.8549, 0.8157, 0.8275, 0.8549, 0.8784,\n",
       "        0.8745, 0.8588, 0.8431, 0.8784, 0.9569, 0.6235, 0.0000, 0.0000, 0.0000,\n",
       "        0.0000, 0.0000, 0.0706, 0.1725, 0.3216, 0.4196, 0.7412, 0.8941, 0.8627,\n",
       "        0.8706, 0.8510, 0.8863, 0.7843, 0.8039, 0.8275, 0.9020, 0.8784, 0.9176,\n",
       "        0.6902, 0.7373, 0.9804, 0.9725, 0.9137, 0.9333, 0.8431, 0.0000, 0.0000,\n",
       "        0.2235, 0.7333, 0.8157, 0.8784, 0.8667, 0.8784, 0.8157, 0.8000, 0.8392,\n",
       "        0.8157, 0.8196, 0.7843, 0.6235, 0.9608, 0.7569, 0.8078, 0.8745, 1.0000,\n",
       "        1.0000, 0.8667, 0.9176, 0.8667, 0.8275, 0.8627, 0.9098, 0.9647, 0.0000,\n",
       "        0.0118, 0.7922, 0.8941, 0.8784, 0.8667, 0.8275, 0.8275, 0.8392, 0.8039,\n",
       "        0.8039, 0.8039, 0.8627, 0.9412, 0.3137, 0.5882, 1.0000, 0.8980, 0.8667,\n",
       "        0.7373, 0.6039, 0.7490, 0.8235, 0.8000, 0.8196, 0.8706, 0.8941, 0.8824,\n",
       "        0.0000, 0.3843, 0.9137, 0.7765, 0.8235, 0.8706, 0.8980, 0.8980, 0.9176,\n",
       "        0.9765, 0.8627, 0.7608, 0.8431, 0.8510, 0.9451, 0.2549, 0.2863, 0.4157,\n",
       "        0.4588, 0.6588, 0.8588, 0.8667, 0.8431, 0.8510, 0.8745, 0.8745, 0.8784,\n",
       "        0.8980, 0.1137, 0.2941, 0.8000, 0.8314, 0.8000, 0.7569, 0.8039, 0.8275,\n",
       "        0.8824, 0.8471, 0.7255, 0.7725, 0.8078, 0.7765, 0.8353, 0.9412, 0.7647,\n",
       "        0.8902, 0.9608, 0.9373, 0.8745, 0.8549, 0.8314, 0.8196, 0.8706, 0.8627,\n",
       "        0.8667, 0.9020, 0.2627, 0.1882, 0.7961, 0.7176, 0.7608, 0.8353, 0.7725,\n",
       "        0.7255, 0.7451, 0.7608, 0.7529, 0.7922, 0.8392, 0.8588, 0.8667, 0.8627,\n",
       "        0.9255, 0.8824, 0.8471, 0.7804, 0.8078, 0.7294, 0.7098, 0.6941, 0.6745,\n",
       "        0.7098, 0.8039, 0.8078, 0.4510, 0.0000, 0.4784, 0.8588, 0.7569, 0.7020,\n",
       "        0.6706, 0.7176, 0.7686, 0.8000, 0.8235, 0.8353, 0.8118, 0.8275, 0.8235,\n",
       "        0.7843, 0.7686, 0.7608, 0.7490, 0.7647, 0.7490, 0.7765, 0.7529, 0.6902,\n",
       "        0.6118, 0.6549, 0.6941, 0.8235, 0.3608, 0.0000, 0.0000, 0.2902, 0.7412,\n",
       "        0.8314, 0.7490, 0.6863, 0.6745, 0.6863, 0.7098, 0.7255, 0.7373, 0.7412,\n",
       "        0.7373, 0.7569, 0.7765, 0.8000, 0.8196, 0.8235, 0.8235, 0.8275, 0.7373,\n",
       "        0.7373, 0.7608, 0.7529, 0.8471, 0.6667, 0.0000, 0.0078, 0.0000, 0.0000,\n",
       "        0.0000, 0.2588, 0.7843, 0.8706, 0.9294, 0.9373, 0.9490, 0.9647, 0.9529,\n",
       "        0.9569, 0.8667, 0.8627, 0.7569, 0.7490, 0.7020, 0.7137, 0.7137, 0.7098,\n",
       "        0.6902, 0.6510, 0.6588, 0.3882, 0.2275, 0.0000, 0.0000, 0.0000, 0.0000,\n",
       "        0.0000, 0.0000, 0.0000, 0.0000, 0.0000, 0.1569, 0.2392, 0.1725, 0.2824,\n",
       "        0.1608, 0.1373, 0.0000, 0.0000, 0.0000, 0.0000, 0.0000, 0.0000, 0.0000,\n",
       "        0.0000, 0.0000, 0.0000, 0.0000, 0.0000, 0.0000, 0.0000, 0.0000, 0.0000,\n",
       "        0.0000, 0.0000, 0.0000, 0.0000, 0.0000, 0.0000, 0.0000, 0.0000, 0.0000,\n",
       "        0.0000, 0.0000, 0.0000, 0.0000, 0.0000, 0.0000, 0.0000, 0.0000, 0.0000,\n",
       "        0.0000, 0.0000, 0.0000, 0.0000, 0.0000, 0.0000, 0.0000, 0.0000, 0.0000,\n",
       "        0.0000, 0.0000, 0.0000, 0.0000, 0.0000, 0.0000, 0.0000, 0.0000, 0.0000,\n",
       "        0.0000, 0.0000, 0.0000, 0.0000, 0.0000, 0.0000, 0.0000, 0.0000, 0.0000,\n",
       "        0.0000, 0.0000, 0.0000, 0.0000, 0.0000, 0.0000, 0.0000, 0.0000, 0.0000,\n",
       "        0.0000])"
      ]
     },
     "execution_count": 9,
     "metadata": {
      "tags": []
     },
     "output_type": "execute_result"
    }
   ],
   "source": [
    "# изображение необходимо представить ввиде одномерного тензора\n",
    "fmnist[0][0].view(1 * 28 * 28)"
   ]
  },
  {
   "cell_type": "code",
   "execution_count": null,
   "metadata": {
    "id": "uaoWVxjCm0s-"
   },
   "outputs": [],
   "source": [
    "#img, label = fmnist\n",
    "class Not_Conv(nn.Module):\n",
    "  def __init__(self, input_size, hidden_size, n_classes = 10):\n",
    "      super().__init__()\n",
    "      # слои:\n",
    "      #self.bn1 = nn.BatchNorm1d(input_size)\n",
    "      self.fc1 = nn.Linear(input_size, hidden_size)\n",
    "      #self.bn2 = nn.BatchNorm1d(hidden_size)\n",
    "      self.fc2 = nn.Linear(hidden_size, int(hidden_size/4))\n",
    "      self.fc3 = nn.Linear(int(hidden_size/4), n_classes)\n",
    "      # функции активации:\n",
    "      self.sigmoid = nn.Sigmoid()\n",
    "      self.relu = nn.ReLU()\n",
    "      self.tanh = nn.Tanh()\n",
    "\n",
    "  def forward(self, X):\n",
    "    X = X.view(-1, 1*28*28)\n",
    "    out = self.relu(self.fc1(X))\n",
    "    out = self.relu(self.fc2(out))\n",
    "    out = self.fc3(out)\n",
    "    return out"
   ]
  },
  {
   "cell_type": "code",
   "execution_count": null,
   "metadata": {
    "colab": {
     "base_uri": "https://localhost:8080/"
    },
    "id": "uCcl-Kqqohjl",
    "outputId": "0e4051d8-f96d-40b9-9b4f-ebee54c05914"
   },
   "outputs": [
    {
     "name": "stdout",
     "output_type": "stream",
     "text": [
      "Epoch 5: loss = 0.39783719182014465\n",
      "Epoch 10: loss = 0.3467375934123993\n",
      "Epoch 15: loss = 0.309763103723526\n",
      "Epoch 20: loss = 0.2892321050167084\n",
      "Epoch 25: loss = 0.27010878920555115\n",
      "Epoch 30: loss = 0.2535504996776581\n",
      "Epoch 35: loss = 0.23898397386074066\n",
      "Epoch 40: loss = 0.22690540552139282\n",
      "Epoch 45: loss = 0.21888794004917145\n",
      "Epoch 50: loss = 0.20818652212619781\n"
     ]
    }
   ],
   "source": [
    "train_loader = DataLoader(fmnist, batch_size = 256, shuffle = True)\n",
    "#est_loader = DataLoader(val_fmist, batch_size = len(val_fmist), shuffle= True)\n",
    "\n",
    "device = torch.device('cuda' if torch.cuda.is_available else 'cpu')\n",
    "\n",
    "model = Not_Conv(input_size = 1*28*28, hidden_size = 64).to(device)\n",
    "loss = nn.CrossEntropyLoss()\n",
    "optimizare = optim.Adam(model.parameters(), lr = 0.001)\n",
    "\n",
    "n_epoch = 50 + 1\n",
    "history_losses = list()\n",
    "epochs = list()\n",
    "\n",
    "for epoch in range(1, n_epoch):\n",
    "  batch_loss = 0\n",
    "  for img_train, label_train in train_loader:\n",
    "    img_train, label_train = img_train.to(device), label_train.to(device)\n",
    "    \n",
    "    out = model(img_train)\n",
    "\n",
    "    cur_loss = loss(out, label_train.squeeze())\n",
    "    batch_loss += cur_loss\n",
    "    \n",
    "    cur_loss.backward()\n",
    "    \n",
    "    optimizare.step()\n",
    "    optimizare.zero_grad()\n",
    "  \n",
    "  if epoch % 5 == 0:\n",
    "    history_losses.append(batch_loss/len(train_loader))\n",
    "    epochs.append(epoch)\n",
    "    print(f'Epoch {epoch}: loss = {history_losses[-1]}')"
   ]
  },
  {
   "cell_type": "code",
   "execution_count": null,
   "metadata": {
    "colab": {
     "base_uri": "https://localhost:8080/",
     "height": 350
    },
    "id": "eNZU1ohxqn5E",
    "outputId": "85957242-7d6d-4cba-e584-9d8d972d1b01"
   },
   "outputs": [
    {
     "data": {
      "image/png": "[encoded data removed]",
      "text/plain": [
       "<Figure size 720x360 with 1 Axes>"
      ]
     },
     "metadata": {
      "needs_background": "light",
      "tags": []
     },
     "output_type": "display_data"
    }
   ],
   "source": [
    "fig, ax = plt.subplots(figsize = (10, 5))\n",
    "plt.plot(epochs, history_losses, label = 'Loss')\n",
    "plt.title('График функции потерь по эпохам')\n",
    "plt.ylabel('Losses')\n",
    "plt.xlabel('Epochs')\n",
    "plt.legend()\n",
    "plt.grid(True)"
   ]
  },
  {
   "cell_type": "code",
   "execution_count": null,
   "metadata": {
    "colab": {
     "base_uri": "https://localhost:8080/"
    },
    "id": "Gg_ifZ4vr3g0",
    "outputId": "f6955b9e-8258-45c0-ce15-61d87793122b"
   },
   "outputs": [
    {
     "data": {
      "text/plain": [
       "312.5"
      ]
     },
     "execution_count": 30,
     "metadata": {
      "tags": []
     },
     "output_type": "execute_result"
    }
   ],
   "source": [
    "val_loader = DataLoader(val_fmist, batch_size=32, shuffle=True)\n",
    "len(val_loader.dataset)/32"
   ]
  },
  {
   "cell_type": "code",
   "execution_count": null,
   "metadata": {
    "colab": {
     "base_uri": "https://localhost:8080/"
    },
    "id": "zsKsv5M5vPF4",
    "outputId": "3108243b-b00b-4d45-f49c-6ada2d5b9820"
   },
   "outputs": [
    {
     "name": "stdout",
     "output_type": "stream",
     "text": [
      "Accuracy: 0.8765\n"
     ]
    }
   ],
   "source": [
    "val_loader = DataLoader(val_fmist, batch_size=32, shuffle=True)\n",
    "correct, total = 0, 0\n",
    "with torch.no_grad():\n",
    "  for imgs, labels in val_loader:\n",
    "    # batch_size = imgs.shape[0] # Количество изображений в одном батче\n",
    "    imgs, labels = imgs.to(device), labels.to(device)\n",
    "    # forward\n",
    "    out = model(imgs) #.view(batch_size, -1)).to(device)\n",
    "    _, predicted = torch.max(out, dim = 1)\n",
    "    total += labels.shape[0]\n",
    "    correct += int((predicted == labels).sum())\n",
    "print(f'Accuracy: {correct / total}')"
   ]
  },
  {
   "cell_type": "code",
   "execution_count": null,
   "metadata": {
    "colab": {
     "base_uri": "https://localhost:8080/"
    },
    "id": "QGXosCGfuOrG",
    "outputId": "8c1dd18e-0d42-4fe6-baeb-b64e0499e5af"
   },
   "outputs": [
    {
     "name": "stdout",
     "output_type": "stream",
     "text": [
      "torch.Size([32, 1, 28, 28]) torch.Size([32])\n",
      "26\n"
     ]
    }
   ],
   "source": [
    "data1, target1 = next(iter(val_loader))\n",
    "print(data1.shape, target1.shape)\n",
    "data1, target1 = data1.to(device), target1.to(device)\n",
    "output = model(data1).to(device)\n",
    "_, predicted = torch.max(output, dim = 1) \n",
    "correct = predicted.eq(target1.view_as(predicted)).sum().item()    \n",
    "print(correct)"
   ]
  },
  {
   "cell_type": "code",
   "execution_count": null,
   "metadata": {
    "colab": {
     "base_uri": "https://localhost:8080/",
     "height": 773
    },
    "id": "hFiQNBLDtfs6",
    "outputId": "012e5f80-dc82-4c2b-821b-bf727cf10fdb"
   },
   "outputs": [
    {
     "data": {
      "image/png": "[encoded data removed]",
      "text/plain": [
       "<Figure size 1008x864 with 28 Axes>"
      ]
     },
     "metadata": {
      "tags": []
     },
     "output_type": "display_data"
    }
   ],
   "source": [
    "img_qty = data1.shape[0]\n",
    "\n",
    "fig = plt.figure(figsize=(14,12))\n",
    "\n",
    "for i in range(img_qty):\n",
    "    plt.subplot(4, 8, i+1)\n",
    "    plt.tight_layout()\n",
    "    plt.imshow(data1[i][0].to('cpu'), cmap='gray', interpolation='none')\n",
    "    if predicted[i].item() == target1[i]:\n",
    "        plt.title(f\"pr: {predicted[i].item()} tgt: {target1[i]}\")\n",
    "    else:\n",
    "        plt.title(f\"ERR: pr: {predicted[i].item()} tgt: {target1[i]}\")        \n",
    "    plt.xticks([])\n",
    "    plt.yticks([])"
   ]
  },
  {
   "cell_type": "code",
   "execution_count": null,
   "metadata": {
    "colab": {
     "base_uri": "https://localhost:8080/"
    },
    "id": "CGwSxxgpwlR0",
    "outputId": "f0aad693-f824-494b-cf99-9d61e5b4cc2c"
   },
   "outputs": [
    {
     "name": "stdout",
     "output_type": "stream",
     "text": [
      "Confusion Matrix : \n"
     ]
    },
    {
     "data": {
      "text/plain": [
       "array([[5, 0, 0, 0, 0, 0, 0, 0, 0, 0],\n",
       "       [0, 5, 0, 0, 0, 0, 0, 0, 0, 0],\n",
       "       [0, 0, 0, 0, 1, 0, 0, 0, 0, 0],\n",
       "       [0, 0, 1, 2, 0, 0, 0, 0, 0, 0],\n",
       "       [0, 0, 0, 1, 1, 0, 0, 0, 0, 0],\n",
       "       [0, 0, 0, 0, 0, 1, 0, 1, 0, 0],\n",
       "       [0, 0, 0, 1, 1, 0, 1, 0, 0, 0],\n",
       "       [0, 0, 0, 0, 0, 0, 0, 6, 0, 0],\n",
       "       [0, 0, 0, 0, 0, 0, 0, 0, 3, 0],\n",
       "       [0, 0, 0, 0, 0, 0, 0, 0, 0, 2]])"
      ]
     },
     "execution_count": 83,
     "metadata": {
      "tags": []
     },
     "output_type": "execute_result"
    }
   ],
   "source": [
    "from sklearn.metrics import confusion_matrix\n",
    "print(\"Confusion Matrix : \")\n",
    "confusion_matrix(predicted.to('cpu').reshape(-1).detach(), target1.to('cpu'))"
   ]
  },
  {
   "cell_type": "code",
   "execution_count": null,
   "metadata": {
    "id": "8XxK3Y6823Wq"
   },
   "outputs": [],
   "source": [
    "# использовать свертку нижу."
   ]
  },
  {
   "cell_type": "code",
   "execution_count": null,
   "metadata": {
    "colab": {
     "base_uri": "https://localhost:8080/"
    },
    "id": "8e47mWHl1Nxb",
    "outputId": "95d467de-d952-400e-9ef1-d3fe0621608b"
   },
   "outputs": [
    {
     "data": {
      "text/plain": [
       "tensor([[[[ 0.,  1.,  2.,  3.],\n",
       "          [ 4.,  5.,  6.,  7.],\n",
       "          [ 8.,  9., 10., 11.],\n",
       "          [12., 13., 14., 15.]]]])"
      ]
     },
     "execution_count": 96,
     "metadata": {
      "tags": []
     },
     "output_type": "execute_result"
    }
   ],
   "source": [
    "img = torch.arange(16).view(1, 1, 4, 4).float()\n",
    "img"
   ]
  },
  {
   "cell_type": "code",
   "execution_count": null,
   "metadata": {
    "colab": {
     "base_uri": "https://localhost:8080/"
    },
    "id": "ZOFHQyt0y0oP",
    "outputId": "7ee350d5-9b49-4d38-8f41-1eafe3e30e7b"
   },
   "outputs": [
    {
     "name": "stdout",
     "output_type": "stream",
     "text": [
      "torch.Size([1, 5, 2, 2])\n",
      "torch.Size([1, 5, 1, 1])\n"
     ]
    }
   ],
   "source": [
    "conv = nn.Conv2d(1, 5, kernel_size = 3)\n",
    "ex = conv(img)\n",
    "print(ex.shape)\n",
    "pool = nn.MaxPool2d(2)\n",
    "print(pool(ex).shape)"
   ]
  },
  {
   "cell_type": "code",
   "execution_count": null,
   "metadata": {
    "id": "uu2OtPa52Z1M"
   },
   "outputs": [],
   "source": [
    "class NetConv(nn.Module):\n",
    "  def __init__(self, input_size, hidden_size, n_classes = 10):\n",
    "      super().__init__()\n",
    "      self.conv1 = nn.Conv2d(1, 10, kernel_size = 5)\n",
    "      self.conv2 = nn.Conv2d(10, 20, kernel_size = 5)\n",
    "      self.fc1 = nn.Linear(20*4*4, hidden_size)\n",
    "      self.fc2 = nn.Linear(hidden_size, n_classes)\n",
    "\n",
    "  def forward(self, X):\n",
    "    out = F.relu(F.max_pool2d(self.conv1(X), 2))\n",
    "    out = F.relu(F.max_pool2d(self.conv2(out), 2))\n",
    "    out = out.view(-1, 20*4*4)\n",
    "    out = F.relu(self.fc1(out))\n",
    "    out = self.fc2(out)\n",
    "    return out\n",
    "\n",
    "  def forward_conv1(self, X):\n",
    "    out = F.relu(F.max_pool2d(self.conv1(X), 2))\n",
    "    return out"
   ]
  },
  {
   "cell_type": "code",
   "execution_count": null,
   "metadata": {
    "colab": {
     "base_uri": "https://localhost:8080/"
    },
    "id": "X0DFd0XN4isy",
    "outputId": "89dabf9f-9f2a-40c0-de86-1b84a752806c"
   },
   "outputs": [
    {
     "name": "stdout",
     "output_type": "stream",
     "text": [
      "Epoch 5: loss = 0.3943258821964264\n",
      "Epoch 10: loss = 0.32225853204727173\n",
      "Epoch 15: loss = 0.27860113978385925\n",
      "Epoch 20: loss = 0.24797846376895905\n",
      "Epoch 25: loss = 0.2249721884727478\n",
      "Epoch 30: loss = 0.20752142369747162\n",
      "Epoch 35: loss = 0.19374218583106995\n",
      "Epoch 40: loss = 0.17500969767570496\n",
      "Epoch 45: loss = 0.1634795218706131\n",
      "Epoch 50: loss = 0.15215271711349487\n"
     ]
    }
   ],
   "source": [
    "train_loader = DataLoader(fmnist, batch_size = 256, shuffle = True)\n",
    "\n",
    "device = torch.device('cuda' if torch.cuda.is_available else 'cpu')\n",
    "\n",
    "model = NetConv(input_size = 1*28*28, hidden_size = 64).to(device)\n",
    "loss = nn.CrossEntropyLoss()\n",
    "optimizare = optim.Adam(model.parameters(), lr = 0.001)\n",
    "\n",
    "n_epoch = 50 + 1\n",
    "history_losses = list()\n",
    "epochs = list()\n",
    "\n",
    "for epoch in range(1, n_epoch):\n",
    "  batch_loss = 0\n",
    "  for img_train, label_train in train_loader:\n",
    "    img_train, label_train = img_train.to(device), label_train.to(device)\n",
    "    \n",
    "    out = model(img_train)\n",
    "\n",
    "    cur_loss = loss(out, label_train.squeeze())\n",
    "    batch_loss += cur_loss\n",
    "    \n",
    "    cur_loss.backward()\n",
    "    \n",
    "    optimizare.step()\n",
    "    optimizare.zero_grad()\n",
    "  \n",
    "  if epoch % 5 == 0:\n",
    "    history_losses.append(batch_loss/len(train_loader))\n",
    "    epochs.append(epoch)\n",
    "    print(f'Epoch {epoch}: loss = {history_losses[-1]}')"
   ]
  },
  {
   "cell_type": "code",
   "execution_count": null,
   "metadata": {
    "colab": {
     "base_uri": "https://localhost:8080/"
    },
    "id": "SbdtoyNv9B64",
    "outputId": "96305137-dea1-4445-93dc-36b946c78528"
   },
   "outputs": [
    {
     "name": "stdout",
     "output_type": "stream",
     "text": [
      "Accuracy: 0.9017\n"
     ]
    }
   ],
   "source": [
    "val_loader = DataLoader(val_fmist, batch_size=32, shuffle=True)\n",
    "correct, total = 0, 0\n",
    "with torch.no_grad():\n",
    "  for imgs, labels in val_loader:\n",
    "    imgs, labels = imgs.to(device), labels.to(device)\n",
    "    out = model(imgs)\n",
    "    _, predicted = torch.max(out, dim = 1)\n",
    "    total += labels.shape[0]\n",
    "    correct += int((predicted == labels).sum())\n",
    "print(f'Accuracy: {correct / total}')"
   ]
  },
  {
   "cell_type": "code",
   "execution_count": null,
   "metadata": {
    "colab": {
     "base_uri": "https://localhost:8080/",
     "height": 345
    },
    "id": "xltoiaHDAsUA",
    "outputId": "1854405e-48ef-4dfa-e967-24753f3151ae"
   },
   "outputs": [
    {
     "data": {
      "image/png": "[encoded data removed]",
      "text/plain": [
       "<Figure size 432x288 with 1 Axes>"
      ]
     },
     "metadata": {
      "needs_background": "light",
      "tags": []
     },
     "output_type": "display_data"
    },
    {
     "data": {
      "image/png": "[encoded data removed]",
      "text/plain": [
       "<Figure size 864x72 with 10 Axes>"
      ]
     },
     "metadata": {
      "needs_background": "light",
      "tags": []
     },
     "output_type": "display_data"
    }
   ],
   "source": [
    "imgs, targets = next(iter(train_loader))\n",
    "imgs, targets = imgs.to(device), targets.to(device)\n",
    "plt.imshow(imgs.to('cpu')[img_n][0], cmap='gray')\n",
    "\n",
    "with torch.no_grad():\n",
    "    imgs_part_1l = model.forward_conv1(imgs)\n",
    "    nplots = imgs_part_1l.shape[1]\n",
    "    ncols = 12\n",
    "    \n",
    "    nrows = 1 + nplots//ncols\n",
    "    \n",
    "    count = 0\n",
    "    fig = plt.figure(figsize=(ncols, nrows))    \n",
    "    #--------    \n",
    "    \n",
    "    for i in range(imgs_part_1l.shape[1]):\n",
    "        count += 1\n",
    "        ax1 = fig.add_subplot(nrows, ncols, count)\n",
    "\n",
    "        ax1.imshow(imgs_part_1l.to('cpu')[img_n][i], cmap='gray')\n",
    "    fig.show()"
   ]
  },
  {
   "cell_type": "code",
   "execution_count": null,
   "metadata": {
    "id": "HAORcC_Yzv_q"
   },
   "outputs": [],
   "source": [
    "model = nn.Sequential(nn.Conv2d(1, 20, 5, 1),\n",
    "                      nn.ReLU(),\n",
    "                      nn.MaxPool2d(2),\n",
    "                      nn.Conv2d(20, 20, 5, 1),\n",
    "                      nn.ReLU(),\n",
    "                      nn.MaxPool2d(2),\n",
    "                      nn.Flatten()\n",
    "                      # nn.Linear(245, 64),\n",
    "                      # nn.ReLU(),\n",
    "                      # nn.Linear(64, 32),\n",
    "                      # nn.ReLU(),\n",
    "                      # nn.Linear(32, 10)\n",
    "                      )"
   ]
  },
  {
   "cell_type": "code",
   "execution_count": null,
   "metadata": {
    "colab": {
     "base_uri": "https://localhost:8080/"
    },
    "id": "_yMwUwDE1H_q",
    "outputId": "580cee36-1bd3-436d-9fb7-63687e937afb"
   },
   "outputs": [
    {
     "data": {
      "text/plain": [
       "torch.Size([32, 320])"
      ]
     },
     "execution_count": 158,
     "metadata": {
      "tags": []
     },
     "output_type": "execute_result"
    }
   ],
   "source": [
    "train_loader = DataLoader(fmnist, batch_size=32, shuffle=True)\n",
    "imgs, label = next(iter(train_loader))\n",
    "model(imgs).shape"
   ]
  },
  {
   "cell_type": "markdown",
   "metadata": {
    "id": "cm6_9B3ZKLq9"
   },
   "source": [
    "##  CIFAR 10"
   ]
  },
  {
   "cell_type": "code",
   "execution_count": null,
   "metadata": {
    "colab": {
     "base_uri": "https://localhost:8080/",
     "height": 117,
     "referenced_widgets": [
      "c5ad4a95425945c1aecf384abd574b44",
      "f52ea3ac6733492da98bedd7742ec09e",
      "3c76840b8bd54e0d90a4a196fb8ad5ae",
      "7f64fdb900544857adbe51212a96f481",
      "6734c389cf864cdc9dacf8a7bea9310a",
      "64c69751d83e44b0a76dedc55a02ef52",
      "de5019edfae64b10b3c07e05d77a5fdb",
      "7424127ee9744d84853846802822e531"
     ]
    },
    "id": "czGeemQFNQUe",
    "outputId": "b52dda6b-4da3-4cb8-a104-0abcd19698d4"
   },
   "outputs": [
    {
     "name": "stdout",
     "output_type": "stream",
     "text": [
      "Downloading https://www.cs.toronto.edu/~kriz/cifar-10-python.tar.gz to ./data/cifar10/cifar-10-python.tar.gz\n"
     ]
    },
    {
     "data": {
      "application/vnd.jupyter.widget-view+json": {
       "model_id": "c5ad4a95425945c1aecf384abd574b44",
       "version_major": 2,
       "version_minor": 0
      },
      "text/plain": [
       "HBox(children=(FloatProgress(value=0.0, max=170498071.0), HTML(value='')))"
      ]
     },
     "metadata": {
      "tags": []
     },
     "output_type": "display_data"
    },
    {
     "name": "stdout",
     "output_type": "stream",
     "text": [
      "\n",
      "Extracting ./data/cifar10/cifar-10-python.tar.gz to ./data/cifar10/\n",
      "Files already downloaded and verified\n"
     ]
    }
   ],
   "source": [
    " cifar = datasets.CIFAR10('./data/cifar10/', train = True, download = True, \n",
    "                              transform = transforms.Compose([\n",
    "                                transforms.ToTensor(),\n",
    "                                transforms.Normalize((0, ), (1, ))\n",
    "                              ]))\n",
    " \n",
    " val_cifar = datasets.CIFAR10('./data/cifar10/', train = False, download = True, \n",
    "                              transform = transforms.Compose([\n",
    "                                transforms.ToTensor(),\n",
    "                                transforms.Normalize((0, ), (1, ))\n",
    "                              ]))"
   ]
  },
  {
   "cell_type": "code",
   "execution_count": null,
   "metadata": {
    "id": "9mTJqnuZNI2y"
   },
   "outputs": [],
   "source": [
    "class Not_Conv2(nn.Module):\n",
    "  def __init__(self, input_size, hidden_size, n_classes = 10):\n",
    "      super().__init__()\n",
    "      self.fc1 = nn.Linear(input_size, hidden_size)\n",
    "      self.fc2 = nn.Linear(hidden_size, int(hidden_size/4))\n",
    "      self.fc3 = nn.Linear(int(hidden_size/4), n_classes)\n",
    "\n",
    "  def forward(self, X):\n",
    "    X = X.view(-1, 3*32*32)\n",
    "    out = F.relu(self.fc1(X))\n",
    "    out = F.relu(self.fc2(out))\n",
    "    out = self.fc3(out)\n",
    "    return out"
   ]
  },
  {
   "cell_type": "code",
   "execution_count": null,
   "metadata": {
    "colab": {
     "base_uri": "https://localhost:8080/"
    },
    "id": "WdTfhrd_TMs6",
    "outputId": "beeadabe-20af-492c-d682-c5960272724c"
   },
   "outputs": [
    {
     "data": {
      "text/plain": [
       "3072"
      ]
     },
     "execution_count": 21,
     "metadata": {
      "tags": []
     },
     "output_type": "execute_result"
    }
   ],
   "source": [
    "input_size = cifar[0][0].shape[0]*cifar[0][0].shape[1]*cifar[0][0].shape[2]\n",
    "input_size"
   ]
  },
  {
   "cell_type": "code",
   "execution_count": null,
   "metadata": {
    "colab": {
     "base_uri": "https://localhost:8080/"
    },
    "id": "pw9_ezFlS3zA",
    "outputId": "b6889f3c-d375-49ae-c6da-3e98669e9939"
   },
   "outputs": [
    {
     "name": "stdout",
     "output_type": "stream",
     "text": [
      "Epoch 5: loss = 1.6931418180465698\n",
      "Epoch 10: loss = 1.5730786323547363\n",
      "Epoch 15: loss = 1.512010931968689\n",
      "Epoch 20: loss = 1.4768530130386353\n",
      "Epoch 25: loss = 1.4478284120559692\n",
      "Epoch 30: loss = 1.4316824674606323\n",
      "Epoch 35: loss = 1.412646770477295\n",
      "Epoch 40: loss = 1.3908195495605469\n",
      "Epoch 45: loss = 1.3777941465377808\n",
      "Epoch 50: loss = 1.372573971748352\n"
     ]
    }
   ],
   "source": [
    "train_loader = DataLoader(cifar, batch_size = 256, shuffle = True)\n",
    "\n",
    "device = torch.device('cuda' if torch.cuda.is_available else 'cpu')\n",
    "\n",
    "model = Not_Conv2(input_size = input_size, hidden_size = 64).to(device)\n",
    "loss = nn.CrossEntropyLoss()\n",
    "optimizare = optim.Adam(model.parameters(), lr = 0.001)\n",
    "\n",
    "n_epoch = 50 + 1\n",
    "history_losses = list()\n",
    "epochs = list()\n",
    "\n",
    "for epoch in range(1, n_epoch):\n",
    "  batch_loss = 0\n",
    "  for img_train, label_train in train_loader:\n",
    "    img_train, label_train = img_train.to(device), label_train.to(device)\n",
    "    \n",
    "    out = model(img_train)\n",
    "\n",
    "    cur_loss = loss(out, label_train.squeeze())\n",
    "    batch_loss += cur_loss\n",
    "    \n",
    "    cur_loss.backward()\n",
    "    \n",
    "    optimizare.step()\n",
    "    optimizare.zero_grad()\n",
    "  \n",
    "  if epoch % 5 == 0:\n",
    "    history_losses.append(batch_loss/len(train_loader))\n",
    "    epochs.append(epoch)\n",
    "    print(f'Epoch {epoch}: loss = {history_losses[-1]}')"
   ]
  },
  {
   "cell_type": "code",
   "execution_count": null,
   "metadata": {
    "colab": {
     "base_uri": "https://localhost:8080/",
     "height": 350
    },
    "id": "82WHik6BV2Kz",
    "outputId": "af1a5d49-7e7b-4847-912b-24e8d2e29217"
   },
   "outputs": [
    {
     "data": {
      "image/png": "[encoded data removed]",
      "text/plain": [
       "<Figure size 720x360 with 1 Axes>"
      ]
     },
     "metadata": {
      "needs_background": "light",
      "tags": []
     },
     "output_type": "display_data"
    }
   ],
   "source": [
    "fig, ax = plt.subplots(figsize = (10, 5))\n",
    "plt.plot(epochs, history_losses, label = 'Loss')\n",
    "plt.title('График функции потерь по эпохам')\n",
    "plt.ylabel('Losses')\n",
    "plt.xlabel('Epochs')\n",
    "plt.legend()\n",
    "plt.grid(True)"
   ]
  },
  {
   "cell_type": "code",
   "execution_count": null,
   "metadata": {
    "colab": {
     "base_uri": "https://localhost:8080/"
    },
    "id": "GxFSqj6BV38G",
    "outputId": "5d146786-7d42-4792-8233-05d7542e7e00"
   },
   "outputs": [
    {
     "name": "stdout",
     "output_type": "stream",
     "text": [
      "Accuracy for dataset CIFAR10: 0.4746\n"
     ]
    }
   ],
   "source": [
    "val_loader = DataLoader(val_cifar, batch_size=32, shuffle=True)\n",
    "correct, total = 0, 0\n",
    "with torch.no_grad():\n",
    "  for imgs, labels in val_loader:\n",
    "    imgs, labels = imgs.to(device), labels.to(device)\n",
    "    # forward\n",
    "    out = model(imgs)\n",
    "    _, predicted = torch.max(out, dim = 1)\n",
    "    total += labels.shape[0]\n",
    "    correct += int((predicted == labels).sum())\n",
    "print(f'Accuracy for dataset CIFAR10: {correct / total}')"
   ]
  },
  {
   "cell_type": "code",
   "execution_count": null,
   "metadata": {
    "colab": {
     "base_uri": "https://localhost:8080/",
     "height": 771
    },
    "id": "udbPN0vuWPrG",
    "outputId": "daaba777-fb46-4e47-f704-a376cf2ad779"
   },
   "outputs": [
    {
     "data": {
      "image/png": "[encoded data removed]",
      "text/plain": [
       "<Figure size 1008x864 with 28 Axes>"
      ]
     },
     "metadata": {
      "tags": []
     },
     "output_type": "display_data"
    }
   ],
   "source": [
    "data1, target1 = next(iter(val_loader))\n",
    "data1, target1 = data1.to(device), target1.to(device)\n",
    "\n",
    "output = model(data1).to(device)\n",
    "_, predicted = torch.max(output, dim = 1)\n",
    "\n",
    "img_qty = data1.shape[0]\n",
    "\n",
    "fig = plt.figure(figsize=(14,12))\n",
    "\n",
    "for i in range(img_qty):\n",
    "    plt.subplot(4, 8, i+1)\n",
    "    plt.tight_layout()\n",
    "    plt.imshow(data1[i][0].to('cpu'), interpolation='none')\n",
    "    if predicted[i].item() == target1[i]:\n",
    "        plt.title(f\"pr: {predicted[i].item()} tgt: {target1[i]}\")\n",
    "    else:\n",
    "        plt.title(f\"ERR: pr: {predicted[i].item()} tgt: {target1[i]}\")        \n",
    "    plt.xticks([])\n",
    "    plt.yticks([])"
   ]
  },
  {
   "cell_type": "code",
   "execution_count": null,
   "metadata": {
    "colab": {
     "base_uri": "https://localhost:8080/"
    },
    "id": "WlqioChQW7ON",
    "outputId": "cf46f477-284a-44c4-d0e1-0d79ceeb7950"
   },
   "outputs": [
    {
     "name": "stdout",
     "output_type": "stream",
     "text": [
      "Confusion Matrix : \n"
     ]
    },
    {
     "data": {
      "text/plain": [
       "array([[3, 0, 0, 1, 0, 0, 0, 1, 0, 0],\n",
       "       [0, 3, 0, 0, 0, 0, 0, 0, 0, 0],\n",
       "       [1, 0, 0, 0, 1, 0, 0, 1, 0, 0],\n",
       "       [0, 1, 0, 0, 0, 1, 0, 0, 0, 0],\n",
       "       [0, 0, 0, 1, 2, 1, 0, 0, 0, 0],\n",
       "       [0, 1, 0, 0, 0, 0, 0, 0, 0, 0],\n",
       "       [0, 0, 2, 0, 0, 0, 3, 0, 0, 0],\n",
       "       [0, 0, 0, 0, 0, 0, 0, 0, 0, 0],\n",
       "       [0, 2, 0, 0, 0, 0, 0, 0, 2, 0],\n",
       "       [1, 2, 0, 0, 0, 0, 0, 0, 0, 2]])"
      ]
     },
     "execution_count": 30,
     "metadata": {
      "tags": []
     },
     "output_type": "execute_result"
    }
   ],
   "source": [
    "from sklearn.metrics import confusion_matrix\n",
    "print(\"Confusion Matrix : \")\n",
    "confusion_matrix(predicted.to('cpu').reshape(-1).detach(), target1.to('cpu'))"
   ]
  },
  {
   "cell_type": "markdown",
   "metadata": {},
   "source": [
    "# Cifar10 with CNN"
   ]
  },
  {
   "cell_type": "code",
   "execution_count": null,
   "metadata": {
    "id": "hXhmuEQFXFyQ"
   },
   "outputs": [],
   "source": [
    "class NetConv2(nn.Module):\n",
    "  def __init__(self, input_size, hidden_size, n_classes = 10):\n",
    "      super().__init__()\n",
    "      self.layer_conv1 = nn.Sequential(nn.Conv2d(3, 32, kernel_size = 3),\n",
    "                                 nn.ReLU(),\n",
    "                                 nn.MaxPool2d(2))\n",
    "      self.layer_conv2 = nn.Sequential(nn.Conv2d(32, 64, kernel_size = 3),\n",
    "                                  #nn.Dropout2d(),\n",
    "                                  nn.ReLU(),\n",
    "                                  nn.MaxPool2d(2))\n",
    "      self.layer_conv3 = nn.Sequential(nn.Conv2d(64, 64, kernel_size = 3),\n",
    "                                  # nn.Dropout2d(),\n",
    "                                  nn.ReLU(),\n",
    "                                  nn.MaxPool2d(2))      \n",
    "      self.layers = nn.Sequential(nn.Flatten(),\n",
    "                                 nn.Linear(64*2*2, hidden_size),\n",
    "                                 nn.ReLU(),\n",
    "                                 nn.Dropout(),\n",
    "                                 nn.Linear(hidden_size, n_classes))\n",
    "\n",
    "  def forward(self, X):\n",
    "    out = self.layer_conv1(X)\n",
    "    out = self.layer_conv2(out)\n",
    "    out = self.layer_conv3(out)\n",
    "    out = self.layers(out)\n",
    "    return out\n",
    "\n",
    "  def forward_conv1(self, X):\n",
    "    out = self.layer_conv1(X)\n",
    "    return out"
   ]
  },
  {
   "cell_type": "code",
   "execution_count": null,
   "metadata": {
    "colab": {
     "base_uri": "https://localhost:8080/"
    },
    "id": "OfW6MyjLbnjF",
    "outputId": "2623faae-76e9-4fff-c21c-067674bbc28e"
   },
   "outputs": [
    {
     "name": "stdout",
     "output_type": "stream",
     "text": [
      "Epoch 5: loss = 1.5362341403961182\n",
      "Epoch 10: loss = 1.3467355966567993\n",
      "Epoch 15: loss = 1.2137097120285034\n",
      "Epoch 20: loss = 1.1150028705596924\n",
      "Epoch 25: loss = 1.0405278205871582\n",
      "Epoch 30: loss = 0.9774709939956665\n",
      "Epoch 35: loss = 0.9280464053153992\n",
      "Epoch 40: loss = 0.8815835118293762\n",
      "Epoch 45: loss = 0.85003262758255\n",
      "Epoch 50: loss = 0.8199061751365662\n",
      "Epoch 55: loss = 0.8009468913078308\n",
      "Epoch 60: loss = 0.7763646245002747\n",
      "Epoch 65: loss = 0.753491997718811\n",
      "Epoch 70: loss = 0.725054144859314\n",
      "Epoch 75: loss = 0.7055237293243408\n",
      "Epoch 80: loss = 0.7002268433570862\n",
      "Epoch 85: loss = 0.673585832118988\n",
      "Epoch 90: loss = 0.6539887189865112\n",
      "Epoch 95: loss = 0.6448051929473877\n",
      "Epoch 100: loss = 0.6339629292488098\n",
      "Epoch 105: loss = 0.6194550395011902\n",
      "Epoch 110: loss = 0.6048614382743835\n",
      "Epoch 115: loss = 0.6030082702636719\n",
      "Epoch 120: loss = 0.5846019387245178\n",
      "Epoch 125: loss = 0.5847396850585938\n",
      "Epoch 130: loss = 0.5714408755302429\n",
      "Epoch 135: loss = 0.5565690398216248\n",
      "Epoch 140: loss = 0.551190197467804\n",
      "Epoch 145: loss = 0.5505871772766113\n",
      "Epoch 150: loss = 0.5406723618507385\n"
     ]
    }
   ],
   "source": [
    "train_loader = DataLoader(cifar, batch_size = 256, shuffle = True)\n",
    "\n",
    "device = torch.device('cuda' if torch.cuda.is_available else 'cpu')\n",
    "\n",
    "input_size = cifar[0][0].shape[0]*cifar[0][0].shape[1]*cifar[0][0].shape[2]\n",
    "\n",
    "model = NetConv2(input_size = input_size, hidden_size = 64).to(device)\n",
    "loss = nn.CrossEntropyLoss()\n",
    "optimizare = optim.Adam(model.parameters(), lr = 0.001)\n",
    "\n",
    "n_epoch = 100 + 1\n",
    "history_losses = list()\n",
    "epochs = list()\n",
    "\n",
    "for epoch in range(1, n_epoch):\n",
    "  batch_loss = 0\n",
    "  for img_train, label_train in train_loader:\n",
    "    img_train, label_train = img_train.to(device), label_train.to(device)\n",
    "    \n",
    "    out = model(img_train)\n",
    "\n",
    "    cur_loss = loss(out, label_train.squeeze())\n",
    "    batch_loss += cur_loss\n",
    "    \n",
    "    cur_loss.backward()\n",
    "    \n",
    "    optimizare.step()\n",
    "    optimizare.zero_grad()\n",
    "  \n",
    "  if epoch % 5 == 0:\n",
    "    history_losses.append(batch_loss/len(train_loader))\n",
    "    epochs.append(epoch)\n",
    "    print(f'Epoch {epoch}: loss = {history_losses[-1]}')"
   ]
  },
  {
   "cell_type": "code",
   "execution_count": null,
   "metadata": {
    "colab": {
     "base_uri": "https://localhost:8080/"
    },
    "id": "onRElsOEfLJt",
    "outputId": "6940b0fa-fde5-41c0-8971-5f5dc2ec3bb4"
   },
   "outputs": [
    {
     "name": "stdout",
     "output_type": "stream",
     "text": [
      "Accuracy: 0.6577\n"
     ]
    }
   ],
   "source": [
    "val_loader = DataLoader(val_cifar, batch_size=32, shuffle=True)\n",
    "correct, total = 0, 0\n",
    "with torch.no_grad():\n",
    "  for imgs, labels in val_loader:\n",
    "    imgs, labels = imgs.to(device), labels.to(device)\n",
    "    out = model(imgs)\n",
    "    _, predicted = torch.max(out, dim = 1)\n",
    "    total += labels.shape[0]\n",
    "    correct += int((predicted == labels).sum())\n",
    "print(f'Accuracy: {correct / total}')"
   ]
  },
  {
   "cell_type": "code",
   "execution_count": null,
   "metadata": {
    "id": "21AhyfuKfanz"
   },
   "outputs": [],
   "source": [
    "torch.save(model, './data/model.pth')"
   ]
  },
  {
   "cell_type": "code",
   "execution_count": null,
   "metadata": {
    "colab": {
     "base_uri": "https://localhost:8080/",
     "height": 462
    },
    "id": "svP7KdRUgEu3",
    "outputId": "2b6c8799-9459-4875-b58a-b89450aee3d3"
   },
   "outputs": [
    {
     "data": {
      "image/png": "[encoded data removed]",
      "text/plain": [
       "<Figure size 432x288 with 1 Axes>"
      ]
     },
     "metadata": {
      "needs_background": "light",
      "tags": []
     },
     "output_type": "display_data"
    },
    {
     "data": {
      "image/png": "[encoded data removed]",
      "text/plain": [
       "<Figure size 864x216 with 32 Axes>"
      ]
     },
     "metadata": {
      "needs_background": "light",
      "tags": []
     },
     "output_type": "display_data"
    }
   ],
   "source": [
    "imgs, targets = next(iter(val_loader))\n",
    "imgs, targets = imgs.to(device), targets.to(device)\n",
    "img_n = 5\n",
    "plt.imshow(imgs.to('cpu')[img_n][0], cmap='gray')\n",
    "\n",
    "output = model(imgs).to(device)\n",
    "_, predicted = torch.max(output, dim = 1)\n",
    "\n",
    "with torch.no_grad():\n",
    "    imgs_part_1l = model.forward_conv1(imgs)\n",
    "    nplots = imgs_part_1l.shape[1]\n",
    "    ncols = 12\n",
    "    \n",
    "    nrows = 1 + nplots//ncols\n",
    "    \n",
    "    count = 0\n",
    "    fig = plt.figure(figsize=(ncols, nrows))    \n",
    "    #--------    \n",
    "    \n",
    "    for i in range(imgs_part_1l.shape[1]):\n",
    "        count += 1\n",
    "        ax1 = fig.add_subplot(nrows, ncols, count)\n",
    "\n",
    "        ax1.imshow(imgs_part_1l.to('cpu')[img_n][i], cmap='gray')\n",
    "    fig.show()"
   ]
  },
  {
   "cell_type": "code",
   "execution_count": null,
   "metadata": {
    "colab": {
     "base_uri": "https://localhost:8080/",
     "height": 446
    },
    "id": "yeUOP_OQkboX",
    "outputId": "590c5b11-41ba-45a9-b795-1dd8c761cfab"
   },
   "outputs": [
    {
     "data": {
      "image/png": "[encoded data removed]",
      "text/plain": [
       "<Figure size 720x504 with 2 Axes>"
      ]
     },
     "metadata": {
      "needs_background": "light",
      "tags": []
     },
     "output_type": "display_data"
    }
   ],
   "source": [
    "from sklearn.metrics import confusion_matrix\n",
    "import seaborn as sns\n",
    "#print(\"Confusion Matrix : \")\n",
    "fig, ax = plt.subplots(figsize = (10, 7))\n",
    "sns.heatmap(confusion_matrix(predicted.to('cpu').reshape(-1).detach(), targets.to('cpu')), annot = True)\n",
    "plt.title(\"Confusion Matrix\", size = 15);"
   ]
  },
  {
   "cell_type": "markdown",
   "metadata": {},
   "source": [
    "# Monkeys"
   ]
  },
  {
   "cell_type": "code",
   "execution_count": null,
   "metadata": {
    "colab": {
     "base_uri": "https://localhost:8080/"
    },
    "id": "iXnzblkFFN5K",
    "outputId": "0ffab841-8479-4961-8f10-67ec15e09b3d"
   },
   "outputs": [
    {
     "name": "stdout",
     "output_type": "stream",
     "text": [
      "Drive already mounted at /content/drive; to attempt to forcibly remount, call drive.mount(\"/content/drive\", force_remount=True).\n"
     ]
    }
   ],
   "source": [
    "from google.colab import drive\n",
    "drive.mount('/content/drive')"
   ]
  },
  {
   "cell_type": "code",
   "execution_count": null,
   "metadata": {
    "colab": {
     "base_uri": "https://localhost:8080/"
    },
    "id": "4Er_FLV6Hrqq",
    "outputId": "d6921b8c-ecca-46ff-e67d-8a01c9fb90ef"
   },
   "outputs": [
    {
     "name": "stderr",
     "output_type": "stream",
     "text": [
      "100%|██████████| 1371/1371 [00:16<00:00, 83.78it/s]\n"
     ]
    }
   ],
   "source": [
    "import zipfile\n",
    "from tqdm import tqdm\n",
    "\n",
    "zf = zipfile.ZipFile('drive/MyDrive/DL_dataset/monkeys.zip')\n",
    "for file in tqdm(zf.infolist()):\n",
    "    zf.extract(file)"
   ]
  },
  {
   "cell_type": "code",
   "execution_count": null,
   "metadata": {
    "id": "gWnVHrOSeqHr"
   },
   "outputs": [],
   "source": [
    "import torchvision\n",
    "from torchvision.datasets import ImageFolder\n",
    "import torch.nn as nn\n",
    "import torch\n",
    "import torch.optim as optim\n",
    "from torch.utils.data import DataLoader, random_split\n",
    "import torch.nn.functional as F\n",
    "from torchvision import datasets, transforms\n",
    "import numpy as np\n",
    "\n",
    "from sklearn.metrics import confusion_matrix\n",
    "import matplotlib.pyplot as plt\n",
    "import seaborn as sns"
   ]
  },
  {
   "cell_type": "code",
   "execution_count": null,
   "metadata": {
    "id": "YyQJyEeXsX3g"
   },
   "outputs": [],
   "source": [
    "# from google.colab import files\n",
    "# src = list(files.upload().values())[0]\n",
    "# open('pytorchtools_st.py','wb').write(src)\n",
    "from pytorchtools_st import EarlyStopping"
   ]
  },
  {
   "cell_type": "code",
   "execution_count": null,
   "metadata": {
    "id": "X-r_eGssmLKj"
   },
   "outputs": [],
   "source": [
    "#!pip install pytorch_lightning\n",
    "#from pytorch_lightning.callbacks import EarlyStopping"
   ]
  },
  {
   "cell_type": "code",
   "execution_count": null,
   "metadata": {
    "id": "gfs7J3PmeeXl"
   },
   "outputs": [],
   "source": [
    "train_monkeys = ImageFolder('training/training', transform = transforms.Compose([transforms.Resize([300, 300]), \n",
    "                                                                                 transforms.ToTensor()]))"
   ]
  },
  {
   "cell_type": "code",
   "execution_count": null,
   "metadata": {
    "colab": {
     "base_uri": "https://localhost:8080/"
    },
    "id": "ERWFNXXpf2hx",
    "outputId": "1e02a211-ea60-4bf5-d476-8a6c56bd8c48"
   },
   "outputs": [
    {
     "name": "stdout",
     "output_type": "stream",
     "text": [
      "Epoch: [2/500], Train_loss: 2.312148884364537\n",
      "EarlyStopping counter: 1 out of 3\n",
      "Epoch: [4/500], Train_loss: 2.305630363736834\n",
      "EarlyStopping counter: 2 out of 3\n",
      "EarlyStopping counter: 3 out of 3\n",
      "Early stopping on epoch: [5/500]\n"
     ]
    }
   ],
   "source": [
    "# train_size = int(np.floor(len(train_monkeys)*0.8))\n",
    "# val_size = len(train_monkeys) - train_size \n",
    "\n",
    "# dataset_train, dataset_val = random_split(train_monkeys, [train_size, val_size]) # Разделение на тренировчоную и вылидационные выборки\n",
    "\n",
    "train_loader = DataLoader(train_monkeys, batch_size = 32, shuffle = True)\n",
    "#val_loader = DataLoader(dataset_val, batch_size = len(dataset_val), shuffle = True)\n",
    "\n",
    "\n",
    "device = torch.device('cuda' if torch.cuda.is_available() else 'cpu')\n",
    "#torch.cuda.memory_summary(device=device, abbreviated=True)\n",
    "\n",
    "model = nn.Sequential(nn.Conv2d(3, 20, kernel_size=3, padding=1),\n",
    "                      nn.BatchNorm2d(20), \n",
    "                      nn.ReLU(),\n",
    "                      nn.MaxPool2d(kernel_size=2),\n",
    "                      nn.Conv2d(20, 40, kernel_size=3, padding=1),\n",
    "                      nn.BatchNorm2d(40), \n",
    "                      nn.ReLU(),\n",
    "                      nn.MaxPool2d(kernel_size=2),\n",
    "                      nn.Flatten(),\n",
    "                      nn.Linear(40*75*75, 64),\n",
    "                      nn.ReLU(),\n",
    "                      nn.Dropout(),\n",
    "                      nn.Linear(64, 32),\n",
    "                      nn.ReLU(),\n",
    "                      nn.Dropout(),\n",
    "                      nn.Linear(32, 10)\n",
    "                      ).to(device='cpu')\n",
    "\n",
    "loss = nn.CrossEntropyLoss()\n",
    "optimizer = optim.Adam(model.parameters(), lr=0.001)\n",
    "\n",
    "early_stop = EarlyStopping(delta = 0.5, patience = 3, verbose = False) # Ранняя остановка\n",
    "\n",
    "n_epochs = 500\n",
    "\n",
    "train_history_loss = list()\n",
    "# val_history_loss = list()\n",
    "epochs_history = list()\n",
    "\n",
    "for epoch in range(1, n_epochs + 1):\n",
    "  epoch_loss = 0\n",
    "  # val_epoch_loss = 0\n",
    "\n",
    "  model.train() # явно указываем обучение\n",
    "  for X_batch, y_batch in train_loader:\n",
    "    X_batch, y_batch = X_batch.to(device='cpu'), y_batch.to(device='cpu')\n",
    "    # forward\n",
    "    out = model(X_batch)\n",
    "    # loss\n",
    "    batch_loss = loss(out, y_batch)\n",
    "    # backward\n",
    "    batch_loss.backward()\n",
    "    # optimization\n",
    "    optimizer.step()\n",
    "    optimizer.zero_grad()\n",
    "    epoch_loss += batch_loss.item()\n",
    "\n",
    "  # model.eval()\n",
    "  # for X_val, y_val in val_loader:\n",
    "  #   X_val, y_val = X_val.to(device=device), y_val.to(device=device)\n",
    "  #   pred = model(X_val)\n",
    "  #   val_loss = loss(pred, y_val)\n",
    "  #   val_epoch_loss += val_loss\n",
    "\n",
    "  train_history_loss.append(epoch_loss/len(train_loader))\n",
    "  # val_history_loss.append(val_epoch_loss/len(val_loader))\n",
    "  epochs_history.append(epoch)\n",
    "\n",
    "  if epoch % 2 == 0:\n",
    "    print(f'Epoch: [{epoch}/{n_epochs}], Train_loss: {train_history_loss[-1]}') # , Val_loss: {val_history_loss[-1]}')\n",
    "\n",
    "  early_stop(train_history_loss[-1], model)\n",
    "  \n",
    "  if early_stop.early_stop:\n",
    "      print(f\"Early stopping on epoch: [{epoch}/{n_epochs}]\")\n",
    "      break"
   ]
  },
  {
   "cell_type": "code",
   "execution_count": null,
   "metadata": {
    "id": "MQr1lGaT92r7"
   },
   "outputs": [],
   "source": [
    "torch.save(model, '/content/drive/MyDrive/DL_dataset/model_monkeys.pth')"
   ]
  },
  {
   "cell_type": "code",
   "execution_count": null,
   "metadata": {
    "id": "4nOXTk5516OQ"
   },
   "outputs": [],
   "source": [
    "test_monkeys = ImageFolder('validation/validation', transform = transforms.Compose([transforms.Resize([300, 300]), \n",
    "                                                                                     transforms.ToTensor()]))\n",
    "test_loader = DataLoader(test_monkeys, batch_size = len(test_monkeys), shuffle = True)\n",
    "correct, total = 0, 0\n",
    "model.eval()\n",
    "for X_test, y_test in test_loader:\n",
    "  targets = y_test\n",
    "  predicted = model(X_test)\n",
    "\n",
    "  _, predicted = torch.max(predicted, dim=1)\n",
    "  total += y_test.shape[0]\n",
    "  correct += int((predicted == y_test).sum())\n",
    "\n",
    "print(f'Accuracy: {correct / total}')"
   ]
  },
  {
   "cell_type": "code",
   "execution_count": null,
   "metadata": {
    "id": "Q-kD9gvH10JA"
   },
   "outputs": [],
   "source": [
    "test_loader_img = DataLoader(dataset_val, batch_size = 32, shuffle = True)\n",
    "\n",
    "data1, target1 = next(iter(test_loader_img))\n",
    "\n",
    "output = model(data1)\n",
    "\n",
    "_, predicted = torch.max(output, dim = 1)\n",
    "\n",
    "img_qty = data1.shape[0]\n",
    "\n",
    "fig = plt.figure(figsize=(14,12))\n",
    "\n",
    "for i in range(img_qty):\n",
    "    plt.subplot(4, 8, i+1)\n",
    "    plt.tight_layout()\n",
    "    plt.imshow(data1[i][0].to('cpu'), interpolation='none')\n",
    "    if predicted[i].item() == target1[i]:\n",
    "        plt.title(f\"pr: {predicted[i].item()} tgt: {target1[i]}\")\n",
    "    else:\n",
    "        plt.title(f\"ERR: pr: {predicted[i].item()} tgt: {target1[i]}\")        \n",
    "    plt.xticks([])\n",
    "    plt.yticks([])"
   ]
  },
  {
   "cell_type": "code",
   "execution_count": null,
   "metadata": {
    "id": "w8i0psXK5ihk"
   },
   "outputs": [],
   "source": [
    "fig, ax = plt.subplots(figsize = (10, 7))\n",
    "sns.heatmap(confusion_matrix(predicted.to('cpu').reshape(-1).detach(), targets.to('cpu')), annot = True)\n",
    "plt.title(\"Confusion Matrix\", size = 15)\n",
    "plt.xlabel('Predicts')\n",
    "plt.ylabel('Targets');"
   ]
  }
 ],
 "metadata": {
  "accelerator": "GPU",
  "colab": {
   "collapsed_sections": [
    "403Mis3LAgED"
   ],
   "name": "blank_04_cnn_Semenov.ipynb",
   "provenance": [],
   "toc_visible": true
  },
  "kernelspec": {
   "display_name": "Python 3",
   "language": "python",
   "name": "python3"
  },
  "language_info": {
   "codemirror_mode": {
    "name": "ipython",
    "version": 3
   },
   "file_extension": ".py",
   "mimetype": "text/x-python",
   "name": "python",
   "nbconvert_exporter": "python",
   "pygments_lexer": "ipython3",
   "version": "3.8.3"
  },
  "widgets": {
   "application/vnd.jupyter.widget-state+json": {
    "0085d4fc61db46b49f7ad717e1c1d6ac": {
     "model_module": "@jupyter-widgets/controls",
     "model_name": "FloatProgressModel",
     "state": {
      "_dom_classes": [],
      "_model_module": "@jupyter-widgets/controls",
      "_model_module_version": "1.5.0",
      "_model_name": "FloatProgressModel",
      "_view_count": null,
      "_view_module": "@jupyter-widgets/controls",
      "_view_module_version": "1.5.0",
      "_view_name": "ProgressView",
      "bar_style": "success",
      "description": "",
      "description_tooltip": null,
      "layout": "IPY_MODEL_4868631d179a4e5a8e47a476ff9bc97d",
      "max": 4422102,
      "min": 0,
      "orientation": "horizontal",
      "style": "IPY_MODEL_6c69b6468e854e69a2a710db4246efc0",
      "value": 4422102
     }
    },
    "027b7df7e5e3457788e9c7711430fc8f": {
     "model_module": "@jupyter-widgets/base",
     "model_name": "LayoutModel",
     "state": {
      "_model_module": "@jupyter-widgets/base",
      "_model_module_version": "1.2.0",
      "_model_name": "LayoutModel",
      "_view_count": null,
      "_view_module": "@jupyter-widgets/base",
      "_view_module_version": "1.2.0",
      "_view_name": "LayoutView",
      "align_content": null,
      "align_items": null,
      "align_self": null,
      "border": null,
      "bottom": null,
      "display": null,
      "flex": null,
      "flex_flow": null,
      "grid_area": null,
      "grid_auto_columns": null,
      "grid_auto_flow": null,
      "grid_auto_rows": null,
      "grid_column": null,
      "grid_gap": null,
      "grid_row": null,
      "grid_template_areas": null,
      "grid_template_columns": null,
      "grid_template_rows": null,
      "height": null,
      "justify_content": null,
      "justify_items": null,
      "left": null,
      "margin": null,
      "max_height": null,
      "max_width": null,
      "min_height": null,
      "min_width": null,
      "object_fit": null,
      "object_position": null,
      "order": null,
      "overflow": null,
      "overflow_x": null,
      "overflow_y": null,
      "padding": null,
      "right": null,
      "top": null,
      "visibility": null,
      "width": null
     }
    },
    "07cfe2b882214ab89549b4c676603cfd": {
     "model_module": "@jupyter-widgets/controls",
     "model_name": "DescriptionStyleModel",
     "state": {
      "_model_module": "@jupyter-widgets/controls",
      "_model_module_version": "1.5.0",
      "_model_name": "DescriptionStyleModel",
      "_view_count": null,
      "_view_module": "@jupyter-widgets/base",
      "_view_module_version": "1.2.0",
      "_view_name": "StyleView",
      "description_width": ""
     }
    },
    "084ab5a71f0046b9b15abba88edf2a5a": {
     "model_module": "@jupyter-widgets/base",
     "model_name": "LayoutModel",
     "state": {
      "_model_module": "@jupyter-widgets/base",
      "_model_module_version": "1.2.0",
      "_model_name": "LayoutModel",
      "_view_count": null,
      "_view_module": "@jupyter-widgets/base",
      "_view_module_version": "1.2.0",
      "_view_name": "LayoutView",
      "align_content": null,
      "align_items": null,
      "align_self": null,
      "border": null,
      "bottom": null,
      "display": null,
      "flex": null,
      "flex_flow": null,
      "grid_area": null,
      "grid_auto_columns": null,
      "grid_auto_flow": null,
      "grid_auto_rows": null,
      "grid_column": null,
      "grid_gap": null,
      "grid_row": null,
      "grid_template_areas": null,
      "grid_template_columns": null,
      "grid_template_rows": null,
      "height": null,
      "justify_content": null,
      "justify_items": null,
      "left": null,
      "margin": null,
      "max_height": null,
      "max_width": null,
      "min_height": null,
      "min_width": null,
      "object_fit": null,
      "object_position": null,
      "order": null,
      "overflow": null,
      "overflow_x": null,
      "overflow_y": null,
      "padding": null,
      "right": null,
      "top": null,
      "visibility": null,
      "width": null
     }
    },
    "150fdbf54f4a4ba9a324fa3a1f238b12": {
     "model_module": "@jupyter-widgets/controls",
     "model_name": "FloatProgressModel",
     "state": {
      "_dom_classes": [],
      "_model_module": "@jupyter-widgets/controls",
      "_model_module_version": "1.5.0",
      "_model_name": "FloatProgressModel",
      "_view_count": null,
      "_view_module": "@jupyter-widgets/controls",
      "_view_module_version": "1.5.0",
      "_view_name": "ProgressView",
      "bar_style": "success",
      "description": "100%",
      "description_tooltip": null,
      "layout": "IPY_MODEL_ef5a6dfb63a54c7583c4207ef272737a",
      "max": 553433881,
      "min": 0,
      "orientation": "horizontal",
      "style": "IPY_MODEL_a2d7436f174f40aa96d56f269905cc31",
      "value": 553433881
     }
    },
    "33e9f3402a3f465a9132dfdc36449854": {
     "model_module": "@jupyter-widgets/controls",
     "model_name": "DescriptionStyleModel",
     "state": {
      "_model_module": "@jupyter-widgets/controls",
      "_model_module_version": "1.5.0",
      "_model_name": "DescriptionStyleModel",
      "_view_count": null,
      "_view_module": "@jupyter-widgets/base",
      "_view_module_version": "1.2.0",
      "_view_name": "StyleView",
      "description_width": ""
     }
    },
    "3a2af555a0d8447b8123586785a240ed": {
     "model_module": "@jupyter-widgets/controls",
     "model_name": "HTMLModel",
     "state": {
      "_dom_classes": [],
      "_model_module": "@jupyter-widgets/controls",
      "_model_module_version": "1.5.0",
      "_model_name": "HTMLModel",
      "_view_count": null,
      "_view_module": "@jupyter-widgets/controls",
      "_view_module_version": "1.5.0",
      "_view_name": "HTMLView",
      "description": "",
      "description_tooltip": null,
      "layout": "IPY_MODEL_b4d449b819304d17993ed699c0bc7dcd",
      "placeholder": "​",
      "style": "IPY_MODEL_33e9f3402a3f465a9132dfdc36449854",
      "value": " 29696/? [00:49&lt;00:00, 604.42it/s]"
     }
    },
    "3c76840b8bd54e0d90a4a196fb8ad5ae": {
     "model_module": "@jupyter-widgets/controls",
     "model_name": "FloatProgressModel",
     "state": {
      "_dom_classes": [],
      "_model_module": "@jupyter-widgets/controls",
      "_model_module_version": "1.5.0",
      "_model_name": "FloatProgressModel",
      "_view_count": null,
      "_view_module": "@jupyter-widgets/controls",
      "_view_module_version": "1.5.0",
      "_view_name": "ProgressView",
      "bar_style": "success",
      "description": "",
      "description_tooltip": null,
      "layout": "IPY_MODEL_64c69751d83e44b0a76dedc55a02ef52",
      "max": 170498071,
      "min": 0,
      "orientation": "horizontal",
      "style": "IPY_MODEL_6734c389cf864cdc9dacf8a7bea9310a",
      "value": 170498071
     }
    },
    "43066da7cff7468ea38cd96de375ffc8": {
     "model_module": "@jupyter-widgets/controls",
     "model_name": "ProgressStyleModel",
     "state": {
      "_model_module": "@jupyter-widgets/controls",
      "_model_module_version": "1.5.0",
      "_model_name": "ProgressStyleModel",
      "_view_count": null,
      "_view_module": "@jupyter-widgets/base",
      "_view_module_version": "1.2.0",
      "_view_name": "StyleView",
      "bar_color": null,
      "description_width": "initial"
     }
    },
    "4868631d179a4e5a8e47a476ff9bc97d": {
     "model_module": "@jupyter-widgets/base",
     "model_name": "LayoutModel",
     "state": {
      "_model_module": "@jupyter-widgets/base",
      "_model_module_version": "1.2.0",
      "_model_name": "LayoutModel",
      "_view_count": null,
      "_view_module": "@jupyter-widgets/base",
      "_view_module_version": "1.2.0",
      "_view_name": "LayoutView",
      "align_content": null,
      "align_items": null,
      "align_self": null,
      "border": null,
      "bottom": null,
      "display": null,
      "flex": null,
      "flex_flow": null,
      "grid_area": null,
      "grid_auto_columns": null,
      "grid_auto_flow": null,
      "grid_auto_rows": null,
      "grid_column": null,
      "grid_gap": null,
      "grid_row": null,
      "grid_template_areas": null,
      "grid_template_columns": null,
      "grid_template_rows": null,
      "height": null,
      "justify_content": null,
      "justify_items": null,
      "left": null,
      "margin": null,
      "max_height": null,
      "max_width": null,
      "min_height": null,
      "min_width": null,
      "object_fit": null,
      "object_position": null,
      "order": null,
      "overflow": null,
      "overflow_x": null,
      "overflow_y": null,
      "padding": null,
      "right": null,
      "top": null,
      "visibility": null,
      "width": null
     }
    },
    "552556655f20429887f6e864bbbc8e93": {
     "model_module": "@jupyter-widgets/controls",
     "model_name": "DescriptionStyleModel",
     "state": {
      "_model_module": "@jupyter-widgets/controls",
      "_model_module_version": "1.5.0",
      "_model_name": "DescriptionStyleModel",
      "_view_count": null,
      "_view_module": "@jupyter-widgets/base",
      "_view_module_version": "1.2.0",
      "_view_name": "StyleView",
      "description_width": ""
     }
    },
    "5c5dddeec13241aca7d96a1b4dcbdc61": {
     "model_module": "@jupyter-widgets/base",
     "model_name": "LayoutModel",
     "state": {
      "_model_module": "@jupyter-widgets/base",
      "_model_module_version": "1.2.0",
      "_model_name": "LayoutModel",
      "_view_count": null,
      "_view_module": "@jupyter-widgets/base",
      "_view_module_version": "1.2.0",
      "_view_name": "LayoutView",
      "align_content": null,
      "align_items": null,
      "align_self": null,
      "border": null,
      "bottom": null,
      "display": null,
      "flex": null,
      "flex_flow": null,
      "grid_area": null,
      "grid_auto_columns": null,
      "grid_auto_flow": null,
      "grid_auto_rows": null,
      "grid_column": null,
      "grid_gap": null,
      "grid_row": null,
      "grid_template_areas": null,
      "grid_template_columns": null,
      "grid_template_rows": null,
      "height": null,
      "justify_content": null,
      "justify_items": null,
      "left": null,
      "margin": null,
      "max_height": null,
      "max_width": null,
      "min_height": null,
      "min_width": null,
      "object_fit": null,
      "object_position": null,
      "order": null,
      "overflow": null,
      "overflow_x": null,
      "overflow_y": null,
      "padding": null,
      "right": null,
      "top": null,
      "visibility": null,
      "width": null
     }
    },
    "5e223bb8a1df48309f3cac2c6d4e309f": {
     "model_module": "@jupyter-widgets/controls",
     "model_name": "ProgressStyleModel",
     "state": {
      "_model_module": "@jupyter-widgets/controls",
      "_model_module_version": "1.5.0",
      "_model_name": "ProgressStyleModel",
      "_view_count": null,
      "_view_module": "@jupyter-widgets/base",
      "_view_module_version": "1.2.0",
      "_view_name": "StyleView",
      "bar_color": null,
      "description_width": "initial"
     }
    },
    "61360fc4a76e4592958e2bfe81287ef5": {
     "model_module": "@jupyter-widgets/base",
     "model_name": "LayoutModel",
     "state": {
      "_model_module": "@jupyter-widgets/base",
      "_model_module_version": "1.2.0",
      "_model_name": "LayoutModel",
      "_view_count": null,
      "_view_module": "@jupyter-widgets/base",
      "_view_module_version": "1.2.0",
      "_view_name": "LayoutView",
      "align_content": null,
      "align_items": null,
      "align_self": null,
      "border": null,
      "bottom": null,
      "display": null,
      "flex": null,
      "flex_flow": null,
      "grid_area": null,
      "grid_auto_columns": null,
      "grid_auto_flow": null,
      "grid_auto_rows": null,
      "grid_column": null,
      "grid_gap": null,
      "grid_row": null,
      "grid_template_areas": null,
      "grid_template_columns": null,
      "grid_template_rows": null,
      "height": null,
      "justify_content": null,
      "justify_items": null,
      "left": null,
      "margin": null,
      "max_height": null,
      "max_width": null,
      "min_height": null,
      "min_width": null,
      "object_fit": null,
      "object_position": null,
      "order": null,
      "overflow": null,
      "overflow_x": null,
      "overflow_y": null,
      "padding": null,
      "right": null,
      "top": null,
      "visibility": null,
      "width": null
     }
    },
    "64c69751d83e44b0a76dedc55a02ef52": {
     "model_module": "@jupyter-widgets/base",
     "model_name": "LayoutModel",
     "state": {
      "_model_module": "@jupyter-widgets/base",
      "_model_module_version": "1.2.0",
      "_model_name": "LayoutModel",
      "_view_count": null,
      "_view_module": "@jupyter-widgets/base",
      "_view_module_version": "1.2.0",
      "_view_name": "LayoutView",
      "align_content": null,
      "align_items": null,
      "align_self": null,
      "border": null,
      "bottom": null,
      "display": null,
      "flex": null,
      "flex_flow": null,
      "grid_area": null,
      "grid_auto_columns": null,
      "grid_auto_flow": null,
      "grid_auto_rows": null,
      "grid_column": null,
      "grid_gap": null,
      "grid_row": null,
      "grid_template_areas": null,
      "grid_template_columns": null,
      "grid_template_rows": null,
      "height": null,
      "justify_content": null,
      "justify_items": null,
      "left": null,
      "margin": null,
      "max_height": null,
      "max_width": null,
      "min_height": null,
      "min_width": null,
      "object_fit": null,
      "object_position": null,
      "order": null,
      "overflow": null,
      "overflow_x": null,
      "overflow_y": null,
      "padding": null,
      "right": null,
      "top": null,
      "visibility": null,
      "width": null
     }
    },
    "6734c389cf864cdc9dacf8a7bea9310a": {
     "model_module": "@jupyter-widgets/controls",
     "model_name": "ProgressStyleModel",
     "state": {
      "_model_module": "@jupyter-widgets/controls",
      "_model_module_version": "1.5.0",
      "_model_name": "ProgressStyleModel",
      "_view_count": null,
      "_view_module": "@jupyter-widgets/base",
      "_view_module_version": "1.2.0",
      "_view_name": "StyleView",
      "bar_color": null,
      "description_width": "initial"
     }
    },
    "6c69b6468e854e69a2a710db4246efc0": {
     "model_module": "@jupyter-widgets/controls",
     "model_name": "ProgressStyleModel",
     "state": {
      "_model_module": "@jupyter-widgets/controls",
      "_model_module_version": "1.5.0",
      "_model_name": "ProgressStyleModel",
      "_view_count": null,
      "_view_module": "@jupyter-widgets/base",
      "_view_module_version": "1.2.0",
      "_view_name": "StyleView",
      "bar_color": null,
      "description_width": "initial"
     }
    },
    "72604a0f59b44c638dd3384e76019750": {
     "model_module": "@jupyter-widgets/base",
     "model_name": "LayoutModel",
     "state": {
      "_model_module": "@jupyter-widgets/base",
      "_model_module_version": "1.2.0",
      "_model_name": "LayoutModel",
      "_view_count": null,
      "_view_module": "@jupyter-widgets/base",
      "_view_module_version": "1.2.0",
      "_view_name": "LayoutView",
      "align_content": null,
      "align_items": null,
      "align_self": null,
      "border": null,
      "bottom": null,
      "display": null,
      "flex": null,
      "flex_flow": null,
      "grid_area": null,
      "grid_auto_columns": null,
      "grid_auto_flow": null,
      "grid_auto_rows": null,
      "grid_column": null,
      "grid_gap": null,
      "grid_row": null,
      "grid_template_areas": null,
      "grid_template_columns": null,
      "grid_template_rows": null,
      "height": null,
      "justify_content": null,
      "justify_items": null,
      "left": null,
      "margin": null,
      "max_height": null,
      "max_width": null,
      "min_height": null,
      "min_width": null,
      "object_fit": null,
      "object_position": null,
      "order": null,
      "overflow": null,
      "overflow_x": null,
      "overflow_y": null,
      "padding": null,
      "right": null,
      "top": null,
      "visibility": null,
      "width": null
     }
    },
    "7424127ee9744d84853846802822e531": {
     "model_module": "@jupyter-widgets/base",
     "model_name": "LayoutModel",
     "state": {
      "_model_module": "@jupyter-widgets/base",
      "_model_module_version": "1.2.0",
      "_model_name": "LayoutModel",
      "_view_count": null,
      "_view_module": "@jupyter-widgets/base",
      "_view_module_version": "1.2.0",
      "_view_name": "LayoutView",
      "align_content": null,
      "align_items": null,
      "align_self": null,
      "border": null,
      "bottom": null,
      "display": null,
      "flex": null,
      "flex_flow": null,
      "grid_area": null,
      "grid_auto_columns": null,
      "grid_auto_flow": null,
      "grid_auto_rows": null,
      "grid_column": null,
      "grid_gap": null,
      "grid_row": null,
      "grid_template_areas": null,
      "grid_template_columns": null,
      "grid_template_rows": null,
      "height": null,
      "justify_content": null,
      "justify_items": null,
      "left": null,
      "margin": null,
      "max_height": null,
      "max_width": null,
      "min_height": null,
      "min_width": null,
      "object_fit": null,
      "object_position": null,
      "order": null,
      "overflow": null,
      "overflow_x": null,
      "overflow_y": null,
      "padding": null,
      "right": null,
      "top": null,
      "visibility": null,
      "width": null
     }
    },
    "7f64fdb900544857adbe51212a96f481": {
     "model_module": "@jupyter-widgets/controls",
     "model_name": "HTMLModel",
     "state": {
      "_dom_classes": [],
      "_model_module": "@jupyter-widgets/controls",
      "_model_module_version": "1.5.0",
      "_model_name": "HTMLModel",
      "_view_count": null,
      "_view_module": "@jupyter-widgets/controls",
      "_view_module_version": "1.5.0",
      "_view_name": "HTMLView",
      "description": "",
      "description_tooltip": null,
      "layout": "IPY_MODEL_7424127ee9744d84853846802822e531",
      "placeholder": "​",
      "style": "IPY_MODEL_de5019edfae64b10b3c07e05d77a5fdb",
      "value": " 170499072/? [06:43&lt;00:00, 422044.42it/s]"
     }
    },
    "8c190bd29c2b443f8889d786ce76ce61": {
     "model_module": "@jupyter-widgets/base",
     "model_name": "LayoutModel",
     "state": {
      "_model_module": "@jupyter-widgets/base",
      "_model_module_version": "1.2.0",
      "_model_name": "LayoutModel",
      "_view_count": null,
      "_view_module": "@jupyter-widgets/base",
      "_view_module_version": "1.2.0",
      "_view_name": "LayoutView",
      "align_content": null,
      "align_items": null,
      "align_self": null,
      "border": null,
      "bottom": null,
      "display": null,
      "flex": null,
      "flex_flow": null,
      "grid_area": null,
      "grid_auto_columns": null,
      "grid_auto_flow": null,
      "grid_auto_rows": null,
      "grid_column": null,
      "grid_gap": null,
      "grid_row": null,
      "grid_template_areas": null,
      "grid_template_columns": null,
      "grid_template_rows": null,
      "height": null,
      "justify_content": null,
      "justify_items": null,
      "left": null,
      "margin": null,
      "max_height": null,
      "max_width": null,
      "min_height": null,
      "min_width": null,
      "object_fit": null,
      "object_position": null,
      "order": null,
      "overflow": null,
      "overflow_x": null,
      "overflow_y": null,
      "padding": null,
      "right": null,
      "top": null,
      "visibility": null,
      "width": null
     }
    },
    "8e29c3ca81494c7e91047b07a18dbab0": {
     "model_module": "@jupyter-widgets/controls",
     "model_name": "DescriptionStyleModel",
     "state": {
      "_model_module": "@jupyter-widgets/controls",
      "_model_module_version": "1.5.0",
      "_model_name": "DescriptionStyleModel",
      "_view_count": null,
      "_view_module": "@jupyter-widgets/base",
      "_view_module_version": "1.2.0",
      "_view_name": "StyleView",
      "description_width": ""
     }
    },
    "93c2c04169dc49dda743c62bf11cda28": {
     "model_module": "@jupyter-widgets/controls",
     "model_name": "HTMLModel",
     "state": {
      "_dom_classes": [],
      "_model_module": "@jupyter-widgets/controls",
      "_model_module_version": "1.5.0",
      "_model_name": "HTMLModel",
      "_view_count": null,
      "_view_module": "@jupyter-widgets/controls",
      "_view_module_version": "1.5.0",
      "_view_name": "HTMLView",
      "description": "",
      "description_tooltip": null,
      "layout": "IPY_MODEL_084ab5a71f0046b9b15abba88edf2a5a",
      "placeholder": "​",
      "style": "IPY_MODEL_552556655f20429887f6e864bbbc8e93",
      "value": " 6144/? [00:11&lt;00:00, 516.58it/s]"
     }
    },
    "948e1f7e579b4478825015b36160111e": {
     "model_module": "@jupyter-widgets/base",
     "model_name": "LayoutModel",
     "state": {
      "_model_module": "@jupyter-widgets/base",
      "_model_module_version": "1.2.0",
      "_model_name": "LayoutModel",
      "_view_count": null,
      "_view_module": "@jupyter-widgets/base",
      "_view_module_version": "1.2.0",
      "_view_name": "LayoutView",
      "align_content": null,
      "align_items": null,
      "align_self": null,
      "border": null,
      "bottom": null,
      "display": null,
      "flex": null,
      "flex_flow": null,
      "grid_area": null,
      "grid_auto_columns": null,
      "grid_auto_flow": null,
      "grid_auto_rows": null,
      "grid_column": null,
      "grid_gap": null,
      "grid_row": null,
      "grid_template_areas": null,
      "grid_template_columns": null,
      "grid_template_rows": null,
      "height": null,
      "justify_content": null,
      "justify_items": null,
      "left": null,
      "margin": null,
      "max_height": null,
      "max_width": null,
      "min_height": null,
      "min_width": null,
      "object_fit": null,
      "object_position": null,
      "order": null,
      "overflow": null,
      "overflow_x": null,
      "overflow_y": null,
      "padding": null,
      "right": null,
      "top": null,
      "visibility": null,
      "width": null
     }
    },
    "965d1e94bfe14a7d943a5d5a4a87b7a6": {
     "model_module": "@jupyter-widgets/controls",
     "model_name": "FloatProgressModel",
     "state": {
      "_dom_classes": [],
      "_model_module": "@jupyter-widgets/controls",
      "_model_module_version": "1.5.0",
      "_model_name": "FloatProgressModel",
      "_view_count": null,
      "_view_module": "@jupyter-widgets/controls",
      "_view_module_version": "1.5.0",
      "_view_name": "ProgressView",
      "bar_style": "success",
      "description": "",
      "description_tooltip": null,
      "layout": "IPY_MODEL_5c5dddeec13241aca7d96a1b4dcbdc61",
      "max": 26421880,
      "min": 0,
      "orientation": "horizontal",
      "style": "IPY_MODEL_5e223bb8a1df48309f3cac2c6d4e309f",
      "value": 26421880
     }
    },
    "9c015d7a9aa9433d856ff35349bbee48": {
     "model_module": "@jupyter-widgets/controls",
     "model_name": "HBoxModel",
     "state": {
      "_dom_classes": [],
      "_model_module": "@jupyter-widgets/controls",
      "_model_module_version": "1.5.0",
      "_model_name": "HBoxModel",
      "_view_count": null,
      "_view_module": "@jupyter-widgets/controls",
      "_view_module_version": "1.5.0",
      "_view_name": "HBoxView",
      "box_style": "",
      "children": [
       "IPY_MODEL_c90d7a0deffe460fa7134d3cbdc3e34b",
       "IPY_MODEL_3a2af555a0d8447b8123586785a240ed"
      ],
      "layout": "IPY_MODEL_c8e4947ad173445c8ab220c9be489920"
     }
    },
    "a2d7436f174f40aa96d56f269905cc31": {
     "model_module": "@jupyter-widgets/controls",
     "model_name": "ProgressStyleModel",
     "state": {
      "_model_module": "@jupyter-widgets/controls",
      "_model_module_version": "1.5.0",
      "_model_name": "ProgressStyleModel",
      "_view_count": null,
      "_view_module": "@jupyter-widgets/base",
      "_view_module_version": "1.2.0",
      "_view_name": "StyleView",
      "bar_color": null,
      "description_width": "initial"
     }
    },
    "aa13bf938b0c471ea371a5e55755936f": {
     "model_module": "@jupyter-widgets/controls",
     "model_name": "HBoxModel",
     "state": {
      "_dom_classes": [],
      "_model_module": "@jupyter-widgets/controls",
      "_model_module_version": "1.5.0",
      "_model_name": "HBoxModel",
      "_view_count": null,
      "_view_module": "@jupyter-widgets/controls",
      "_view_module_version": "1.5.0",
      "_view_name": "HBoxView",
      "box_style": "",
      "children": [
       "IPY_MODEL_150fdbf54f4a4ba9a324fa3a1f238b12",
       "IPY_MODEL_fea93c571a22413dbce2c05557b53ee8"
      ],
      "layout": "IPY_MODEL_bac8e478a4a747c78bbc388fe22b138d"
     }
    },
    "b1abd2f1b3da4adcb8b0e2b10070182d": {
     "model_module": "@jupyter-widgets/controls",
     "model_name": "ProgressStyleModel",
     "state": {
      "_model_module": "@jupyter-widgets/controls",
      "_model_module_version": "1.5.0",
      "_model_name": "ProgressStyleModel",
      "_view_count": null,
      "_view_module": "@jupyter-widgets/base",
      "_view_module_version": "1.2.0",
      "_view_name": "StyleView",
      "bar_color": null,
      "description_width": "initial"
     }
    },
    "b1baba89d1a34fada31f5ea17e6bdae9": {
     "model_module": "@jupyter-widgets/base",
     "model_name": "LayoutModel",
     "state": {
      "_model_module": "@jupyter-widgets/base",
      "_model_module_version": "1.2.0",
      "_model_name": "LayoutModel",
      "_view_count": null,
      "_view_module": "@jupyter-widgets/base",
      "_view_module_version": "1.2.0",
      "_view_name": "LayoutView",
      "align_content": null,
      "align_items": null,
      "align_self": null,
      "border": null,
      "bottom": null,
      "display": null,
      "flex": null,
      "flex_flow": null,
      "grid_area": null,
      "grid_auto_columns": null,
      "grid_auto_flow": null,
      "grid_auto_rows": null,
      "grid_column": null,
      "grid_gap": null,
      "grid_row": null,
      "grid_template_areas": null,
      "grid_template_columns": null,
      "grid_template_rows": null,
      "height": null,
      "justify_content": null,
      "justify_items": null,
      "left": null,
      "margin": null,
      "max_height": null,
      "max_width": null,
      "min_height": null,
      "min_width": null,
      "object_fit": null,
      "object_position": null,
      "order": null,
      "overflow": null,
      "overflow_x": null,
      "overflow_y": null,
      "padding": null,
      "right": null,
      "top": null,
      "visibility": null,
      "width": null
     }
    },
    "b4d449b819304d17993ed699c0bc7dcd": {
     "model_module": "@jupyter-widgets/base",
     "model_name": "LayoutModel",
     "state": {
      "_model_module": "@jupyter-widgets/base",
      "_model_module_version": "1.2.0",
      "_model_name": "LayoutModel",
      "_view_count": null,
      "_view_module": "@jupyter-widgets/base",
      "_view_module_version": "1.2.0",
      "_view_name": "LayoutView",
      "align_content": null,
      "align_items": null,
      "align_self": null,
      "border": null,
      "bottom": null,
      "display": null,
      "flex": null,
      "flex_flow": null,
      "grid_area": null,
      "grid_auto_columns": null,
      "grid_auto_flow": null,
      "grid_auto_rows": null,
      "grid_column": null,
      "grid_gap": null,
      "grid_row": null,
      "grid_template_areas": null,
      "grid_template_columns": null,
      "grid_template_rows": null,
      "height": null,
      "justify_content": null,
      "justify_items": null,
      "left": null,
      "margin": null,
      "max_height": null,
      "max_width": null,
      "min_height": null,
      "min_width": null,
      "object_fit": null,
      "object_position": null,
      "order": null,
      "overflow": null,
      "overflow_x": null,
      "overflow_y": null,
      "padding": null,
      "right": null,
      "top": null,
      "visibility": null,
      "width": null
     }
    },
    "bac8e478a4a747c78bbc388fe22b138d": {
     "model_module": "@jupyter-widgets/base",
     "model_name": "LayoutModel",
     "state": {
      "_model_module": "@jupyter-widgets/base",
      "_model_module_version": "1.2.0",
      "_model_name": "LayoutModel",
      "_view_count": null,
      "_view_module": "@jupyter-widgets/base",
      "_view_module_version": "1.2.0",
      "_view_name": "LayoutView",
      "align_content": null,
      "align_items": null,
      "align_self": null,
      "border": null,
      "bottom": null,
      "display": null,
      "flex": null,
      "flex_flow": null,
      "grid_area": null,
      "grid_auto_columns": null,
      "grid_auto_flow": null,
      "grid_auto_rows": null,
      "grid_column": null,
      "grid_gap": null,
      "grid_row": null,
      "grid_template_areas": null,
      "grid_template_columns": null,
      "grid_template_rows": null,
      "height": null,
      "justify_content": null,
      "justify_items": null,
      "left": null,
      "margin": null,
      "max_height": null,
      "max_width": null,
      "min_height": null,
      "min_width": null,
      "object_fit": null,
      "object_position": null,
      "order": null,
      "overflow": null,
      "overflow_x": null,
      "overflow_y": null,
      "padding": null,
      "right": null,
      "top": null,
      "visibility": null,
      "width": null
     }
    },
    "c3709034ecf04581bb29ad52cd3b13e5": {
     "model_module": "@jupyter-widgets/controls",
     "model_name": "HBoxModel",
     "state": {
      "_dom_classes": [],
      "_model_module": "@jupyter-widgets/controls",
      "_model_module_version": "1.5.0",
      "_model_name": "HBoxModel",
      "_view_count": null,
      "_view_module": "@jupyter-widgets/controls",
      "_view_module_version": "1.5.0",
      "_view_name": "HBoxView",
      "box_style": "",
      "children": [
       "IPY_MODEL_0085d4fc61db46b49f7ad717e1c1d6ac",
       "IPY_MODEL_dafbc76a291e4003ac720c436fb5e5cb"
      ],
      "layout": "IPY_MODEL_948e1f7e579b4478825015b36160111e"
     }
    },
    "c38fb64b0c2f4200bfe1021585fe7d51": {
     "model_module": "@jupyter-widgets/controls",
     "model_name": "HBoxModel",
     "state": {
      "_dom_classes": [],
      "_model_module": "@jupyter-widgets/controls",
      "_model_module_version": "1.5.0",
      "_model_name": "HBoxModel",
      "_view_count": null,
      "_view_module": "@jupyter-widgets/controls",
      "_view_module_version": "1.5.0",
      "_view_name": "HBoxView",
      "box_style": "",
      "children": [
       "IPY_MODEL_fb22dd7449c1464cbbc751243b576aed",
       "IPY_MODEL_93c2c04169dc49dda743c62bf11cda28"
      ],
      "layout": "IPY_MODEL_027b7df7e5e3457788e9c7711430fc8f"
     }
    },
    "c5ad4a95425945c1aecf384abd574b44": {
     "model_module": "@jupyter-widgets/controls",
     "model_name": "HBoxModel",
     "state": {
      "_dom_classes": [],
      "_model_module": "@jupyter-widgets/controls",
      "_model_module_version": "1.5.0",
      "_model_name": "HBoxModel",
      "_view_count": null,
      "_view_module": "@jupyter-widgets/controls",
      "_view_module_version": "1.5.0",
      "_view_name": "HBoxView",
      "box_style": "",
      "children": [
       "IPY_MODEL_3c76840b8bd54e0d90a4a196fb8ad5ae",
       "IPY_MODEL_7f64fdb900544857adbe51212a96f481"
      ],
      "layout": "IPY_MODEL_f52ea3ac6733492da98bedd7742ec09e"
     }
    },
    "c80803ef1f1d4af5bc4bcf58a991d068": {
     "model_module": "@jupyter-widgets/controls",
     "model_name": "HTMLModel",
     "state": {
      "_dom_classes": [],
      "_model_module": "@jupyter-widgets/controls",
      "_model_module_version": "1.5.0",
      "_model_name": "HTMLModel",
      "_view_count": null,
      "_view_module": "@jupyter-widgets/controls",
      "_view_module_version": "1.5.0",
      "_view_name": "HTMLView",
      "description": "",
      "description_tooltip": null,
      "layout": "IPY_MODEL_72604a0f59b44c638dd3384e76019750",
      "placeholder": "​",
      "style": "IPY_MODEL_07cfe2b882214ab89549b4c676603cfd",
      "value": " 26422272/? [00:51&lt;00:00, 512336.68it/s]"
     }
    },
    "c8e4947ad173445c8ab220c9be489920": {
     "model_module": "@jupyter-widgets/base",
     "model_name": "LayoutModel",
     "state": {
      "_model_module": "@jupyter-widgets/base",
      "_model_module_version": "1.2.0",
      "_model_name": "LayoutModel",
      "_view_count": null,
      "_view_module": "@jupyter-widgets/base",
      "_view_module_version": "1.2.0",
      "_view_name": "LayoutView",
      "align_content": null,
      "align_items": null,
      "align_self": null,
      "border": null,
      "bottom": null,
      "display": null,
      "flex": null,
      "flex_flow": null,
      "grid_area": null,
      "grid_auto_columns": null,
      "grid_auto_flow": null,
      "grid_auto_rows": null,
      "grid_column": null,
      "grid_gap": null,
      "grid_row": null,
      "grid_template_areas": null,
      "grid_template_columns": null,
      "grid_template_rows": null,
      "height": null,
      "justify_content": null,
      "justify_items": null,
      "left": null,
      "margin": null,
      "max_height": null,
      "max_width": null,
      "min_height": null,
      "min_width": null,
      "object_fit": null,
      "object_position": null,
      "order": null,
      "overflow": null,
      "overflow_x": null,
      "overflow_y": null,
      "padding": null,
      "right": null,
      "top": null,
      "visibility": null,
      "width": null
     }
    },
    "c90d7a0deffe460fa7134d3cbdc3e34b": {
     "model_module": "@jupyter-widgets/controls",
     "model_name": "FloatProgressModel",
     "state": {
      "_dom_classes": [],
      "_model_module": "@jupyter-widgets/controls",
      "_model_module_version": "1.5.0",
      "_model_name": "FloatProgressModel",
      "_view_count": null,
      "_view_module": "@jupyter-widgets/controls",
      "_view_module_version": "1.5.0",
      "_view_name": "ProgressView",
      "bar_style": "success",
      "description": "",
      "description_tooltip": null,
      "layout": "IPY_MODEL_8c190bd29c2b443f8889d786ce76ce61",
      "max": 29515,
      "min": 0,
      "orientation": "horizontal",
      "style": "IPY_MODEL_b1abd2f1b3da4adcb8b0e2b10070182d",
      "value": 29515
     }
    },
    "d0ef9207242d4583bcf0bfe09d94b1ad": {
     "model_module": "@jupyter-widgets/base",
     "model_name": "LayoutModel",
     "state": {
      "_model_module": "@jupyter-widgets/base",
      "_model_module_version": "1.2.0",
      "_model_name": "LayoutModel",
      "_view_count": null,
      "_view_module": "@jupyter-widgets/base",
      "_view_module_version": "1.2.0",
      "_view_name": "LayoutView",
      "align_content": null,
      "align_items": null,
      "align_self": null,
      "border": null,
      "bottom": null,
      "display": null,
      "flex": null,
      "flex_flow": null,
      "grid_area": null,
      "grid_auto_columns": null,
      "grid_auto_flow": null,
      "grid_auto_rows": null,
      "grid_column": null,
      "grid_gap": null,
      "grid_row": null,
      "grid_template_areas": null,
      "grid_template_columns": null,
      "grid_template_rows": null,
      "height": null,
      "justify_content": null,
      "justify_items": null,
      "left": null,
      "margin": null,
      "max_height": null,
      "max_width": null,
      "min_height": null,
      "min_width": null,
      "object_fit": null,
      "object_position": null,
      "order": null,
      "overflow": null,
      "overflow_x": null,
      "overflow_y": null,
      "padding": null,
      "right": null,
      "top": null,
      "visibility": null,
      "width": null
     }
    },
    "dafbc76a291e4003ac720c436fb5e5cb": {
     "model_module": "@jupyter-widgets/controls",
     "model_name": "HTMLModel",
     "state": {
      "_dom_classes": [],
      "_model_module": "@jupyter-widgets/controls",
      "_model_module_version": "1.5.0",
      "_model_name": "HTMLModel",
      "_view_count": null,
      "_view_module": "@jupyter-widgets/controls",
      "_view_module_version": "1.5.0",
      "_view_name": "HTMLView",
      "description": "",
      "description_tooltip": null,
      "layout": "IPY_MODEL_61360fc4a76e4592958e2bfe81287ef5",
      "placeholder": "​",
      "style": "IPY_MODEL_dd53757633b14d95971179dc749d4c73",
      "value": " 4422656/? [00:13&lt;00:00, 335599.97it/s]"
     }
    },
    "dd53757633b14d95971179dc749d4c73": {
     "model_module": "@jupyter-widgets/controls",
     "model_name": "DescriptionStyleModel",
     "state": {
      "_model_module": "@jupyter-widgets/controls",
      "_model_module_version": "1.5.0",
      "_model_name": "DescriptionStyleModel",
      "_view_count": null,
      "_view_module": "@jupyter-widgets/base",
      "_view_module_version": "1.2.0",
      "_view_name": "StyleView",
      "description_width": ""
     }
    },
    "de5019edfae64b10b3c07e05d77a5fdb": {
     "model_module": "@jupyter-widgets/controls",
     "model_name": "DescriptionStyleModel",
     "state": {
      "_model_module": "@jupyter-widgets/controls",
      "_model_module_version": "1.5.0",
      "_model_name": "DescriptionStyleModel",
      "_view_count": null,
      "_view_module": "@jupyter-widgets/base",
      "_view_module_version": "1.2.0",
      "_view_name": "StyleView",
      "description_width": ""
     }
    },
    "e2fd930803da47e5a345a0cf0f73e6ab": {
     "model_module": "@jupyter-widgets/base",
     "model_name": "LayoutModel",
     "state": {
      "_model_module": "@jupyter-widgets/base",
      "_model_module_version": "1.2.0",
      "_model_name": "LayoutModel",
      "_view_count": null,
      "_view_module": "@jupyter-widgets/base",
      "_view_module_version": "1.2.0",
      "_view_name": "LayoutView",
      "align_content": null,
      "align_items": null,
      "align_self": null,
      "border": null,
      "bottom": null,
      "display": null,
      "flex": null,
      "flex_flow": null,
      "grid_area": null,
      "grid_auto_columns": null,
      "grid_auto_flow": null,
      "grid_auto_rows": null,
      "grid_column": null,
      "grid_gap": null,
      "grid_row": null,
      "grid_template_areas": null,
      "grid_template_columns": null,
      "grid_template_rows": null,
      "height": null,
      "justify_content": null,
      "justify_items": null,
      "left": null,
      "margin": null,
      "max_height": null,
      "max_width": null,
      "min_height": null,
      "min_width": null,
      "object_fit": null,
      "object_position": null,
      "order": null,
      "overflow": null,
      "overflow_x": null,
      "overflow_y": null,
      "padding": null,
      "right": null,
      "top": null,
      "visibility": null,
      "width": null
     }
    },
    "ef5a6dfb63a54c7583c4207ef272737a": {
     "model_module": "@jupyter-widgets/base",
     "model_name": "LayoutModel",
     "state": {
      "_model_module": "@jupyter-widgets/base",
      "_model_module_version": "1.2.0",
      "_model_name": "LayoutModel",
      "_view_count": null,
      "_view_module": "@jupyter-widgets/base",
      "_view_module_version": "1.2.0",
      "_view_name": "LayoutView",
      "align_content": null,
      "align_items": null,
      "align_self": null,
      "border": null,
      "bottom": null,
      "display": null,
      "flex": null,
      "flex_flow": null,
      "grid_area": null,
      "grid_auto_columns": null,
      "grid_auto_flow": null,
      "grid_auto_rows": null,
      "grid_column": null,
      "grid_gap": null,
      "grid_row": null,
      "grid_template_areas": null,
      "grid_template_columns": null,
      "grid_template_rows": null,
      "height": null,
      "justify_content": null,
      "justify_items": null,
      "left": null,
      "margin": null,
      "max_height": null,
      "max_width": null,
      "min_height": null,
      "min_width": null,
      "object_fit": null,
      "object_position": null,
      "order": null,
      "overflow": null,
      "overflow_x": null,
      "overflow_y": null,
      "padding": null,
      "right": null,
      "top": null,
      "visibility": null,
      "width": null
     }
    },
    "f52ea3ac6733492da98bedd7742ec09e": {
     "model_module": "@jupyter-widgets/base",
     "model_name": "LayoutModel",
     "state": {
      "_model_module": "@jupyter-widgets/base",
      "_model_module_version": "1.2.0",
      "_model_name": "LayoutModel",
      "_view_count": null,
      "_view_module": "@jupyter-widgets/base",
      "_view_module_version": "1.2.0",
      "_view_name": "LayoutView",
      "align_content": null,
      "align_items": null,
      "align_self": null,
      "border": null,
      "bottom": null,
      "display": null,
      "flex": null,
      "flex_flow": null,
      "grid_area": null,
      "grid_auto_columns": null,
      "grid_auto_flow": null,
      "grid_auto_rows": null,
      "grid_column": null,
      "grid_gap": null,
      "grid_row": null,
      "grid_template_areas": null,
      "grid_template_columns": null,
      "grid_template_rows": null,
      "height": null,
      "justify_content": null,
      "justify_items": null,
      "left": null,
      "margin": null,
      "max_height": null,
      "max_width": null,
      "min_height": null,
      "min_width": null,
      "object_fit": null,
      "object_position": null,
      "order": null,
      "overflow": null,
      "overflow_x": null,
      "overflow_y": null,
      "padding": null,
      "right": null,
      "top": null,
      "visibility": null,
      "width": null
     }
    },
    "fa86e357225246beb69645f4a8f01141": {
     "model_module": "@jupyter-widgets/controls",
     "model_name": "HBoxModel",
     "state": {
      "_dom_classes": [],
      "_model_module": "@jupyter-widgets/controls",
      "_model_module_version": "1.5.0",
      "_model_name": "HBoxModel",
      "_view_count": null,
      "_view_module": "@jupyter-widgets/controls",
      "_view_module_version": "1.5.0",
      "_view_name": "HBoxView",
      "box_style": "",
      "children": [
       "IPY_MODEL_965d1e94bfe14a7d943a5d5a4a87b7a6",
       "IPY_MODEL_c80803ef1f1d4af5bc4bcf58a991d068"
      ],
      "layout": "IPY_MODEL_e2fd930803da47e5a345a0cf0f73e6ab"
     }
    },
    "fb22dd7449c1464cbbc751243b576aed": {
     "model_module": "@jupyter-widgets/controls",
     "model_name": "FloatProgressModel",
     "state": {
      "_dom_classes": [],
      "_model_module": "@jupyter-widgets/controls",
      "_model_module_version": "1.5.0",
      "_model_name": "FloatProgressModel",
      "_view_count": null,
      "_view_module": "@jupyter-widgets/controls",
      "_view_module_version": "1.5.0",
      "_view_name": "ProgressView",
      "bar_style": "success",
      "description": "",
      "description_tooltip": null,
      "layout": "IPY_MODEL_b1baba89d1a34fada31f5ea17e6bdae9",
      "max": 5148,
      "min": 0,
      "orientation": "horizontal",
      "style": "IPY_MODEL_43066da7cff7468ea38cd96de375ffc8",
      "value": 5148
     }
    },
    "fea93c571a22413dbce2c05557b53ee8": {
     "model_module": "@jupyter-widgets/controls",
     "model_name": "HTMLModel",
     "state": {
      "_dom_classes": [],
      "_model_module": "@jupyter-widgets/controls",
      "_model_module_version": "1.5.0",
      "_model_name": "HTMLModel",
      "_view_count": null,
      "_view_module": "@jupyter-widgets/controls",
      "_view_module_version": "1.5.0",
      "_view_name": "HTMLView",
      "description": "",
      "description_tooltip": null,
      "layout": "IPY_MODEL_d0ef9207242d4583bcf0bfe09d94b1ad",
      "placeholder": "​",
      "style": "IPY_MODEL_8e29c3ca81494c7e91047b07a18dbab0",
      "value": " 528M/528M [00:20&lt;00:00, 27.6MB/s]"
     }
    }
   }
  }
 },
 "nbformat": 4,
 "nbformat_minor": 1
}
