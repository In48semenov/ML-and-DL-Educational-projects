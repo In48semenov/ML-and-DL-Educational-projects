{
  "nbformat": 4,
  "nbformat_minor": 0,
  "metadata": {
    "colab": {
      "name": "monkeys_VGG16.ipynb",
      "provenance": []
    },
    "kernelspec": {
      "name": "python3",
      "display_name": "Python 3"
    },
    "language_info": {
      "name": "python"
    },
    "accelerator": "GPU"
  },
  "cells": [
    {
      "cell_type": "code",
      "metadata": {
        "colab": {
          "base_uri": "https://localhost:8080/"
        },
        "id": "dspbtS6foLvL",
        "outputId": "e2120f89-9c68-4509-acb8-0d50600dcd05"
      },
      "source": [
        "from google.colab import drive\n",
        "drive.mount('/content/drive')"
      ],
      "execution_count": 1,
      "outputs": [
        {
          "output_type": "stream",
          "text": [
            "Mounted at /content/drive\n"
          ],
          "name": "stdout"
        }
      ]
    },
    {
      "cell_type": "code",
      "metadata": {
        "colab": {
          "base_uri": "https://localhost:8080/"
        },
        "id": "0fz2H_wxofWx",
        "outputId": "3c86954b-e1c3-497f-bc71-b6ff51b22603"
      },
      "source": [
        "import zipfile\n",
        "from tqdm import tqdm\n",
        "\n",
        "zf = zipfile.ZipFile('drive/MyDrive/DL_dataset/monkeys.zip')\n",
        "for file in tqdm(zf.infolist()):\n",
        "    zf.extract(file)"
      ],
      "execution_count": 2,
      "outputs": [
        {
          "output_type": "stream",
          "text": [
            "100%|██████████| 1371/1371 [00:08<00:00, 162.94it/s]\n"
          ],
          "name": "stderr"
        }
      ]
    },
    {
      "cell_type": "code",
      "metadata": {
        "id": "yKscxq--o35F"
      },
      "source": [
        "import torch\n",
        "import torch.nn as nn\n",
        "import torch.optim as optim\n",
        "import torch.nn.functional as F\n",
        "\n",
        "import torchvision\n",
        "from torchvision.datasets import ImageFolder\n",
        "from torch.utils.data import DataLoader, random_split\n",
        "from torchvision import datasets, transforms\n",
        "\n",
        "import numpy as np\n",
        "\n",
        "from sklearn.metrics import confusion_matrix\n",
        "import matplotlib.pyplot as plt\n",
        "import seaborn as sns"
      ],
      "execution_count": 3,
      "outputs": []
    },
    {
      "cell_type": "code",
      "metadata": {
        "id": "OONm0nW9o8WY"
      },
      "source": [
        "from pytorchtools_st import EarlyStopping"
      ],
      "execution_count": 4,
      "outputs": []
    },
    {
      "cell_type": "code",
      "metadata": {
        "id": "CC2nvoKqo-Hn"
      },
      "source": [
        "train_monkeys = ImageFolder('training/training', transform=transforms.Compose([transforms.Resize([224, 224]), \n",
        "                                                                               transforms.ToTensor(),\n",
        "                                                                               transforms.Normalize((0.485, 0.456, 0.406), (0.229, 0.224, 0.225))]))\n",
        "\n",
        "train_loader = DataLoader(train_monkeys, batch_size=32)\n",
        "\n",
        "device = torch.device('cuda' if torch.cuda.is_available() else 'cpu')\n",
        "model = torchvision.models.vgg16(pretrained=True)\n",
        "model = model.to(device = device)\n",
        "\n",
        "model.classifier[6] = nn.Linear(4096, 10)\n",
        "for param in model.parameters():\n",
        "  param.requires_grad = False\n",
        "\n",
        "for param in model.classifier.parameters(): # Обучаются только параметры линейных слоев\n",
        "  param.requires_grad = True\n",
        " \n",
        "criterion = nn.CrossEntropyLoss()\n",
        "optimizer = optim.SGD(model.parameters(), lr=0.001, momentum=0.9)\n",
        "\n",
        "early_stop = EarlyStopping(delta = 0.5, patience = 3, verbose = False) # Ранняя остановка\n",
        "\n",
        "n_epochs = 500\n",
        "\n",
        "train_history_loss = list()\n",
        "epochs_history = list()\n",
        "\n",
        "for epoch in range(1, n_epochs + 1):\n",
        "  epoch_loss = 0\n",
        "\n",
        "  model.train() # явно указываем обучение\n",
        "  for X_batch, y_batch in train_loader:\n",
        "    X_batch, y_batch = X_batch.to(device='cuda'), y_batch.to(device='cuda')\n",
        "    # forward\n",
        "    out = model(X_batch)\n",
        "    # loss\n",
        "    batch_loss = criterion(out, y_batch)\n",
        "    # backward\n",
        "    batch_loss.backward()\n",
        "    # optimization\n",
        "    optimizer.step()\n",
        "    optimizer.zero_grad()\n",
        "    epoch_loss += batch_loss.item()\n",
        "\n",
        "  train_history_loss.append(epoch_loss/len(train_loader))\n",
        "  epochs_history.append(epoch)\n",
        "\n",
        "  if epoch % 2 == 0:\n",
        "    print(f'Epoch: [{epoch}/{n_epochs}], Train_loss: {train_history_loss[-1]}')\n",
        "\n",
        "  early_stop(train_history_loss[-1], model)\n",
        "  \n",
        "  if early_stop.early_stop:\n",
        "      print(f\"Early stopping on epoch: [{epoch}/{n_epochs}]\")\n",
        "      break\n",
        "\n",
        "torch.save(model, '/content/drive/MyDrive/DL_dataset/model_monkeys_vgg16.pth')"
      ],
      "execution_count": null,
      "outputs": []
    },
    {
      "cell_type": "code",
      "metadata": {
        "id": "sqbGcJflpJJa"
      },
      "source": [
        "test_monkeys = ImageFolder('training/training', transform=transforms.Compose([transforms.Resize([224, 224]),\n",
        "                                                                               transforms.Normalize((0.485, 0.456, 0.406), (0.229, 0.224, 0.225)), \n",
        "                                                                               transforms.ToTensor()]))\n",
        "test = DataLoader(test_monkeys, batch_size = 32, shuffle = True)\n",
        "\n",
        "correct, total = 0, 0\n",
        "\n",
        "model.eval()\n",
        "for X_test, y_test for test:\n",
        "  X_test, y_test = X_test.to(device = 'cuda'), y_test.to(device = 'cuda')\n",
        "  out = model(X_test)\n",
        "\n",
        "  _, predicted = torch.argmax(out, dim = 1)\n",
        "  total += y_test.shape[0]\n",
        "  correct += int((predicted == y_test).sum())\n",
        "\n",
        "print(f'Accuracy for vgg16: {correct/total')"
      ],
      "execution_count": null,
      "outputs": []
    }
  ]
}